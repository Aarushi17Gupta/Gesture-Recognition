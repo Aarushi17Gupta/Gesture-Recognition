{
  "cells": [
    {
      "cell_type": "markdown",
      "metadata": {
        "id": "Yx78owqvJ66T"
      },
      "source": [
        "# Deep Learning Project- Gesture Recognition\n",
        "\n",
        "### Problem Statement\n",
        "As a data scientist at a home electronics company which manufactures state of\n",
        "the art smart televisions. We want to develop a cool feature in the smart-TV\n",
        "that can recognise five different gestures performed by the user which will\n",
        "help users control the TV without using a remote. \n",
        "\n"
      ]
    },
    {
      "cell_type": "markdown",
      "metadata": {
        "id": "AcqRTfy23b6P"
      },
      "source": [
        "### Mounting Google Drive "
      ]
    },
    {
      "cell_type": "code",
      "execution_count": null,
      "metadata": {
        "colab": {
          "base_uri": "https://localhost:8080/"
        },
        "id": "0oJQ0IGmK0mD",
        "outputId": "a10d255e-fea9-4fed-8598-0e92ab938799"
      },
      "outputs": [
        {
          "name": "stdout",
          "output_type": "stream",
          "text": [
            "Mounted at /content/drive\n"
          ]
        }
      ],
      "source": [
        "from google.colab import drive\n",
        "drive.mount('/content/drive')"
      ]
    },
    {
      "cell_type": "code",
      "execution_count": null,
      "metadata": {
        "colab": {
          "base_uri": "https://localhost:8080/",
          "height": 36
        },
        "id": "vBqaCoODXH9C",
        "outputId": "5884370b-e5f6-415b-c7c4-4b67150f2f48"
      },
      "outputs": [
        {
          "data": {
            "application/vnd.google.colaboratory.intrinsic+json": {
              "type": "string"
            },
            "text/plain": [
              "'/content'"
            ]
          },
          "execution_count": 2,
          "metadata": {},
          "output_type": "execute_result"
        }
      ],
      "source": [
        "# current working directory\n",
        "pwd"
      ]
    },
    {
      "cell_type": "code",
      "execution_count": null,
      "metadata": {
        "colab": {
          "base_uri": "https://localhost:8080/"
        },
        "id": "lzSutX4YXPWY",
        "outputId": "6b9bbeb9-4ce9-4930-af14-04b3485bb12b"
      },
      "outputs": [
        {
          "name": "stdout",
          "output_type": "stream",
          "text": [
            "/content/drive/MyDrive/Gesture Recognition\n"
          ]
        }
      ],
      "source": [
        "# working directory path for gesture recognition \n",
        "cd /content/drive/MyDrive/Gesture Recognition"
      ]
    },
    {
      "cell_type": "markdown",
      "metadata": {
        "id": "QtnKsIGb3b6X"
      },
      "source": [
        "### Importing relevent libraries"
      ]
    },
    {
      "cell_type": "code",
      "execution_count": null,
      "metadata": {
        "id": "Re6ucsPCXSqg"
      },
      "outputs": [],
      "source": [
        "import numpy as np\n",
        "import pandas as pd\n",
        "import tensorflow as tf\n",
        "from keras import backend as K\n",
        "import random as rn\n",
        "import os\n",
        "\n",
        "# from imageio import imread\n",
        "import cv2\n",
        "import matplotlib.pyplot as plt\n",
        "#% matplotlib inline\n",
        "import datetime\n",
        "import time\n",
        "\n",
        "from keras.models import Sequential, Model\n",
        "from keras.layers import Dense, GRU, Flatten, TimeDistributed, Flatten, BatchNormalization, Activation, GlobalAveragePooling3D, GlobalAveragePooling2D\n",
        "from keras.layers.convolutional import Conv3D, MaxPooling3D, Conv2D, MaxPooling2D\n",
        "from keras.callbacks import ModelCheckpoint, ReduceLROnPlateau, EarlyStopping\n",
        "from keras.layers.recurrent import LSTM\n",
        "from keras import optimizers\n",
        "from keras.layers import Dropout\n",
        "from keras.applications import mobilenet\n",
        "from keras import backend as K\n",
        "from PIL import Image, ImageFilter, ImageEnhance"
      ]
    },
    {
      "cell_type": "markdown",
      "metadata": {
        "id": "pUiyH3nA3b6Z"
      },
      "source": [
        "We set the random seed so that the results don't vary drastically."
      ]
    },
    {
      "cell_type": "code",
      "execution_count": null,
      "metadata": {
        "id": "5hGnxP_WXVuo"
      },
      "outputs": [],
      "source": [
        "np.random.seed(30)\n",
        "rn.seed(30)\n",
        "tf.random.set_seed(30)"
      ]
    },
    {
      "cell_type": "markdown",
      "metadata": {
        "id": "c4MmIEv23b6a"
      },
      "source": [
        "In this block, you read the folder names for training and validation. You also set the `batch_size` here. Note that you set the batch size in such a way that you are able to use the GPU in full capacity. You keep increasing the batch size until the machine throws an error."
      ]
    },
    {
      "cell_type": "code",
      "execution_count": null,
      "metadata": {
        "id": "cnq3OwdUXYcc"
      },
      "outputs": [],
      "source": [
        "# specifying path for data folder\n",
        "data_folder = 'Project_data'\n",
        "# saving the training csv file in a dataframe\n",
        "data_train= pd.read_csv(data_folder + '/train.csv',sep = ';',header = None,names = ['video_name','class','label'])\n",
        "data_train.head(2)\n",
        "# saving the test csv file in a dataframe\n",
        "data_test= pd.read_csv(data_folder + '/val.csv',sep = ';',header = None,names = ['video_name','class','label'])"
      ]
    },
    {
      "cell_type": "code",
      "execution_count": null,
      "metadata": {
        "colab": {
          "base_uri": "https://localhost:8080/",
          "height": 206
        },
        "id": "Hx9pr7OoXbQI",
        "outputId": "801264b9-302b-45e9-a88b-156a3b6c3cbc"
      },
      "outputs": [
        {
          "data": {
            "text/html": [
              "\n",
              "  <div id=\"df-7639a8f3-195f-4384-94ba-bf015cd81915\">\n",
              "    <div class=\"colab-df-container\">\n",
              "      <div>\n",
              "<style scoped>\n",
              "    .dataframe tbody tr th:only-of-type {\n",
              "        vertical-align: middle;\n",
              "    }\n",
              "\n",
              "    .dataframe tbody tr th {\n",
              "        vertical-align: top;\n",
              "    }\n",
              "\n",
              "    .dataframe thead th {\n",
              "        text-align: right;\n",
              "    }\n",
              "</style>\n",
              "<table border=\"1\" class=\"dataframe\">\n",
              "  <thead>\n",
              "    <tr style=\"text-align: right;\">\n",
              "      <th></th>\n",
              "      <th>video_name</th>\n",
              "      <th>class</th>\n",
              "      <th>label</th>\n",
              "    </tr>\n",
              "  </thead>\n",
              "  <tbody>\n",
              "    <tr>\n",
              "      <th>0</th>\n",
              "      <td>WIN_20180925_17_17_04_Pro_Left_Swipe_new</td>\n",
              "      <td>Left_Swipe_new</td>\n",
              "      <td>0</td>\n",
              "    </tr>\n",
              "    <tr>\n",
              "      <th>1</th>\n",
              "      <td>WIN_20180925_17_43_01_Pro_Left_Swipe_new</td>\n",
              "      <td>Left_Swipe_new</td>\n",
              "      <td>0</td>\n",
              "    </tr>\n",
              "    <tr>\n",
              "      <th>2</th>\n",
              "      <td>WIN_20180925_18_01_40_Pro_Left_Swipe_new</td>\n",
              "      <td>Left_Swipe_new</td>\n",
              "      <td>0</td>\n",
              "    </tr>\n",
              "    <tr>\n",
              "      <th>3</th>\n",
              "      <td>WIN_20180925_18_03_21_Pro_Left_Swipe_new</td>\n",
              "      <td>Left_Swipe_new</td>\n",
              "      <td>0</td>\n",
              "    </tr>\n",
              "    <tr>\n",
              "      <th>4</th>\n",
              "      <td>WIN_20180926_16_46_22_Pro_Left_Swipe_new</td>\n",
              "      <td>Left_Swipe_new</td>\n",
              "      <td>0</td>\n",
              "    </tr>\n",
              "  </tbody>\n",
              "</table>\n",
              "</div>\n",
              "      <button class=\"colab-df-convert\" onclick=\"convertToInteractive('df-7639a8f3-195f-4384-94ba-bf015cd81915')\"\n",
              "              title=\"Convert this dataframe to an interactive table.\"\n",
              "              style=\"display:none;\">\n",
              "        \n",
              "  <svg xmlns=\"http://www.w3.org/2000/svg\" height=\"24px\"viewBox=\"0 0 24 24\"\n",
              "       width=\"24px\">\n",
              "    <path d=\"M0 0h24v24H0V0z\" fill=\"none\"/>\n",
              "    <path d=\"M18.56 5.44l.94 2.06.94-2.06 2.06-.94-2.06-.94-.94-2.06-.94 2.06-2.06.94zm-11 1L8.5 8.5l.94-2.06 2.06-.94-2.06-.94L8.5 2.5l-.94 2.06-2.06.94zm10 10l.94 2.06.94-2.06 2.06-.94-2.06-.94-.94-2.06-.94 2.06-2.06.94z\"/><path d=\"M17.41 7.96l-1.37-1.37c-.4-.4-.92-.59-1.43-.59-.52 0-1.04.2-1.43.59L10.3 9.45l-7.72 7.72c-.78.78-.78 2.05 0 2.83L4 21.41c.39.39.9.59 1.41.59.51 0 1.02-.2 1.41-.59l7.78-7.78 2.81-2.81c.8-.78.8-2.07 0-2.86zM5.41 20L4 18.59l7.72-7.72 1.47 1.35L5.41 20z\"/>\n",
              "  </svg>\n",
              "      </button>\n",
              "      \n",
              "  <style>\n",
              "    .colab-df-container {\n",
              "      display:flex;\n",
              "      flex-wrap:wrap;\n",
              "      gap: 12px;\n",
              "    }\n",
              "\n",
              "    .colab-df-convert {\n",
              "      background-color: #E8F0FE;\n",
              "      border: none;\n",
              "      border-radius: 50%;\n",
              "      cursor: pointer;\n",
              "      display: none;\n",
              "      fill: #1967D2;\n",
              "      height: 32px;\n",
              "      padding: 0 0 0 0;\n",
              "      width: 32px;\n",
              "    }\n",
              "\n",
              "    .colab-df-convert:hover {\n",
              "      background-color: #E2EBFA;\n",
              "      box-shadow: 0px 1px 2px rgba(60, 64, 67, 0.3), 0px 1px 3px 1px rgba(60, 64, 67, 0.15);\n",
              "      fill: #174EA6;\n",
              "    }\n",
              "\n",
              "    [theme=dark] .colab-df-convert {\n",
              "      background-color: #3B4455;\n",
              "      fill: #D2E3FC;\n",
              "    }\n",
              "\n",
              "    [theme=dark] .colab-df-convert:hover {\n",
              "      background-color: #434B5C;\n",
              "      box-shadow: 0px 1px 3px 1px rgba(0, 0, 0, 0.15);\n",
              "      filter: drop-shadow(0px 1px 2px rgba(0, 0, 0, 0.3));\n",
              "      fill: #FFFFFF;\n",
              "    }\n",
              "  </style>\n",
              "\n",
              "      <script>\n",
              "        const buttonEl =\n",
              "          document.querySelector('#df-7639a8f3-195f-4384-94ba-bf015cd81915 button.colab-df-convert');\n",
              "        buttonEl.style.display =\n",
              "          google.colab.kernel.accessAllowed ? 'block' : 'none';\n",
              "\n",
              "        async function convertToInteractive(key) {\n",
              "          const element = document.querySelector('#df-7639a8f3-195f-4384-94ba-bf015cd81915');\n",
              "          const dataTable =\n",
              "            await google.colab.kernel.invokeFunction('convertToInteractive',\n",
              "                                                     [key], {});\n",
              "          if (!dataTable) return;\n",
              "\n",
              "          const docLinkHtml = 'Like what you see? Visit the ' +\n",
              "            '<a target=\"_blank\" href=https://colab.research.google.com/notebooks/data_table.ipynb>data table notebook</a>'\n",
              "            + ' to learn more about interactive tables.';\n",
              "          element.innerHTML = '';\n",
              "          dataTable['output_type'] = 'display_data';\n",
              "          await google.colab.output.renderOutput(dataTable, element);\n",
              "          const docLink = document.createElement('div');\n",
              "          docLink.innerHTML = docLinkHtml;\n",
              "          element.appendChild(docLink);\n",
              "        }\n",
              "      </script>\n",
              "    </div>\n",
              "  </div>\n",
              "  "
            ],
            "text/plain": [
              "                                 video_name           class  label\n",
              "0  WIN_20180925_17_17_04_Pro_Left_Swipe_new  Left_Swipe_new      0\n",
              "1  WIN_20180925_17_43_01_Pro_Left_Swipe_new  Left_Swipe_new      0\n",
              "2  WIN_20180925_18_01_40_Pro_Left_Swipe_new  Left_Swipe_new      0\n",
              "3  WIN_20180925_18_03_21_Pro_Left_Swipe_new  Left_Swipe_new      0\n",
              "4  WIN_20180926_16_46_22_Pro_Left_Swipe_new  Left_Swipe_new      0"
            ]
          },
          "execution_count": 8,
          "metadata": {},
          "output_type": "execute_result"
        }
      ],
      "source": [
        "data_test.head()"
      ]
    },
    {
      "cell_type": "code",
      "execution_count": null,
      "metadata": {
        "colab": {
          "base_uri": "https://localhost:8080/"
        },
        "id": "sU2OdVKmXdsQ",
        "outputId": "cc64ef9f-1906-489b-8128-d1902ca9acd2"
      },
      "outputs": [
        {
          "data": {
            "text/plain": [
              "1    137\n",
              "3    137\n",
              "0    136\n",
              "2    130\n",
              "4    123\n",
              "Name: label, dtype: int64"
            ]
          },
          "execution_count": 9,
          "metadata": {},
          "output_type": "execute_result"
        }
      ],
      "source": [
        "data_train.label.value_counts()"
      ]
    },
    {
      "cell_type": "code",
      "execution_count": null,
      "metadata": {
        "id": "8VQUQpddXfr9"
      },
      "outputs": [],
      "source": [
        "# mapping label names in correct format\n",
        "data_train['label_class'] = data_train['label'].map({ 1:'right_swipe',\n",
        "                                         0:'left_swipe',\n",
        "                                         2:'Stop',\n",
        "                                         3:'thumbs_down',\n",
        "                                         4:'thumbs_up'})\n",
        "data_test['label_class'] = data_test['label'].map({ 1:'right_swipe',\n",
        "                                         0:'left_swipe',\n",
        "                                         2:'Stop',\n",
        "                                         3:'thumbs_down',\n",
        "                                         4:'thumbs_up'})"
      ]
    },
    {
      "cell_type": "code",
      "execution_count": null,
      "metadata": {
        "colab": {
          "base_uri": "https://localhost:8080/"
        },
        "id": "syXZWI2IXh8a",
        "outputId": "484b6cdd-1d2e-482d-c072-bdc44b69aaeb"
      },
      "outputs": [
        {
          "data": {
            "text/plain": [
              "(100, 100)"
            ]
          },
          "execution_count": 11,
          "metadata": {},
          "output_type": "execute_result"
        }
      ],
      "source": [
        "data_test.label_class.value_counts().sum(),len(data_test)"
      ]
    },
    {
      "cell_type": "code",
      "execution_count": null,
      "metadata": {
        "colab": {
          "base_uri": "https://localhost:8080/",
          "height": 206
        },
        "id": "_Eea3ghPXkXv",
        "outputId": "33b6664a-1642-4cff-d2e9-5234045e499e"
      },
      "outputs": [
        {
          "data": {
            "text/html": [
              "\n",
              "  <div id=\"df-2c98efbe-31c5-4ea5-a871-357f5cffd577\">\n",
              "    <div class=\"colab-df-container\">\n",
              "      <div>\n",
              "<style scoped>\n",
              "    .dataframe tbody tr th:only-of-type {\n",
              "        vertical-align: middle;\n",
              "    }\n",
              "\n",
              "    .dataframe tbody tr th {\n",
              "        vertical-align: top;\n",
              "    }\n",
              "\n",
              "    .dataframe thead th {\n",
              "        text-align: right;\n",
              "    }\n",
              "</style>\n",
              "<table border=\"1\" class=\"dataframe\">\n",
              "  <thead>\n",
              "    <tr style=\"text-align: right;\">\n",
              "      <th></th>\n",
              "      <th>video_name</th>\n",
              "      <th>class</th>\n",
              "      <th>label</th>\n",
              "      <th>label_class</th>\n",
              "    </tr>\n",
              "  </thead>\n",
              "  <tbody>\n",
              "    <tr>\n",
              "      <th>0</th>\n",
              "      <td>WIN_20180925_17_08_43_Pro_Left_Swipe_new</td>\n",
              "      <td>Left_Swipe_new</td>\n",
              "      <td>0</td>\n",
              "      <td>left_swipe</td>\n",
              "    </tr>\n",
              "    <tr>\n",
              "      <th>1</th>\n",
              "      <td>WIN_20180925_17_18_28_Pro_Left_Swipe_new</td>\n",
              "      <td>Left_Swipe_new</td>\n",
              "      <td>0</td>\n",
              "      <td>left_swipe</td>\n",
              "    </tr>\n",
              "    <tr>\n",
              "      <th>2</th>\n",
              "      <td>WIN_20180925_17_18_56_Pro_Left_Swipe_new</td>\n",
              "      <td>Left_Swipe_new</td>\n",
              "      <td>0</td>\n",
              "      <td>left_swipe</td>\n",
              "    </tr>\n",
              "    <tr>\n",
              "      <th>3</th>\n",
              "      <td>WIN_20180925_17_19_51_Pro_Left_Swipe_new</td>\n",
              "      <td>Left_Swipe_new</td>\n",
              "      <td>0</td>\n",
              "      <td>left_swipe</td>\n",
              "    </tr>\n",
              "    <tr>\n",
              "      <th>4</th>\n",
              "      <td>WIN_20180925_17_20_14_Pro_Left_Swipe_new</td>\n",
              "      <td>Left_Swipe_new</td>\n",
              "      <td>0</td>\n",
              "      <td>left_swipe</td>\n",
              "    </tr>\n",
              "  </tbody>\n",
              "</table>\n",
              "</div>\n",
              "      <button class=\"colab-df-convert\" onclick=\"convertToInteractive('df-2c98efbe-31c5-4ea5-a871-357f5cffd577')\"\n",
              "              title=\"Convert this dataframe to an interactive table.\"\n",
              "              style=\"display:none;\">\n",
              "        \n",
              "  <svg xmlns=\"http://www.w3.org/2000/svg\" height=\"24px\"viewBox=\"0 0 24 24\"\n",
              "       width=\"24px\">\n",
              "    <path d=\"M0 0h24v24H0V0z\" fill=\"none\"/>\n",
              "    <path d=\"M18.56 5.44l.94 2.06.94-2.06 2.06-.94-2.06-.94-.94-2.06-.94 2.06-2.06.94zm-11 1L8.5 8.5l.94-2.06 2.06-.94-2.06-.94L8.5 2.5l-.94 2.06-2.06.94zm10 10l.94 2.06.94-2.06 2.06-.94-2.06-.94-.94-2.06-.94 2.06-2.06.94z\"/><path d=\"M17.41 7.96l-1.37-1.37c-.4-.4-.92-.59-1.43-.59-.52 0-1.04.2-1.43.59L10.3 9.45l-7.72 7.72c-.78.78-.78 2.05 0 2.83L4 21.41c.39.39.9.59 1.41.59.51 0 1.02-.2 1.41-.59l7.78-7.78 2.81-2.81c.8-.78.8-2.07 0-2.86zM5.41 20L4 18.59l7.72-7.72 1.47 1.35L5.41 20z\"/>\n",
              "  </svg>\n",
              "      </button>\n",
              "      \n",
              "  <style>\n",
              "    .colab-df-container {\n",
              "      display:flex;\n",
              "      flex-wrap:wrap;\n",
              "      gap: 12px;\n",
              "    }\n",
              "\n",
              "    .colab-df-convert {\n",
              "      background-color: #E8F0FE;\n",
              "      border: none;\n",
              "      border-radius: 50%;\n",
              "      cursor: pointer;\n",
              "      display: none;\n",
              "      fill: #1967D2;\n",
              "      height: 32px;\n",
              "      padding: 0 0 0 0;\n",
              "      width: 32px;\n",
              "    }\n",
              "\n",
              "    .colab-df-convert:hover {\n",
              "      background-color: #E2EBFA;\n",
              "      box-shadow: 0px 1px 2px rgba(60, 64, 67, 0.3), 0px 1px 3px 1px rgba(60, 64, 67, 0.15);\n",
              "      fill: #174EA6;\n",
              "    }\n",
              "\n",
              "    [theme=dark] .colab-df-convert {\n",
              "      background-color: #3B4455;\n",
              "      fill: #D2E3FC;\n",
              "    }\n",
              "\n",
              "    [theme=dark] .colab-df-convert:hover {\n",
              "      background-color: #434B5C;\n",
              "      box-shadow: 0px 1px 3px 1px rgba(0, 0, 0, 0.15);\n",
              "      filter: drop-shadow(0px 1px 2px rgba(0, 0, 0, 0.3));\n",
              "      fill: #FFFFFF;\n",
              "    }\n",
              "  </style>\n",
              "\n",
              "      <script>\n",
              "        const buttonEl =\n",
              "          document.querySelector('#df-2c98efbe-31c5-4ea5-a871-357f5cffd577 button.colab-df-convert');\n",
              "        buttonEl.style.display =\n",
              "          google.colab.kernel.accessAllowed ? 'block' : 'none';\n",
              "\n",
              "        async function convertToInteractive(key) {\n",
              "          const element = document.querySelector('#df-2c98efbe-31c5-4ea5-a871-357f5cffd577');\n",
              "          const dataTable =\n",
              "            await google.colab.kernel.invokeFunction('convertToInteractive',\n",
              "                                                     [key], {});\n",
              "          if (!dataTable) return;\n",
              "\n",
              "          const docLinkHtml = 'Like what you see? Visit the ' +\n",
              "            '<a target=\"_blank\" href=https://colab.research.google.com/notebooks/data_table.ipynb>data table notebook</a>'\n",
              "            + ' to learn more about interactive tables.';\n",
              "          element.innerHTML = '';\n",
              "          dataTable['output_type'] = 'display_data';\n",
              "          await google.colab.output.renderOutput(dataTable, element);\n",
              "          const docLink = document.createElement('div');\n",
              "          docLink.innerHTML = docLinkHtml;\n",
              "          element.appendChild(docLink);\n",
              "        }\n",
              "      </script>\n",
              "    </div>\n",
              "  </div>\n",
              "  "
            ],
            "text/plain": [
              "                                 video_name           class  label label_class\n",
              "0  WIN_20180925_17_08_43_Pro_Left_Swipe_new  Left_Swipe_new      0  left_swipe\n",
              "1  WIN_20180925_17_18_28_Pro_Left_Swipe_new  Left_Swipe_new      0  left_swipe\n",
              "2  WIN_20180925_17_18_56_Pro_Left_Swipe_new  Left_Swipe_new      0  left_swipe\n",
              "3  WIN_20180925_17_19_51_Pro_Left_Swipe_new  Left_Swipe_new      0  left_swipe\n",
              "4  WIN_20180925_17_20_14_Pro_Left_Swipe_new  Left_Swipe_new      0  left_swipe"
            ]
          },
          "execution_count": 12,
          "metadata": {},
          "output_type": "execute_result"
        }
      ],
      "source": [
        "data_train.head(5)"
      ]
    },
    {
      "cell_type": "code",
      "execution_count": null,
      "metadata": {
        "id": "eOhVX8Z4Xmfb"
      },
      "outputs": [],
      "source": [
        "# dropping the class name and keeping the label name for both train and test dataframe\n",
        "data_test.drop(['class'],inplace = True,axis = 1)\n",
        "data_train.drop(['class'],inplace = True,axis = 1)"
      ]
    },
    {
      "cell_type": "code",
      "execution_count": null,
      "metadata": {
        "id": "v0lCMSwrXqlp"
      },
      "outputs": [],
      "source": [
        "# specifying batch size and dimensions of the image\n",
        "batch_size = 32\n",
        "x_dim = 100   # X \n",
        "y_dim = 100  # Y "
      ]
    },
    {
      "cell_type": "markdown",
      "metadata": {
        "id": "ofGSitU23b6h"
      },
      "source": [
        "### Generator"
      ]
    },
    {
      "cell_type": "markdown",
      "metadata": {
        "id": "-ZbGE6GX3b6i"
      },
      "source": [
        "This is one of the most important part of the code. The overall structure of the generator has been given. In the generator, you are going to preprocess the images as you have images of 2 different dimensions as well as create a batch of video frames. You have to experiment with `img_idx`, `y`,`z` and normalization such that you get high accuracy."
      ]
    },
    {
      "cell_type": "code",
      "execution_count": null,
      "metadata": {
        "id": "sqZ3uiDV_Yed"
      },
      "outputs": [],
      "source": [
        "## function to plot model results\n",
        "\n",
        "\n",
        "def plot_results(history):\n",
        "    fig, axes = plt.subplots(nrows=1, ncols=2, figsize=(15,4))\n",
        "    axes[0].plot(history.history['loss'])   \n",
        "    axes[0].plot(history.history['val_loss'])\n",
        "    axes[0].legend(['loss','val_loss'])\n",
        "\n",
        "    axes[1].plot(history.history['categorical_accuracy'])   \n",
        "    axes[1].plot(history.history['val_categorical_accuracy'])\n",
        "    axes[1].legend(['categorical_accuracy','val_categorical_accuracy'])\n",
        "    plt.show()\n"
      ]
    },
    {
      "cell_type": "code",
      "execution_count": null,
      "metadata": {
        "id": "6eMisTxJXsTh"
      },
      "outputs": [],
      "source": [
        "def generator(source_path, df, batch_size,x_dims,y_dims, is_train = False, augmention = False):\n",
        "    # '''\n",
        "    # folder_list : replace with data frame\n",
        "    # source_path : train/val\n",
        "\n",
        "    # '''\n",
        "    print( 'Source path = ', source_path, '; batch size =', batch_size)\n",
        "    img_idx = range(0,30,2)#create a list of image numbers you want to use for a particular video\n",
        "    x = len(img_idx)\n",
        "    y, z = x_dims, y_dims\n",
        "    while True: \n",
        "        df = df.sample(frac = 1).reset_index(drop=True)\n",
        "        df_index = 0\n",
        "\n",
        "        num_batches = len(df)//batch_size# calculate the number of batches\n",
        "        remaining_items = len(df)%batch_size\n",
        "        for batch in range(num_batches): # we iterate over the number of batches\n",
        "            batch_data = np.zeros((batch_size,x,y,z,3)) # x is the number of images you use for each video, (y,z) is the final size of the input images and 3 is the number of channels RGB\n",
        "            batch_labels = np.zeros((batch_size,5)) # batch_labels is the one hot representation of the output\n",
        "            for folder in range(batch_size): # iterate over the batch_size\n",
        "\n",
        "                # imgs = os.listdir(source_path+'/'+ t[folder + (batch*batch_size)].split(';')[0]) # read all the images in the folder\n",
        "                imgs  = os.listdir(source_path+'/'+df.iloc[df_index]['video_name'])\n",
        "                # print(df_index)\n",
        "                aug_type = None\n",
        "                if is_train and augmention and rn.randint(0,1) == 1:\n",
        "                    aug_type = rn.randint(0, 4) #randomly selecting augmentation type\n",
        "                for idx,item in enumerate(img_idx): #  Iterate iver the frames/images of a folder to read them in\n",
        "                    # image = cv2.imread(source_path+'/'+ t[folder + (batch*batch_size)].strip().split(';')[0]+'/'+imgs[item]).astype(np.float32)\n",
        "                    image = cv2.imread(source_path+'/'+df.iloc[df_index]['video_name']+'/'+imgs[item])\n",
        "                    # print(os.path.exists(source_path+'/'+imgs[item]),source_path+'/'+imgs[item])\n",
        "                    image =  cv2.cvtColor(image, cv2.COLOR_BGR2RGB)\n",
        "\n",
        "                    ### cropping image sqaure image to maintain aspect ratio while resizing\n",
        "                    if image.shape[1] > image.shape[0]:\n",
        "                        diff_px = image.shape[1] - image.shape[0]\n",
        "                        crop_start = diff_px//2\n",
        "                        crop_end = crop_start + image.shape[0]\n",
        "                        image = image[:, crop_start:crop_end]\n",
        "                    elif image.shape[0] > image.shape[1]:\n",
        "                        diff_px = image.shape[0] - image.shape[1]\n",
        "                        crop_start = diff_px//2\n",
        "                        crop_end = crop_start + image.shape[1]\n",
        "                        image = image[:, crop_start:crop_end]\n",
        "                    \n",
        "                      \n",
        "                    resized_im =  cv2.resize(image, (y,z), interpolation = cv2.INTER_AREA)\n",
        "                    # using augmentation \n",
        "                    if aug_type is not None:\n",
        "                        if aug_type == 0: # edge Enhancement\n",
        "                            resized_im = np.array(Image.fromarray(resized_im, 'RGB').filter(ImageFilter.EDGE_ENHANCE))\n",
        "                        elif aug_type == 1: # adding gaussian blur\n",
        "                            resized_im = np.array(Image.fromarray(resized_im, 'RGB').filter(ImageFilter.GaussianBlur(1)))\n",
        "                        elif aug_type == 2: # enchancing image detailing\n",
        "                            resized_im = np.array(Image.fromarray(resized_im, 'RGB').filter(ImageFilter.DETAIL))\n",
        "                        elif aug_type == 3: # sharpening image\n",
        "                            resized_im = np.array(Image.fromarray(resized_im, 'RGB').filter(ImageFilter.SHARPEN))\n",
        "                        elif aug_type == 4: # Brightness enhancement\n",
        "                            resized_im = np.array(ImageEnhance.Brightness((Image.fromarray(resized_im, 'RGB'))).enhance(1.5))\n",
        "\n",
        "\n",
        "                    #crop the images and resize them. Note that the images are of 2 different shape \n",
        "                    #and the conv3D will throw error if the inputs in a batch have different shapes\n",
        "                    \n",
        "                    batch_data[folder,idx,:,:,0] = resized_im[:,:,0]/255 #normalise and feed in the image\n",
        "                    batch_data[folder,idx,:,:,1] = resized_im[:,:,1]/255 #normalise and feed in the image\n",
        "                    batch_data[folder,idx,:,:,2] = resized_im[:,:,2]/255 #normalise and feed in the image\n",
        "                batch_labels[folder, df.iloc[df_index]['label']] = 1\n",
        "                df_index+=1\n",
        "            # print(\"batch labels length\",batch_labels.shape)\n",
        "            # print(\"batch_data\",batch_data.shape)\n",
        "            yield batch_data, batch_labels #you yield the batch_data and the batch_labels, remember what does yield do\n",
        "        \n",
        "        # write the code for the remaining data points which are left after full batches\n",
        "        ### dealing with remaining items \n",
        "\n",
        "        ### 4 ,2 \n",
        "        batch_data = np.zeros((remaining_items,x,y,z,3)) # x is the number of images you use for each video, (y,z) is the final size of the input images and 3 is the number of channels RGB\n",
        "        batch_labels = np.zeros((remaining_items,5))\n",
        "        for folder in range(remaining_items):\n",
        "\n",
        "          # for folder in range(remaining_items):\n",
        "            imgs = os.listdir(source_path+'/'+df.iloc[df_index]['video_name'])\n",
        "\n",
        "            aug_type = None\n",
        "            if is_train and augmention and rn.randint(0,1) == 1:\n",
        "                aug_type = rn.randint(0, 4) #randomly selecting augmentation type\n",
        "            for idx,item in enumerate(img_idx): #  Iterate iver the frames/images of a folder to read them in\n",
        "                # image = cv2.imread(source_path+'/'+ t[folder + (batch*batch_size)].strip().split(';')[0]+'/'+imgs[item]).astype(np.float32)\n",
        "                image = cv2.imread(source_path+'/'+df.iloc[df_index]['video_name']+'/'+imgs[item])\n",
        "                # print(os.path.exists(source_path+'/'+imgs[item]),source_path+'/'+imgs[item])\n",
        "                image =  cv2.cvtColor(image, cv2.COLOR_BGR2RGB)\n",
        "\n",
        "                ### cropping image sqaure image to maintain aspect ratio while resizing\n",
        "                if image.shape[1] > image.shape[0]:\n",
        "                    diff_px = image.shape[1] - image.shape[0]\n",
        "                    crop_start = diff_px//2\n",
        "                    crop_end = crop_start + image.shape[0]\n",
        "                    image = image[:, crop_start:crop_end]\n",
        "                elif image.shape[0] > image.shape[1]:\n",
        "                    diff_px = image.shape[0] - image.shape[1]\n",
        "                    crop_start = diff_px//2\n",
        "                    crop_end = crop_start + image.shape[1]\n",
        "                    image = image[:, crop_start:crop_end]\n",
        "                    \n",
        "                  \n",
        "                resized_im =  cv2.resize(image, (y,z), interpolation = cv2.INTER_AREA)\n",
        "\n",
        "                if aug_type is not None:\n",
        "                    if aug_type == 0: # edge Enhancement\n",
        "                        resized_im = np.array(Image.fromarray(resized_im, 'RGB').filter(ImageFilter.EDGE_ENHANCE))\n",
        "                    elif aug_type == 1: # adding gaussian blur\n",
        "                        resized_im = np.array(Image.fromarray(resized_im, 'RGB').filter(ImageFilter.GaussianBlur(1)))\n",
        "                    elif aug_type == 2: # enchancing image detailing\n",
        "                        resized_im = np.array(Image.fromarray(resized_im, 'RGB').filter(ImageFilter.DETAIL))\n",
        "                    elif aug_type == 3: # sharpening image\n",
        "                        resized_im = np.array(Image.fromarray(resized_im, 'RGB').filter(ImageFilter.SHARPEN))\n",
        "                    elif aug_type == 4: # Brightness enhancement\n",
        "                        resized_im = np.array(ImageEnhance.Brightness((Image.fromarray(resized_im, 'RGB'))).enhance(1.5))\n",
        "                    # print()\n",
        "                    #crop the images and resize them. Note that the images are of 2 different shape \n",
        "                    #and the conv3D will throw error if the inputs in a batch have different shapes\n",
        "                    \n",
        "                batch_data[folder,idx,:,:,0] = resized_im[:,:,0]/255 #normalise and feed in the image\n",
        "                batch_data[folder,idx,:,:,1] = resized_im[:,:,1]/255 #normalise and feed in the image\n",
        "                batch_data[folder,idx,:,:,2] = resized_im[:,:,2]/255 #normalise and feed in the image\n",
        "            batch_labels[folder, df.iloc[df_index]['label']] = 1\n",
        "            df_index+=1\n",
        "        # print(\"batch labels length\",batch_labels.shape)\n",
        "        # print(\"batch_data\",batch_data.shape)\n",
        "        yield batch_data, batch_labels #you yield the batch_data and the batch_labels, remember what does yield do"
      ]
    },
    {
      "cell_type": "markdown",
      "metadata": {
        "id": "eiObGot53b6k"
      },
      "source": [
        "Note here that a video is represented above in the generator as (number of images, height, width, number of channels). Take this into consideration while creating the model architecture."
      ]
    },
    {
      "cell_type": "markdown",
      "metadata": {
        "id": "8dA76HA23b6k"
      },
      "source": [
        "### Visualizing the images stored in a particular folder"
      ]
    },
    {
      "cell_type": "code",
      "execution_count": null,
      "metadata": {
        "id": "-SNkjAMWYmli"
      },
      "outputs": [],
      "source": [
        "k = os.listdir('Project_data/train/WIN_20180925_17_08_43_Pro_Left_Swipe_new')"
      ]
    },
    {
      "cell_type": "code",
      "execution_count": null,
      "metadata": {
        "id": "7XqiB2nGYu-9"
      },
      "outputs": [],
      "source": [
        "image1 = cv2.imread('Project_data/train/WIN_20180925_17_08_43_Pro_Left_Swipe_new/'+k[5])\n",
        "image = cv2.imread('Project_data/train/WIN_20180925_17_08_43_Pro_Left_Swipe_new/'+k[5])\n",
        "\n",
        "image =  cv2.cvtColor(image, cv2.COLOR_BGR2RGB)\n",
        "image =  cv2.resize(image, (120,120), interpolation = cv2.INTER_AREA)"
      ]
    },
    {
      "cell_type": "code",
      "execution_count": null,
      "metadata": {
        "colab": {
          "base_uri": "https://localhost:8080/",
          "height": 285
        },
        "id": "JpvVlYbUYwbI",
        "outputId": "9c1a73a2-8cac-4ac3-8ee7-6fb711832a8a"
      },
      "outputs": [
        {
          "name": "stdout",
          "output_type": "stream",
          "text": [
            "Populating the interactive namespace from numpy and matplotlib\n"
          ]
        },
        {
          "data": {
            "image/png": "[encoded data removed]",
            "text/plain": [
              "<Figure size 432x288 with 1 Axes>"
            ]
          },
          "metadata": {
            "needs_background": "light"
          },
          "output_type": "display_data"
        }
      ],
      "source": [
        "%pylab inline\n",
        "import matplotlib.pyplot as plt\n",
        "import matplotlib.image as mpimg\n",
        "# img = mpimg.imread('your_image.png')\n",
        "imgplot = plt.imshow(image)\n",
        "plt.show()"
      ]
    },
    {
      "cell_type": "code",
      "execution_count": null,
      "metadata": {
        "colab": {
          "base_uri": "https://localhost:8080/",
          "height": 285
        },
        "id": "ytYZbV6UYyGB",
        "outputId": "f070b365-4cbd-4fc7-8925-99ffe511af30"
      },
      "outputs": [
        {
          "name": "stdout",
          "output_type": "stream",
          "text": [
            "Populating the interactive namespace from numpy and matplotlib\n"
          ]
        },
        {
          "data": {
            "image/png": "[encoded data removed]",
            "text/plain": [
              "<Figure size 432x288 with 1 Axes>"
            ]
          },
          "metadata": {
            "needs_background": "light"
          },
          "output_type": "display_data"
        }
      ],
      "source": [
        "%pylab inline\n",
        "import matplotlib.pyplot as plt\n",
        "import matplotlib.image as mpimg\n",
        "# img = mpimg.imread('your_image.png')\n",
        "imgplot = plt.imshow(image1)\n",
        "plt.show()"
      ]
    },
    {
      "cell_type": "code",
      "execution_count": null,
      "metadata": {
        "colab": {
          "base_uri": "https://localhost:8080/"
        },
        "id": "W5yHF2ahYz2z",
        "outputId": "043c4ad2-7871-4c89-87ae-e4e028e6ef4d"
      },
      "outputs": [
        {
          "name": "stdout",
          "output_type": "stream",
          "text": [
            "# training sequences = 663\n",
            "# validation sequences = 100\n",
            "# epochs = 15\n",
            "# batch size 32\n"
          ]
        }
      ],
      "source": [
        "curr_dt_time = datetime.datetime.now()\n",
        "train_path = 'Project_data/train'\n",
        "val_path = 'Project_data/val'\n",
        "num_train_sequences = len(data_train)\n",
        "print('# training sequences =', num_train_sequences)\n",
        "num_val_sequences = len(data_test)\n",
        "print('# validation sequences =', num_val_sequences)\n",
        "batch_size = 32\n",
        "print(\"# batch size\",batch_size)"
      ]
    },
    {
      "cell_type": "markdown",
      "metadata": {
        "id": "-d-v1ypX3b6n"
      },
      "source": [
        "## Model\n",
        "Here you make the model using different functionalities that Keras provides. Remember to use `Conv3D` and `MaxPooling3D` and not `Conv2D` and `Maxpooling2D` for a 3D convolution model. You would want to use `TimeDistributed` while building a Conv2D + RNN model. Also remember that the last layer is the softmax. Design the network in such a way that the model is able to give good accuracy on the least number of parameters so that it can fit in the memory of the webcam."
      ]
    },
    {
      "cell_type": "markdown",
      "metadata": {
        "id": "YOfPdr4u3b6n"
      },
      "source": [
        "#### Model 1: Conv3D with dropouts and batch normalization with EarlyStopping"
      ]
    },
    {
      "cell_type": "code",
      "execution_count": null,
      "metadata": {
        "id": "M9akC014Y14y"
      },
      "outputs": [],
      "source": [
        "# specifying input image dimensions \n",
        "input_shape = (15, x_dim, y_dim, 3)\n",
        "\n",
        "model = Sequential()\n",
        "\n",
        "model.add(Conv3D(16, kernel_size=3, activation='relu', input_shape=input_shape))\n",
        "model.add(Conv3D(32, kernel_size=3, activation='relu'))\n",
        "model.add(MaxPooling3D(pool_size=(2, 2, 2)))\n",
        "model.add(BatchNormalization())\n",
        "model.add(Dropout(0.2))\n",
        "\n",
        "model.add(Conv3D(64, kernel_size=3, activation='relu'))\n",
        "model.add(MaxPooling3D(pool_size=(1, 2, 2)))\n",
        "model.add(BatchNormalization())\n",
        "model.add(Dropout(0.2))\n",
        "\n",
        "model.add(Conv3D(128, kernel_size=(1, 3, 3), activation='relu'))\n",
        "model.add(MaxPooling3D(pool_size=(1, 2, 2)))\n",
        "model.add(BatchNormalization())\n",
        "model.add(Dropout(0.2))\n",
        "\n",
        "model.add(GlobalAveragePooling3D())\n",
        "model.add(Dense(256, activation='relu'))\n",
        "model.add(BatchNormalization())\n",
        "model.add(Dense(5, activation='softmax'))"
      ]
    },
    {
      "cell_type": "markdown",
      "metadata": {
        "id": "04NCkugT3b6o"
      },
      "source": [
        "Now that you have written the model, the next step is to `compile` the model. When you print the `summary` of the model, you'll see the total number of parameters you have to train."
      ]
    },
    {
      "cell_type": "code",
      "execution_count": null,
      "metadata": {
        "colab": {
          "base_uri": "https://localhost:8080/"
        },
        "id": "aJelo8F9Zh4d",
        "outputId": "c9cd9a0a-7867-4a5b-ba4e-8b3e69ff683c"
      },
      "outputs": [
        {
          "name": "stdout",
          "output_type": "stream",
          "text": [
            "Model: \"sequential_3\"\n",
            "_________________________________________________________________\n",
            " Layer (type)                Output Shape              Param #   \n",
            "=================================================================\n",
            " conv3d_12 (Conv3D)          (None, 13, 98, 98, 16)    1312      \n",
            "                                                                 \n",
            " conv3d_13 (Conv3D)          (None, 11, 96, 96, 32)    13856     \n",
            "                                                                 \n",
            " max_pooling3d_9 (MaxPooling  (None, 5, 48, 48, 32)    0         \n",
            " 3D)                                                             \n",
            "                                                                 \n",
            " batch_normalization_12 (Bat  (None, 5, 48, 48, 32)    128       \n",
            " chNormalization)                                                \n",
            "                                                                 \n",
            " dropout_9 (Dropout)         (None, 5, 48, 48, 32)     0         \n",
            "                                                                 \n",
            " conv3d_14 (Conv3D)          (None, 3, 46, 46, 64)     55360     \n",
            "                                                                 \n",
            " max_pooling3d_10 (MaxPoolin  (None, 3, 23, 23, 64)    0         \n",
            " g3D)                                                            \n",
            "                                                                 \n",
            " batch_normalization_13 (Bat  (None, 3, 23, 23, 64)    256       \n",
            " chNormalization)                                                \n",
            "                                                                 \n",
            " dropout_10 (Dropout)        (None, 3, 23, 23, 64)     0         \n",
            "                                                                 \n",
            " conv3d_15 (Conv3D)          (None, 3, 21, 21, 128)    73856     \n",
            "                                                                 \n",
            " max_pooling3d_11 (MaxPoolin  (None, 3, 10, 10, 128)   0         \n",
            " g3D)                                                            \n",
            "                                                                 \n",
            " batch_normalization_14 (Bat  (None, 3, 10, 10, 128)   512       \n",
            " chNormalization)                                                \n",
            "                                                                 \n",
            " dropout_11 (Dropout)        (None, 3, 10, 10, 128)    0         \n",
            "                                                                 \n",
            " global_average_pooling3d_3   (None, 128)              0         \n",
            " (GlobalAveragePooling3D)                                        \n",
            "                                                                 \n",
            " dense_6 (Dense)             (None, 256)               33024     \n",
            "                                                                 \n",
            " batch_normalization_15 (Bat  (None, 256)              1024      \n",
            " chNormalization)                                                \n",
            "                                                                 \n",
            " dense_7 (Dense)             (None, 5)                 1285      \n",
            "                                                                 \n",
            "=================================================================\n",
            "Total params: 180,613\n",
            "Trainable params: 179,653\n",
            "Non-trainable params: 960\n",
            "_________________________________________________________________\n"
          ]
        }
      ],
      "source": [
        "# writing the optimizer\n",
        "optimiser = 'adam'\n",
        "model.compile(optimizer=optimiser, loss='categorical_crossentropy', metrics=['categorical_accuracy'])\n",
        "# printing the summary for the above model\n",
        "model.summary()"
      ]
    },
    {
      "cell_type": "markdown",
      "metadata": {
        "id": "hAaYSIeV3b6p"
      },
      "source": [
        "Let us create the `train_generator` and the `val_generator` which will be used in `.fit_generator`.\n",
        "Not using augmentation for validaton data"
      ]
    },
    {
      "cell_type": "code",
      "execution_count": null,
      "metadata": {
        "id": "_gsQs9-WZlBI"
      },
      "outputs": [],
      "source": [
        "batch_size= 32\n",
        "train_generator = generator(train_path,data_train, batch_size, x_dim, y_dim, is_train = True, augmention = True)\n",
        "val_generator = generator(val_path, data_test, batch_size, x_dim, y_dim, is_train=False, augmention=False)"
      ]
    },
    {
      "cell_type": "code",
      "execution_count": null,
      "metadata": {
        "colab": {
          "base_uri": "https://localhost:8080/"
        },
        "id": "yLbli1NcZrkv",
        "outputId": "d0b7a169-deb3-4a97-d6cd-9eeb624aa4d3"
      },
      "outputs": [
        {
          "name": "stderr",
          "output_type": "stream",
          "text": [
            "WARNING:tensorflow:`period` argument is deprecated. Please use `save_freq` to specify the frequency in number of batches seen.\n"
          ]
        }
      ],
      "source": [
        "model_name = 'Model_Gesture_Recog1' + '_' + str(curr_dt_time).replace(' ','').replace(':','_') + '/'\n",
        "    \n",
        "if not os.path.exists(model_name):\n",
        "    os.mkdir(model_name)\n",
        "        \n",
        "filepath = model_name + 'model-{epoch:05d}-{loss:.5f}-{categorical_accuracy:.5f}-{val_loss:.5f}-{val_categorical_accuracy:.5f}.h5'\n",
        "\n",
        "checkpoint = ModelCheckpoint(filepath, monitor='val_loss', verbose=1, save_best_only=True, save_weights_only=False, mode='auto', period=1)\n",
        "LR = ReduceLROnPlateau(monitor='val_loss', factor=0.2, patience=4, min_lr=0.0001, verbose=1)\n",
        "early_stopping = EarlyStopping(monitor='val_loss', mode='min', verbose=1, patience=8)\n",
        "\n",
        "# LR = # write the REducelronplateau code here\n",
        "callbacks_list = [checkpoint, LR, early_stopping]"
      ]
    },
    {
      "cell_type": "markdown",
      "metadata": {
        "id": "JTSpXZ993b6q"
      },
      "source": [
        "The `steps_per_epoch` and `validation_steps` are used by `fit_generator` to decide the number of next() calls it need to make."
      ]
    },
    {
      "cell_type": "code",
      "execution_count": null,
      "metadata": {
        "id": "UZfeow41Zxn5"
      },
      "outputs": [],
      "source": [
        "if (num_train_sequences%batch_size) == 0:\n",
        "    steps_per_epoch = int(num_train_sequences/batch_size)\n",
        "else:\n",
        "    steps_per_epoch = (num_train_sequences//batch_size) + 1\n",
        "\n",
        "if (num_val_sequences%batch_size) == 0:\n",
        "    validation_steps = int(num_val_sequences/batch_size)\n",
        "else:\n",
        "    validation_steps = (num_val_sequences//batch_size) + 1"
      ]
    },
    {
      "cell_type": "markdown",
      "metadata": {
        "id": "hwCyFpC93b6q"
      },
      "source": [
        "Let us now fit the model. This will start training the model and with the help of the checkpoints, you'll be able to save the model at the end of each epoch."
      ]
    },
    {
      "cell_type": "code",
      "execution_count": null,
      "metadata": {
        "colab": {
          "base_uri": "https://localhost:8080/"
        },
        "id": "XIBX4FH7Zz-k",
        "outputId": "3b991d36-1e68-4dc0-bf69-dbc8c4a6276a"
      },
      "outputs": [
        {
          "name": "stderr",
          "output_type": "stream",
          "text": [
            "/usr/local/lib/python3.7/dist-packages/ipykernel_launcher.py:3: UserWarning: `Model.fit_generator` is deprecated and will be removed in a future version. Please use `Model.fit`, which supports generators.\n",
            "  This is separate from the ipykernel package so we can avoid doing imports until\n"
          ]
        },
        {
          "name": "stdout",
          "output_type": "stream",
          "text": [
            "Source path =  Project_data/train ; batch size = 32\n",
            "Epoch 1/50\n",
            "21/21 [==============================] - ETA: 0s - loss: 1.6649 - categorical_accuracy: 0.3318 Source path =  Project_data/val ; batch size = 32\n",
            "\n",
            "Epoch 1: val_loss improved from inf to 1.64285, saving model to Model_Gesture_Recog1_2022-08-1508_03_58.129613/model-00001-1.66493-0.33183-1.64285-0.26000.h5\n",
            "21/21 [==============================] - 1051s 52s/step - loss: 1.6649 - categorical_accuracy: 0.3318 - val_loss: 1.6428 - val_categorical_accuracy: 0.2600 - lr: 0.0010\n",
            "Epoch 2/50\n",
            "21/21 [==============================] - ETA: 0s - loss: 1.3119 - categorical_accuracy: 0.4615\n",
            "Epoch 2: val_loss did not improve from 1.64285\n",
            "21/21 [==============================] - 50s 3s/step - loss: 1.3119 - categorical_accuracy: 0.4615 - val_loss: 1.7530 - val_categorical_accuracy: 0.3000 - lr: 0.0010\n",
            "Epoch 3/50\n",
            "21/21 [==============================] - ETA: 0s - loss: 1.2083 - categorical_accuracy: 0.4992\n",
            "Epoch 3: val_loss improved from 1.64285 to 1.60756, saving model to Model_Gesture_Recog1_2022-08-1508_03_58.129613/model-00003-1.20830-0.49925-1.60756-0.22000.h5\n",
            "21/21 [==============================] - 50s 3s/step - loss: 1.2083 - categorical_accuracy: 0.4992 - val_loss: 1.6076 - val_categorical_accuracy: 0.2200 - lr: 0.0010\n",
            "Epoch 4/50\n",
            "21/21 [==============================] - ETA: 0s - loss: 1.0827 - categorical_accuracy: 0.5656\n",
            "Epoch 4: val_loss did not improve from 1.60756\n",
            "21/21 [==============================] - 48s 2s/step - loss: 1.0827 - categorical_accuracy: 0.5656 - val_loss: 1.6225 - val_categorical_accuracy: 0.2600 - lr: 0.0010\n",
            "Epoch 5/50\n",
            "21/21 [==============================] - ETA: 0s - loss: 1.0229 - categorical_accuracy: 0.5762\n",
            "Epoch 5: val_loss improved from 1.60756 to 1.51354, saving model to Model_Gesture_Recog1_2022-08-1508_03_58.129613/model-00005-1.02285-0.57617-1.51354-0.31000.h5\n",
            "21/21 [==============================] - 50s 3s/step - loss: 1.0229 - categorical_accuracy: 0.5762 - val_loss: 1.5135 - val_categorical_accuracy: 0.3100 - lr: 0.0010\n",
            "Epoch 6/50\n",
            "21/21 [==============================] - ETA: 0s - loss: 0.9624 - categorical_accuracy: 0.6033\n",
            "Epoch 6: val_loss improved from 1.51354 to 1.49831, saving model to Model_Gesture_Recog1_2022-08-1508_03_58.129613/model-00006-0.96242-0.60332-1.49831-0.34000.h5\n",
            "21/21 [==============================] - 50s 2s/step - loss: 0.9624 - categorical_accuracy: 0.6033 - val_loss: 1.4983 - val_categorical_accuracy: 0.3400 - lr: 0.0010\n",
            "Epoch 7/50\n",
            "21/21 [==============================] - ETA: 0s - loss: 0.9499 - categorical_accuracy: 0.6094\n",
            "Epoch 7: val_loss did not improve from 1.49831\n",
            "21/21 [==============================] - 50s 2s/step - loss: 0.9499 - categorical_accuracy: 0.6094 - val_loss: 1.5819 - val_categorical_accuracy: 0.3300 - lr: 0.0010\n",
            "Epoch 8/50\n",
            "21/21 [==============================] - ETA: 0s - loss: 0.8805 - categorical_accuracy: 0.6516\n",
            "Epoch 8: val_loss did not improve from 1.49831\n",
            "21/21 [==============================] - 48s 2s/step - loss: 0.8805 - categorical_accuracy: 0.6516 - val_loss: 1.5964 - val_categorical_accuracy: 0.3100 - lr: 0.0010\n",
            "Epoch 9/50\n",
            "21/21 [==============================] - ETA: 0s - loss: 0.8219 - categorical_accuracy: 0.6878\n",
            "Epoch 9: val_loss did not improve from 1.49831\n",
            "21/21 [==============================] - 50s 2s/step - loss: 0.8219 - categorical_accuracy: 0.6878 - val_loss: 1.6500 - val_categorical_accuracy: 0.2600 - lr: 0.0010\n",
            "Epoch 10/50\n",
            "21/21 [==============================] - ETA: 0s - loss: 0.8343 - categorical_accuracy: 0.6501\n",
            "Epoch 10: val_loss did not improve from 1.49831\n",
            "\n",
            "Epoch 10: ReduceLROnPlateau reducing learning rate to 0.00020000000949949026.\n",
            "21/21 [==============================] - 51s 3s/step - loss: 0.8343 - categorical_accuracy: 0.6501 - val_loss: 1.5965 - val_categorical_accuracy: 0.3500 - lr: 0.0010\n",
            "Epoch 11/50\n",
            "21/21 [==============================] - ETA: 0s - loss: 0.6589 - categorical_accuracy: 0.7436\n",
            "Epoch 11: val_loss did not improve from 1.49831\n",
            "21/21 [==============================] - 50s 2s/step - loss: 0.6589 - categorical_accuracy: 0.7436 - val_loss: 1.8169 - val_categorical_accuracy: 0.2600 - lr: 2.0000e-04\n",
            "Epoch 12/50\n",
            "21/21 [==============================] - ETA: 0s - loss: 0.6024 - categorical_accuracy: 0.7783\n",
            "Epoch 12: val_loss did not improve from 1.49831\n",
            "21/21 [==============================] - 48s 2s/step - loss: 0.6024 - categorical_accuracy: 0.7783 - val_loss: 1.8368 - val_categorical_accuracy: 0.2500 - lr: 2.0000e-04\n",
            "Epoch 13/50\n",
            "21/21 [==============================] - ETA: 0s - loss: 0.5407 - categorical_accuracy: 0.7949\n",
            "Epoch 13: val_loss did not improve from 1.49831\n",
            "21/21 [==============================] - 50s 2s/step - loss: 0.5407 - categorical_accuracy: 0.7949 - val_loss: 2.1726 - val_categorical_accuracy: 0.2400 - lr: 2.0000e-04\n",
            "Epoch 14/50\n",
            "21/21 [==============================] - ETA: 0s - loss: 0.5651 - categorical_accuracy: 0.7768\n",
            "Epoch 14: val_loss did not improve from 1.49831\n",
            "\n",
            "Epoch 14: ReduceLROnPlateau reducing learning rate to 0.0001.\n",
            "21/21 [==============================] - 53s 3s/step - loss: 0.5651 - categorical_accuracy: 0.7768 - val_loss: 2.0261 - val_categorical_accuracy: 0.2600 - lr: 2.0000e-04\n",
            "Epoch 14: early stopping\n"
          ]
        }
      ],
      "source": [
        "history1 = model.fit_generator(train_generator, steps_per_epoch=steps_per_epoch, epochs=50, verbose=1, \n",
        "                    callbacks=callbacks_list, validation_data=val_generator, \n",
        "                    validation_steps=validation_steps, class_weight=None, workers=1, initial_epoch=0)"
      ]
    },
    {
      "cell_type": "markdown",
      "metadata": {
        "id": "WsV1oAphuCVg"
      },
      "source": [
        "##### Results from Model 1\n",
        "- CNN-3D with early stopping \n",
        "- Epochs Used - 50\n",
        "- Training accuracy- 60%\n",
        "- Validation accuracy - 34%\n",
        "- Early stopping at 14 epoch\n",
        "- Model is overfitting"
      ]
    },
    {
      "cell_type": "markdown",
      "metadata": {
        "id": "Wi7WhZAG3b6r"
      },
      "source": [
        "#### Model 2: conv3D with Dropouts and BatchNormalization with no Early Stopping. Also increase in number of input channels."
      ]
    },
    {
      "cell_type": "code",
      "execution_count": null,
      "metadata": {
        "id": "ie4FU2QdZ4Of"
      },
      "outputs": [],
      "source": [
        "input_shape = (15, x_dim, y_dim, 3)\n",
        "\n",
        "model = Sequential()\n",
        "\n",
        "model.add(Conv3D(32, kernel_size=3, activation='relu', input_shape=input_shape))\n",
        "model.add(Conv3D(64, kernel_size=3, activation='relu'))\n",
        "model.add(MaxPooling3D(pool_size=(2, 2, 2)))\n",
        "model.add(BatchNormalization())\n",
        "model.add(Dropout(0.2))\n",
        "\n",
        "model.add(Conv3D(128, kernel_size=3, activation='relu'))\n",
        "model.add(MaxPooling3D(pool_size=(1, 2, 2)))\n",
        "model.add(BatchNormalization())\n",
        "model.add(Dropout(0.2))\n",
        "\n",
        "model.add(Conv3D(256, kernel_size=(1, 3, 3), activation='relu'))\n",
        "model.add(MaxPooling3D(pool_size=(1, 2, 2)))\n",
        "model.add(BatchNormalization())\n",
        "model.add(Dropout(0.2))\n",
        "\n",
        "model.add(GlobalAveragePooling3D())\n",
        "model.add(Dense(512, activation='relu'))\n",
        "model.add(BatchNormalization())\n",
        "model.add(Dense(5, activation='softmax'))"
      ]
    },
    {
      "cell_type": "code",
      "execution_count": null,
      "metadata": {
        "colab": {
          "base_uri": "https://localhost:8080/"
        },
        "id": "DpbHudXAo9bv",
        "outputId": "36b677fe-6869-4a11-bed3-c46bfc54bb12"
      },
      "outputs": [
        {
          "name": "stdout",
          "output_type": "stream",
          "text": [
            "Model: \"sequential_4\"\n",
            "_________________________________________________________________\n",
            " Layer (type)                Output Shape              Param #   \n",
            "=================================================================\n",
            " conv3d_16 (Conv3D)          (None, 13, 98, 98, 32)    2624      \n",
            "                                                                 \n",
            " conv3d_17 (Conv3D)          (None, 11, 96, 96, 64)    55360     \n",
            "                                                                 \n",
            " max_pooling3d_12 (MaxPoolin  (None, 5, 48, 48, 64)    0         \n",
            " g3D)                                                            \n",
            "                                                                 \n",
            " batch_normalization_16 (Bat  (None, 5, 48, 48, 64)    256       \n",
            " chNormalization)                                                \n",
            "                                                                 \n",
            " dropout_12 (Dropout)        (None, 5, 48, 48, 64)     0         \n",
            "                                                                 \n",
            " conv3d_18 (Conv3D)          (None, 3, 46, 46, 128)    221312    \n",
            "                                                                 \n",
            " max_pooling3d_13 (MaxPoolin  (None, 3, 23, 23, 128)   0         \n",
            " g3D)                                                            \n",
            "                                                                 \n",
            " batch_normalization_17 (Bat  (None, 3, 23, 23, 128)   512       \n",
            " chNormalization)                                                \n",
            "                                                                 \n",
            " dropout_13 (Dropout)        (None, 3, 23, 23, 128)    0         \n",
            "                                                                 \n",
            " conv3d_19 (Conv3D)          (None, 3, 21, 21, 256)    295168    \n",
            "                                                                 \n",
            " max_pooling3d_14 (MaxPoolin  (None, 3, 10, 10, 256)   0         \n",
            " g3D)                                                            \n",
            "                                                                 \n",
            " batch_normalization_18 (Bat  (None, 3, 10, 10, 256)   1024      \n",
            " chNormalization)                                                \n",
            "                                                                 \n",
            " dropout_14 (Dropout)        (None, 3, 10, 10, 256)    0         \n",
            "                                                                 \n",
            " global_average_pooling3d_4   (None, 256)              0         \n",
            " (GlobalAveragePooling3D)                                        \n",
            "                                                                 \n",
            " dense_8 (Dense)             (None, 512)               131584    \n",
            "                                                                 \n",
            " batch_normalization_19 (Bat  (None, 512)              2048      \n",
            " chNormalization)                                                \n",
            "                                                                 \n",
            " dense_9 (Dense)             (None, 5)                 2565      \n",
            "                                                                 \n",
            "=================================================================\n",
            "Total params: 712,453\n",
            "Trainable params: 710,533\n",
            "Non-trainable params: 1,920\n",
            "_________________________________________________________________\n"
          ]
        }
      ],
      "source": [
        "optimiser = 'adam'\n",
        "model.compile(optimizer=optimiser, loss='categorical_crossentropy', metrics=['categorical_accuracy'])\n",
        "model.summary()"
      ]
    },
    {
      "cell_type": "code",
      "execution_count": null,
      "metadata": {
        "id": "41kFjjkvoaXN"
      },
      "outputs": [],
      "source": [
        "batch_size= 32\n",
        "train_generator = generator(train_path,data_train, batch_size, x_dim, y_dim, is_train = True, augmention = True)\n",
        "val_generator = generator(val_path, data_test, batch_size, x_dim, y_dim, is_train=False, augmention=False)"
      ]
    },
    {
      "cell_type": "code",
      "execution_count": null,
      "metadata": {
        "colab": {
          "base_uri": "https://localhost:8080/"
        },
        "id": "s2kuqJIsoaHO",
        "outputId": "4dcaf8d7-b397-42e4-ad56-f0f43157e421"
      },
      "outputs": [
        {
          "name": "stderr",
          "output_type": "stream",
          "text": [
            "WARNING:tensorflow:`period` argument is deprecated. Please use `save_freq` to specify the frequency in number of batches seen.\n"
          ]
        }
      ],
      "source": [
        "model_name = 'Model_Gesture_Recog2' + '_' + str(curr_dt_time).replace(' ','').replace(':','_') + '/'\n",
        "    \n",
        "if not os.path.exists(model_name):\n",
        "    os.mkdir(model_name)\n",
        "        \n",
        "filepath = model_name + 'model-{epoch:05d}-{loss:.5f}-{categorical_accuracy:.5f}-{val_loss:.5f}-{val_categorical_accuracy:.5f}.h5'\n",
        "\n",
        "checkpoint = ModelCheckpoint(filepath, monitor='val_loss', verbose=1, save_best_only=True, save_weights_only=False, mode='auto', period=1)\n",
        "LR = ReduceLROnPlateau(monitor='val_loss', factor=0.2, patience=4, min_lr=0.0001, verbose=1)\n",
        "\n",
        "callbacks_list = [checkpoint, LR]"
      ]
    },
    {
      "cell_type": "code",
      "execution_count": null,
      "metadata": {
        "id": "Gkd66STzoaEN"
      },
      "outputs": [],
      "source": [
        "if (num_train_sequences%batch_size) == 0:\n",
        "    steps_per_epoch = int(num_train_sequences/batch_size)\n",
        "else:\n",
        "    steps_per_epoch = (num_train_sequences//batch_size) + 1\n",
        "\n",
        "if (num_val_sequences%batch_size) == 0:\n",
        "    validation_steps = int(num_val_sequences/batch_size)\n",
        "else:\n",
        "    validation_steps = (num_val_sequences//batch_size) + 1"
      ]
    },
    {
      "cell_type": "code",
      "execution_count": null,
      "metadata": {
        "colab": {
          "base_uri": "https://localhost:8080/"
        },
        "id": "oHS0G9GyoqWZ",
        "outputId": "28268293-ec55-49ff-eb5a-3948a32523b7"
      },
      "outputs": [
        {
          "name": "stderr",
          "output_type": "stream",
          "text": [
            "/usr/local/lib/python3.7/dist-packages/ipykernel_launcher.py:3: UserWarning: `Model.fit_generator` is deprecated and will be removed in a future version. Please use `Model.fit`, which supports generators.\n",
            "  This is separate from the ipykernel package so we can avoid doing imports until\n"
          ]
        },
        {
          "name": "stdout",
          "output_type": "stream",
          "text": [
            "Source path =  Project_data/train ; batch size = 32\n",
            "Epoch 1/50\n",
            "21/21 [==============================] - ETA: 0s - loss: 1.7166 - categorical_accuracy: 0.3439Source path =  Project_data/val ; batch size = 32\n",
            "\n",
            "Epoch 1: val_loss improved from inf to 2.59565, saving model to Model_Gesture_Recog2_2022-08-1508_03_58.129613/model-00001-1.71656-0.34389-2.59565-0.21000.h5\n",
            "21/21 [==============================] - 53s 3s/step - loss: 1.7166 - categorical_accuracy: 0.3439 - val_loss: 2.5957 - val_categorical_accuracy: 0.2100 - lr: 0.0010\n",
            "Epoch 2/50\n",
            "21/21 [==============================] - ETA: 0s - loss: 1.3263 - categorical_accuracy: 0.4465\n",
            "Epoch 2: val_loss improved from 2.59565 to 1.74937, saving model to Model_Gesture_Recog2_2022-08-1508_03_58.129613/model-00002-1.32633-0.44646-1.74937-0.24000.h5\n",
            "21/21 [==============================] - 50s 2s/step - loss: 1.3263 - categorical_accuracy: 0.4465 - val_loss: 1.7494 - val_categorical_accuracy: 0.2400 - lr: 0.0010\n",
            "Epoch 3/50\n",
            "21/21 [==============================] - ETA: 0s - loss: 1.2059 - categorical_accuracy: 0.4962\n",
            "Epoch 3: val_loss did not improve from 1.74937\n",
            "21/21 [==============================] - 50s 2s/step - loss: 1.2059 - categorical_accuracy: 0.4962 - val_loss: 1.7970 - val_categorical_accuracy: 0.1200 - lr: 0.0010\n",
            "Epoch 4/50\n",
            "21/21 [==============================] - ETA: 0s - loss: 1.1118 - categorical_accuracy: 0.5339\n",
            "Epoch 4: val_loss did not improve from 1.74937\n",
            "21/21 [==============================] - 48s 2s/step - loss: 1.1118 - categorical_accuracy: 0.5339 - val_loss: 1.8305 - val_categorical_accuracy: 0.2300 - lr: 0.0010\n",
            "Epoch 5/50\n",
            "21/21 [==============================] - ETA: 0s - loss: 1.0327 - categorical_accuracy: 0.5656\n",
            "Epoch 5: val_loss improved from 1.74937 to 1.69960, saving model to Model_Gesture_Recog2_2022-08-1508_03_58.129613/model-00005-1.03273-0.56561-1.69960-0.21000.h5\n",
            "21/21 [==============================] - 51s 3s/step - loss: 1.0327 - categorical_accuracy: 0.5656 - val_loss: 1.6996 - val_categorical_accuracy: 0.2100 - lr: 0.0010\n",
            "Epoch 6/50\n",
            "21/21 [==============================] - ETA: 0s - loss: 0.9727 - categorical_accuracy: 0.6048\n",
            "Epoch 6: val_loss did not improve from 1.69960\n",
            "21/21 [==============================] - 51s 3s/step - loss: 0.9727 - categorical_accuracy: 0.6048 - val_loss: 1.9918 - val_categorical_accuracy: 0.2300 - lr: 0.0010\n",
            "Epoch 7/50\n",
            "21/21 [==============================] - ETA: 0s - loss: 0.9121 - categorical_accuracy: 0.6259\n",
            "Epoch 7: val_loss improved from 1.69960 to 1.60480, saving model to Model_Gesture_Recog2_2022-08-1508_03_58.129613/model-00007-0.91211-0.62594-1.60480-0.27000.h5\n",
            "21/21 [==============================] - 50s 2s/step - loss: 0.9121 - categorical_accuracy: 0.6259 - val_loss: 1.6048 - val_categorical_accuracy: 0.2700 - lr: 0.0010\n",
            "Epoch 8/50\n",
            "21/21 [==============================] - ETA: 0s - loss: 0.8776 - categorical_accuracy: 0.6380\n",
            "Epoch 8: val_loss did not improve from 1.60480\n",
            "21/21 [==============================] - 49s 2s/step - loss: 0.8776 - categorical_accuracy: 0.6380 - val_loss: 1.6124 - val_categorical_accuracy: 0.3300 - lr: 0.0010\n",
            "Epoch 9/50\n",
            "21/21 [==============================] - ETA: 0s - loss: 0.8680 - categorical_accuracy: 0.6410\n",
            "Epoch 9: val_loss did not improve from 1.60480\n",
            "21/21 [==============================] - 50s 2s/step - loss: 0.8680 - categorical_accuracy: 0.6410 - val_loss: 2.7367 - val_categorical_accuracy: 0.2200 - lr: 0.0010\n",
            "Epoch 10/50\n",
            "21/21 [==============================] - ETA: 0s - loss: 0.8279 - categorical_accuracy: 0.6908\n",
            "Epoch 10: val_loss did not improve from 1.60480\n",
            "21/21 [==============================] - 50s 2s/step - loss: 0.8279 - categorical_accuracy: 0.6908 - val_loss: 2.5159 - val_categorical_accuracy: 0.3200 - lr: 0.0010\n",
            "Epoch 11/50\n",
            "21/21 [==============================] - ETA: 0s - loss: 0.8287 - categorical_accuracy: 0.6697\n",
            "Epoch 11: val_loss did not improve from 1.60480\n",
            "\n",
            "Epoch 11: ReduceLROnPlateau reducing learning rate to 0.00020000000949949026.\n",
            "21/21 [==============================] - 51s 3s/step - loss: 0.8287 - categorical_accuracy: 0.6697 - val_loss: 3.3077 - val_categorical_accuracy: 0.2400 - lr: 0.0010\n",
            "Epoch 12/50\n",
            "21/21 [==============================] - ETA: 0s - loss: 0.7082 - categorical_accuracy: 0.7074\n",
            "Epoch 12: val_loss did not improve from 1.60480\n",
            "21/21 [==============================] - 48s 2s/step - loss: 0.7082 - categorical_accuracy: 0.7074 - val_loss: 2.5731 - val_categorical_accuracy: 0.3000 - lr: 2.0000e-04\n",
            "Epoch 13/50\n",
            "21/21 [==============================] - ETA: 0s - loss: 0.5651 - categorical_accuracy: 0.7722\n",
            "Epoch 13: val_loss did not improve from 1.60480\n",
            "21/21 [==============================] - 51s 3s/step - loss: 0.5651 - categorical_accuracy: 0.7722 - val_loss: 2.1331 - val_categorical_accuracy: 0.3500 - lr: 2.0000e-04\n",
            "Epoch 14/50\n",
            "21/21 [==============================] - ETA: 0s - loss: 0.5276 - categorical_accuracy: 0.7873\n",
            "Epoch 14: val_loss did not improve from 1.60480\n",
            "21/21 [==============================] - 50s 2s/step - loss: 0.5276 - categorical_accuracy: 0.7873 - val_loss: 2.4079 - val_categorical_accuracy: 0.2700 - lr: 2.0000e-04\n",
            "Epoch 15/50\n",
            "21/21 [==============================] - ETA: 0s - loss: 0.5000 - categorical_accuracy: 0.8220\n",
            "Epoch 15: val_loss did not improve from 1.60480\n",
            "\n",
            "Epoch 15: ReduceLROnPlateau reducing learning rate to 0.0001.\n",
            "21/21 [==============================] - 51s 3s/step - loss: 0.5000 - categorical_accuracy: 0.8220 - val_loss: 2.2638 - val_categorical_accuracy: 0.2900 - lr: 2.0000e-04\n",
            "Epoch 16/50\n",
            "21/21 [==============================] - ETA: 0s - loss: 0.4925 - categorical_accuracy: 0.8039\n",
            "Epoch 16: val_loss did not improve from 1.60480\n",
            "21/21 [==============================] - 49s 2s/step - loss: 0.4925 - categorical_accuracy: 0.8039 - val_loss: 1.9718 - val_categorical_accuracy: 0.3100 - lr: 1.0000e-04\n",
            "Epoch 17/50\n",
            "21/21 [==============================] - ETA: 0s - loss: 0.4582 - categorical_accuracy: 0.8024\n",
            "Epoch 17: val_loss did not improve from 1.60480\n",
            "21/21 [==============================] - 50s 3s/step - loss: 0.4582 - categorical_accuracy: 0.8024 - val_loss: 1.8503 - val_categorical_accuracy: 0.3400 - lr: 1.0000e-04\n",
            "Epoch 18/50\n",
            "21/21 [==============================] - ETA: 0s - loss: 0.4521 - categorical_accuracy: 0.8265\n",
            "Epoch 18: val_loss did not improve from 1.60480\n",
            "21/21 [==============================] - 50s 2s/step - loss: 0.4521 - categorical_accuracy: 0.8265 - val_loss: 1.6770 - val_categorical_accuracy: 0.3900 - lr: 1.0000e-04\n",
            "Epoch 19/50\n",
            "21/21 [==============================] - ETA: 0s - loss: 0.4372 - categorical_accuracy: 0.8311\n",
            "Epoch 19: val_loss did not improve from 1.60480\n",
            "21/21 [==============================] - 51s 3s/step - loss: 0.4372 - categorical_accuracy: 0.8311 - val_loss: 1.7387 - val_categorical_accuracy: 0.4000 - lr: 1.0000e-04\n",
            "Epoch 20/50\n",
            "21/21 [==============================] - ETA: 0s - loss: 0.4429 - categorical_accuracy: 0.8311\n",
            "Epoch 20: val_loss did not improve from 1.60480\n",
            "21/21 [==============================] - 48s 2s/step - loss: 0.4429 - categorical_accuracy: 0.8311 - val_loss: 1.6056 - val_categorical_accuracy: 0.4500 - lr: 1.0000e-04\n",
            "Epoch 21/50\n",
            "21/21 [==============================] - ETA: 0s - loss: 0.3976 - categorical_accuracy: 0.8658\n",
            "Epoch 21: val_loss did not improve from 1.60480\n",
            "21/21 [==============================] - 50s 2s/step - loss: 0.3976 - categorical_accuracy: 0.8658 - val_loss: 1.6251 - val_categorical_accuracy: 0.4000 - lr: 1.0000e-04\n",
            "Epoch 22/50\n",
            "21/21 [==============================] - ETA: 0s - loss: 0.3818 - categorical_accuracy: 0.8567\n",
            "Epoch 22: val_loss improved from 1.60480 to 1.19177, saving model to Model_Gesture_Recog2_2022-08-1508_03_58.129613/model-00022-0.38178-0.85671-1.19177-0.55000.h5\n",
            "21/21 [==============================] - 50s 2s/step - loss: 0.3818 - categorical_accuracy: 0.8567 - val_loss: 1.1918 - val_categorical_accuracy: 0.5500 - lr: 1.0000e-04\n",
            "Epoch 23/50\n",
            "21/21 [==============================] - ETA: 0s - loss: 0.3906 - categorical_accuracy: 0.8703\n",
            "Epoch 23: val_loss did not improve from 1.19177\n",
            "21/21 [==============================] - 51s 3s/step - loss: 0.3906 - categorical_accuracy: 0.8703 - val_loss: 1.4378 - val_categorical_accuracy: 0.4600 - lr: 1.0000e-04\n",
            "Epoch 24/50\n",
            "21/21 [==============================] - ETA: 0s - loss: 0.3563 - categorical_accuracy: 0.8703\n",
            "Epoch 24: val_loss improved from 1.19177 to 1.12566, saving model to Model_Gesture_Recog2_2022-08-1508_03_58.129613/model-00024-0.35629-0.87029-1.12566-0.55000.h5\n",
            "21/21 [==============================] - 49s 2s/step - loss: 0.3563 - categorical_accuracy: 0.8703 - val_loss: 1.1257 - val_categorical_accuracy: 0.5500 - lr: 1.0000e-04\n",
            "Epoch 25/50\n",
            "21/21 [==============================] - ETA: 0s - loss: 0.3822 - categorical_accuracy: 0.8597\n",
            "Epoch 25: val_loss improved from 1.12566 to 1.12140, saving model to Model_Gesture_Recog2_2022-08-1508_03_58.129613/model-00025-0.38221-0.85973-1.12140-0.65000.h5\n",
            "21/21 [==============================] - 50s 3s/step - loss: 0.3822 - categorical_accuracy: 0.8597 - val_loss: 1.1214 - val_categorical_accuracy: 0.6500 - lr: 1.0000e-04\n",
            "Epoch 26/50\n",
            "21/21 [==============================] - ETA: 0s - loss: 0.3292 - categorical_accuracy: 0.8824\n",
            "Epoch 26: val_loss improved from 1.12140 to 1.00430, saving model to Model_Gesture_Recog2_2022-08-1508_03_58.129613/model-00026-0.32922-0.88235-1.00430-0.60000.h5\n",
            "21/21 [==============================] - 50s 2s/step - loss: 0.3292 - categorical_accuracy: 0.8824 - val_loss: 1.0043 - val_categorical_accuracy: 0.6000 - lr: 1.0000e-04\n",
            "Epoch 27/50\n",
            "21/21 [==============================] - ETA: 0s - loss: 0.3603 - categorical_accuracy: 0.8718\n",
            "Epoch 27: val_loss did not improve from 1.00430\n",
            "21/21 [==============================] - 50s 3s/step - loss: 0.3603 - categorical_accuracy: 0.8718 - val_loss: 1.5501 - val_categorical_accuracy: 0.4800 - lr: 1.0000e-04\n",
            "Epoch 28/50\n",
            "21/21 [==============================] - ETA: 0s - loss: 0.3543 - categorical_accuracy: 0.8643\n",
            "Epoch 28: val_loss did not improve from 1.00430\n",
            "21/21 [==============================] - 48s 2s/step - loss: 0.3543 - categorical_accuracy: 0.8643 - val_loss: 1.1413 - val_categorical_accuracy: 0.6000 - lr: 1.0000e-04\n",
            "Epoch 29/50\n",
            "21/21 [==============================] - ETA: 0s - loss: 0.3336 - categorical_accuracy: 0.8869\n",
            "Epoch 29: val_loss did not improve from 1.00430\n",
            "21/21 [==============================] - 50s 2s/step - loss: 0.3336 - categorical_accuracy: 0.8869 - val_loss: 1.1040 - val_categorical_accuracy: 0.6200 - lr: 1.0000e-04\n",
            "Epoch 30/50\n",
            "21/21 [==============================] - ETA: 0s - loss: 0.3158 - categorical_accuracy: 0.8869\n",
            "Epoch 30: val_loss did not improve from 1.00430\n",
            "21/21 [==============================] - 52s 3s/step - loss: 0.3158 - categorical_accuracy: 0.8869 - val_loss: 1.0194 - val_categorical_accuracy: 0.6700 - lr: 1.0000e-04\n",
            "Epoch 31/50\n",
            "21/21 [==============================] - ETA: 0s - loss: 0.3070 - categorical_accuracy: 0.9020\n",
            "Epoch 31: val_loss did not improve from 1.00430\n",
            "21/21 [==============================] - 50s 2s/step - loss: 0.3070 - categorical_accuracy: 0.9020 - val_loss: 1.1253 - val_categorical_accuracy: 0.6600 - lr: 1.0000e-04\n",
            "Epoch 32/50\n",
            "21/21 [==============================] - ETA: 0s - loss: 0.3086 - categorical_accuracy: 0.8884\n",
            "Epoch 32: val_loss improved from 1.00430 to 0.97418, saving model to Model_Gesture_Recog2_2022-08-1508_03_58.129613/model-00032-0.30856-0.88839-0.97418-0.63000.h5\n",
            "21/21 [==============================] - 48s 2s/step - loss: 0.3086 - categorical_accuracy: 0.8884 - val_loss: 0.9742 - val_categorical_accuracy: 0.6300 - lr: 1.0000e-04\n",
            "Epoch 33/50\n",
            "21/21 [==============================] - ETA: 0s - loss: 0.2615 - categorical_accuracy: 0.9186\n",
            "Epoch 33: val_loss improved from 0.97418 to 0.93527, saving model to Model_Gesture_Recog2_2022-08-1508_03_58.129613/model-00033-0.26150-0.91855-0.93527-0.67000.h5\n",
            "21/21 [==============================] - 50s 2s/step - loss: 0.2615 - categorical_accuracy: 0.9186 - val_loss: 0.9353 - val_categorical_accuracy: 0.6700 - lr: 1.0000e-04\n",
            "Epoch 34/50\n",
            "21/21 [==============================] - ETA: 0s - loss: 0.3026 - categorical_accuracy: 0.8869\n",
            "Epoch 34: val_loss did not improve from 0.93527\n",
            "21/21 [==============================] - 50s 3s/step - loss: 0.3026 - categorical_accuracy: 0.8869 - val_loss: 1.0535 - val_categorical_accuracy: 0.6300 - lr: 1.0000e-04\n",
            "Epoch 35/50\n",
            "21/21 [==============================] - ETA: 0s - loss: 0.2729 - categorical_accuracy: 0.9065\n",
            "Epoch 35: val_loss did not improve from 0.93527\n",
            "21/21 [==============================] - 50s 2s/step - loss: 0.2729 - categorical_accuracy: 0.9065 - val_loss: 0.9765 - val_categorical_accuracy: 0.7100 - lr: 1.0000e-04\n",
            "Epoch 36/50\n",
            "21/21 [==============================] - ETA: 0s - loss: 0.2519 - categorical_accuracy: 0.9186\n",
            "Epoch 36: val_loss did not improve from 0.93527\n",
            "21/21 [==============================] - 49s 2s/step - loss: 0.2519 - categorical_accuracy: 0.9186 - val_loss: 0.9780 - val_categorical_accuracy: 0.6300 - lr: 1.0000e-04\n",
            "Epoch 37/50\n",
            "21/21 [==============================] - ETA: 0s - loss: 0.2797 - categorical_accuracy: 0.9065\n",
            "Epoch 37: val_loss improved from 0.93527 to 0.88238, saving model to Model_Gesture_Recog2_2022-08-1508_03_58.129613/model-00037-0.27975-0.90649-0.88238-0.71000.h5\n",
            "21/21 [==============================] - 50s 2s/step - loss: 0.2797 - categorical_accuracy: 0.9065 - val_loss: 0.8824 - val_categorical_accuracy: 0.7100 - lr: 1.0000e-04\n",
            "Epoch 38/50\n",
            "21/21 [==============================] - ETA: 0s - loss: 0.2481 - categorical_accuracy: 0.9170\n",
            "Epoch 38: val_loss did not improve from 0.88238\n",
            "21/21 [==============================] - 51s 3s/step - loss: 0.2481 - categorical_accuracy: 0.9170 - val_loss: 0.9282 - val_categorical_accuracy: 0.7200 - lr: 1.0000e-04\n",
            "Epoch 39/50\n",
            "21/21 [==============================] - ETA: 0s - loss: 0.2245 - categorical_accuracy: 0.9170\n",
            "Epoch 39: val_loss improved from 0.88238 to 0.75685, saving model to Model_Gesture_Recog2_2022-08-1508_03_58.129613/model-00039-0.22446-0.91704-0.75685-0.77000.h5\n",
            "21/21 [==============================] - 50s 2s/step - loss: 0.2245 - categorical_accuracy: 0.9170 - val_loss: 0.7569 - val_categorical_accuracy: 0.7700 - lr: 1.0000e-04\n",
            "Epoch 40/50\n",
            "21/21 [==============================] - ETA: 0s - loss: 0.2368 - categorical_accuracy: 0.9170\n",
            "Epoch 40: val_loss did not improve from 0.75685\n",
            "21/21 [==============================] - 48s 2s/step - loss: 0.2368 - categorical_accuracy: 0.9170 - val_loss: 1.1115 - val_categorical_accuracy: 0.6500 - lr: 1.0000e-04\n",
            "Epoch 41/50\n",
            "21/21 [==============================] - ETA: 0s - loss: 0.2296 - categorical_accuracy: 0.9276\n",
            "Epoch 41: val_loss did not improve from 0.75685\n",
            "21/21 [==============================] - 50s 2s/step - loss: 0.2296 - categorical_accuracy: 0.9276 - val_loss: 0.8345 - val_categorical_accuracy: 0.7900 - lr: 1.0000e-04\n",
            "Epoch 42/50\n",
            "21/21 [==============================] - ETA: 0s - loss: 0.2025 - categorical_accuracy: 0.9306\n",
            "Epoch 42: val_loss did not improve from 0.75685\n",
            "21/21 [==============================] - 51s 3s/step - loss: 0.2025 - categorical_accuracy: 0.9306 - val_loss: 1.0033 - val_categorical_accuracy: 0.6700 - lr: 1.0000e-04\n",
            "Epoch 43/50\n",
            "21/21 [==============================] - ETA: 0s - loss: 0.2236 - categorical_accuracy: 0.9261\n",
            "Epoch 43: val_loss did not improve from 0.75685\n",
            "21/21 [==============================] - 50s 2s/step - loss: 0.2236 - categorical_accuracy: 0.9261 - val_loss: 0.8172 - val_categorical_accuracy: 0.7100 - lr: 1.0000e-04\n",
            "Epoch 44/50\n",
            "21/21 [==============================] - ETA: 0s - loss: 0.2239 - categorical_accuracy: 0.9231\n",
            "Epoch 44: val_loss did not improve from 0.75685\n",
            "21/21 [==============================] - 48s 2s/step - loss: 0.2239 - categorical_accuracy: 0.9231 - val_loss: 0.7765 - val_categorical_accuracy: 0.7000 - lr: 1.0000e-04\n",
            "Epoch 45/50\n",
            "21/21 [==============================] - ETA: 0s - loss: 0.2164 - categorical_accuracy: 0.9261\n",
            "Epoch 45: val_loss did not improve from 0.75685\n",
            "21/21 [==============================] - 51s 3s/step - loss: 0.2164 - categorical_accuracy: 0.9261 - val_loss: 0.8535 - val_categorical_accuracy: 0.7200 - lr: 1.0000e-04\n",
            "Epoch 46/50\n",
            "21/21 [==============================] - ETA: 0s - loss: 0.1943 - categorical_accuracy: 0.9336\n",
            "Epoch 46: val_loss did not improve from 0.75685\n",
            "21/21 [==============================] - 50s 2s/step - loss: 0.1943 - categorical_accuracy: 0.9336 - val_loss: 0.9651 - val_categorical_accuracy: 0.6700 - lr: 1.0000e-04\n",
            "Epoch 47/50\n",
            "21/21 [==============================] - ETA: 0s - loss: 0.2084 - categorical_accuracy: 0.9321\n",
            "Epoch 47: val_loss did not improve from 0.75685\n",
            "21/21 [==============================] - 51s 3s/step - loss: 0.2084 - categorical_accuracy: 0.9321 - val_loss: 0.9094 - val_categorical_accuracy: 0.7300 - lr: 1.0000e-04\n",
            "Epoch 48/50\n",
            "21/21 [==============================] - ETA: 0s - loss: 0.1926 - categorical_accuracy: 0.9487\n",
            "Epoch 48: val_loss did not improve from 0.75685\n",
            "21/21 [==============================] - 48s 2s/step - loss: 0.1926 - categorical_accuracy: 0.9487 - val_loss: 0.8495 - val_categorical_accuracy: 0.6900 - lr: 1.0000e-04\n",
            "Epoch 49/50\n",
            "21/21 [==============================] - ETA: 0s - loss: 0.1859 - categorical_accuracy: 0.9457\n",
            "Epoch 49: val_loss did not improve from 0.75685\n",
            "21/21 [==============================] - 53s 3s/step - loss: 0.1859 - categorical_accuracy: 0.9457 - val_loss: 0.7894 - val_categorical_accuracy: 0.6700 - lr: 1.0000e-04\n",
            "Epoch 50/50\n",
            "21/21 [==============================] - ETA: 0s - loss: 0.1915 - categorical_accuracy: 0.9382\n",
            "Epoch 50: val_loss improved from 0.75685 to 0.64961, saving model to Model_Gesture_Recog2_2022-08-1508_03_58.129613/model-00050-0.19147-0.93816-0.64961-0.75000.h5\n",
            "21/21 [==============================] - 51s 3s/step - loss: 0.1915 - categorical_accuracy: 0.9382 - val_loss: 0.6496 - val_categorical_accuracy: 0.7500 - lr: 1.0000e-04\n"
          ]
        }
      ],
      "source": [
        "history2 = model.fit_generator(train_generator, steps_per_epoch=steps_per_epoch, epochs=50, verbose=1, \n",
        "                    callbacks=callbacks_list, validation_data=val_generator, \n",
        "                    validation_steps=validation_steps, class_weight=None, workers=1, initial_epoch=0)"
      ]
    },
    {
      "cell_type": "code",
      "execution_count": null,
      "metadata": {
        "colab": {
          "base_uri": "https://localhost:8080/"
        },
        "id": "b5wMz1WSylJX",
        "outputId": "11c2e30d-0ece-4760-8ca3-d3f20419e5e4"
      },
      "outputs": [
        {
          "name": "stderr",
          "output_type": "stream",
          "text": [
            "/usr/local/lib/python3.7/dist-packages/ipykernel_launcher.py:3: UserWarning: `Model.fit_generator` is deprecated and will be removed in a future version. Please use `Model.fit`, which supports generators.\n",
            "  This is separate from the ipykernel package so we can avoid doing imports until\n"
          ]
        },
        {
          "name": "stdout",
          "output_type": "stream",
          "text": [
            "Epoch 1/30\n",
            "21/21 [==============================] - ETA: 0s - loss: 0.1711 - categorical_accuracy: 0.9532\n",
            "Epoch 1: val_loss did not improve from 0.64961\n",
            "21/21 [==============================] - 51s 3s/step - loss: 0.1711 - categorical_accuracy: 0.9532 - val_loss: 0.7936 - val_categorical_accuracy: 0.7200 - lr: 1.0000e-04\n",
            "Epoch 2/30\n",
            "21/21 [==============================] - ETA: 0s - loss: 0.1464 - categorical_accuracy: 0.9638\n",
            "Epoch 2: val_loss did not improve from 0.64961\n",
            "21/21 [==============================] - 50s 2s/step - loss: 0.1464 - categorical_accuracy: 0.9638 - val_loss: 0.8530 - val_categorical_accuracy: 0.7400 - lr: 1.0000e-04\n",
            "Epoch 3/30\n",
            "21/21 [==============================] - ETA: 0s - loss: 0.1474 - categorical_accuracy: 0.9563\n",
            "Epoch 3: val_loss did not improve from 0.64961\n",
            "21/21 [==============================] - 51s 3s/step - loss: 0.1474 - categorical_accuracy: 0.9563 - val_loss: 0.9105 - val_categorical_accuracy: 0.6700 - lr: 1.0000e-04\n",
            "Epoch 4/30\n",
            "21/21 [==============================] - ETA: 0s - loss: 0.1559 - categorical_accuracy: 0.9472\n",
            "Epoch 4: val_loss did not improve from 0.64961\n",
            "21/21 [==============================] - 51s 3s/step - loss: 0.1559 - categorical_accuracy: 0.9472 - val_loss: 1.0326 - val_categorical_accuracy: 0.6500 - lr: 1.0000e-04\n",
            "Epoch 5/30\n",
            "21/21 [==============================] - ETA: 0s - loss: 0.1729 - categorical_accuracy: 0.9472\n",
            "Epoch 5: val_loss did not improve from 0.64961\n",
            "21/21 [==============================] - 51s 3s/step - loss: 0.1729 - categorical_accuracy: 0.9472 - val_loss: 0.6947 - val_categorical_accuracy: 0.7200 - lr: 1.0000e-04\n",
            "Epoch 6/30\n",
            "21/21 [==============================] - ETA: 0s - loss: 0.1932 - categorical_accuracy: 0.9276\n",
            "Epoch 6: val_loss did not improve from 0.64961\n",
            "21/21 [==============================] - 50s 2s/step - loss: 0.1932 - categorical_accuracy: 0.9276 - val_loss: 0.7598 - val_categorical_accuracy: 0.7400 - lr: 1.0000e-04\n",
            "Epoch 7/30\n",
            "21/21 [==============================] - ETA: 0s - loss: 0.1778 - categorical_accuracy: 0.9306\n",
            "Epoch 7: val_loss did not improve from 0.64961\n",
            "21/21 [==============================] - 51s 3s/step - loss: 0.1778 - categorical_accuracy: 0.9306 - val_loss: 1.0348 - val_categorical_accuracy: 0.6800 - lr: 1.0000e-04\n",
            "Epoch 8/30\n",
            "21/21 [==============================] - ETA: 0s - loss: 0.1833 - categorical_accuracy: 0.9412\n",
            "Epoch 8: val_loss did not improve from 0.64961\n",
            "21/21 [==============================] - 52s 3s/step - loss: 0.1833 - categorical_accuracy: 0.9412 - val_loss: 0.9996 - val_categorical_accuracy: 0.7100 - lr: 1.0000e-04\n",
            "Epoch 9/30\n",
            "21/21 [==============================] - ETA: 0s - loss: 0.1438 - categorical_accuracy: 0.9623\n",
            "Epoch 9: val_loss did not improve from 0.64961\n",
            "21/21 [==============================] - 51s 3s/step - loss: 0.1438 - categorical_accuracy: 0.9623 - val_loss: 0.9213 - val_categorical_accuracy: 0.6900 - lr: 1.0000e-04\n",
            "Epoch 10/30\n",
            "21/21 [==============================] - ETA: 0s - loss: 0.1399 - categorical_accuracy: 0.9668\n",
            "Epoch 10: val_loss did not improve from 0.64961\n",
            "21/21 [==============================] - 49s 2s/step - loss: 0.1399 - categorical_accuracy: 0.9668 - val_loss: 0.8447 - val_categorical_accuracy: 0.7200 - lr: 1.0000e-04\n",
            "Epoch 11/30\n",
            "21/21 [==============================] - ETA: 0s - loss: 0.1318 - categorical_accuracy: 0.9578\n",
            "Epoch 11: val_loss did not improve from 0.64961\n",
            "21/21 [==============================] - 51s 3s/step - loss: 0.1318 - categorical_accuracy: 0.9578 - val_loss: 0.7703 - val_categorical_accuracy: 0.7600 - lr: 1.0000e-04\n",
            "Epoch 12/30\n",
            "21/21 [==============================] - ETA: 0s - loss: 0.1498 - categorical_accuracy: 0.9593\n",
            "Epoch 12: val_loss did not improve from 0.64961\n",
            "21/21 [==============================] - 51s 3s/step - loss: 0.1498 - categorical_accuracy: 0.9593 - val_loss: 0.8379 - val_categorical_accuracy: 0.7500 - lr: 1.0000e-04\n",
            "Epoch 13/30\n",
            "21/21 [==============================] - ETA: 0s - loss: 0.1740 - categorical_accuracy: 0.9382\n",
            "Epoch 13: val_loss improved from 0.64961 to 0.64646, saving model to Model_Gesture_Recog2_2022-08-1508_03_58.129613/model-00013-0.17398-0.93816-0.64646-0.80000.h5\n",
            "21/21 [==============================] - 51s 3s/step - loss: 0.1740 - categorical_accuracy: 0.9382 - val_loss: 0.6465 - val_categorical_accuracy: 0.8000 - lr: 1.0000e-04\n",
            "Epoch 14/30\n",
            "21/21 [==============================] - ETA: 0s - loss: 0.1629 - categorical_accuracy: 0.9487\n",
            "Epoch 14: val_loss did not improve from 0.64646\n",
            "21/21 [==============================] - 50s 2s/step - loss: 0.1629 - categorical_accuracy: 0.9487 - val_loss: 0.9037 - val_categorical_accuracy: 0.6900 - lr: 1.0000e-04\n",
            "Epoch 15/30\n",
            "21/21 [==============================] - ETA: 0s - loss: 0.0982 - categorical_accuracy: 0.9759\n",
            "Epoch 15: val_loss did not improve from 0.64646\n",
            "21/21 [==============================] - 50s 2s/step - loss: 0.0982 - categorical_accuracy: 0.9759 - val_loss: 0.9760 - val_categorical_accuracy: 0.6600 - lr: 1.0000e-04\n",
            "Epoch 16/30\n",
            "21/21 [==============================] - ETA: 0s - loss: 0.1182 - categorical_accuracy: 0.9668\n",
            "Epoch 16: val_loss did not improve from 0.64646\n",
            "21/21 [==============================] - 52s 3s/step - loss: 0.1182 - categorical_accuracy: 0.9668 - val_loss: 1.1474 - val_categorical_accuracy: 0.6500 - lr: 1.0000e-04\n",
            "Epoch 17/30\n",
            "21/21 [==============================] - ETA: 0s - loss: 0.1055 - categorical_accuracy: 0.9729\n",
            "Epoch 17: val_loss did not improve from 0.64646\n",
            "21/21 [==============================] - 51s 3s/step - loss: 0.1055 - categorical_accuracy: 0.9729 - val_loss: 0.8082 - val_categorical_accuracy: 0.7500 - lr: 1.0000e-04\n",
            "Epoch 18/30\n",
            "21/21 [==============================] - ETA: 0s - loss: 0.1019 - categorical_accuracy: 0.9789\n",
            "Epoch 18: val_loss did not improve from 0.64646\n",
            "21/21 [==============================] - 48s 2s/step - loss: 0.1019 - categorical_accuracy: 0.9789 - val_loss: 1.0940 - val_categorical_accuracy: 0.6600 - lr: 1.0000e-04\n",
            "Epoch 19/30\n",
            "21/21 [==============================] - ETA: 0s - loss: 0.1310 - categorical_accuracy: 0.9593\n",
            "Epoch 19: val_loss did not improve from 0.64646\n",
            "21/21 [==============================] - 51s 3s/step - loss: 0.1310 - categorical_accuracy: 0.9593 - val_loss: 0.9534 - val_categorical_accuracy: 0.7000 - lr: 1.0000e-04\n",
            "Epoch 20/30\n",
            "21/21 [==============================] - ETA: 0s - loss: 0.0982 - categorical_accuracy: 0.9713\n",
            "Epoch 20: val_loss did not improve from 0.64646\n",
            "21/21 [==============================] - 51s 3s/step - loss: 0.0982 - categorical_accuracy: 0.9713 - val_loss: 1.0000 - val_categorical_accuracy: 0.7000 - lr: 1.0000e-04\n",
            "Epoch 21/30\n",
            "21/21 [==============================] - ETA: 0s - loss: 0.1434 - categorical_accuracy: 0.9502\n",
            "Epoch 21: val_loss did not improve from 0.64646\n",
            "21/21 [==============================] - 51s 3s/step - loss: 0.1434 - categorical_accuracy: 0.9502 - val_loss: 0.8570 - val_categorical_accuracy: 0.7500 - lr: 1.0000e-04\n",
            "Epoch 22/30\n",
            "21/21 [==============================] - ETA: 0s - loss: 0.0861 - categorical_accuracy: 0.9819\n",
            "Epoch 22: val_loss did not improve from 0.64646\n",
            "21/21 [==============================] - 49s 2s/step - loss: 0.0861 - categorical_accuracy: 0.9819 - val_loss: 1.0638 - val_categorical_accuracy: 0.6700 - lr: 1.0000e-04\n",
            "Epoch 23/30\n",
            "21/21 [==============================] - ETA: 0s - loss: 0.0866 - categorical_accuracy: 0.9789\n",
            "Epoch 23: val_loss did not improve from 0.64646\n",
            "21/21 [==============================] - 51s 3s/step - loss: 0.0866 - categorical_accuracy: 0.9789 - val_loss: 0.8257 - val_categorical_accuracy: 0.7700 - lr: 1.0000e-04\n",
            "Epoch 24/30\n",
            "21/21 [==============================] - ETA: 0s - loss: 0.0825 - categorical_accuracy: 0.9834\n",
            "Epoch 24: val_loss did not improve from 0.64646\n",
            "21/21 [==============================] - 52s 3s/step - loss: 0.0825 - categorical_accuracy: 0.9834 - val_loss: 0.7177 - val_categorical_accuracy: 0.7800 - lr: 1.0000e-04\n",
            "Epoch 25/30\n",
            "21/21 [==============================] - ETA: 0s - loss: 0.1070 - categorical_accuracy: 0.9653\n",
            "Epoch 25: val_loss did not improve from 0.64646\n",
            "21/21 [==============================] - 51s 3s/step - loss: 0.1070 - categorical_accuracy: 0.9653 - val_loss: 1.3836 - val_categorical_accuracy: 0.6900 - lr: 1.0000e-04\n",
            "Epoch 26/30\n",
            "21/21 [==============================] - ETA: 0s - loss: 0.1326 - categorical_accuracy: 0.9487\n",
            "Epoch 26: val_loss did not improve from 0.64646\n",
            "21/21 [==============================] - 50s 2s/step - loss: 0.1326 - categorical_accuracy: 0.9487 - val_loss: 1.1647 - val_categorical_accuracy: 0.6700 - lr: 1.0000e-04\n",
            "Epoch 27/30\n",
            "21/21 [==============================] - ETA: 0s - loss: 0.1048 - categorical_accuracy: 0.9729\n",
            "Epoch 27: val_loss did not improve from 0.64646\n",
            "21/21 [==============================] - 50s 2s/step - loss: 0.1048 - categorical_accuracy: 0.9729 - val_loss: 0.7646 - val_categorical_accuracy: 0.7600 - lr: 1.0000e-04\n",
            "Epoch 28/30\n",
            "21/21 [==============================] - ETA: 0s - loss: 0.0909 - categorical_accuracy: 0.9789\n",
            "Epoch 28: val_loss did not improve from 0.64646\n",
            "21/21 [==============================] - 51s 3s/step - loss: 0.0909 - categorical_accuracy: 0.9789 - val_loss: 1.1691 - val_categorical_accuracy: 0.6200 - lr: 1.0000e-04\n",
            "Epoch 29/30\n",
            "21/21 [==============================] - ETA: 0s - loss: 0.1052 - categorical_accuracy: 0.9744\n",
            "Epoch 29: val_loss did not improve from 0.64646\n",
            "21/21 [==============================] - 51s 3s/step - loss: 0.1052 - categorical_accuracy: 0.9744 - val_loss: 0.7750 - val_categorical_accuracy: 0.7400 - lr: 1.0000e-04\n",
            "Epoch 30/30\n",
            "21/21 [==============================] - ETA: 0s - loss: 0.0927 - categorical_accuracy: 0.9698\n",
            "Epoch 30: val_loss did not improve from 0.64646\n",
            "21/21 [==============================] - 49s 2s/step - loss: 0.0927 - categorical_accuracy: 0.9698 - val_loss: 0.7411 - val_categorical_accuracy: 0.7900 - lr: 1.0000e-04\n"
          ]
        }
      ],
      "source": [
        "history2 = model.fit_generator(train_generator, steps_per_epoch=steps_per_epoch, epochs=30, verbose=1, \n",
        "                    callbacks=callbacks_list, validation_data=val_generator, \n",
        "                    validation_steps=validation_steps, class_weight=None, workers=1, initial_epoch=0)"
      ]
    },
    {
      "cell_type": "markdown",
      "metadata": {
        "id": "KFTtj-hM5A2a"
      },
      "source": [
        "##### Results from Model 2:\n",
        "- Increase in number of input channels\n",
        "- No Early Stopping\n",
        "- Increasing number of units for Dense Layer\n",
        "- Training accuracy - 93%\n",
        "- Validation accuracy- 80%\n",
        "- Model with more parameters"
      ]
    },
    {
      "cell_type": "markdown",
      "metadata": {
        "id": "8LdJugbQ3b6w"
      },
      "source": [
        "#### Model 3: conv3D with more layers"
      ]
    },
    {
      "cell_type": "code",
      "execution_count": null,
      "metadata": {
        "id": "ao_LuFo8y83l"
      },
      "outputs": [],
      "source": [
        "input_shape = (15, x_dim, y_dim, 3)\n",
        "\n",
        "model = Sequential()\n",
        "\n",
        "model.add(Conv3D(32, kernel_size=3, activation='relu', input_shape=input_shape))\n",
        "model.add(Conv3D(64, kernel_size=3, activation='relu'))\n",
        "model.add(BatchNormalization())\n",
        "model.add(MaxPooling3D(pool_size=(2, 2, 2)))\n",
        "model.add(Dropout(0.2))\n",
        "\n",
        "model.add(Conv3D(128, kernel_size=3, activation='relu'))\n",
        "model.add(Conv3D(256, kernel_size=(1, 3, 3), activation='relu'))\n",
        "model.add(BatchNormalization())\n",
        "model.add(MaxPooling3D(pool_size=(1, 2, 2)))\n",
        "model.add(Dropout(0.2))\n",
        "\n",
        "model.add(GlobalAveragePooling3D())\n",
        "model.add(Dense(256, activation='relu'))\n",
        "model.add(BatchNormalization())\n",
        "model.add(Dropout(0.2))\n",
        "model.add(Dense(64, activation='relu'))\n",
        "model.add(BatchNormalization())\n",
        "model.add(Dropout(0.2))\n",
        "model.add(Dense(5, activation='softmax'))"
      ]
    },
    {
      "cell_type": "code",
      "execution_count": null,
      "metadata": {
        "colab": {
          "base_uri": "https://localhost:8080/"
        },
        "id": "htMhBIsJ5Z4W",
        "outputId": "854a5220-3a89-45e6-bb8f-6ece3711aecf"
      },
      "outputs": [
        {
          "name": "stdout",
          "output_type": "stream",
          "text": [
            "Model: \"sequential_5\"\n",
            "_________________________________________________________________\n",
            " Layer (type)                Output Shape              Param #   \n",
            "=================================================================\n",
            " conv3d_20 (Conv3D)          (None, 13, 98, 98, 32)    2624      \n",
            "                                                                 \n",
            " conv3d_21 (Conv3D)          (None, 11, 96, 96, 64)    55360     \n",
            "                                                                 \n",
            " batch_normalization_20 (Bat  (None, 11, 96, 96, 64)   256       \n",
            " chNormalization)                                                \n",
            "                                                                 \n",
            " max_pooling3d_15 (MaxPoolin  (None, 5, 48, 48, 64)    0         \n",
            " g3D)                                                            \n",
            "                                                                 \n",
            " dropout_15 (Dropout)        (None, 5, 48, 48, 64)     0         \n",
            "                                                                 \n",
            " conv3d_22 (Conv3D)          (None, 3, 46, 46, 128)    221312    \n",
            "                                                                 \n",
            " conv3d_23 (Conv3D)          (None, 3, 44, 44, 256)    295168    \n",
            "                                                                 \n",
            " batch_normalization_21 (Bat  (None, 3, 44, 44, 256)   1024      \n",
            " chNormalization)                                                \n",
            "                                                                 \n",
            " max_pooling3d_16 (MaxPoolin  (None, 3, 22, 22, 256)   0         \n",
            " g3D)                                                            \n",
            "                                                                 \n",
            " dropout_16 (Dropout)        (None, 3, 22, 22, 256)    0         \n",
            "                                                                 \n",
            " global_average_pooling3d_5   (None, 256)              0         \n",
            " (GlobalAveragePooling3D)                                        \n",
            "                                                                 \n",
            " dense_10 (Dense)            (None, 256)               65792     \n",
            "                                                                 \n",
            " batch_normalization_22 (Bat  (None, 256)              1024      \n",
            " chNormalization)                                                \n",
            "                                                                 \n",
            " dropout_17 (Dropout)        (None, 256)               0         \n",
            "                                                                 \n",
            " dense_11 (Dense)            (None, 64)                16448     \n",
            "                                                                 \n",
            " batch_normalization_23 (Bat  (None, 64)               256       \n",
            " chNormalization)                                                \n",
            "                                                                 \n",
            " dropout_18 (Dropout)        (None, 64)                0         \n",
            "                                                                 \n",
            " dense_12 (Dense)            (None, 5)                 325       \n",
            "                                                                 \n",
            "=================================================================\n",
            "Total params: 659,589\n",
            "Trainable params: 658,309\n",
            "Non-trainable params: 1,280\n",
            "_________________________________________________________________\n"
          ]
        }
      ],
      "source": [
        "optimiser = 'adam'\n",
        "model.compile(optimizer=optimiser, loss='categorical_crossentropy', metrics=['categorical_accuracy'])\n",
        "model.summary()"
      ]
    },
    {
      "cell_type": "code",
      "execution_count": null,
      "metadata": {
        "id": "cx4CgWp_6K--"
      },
      "outputs": [],
      "source": [
        "batch_size= 32\n",
        "train_generator = generator(train_path,data_train, batch_size, x_dim, y_dim, is_train = True, augmention = True)\n",
        "val_generator = generator(val_path, data_test, batch_size, x_dim, y_dim, is_train=False, augmention=False)"
      ]
    },
    {
      "cell_type": "code",
      "execution_count": null,
      "metadata": {
        "colab": {
          "base_uri": "https://localhost:8080/"
        },
        "id": "OToErO_56QCx",
        "outputId": "ec4f6747-9459-44cb-f6bc-f6b6f1be9357"
      },
      "outputs": [
        {
          "name": "stderr",
          "output_type": "stream",
          "text": [
            "WARNING:tensorflow:`period` argument is deprecated. Please use `save_freq` to specify the frequency in number of batches seen.\n"
          ]
        }
      ],
      "source": [
        "model_name = 'Model_Gesture_Recog3' + '_' + str(curr_dt_time).replace(' ','').replace(':','_') + '/'\n",
        "    \n",
        "if not os.path.exists(model_name):\n",
        "    os.mkdir(model_name)\n",
        "        \n",
        "filepath = model_name + 'model-{epoch:05d}-{loss:.5f}-{categorical_accuracy:.5f}-{val_loss:.5f}-{val_categorical_accuracy:.5f}.h5'\n",
        "\n",
        "checkpoint = ModelCheckpoint(filepath, monitor='val_loss', verbose=1, save_best_only=True, save_weights_only=False, mode='auto', period=1)\n",
        "LR = ReduceLROnPlateau(monitor='val_loss', factor=0.2, patience=4, min_lr=0.0001, verbose=1)\n",
        "\n",
        "callbacks_list = [checkpoint, LR]"
      ]
    },
    {
      "cell_type": "code",
      "execution_count": null,
      "metadata": {
        "id": "tVlDIy1Q6Up0"
      },
      "outputs": [],
      "source": [
        "if (num_train_sequences%batch_size) == 0:\n",
        "    steps_per_epoch = int(num_train_sequences/batch_size)\n",
        "else:\n",
        "    steps_per_epoch = (num_train_sequences//batch_size) + 1\n",
        "\n",
        "if (num_val_sequences%batch_size) == 0:\n",
        "    validation_steps = int(num_val_sequences/batch_size)\n",
        "else:\n",
        "    validation_steps = (num_val_sequences//batch_size) + 1"
      ]
    },
    {
      "cell_type": "code",
      "execution_count": null,
      "metadata": {
        "colab": {
          "base_uri": "https://localhost:8080/"
        },
        "id": "2C-Z1I746Ymt",
        "outputId": "08f72a88-a1d5-478d-d95b-d172d513a522"
      },
      "outputs": [
        {
          "name": "stderr",
          "output_type": "stream",
          "text": [
            "/usr/local/lib/python3.7/dist-packages/ipykernel_launcher.py:3: UserWarning: `Model.fit_generator` is deprecated and will be removed in a future version. Please use `Model.fit`, which supports generators.\n",
            "  This is separate from the ipykernel package so we can avoid doing imports until\n"
          ]
        },
        {
          "name": "stdout",
          "output_type": "stream",
          "text": [
            "Source path =  Project_data/train ; batch size = 32\n",
            "Epoch 1/80\n",
            "21/21 [==============================] - ETA: 0s - loss: 1.7777 - categorical_accuracy: 0.3062Source path =  Project_data/val ; batch size = 32\n",
            "\n",
            "Epoch 1: val_loss improved from inf to 2.09965, saving model to Model_Gesture_Recog3_2022-08-1508_03_58.129613/model-00001-1.77772-0.30618-2.09965-0.23000.h5\n",
            "21/21 [==============================] - 54s 3s/step - loss: 1.7777 - categorical_accuracy: 0.3062 - val_loss: 2.0997 - val_categorical_accuracy: 0.2300 - lr: 0.0010\n",
            "Epoch 2/80\n",
            "21/21 [==============================] - ETA: 0s - loss: 1.5229 - categorical_accuracy: 0.3816\n",
            "Epoch 2: val_loss improved from 2.09965 to 1.58653, saving model to Model_Gesture_Recog3_2022-08-1508_03_58.129613/model-00002-1.52292-0.38160-1.58653-0.27000.h5\n",
            "21/21 [==============================] - 52s 3s/step - loss: 1.5229 - categorical_accuracy: 0.3816 - val_loss: 1.5865 - val_categorical_accuracy: 0.2700 - lr: 0.0010\n",
            "Epoch 3/80\n",
            "21/21 [==============================] - ETA: 0s - loss: 1.3547 - categorical_accuracy: 0.4268\n",
            "Epoch 3: val_loss did not improve from 1.58653\n",
            "21/21 [==============================] - 51s 3s/step - loss: 1.3547 - categorical_accuracy: 0.4268 - val_loss: 1.6541 - val_categorical_accuracy: 0.2000 - lr: 0.0010\n",
            "Epoch 4/80\n",
            "21/21 [==============================] - ETA: 0s - loss: 1.3651 - categorical_accuracy: 0.4253\n",
            "Epoch 4: val_loss did not improve from 1.58653\n",
            "21/21 [==============================] - 50s 2s/step - loss: 1.3651 - categorical_accuracy: 0.4253 - val_loss: 1.6430 - val_categorical_accuracy: 0.2300 - lr: 0.0010\n",
            "Epoch 5/80\n",
            "21/21 [==============================] - ETA: 0s - loss: 1.3261 - categorical_accuracy: 0.4268\n",
            "Epoch 5: val_loss did not improve from 1.58653\n",
            "21/21 [==============================] - 51s 3s/step - loss: 1.3261 - categorical_accuracy: 0.4268 - val_loss: 1.7019 - val_categorical_accuracy: 0.2800 - lr: 0.0010\n",
            "Epoch 6/80\n",
            "21/21 [==============================] - ETA: 0s - loss: 1.2454 - categorical_accuracy: 0.4600\n",
            "Epoch 6: val_loss did not improve from 1.58653\n",
            "\n",
            "Epoch 6: ReduceLROnPlateau reducing learning rate to 0.00020000000949949026.\n",
            "21/21 [==============================] - 52s 3s/step - loss: 1.2454 - categorical_accuracy: 0.4600 - val_loss: 1.7409 - val_categorical_accuracy: 0.2500 - lr: 0.0010\n",
            "Epoch 7/80\n",
            "21/21 [==============================] - ETA: 0s - loss: 1.2384 - categorical_accuracy: 0.4691\n",
            "Epoch 7: val_loss did not improve from 1.58653\n",
            "21/21 [==============================] - 52s 3s/step - loss: 1.2384 - categorical_accuracy: 0.4691 - val_loss: 1.6096 - val_categorical_accuracy: 0.2200 - lr: 2.0000e-04\n",
            "Epoch 8/80\n",
            "21/21 [==============================] - ETA: 0s - loss: 1.1534 - categorical_accuracy: 0.4706\n",
            "Epoch 8: val_loss did not improve from 1.58653\n",
            "21/21 [==============================] - 49s 2s/step - loss: 1.1534 - categorical_accuracy: 0.4706 - val_loss: 1.5976 - val_categorical_accuracy: 0.2500 - lr: 2.0000e-04\n",
            "Epoch 9/80\n",
            "21/21 [==============================] - ETA: 0s - loss: 1.1233 - categorical_accuracy: 0.5219\n",
            "Epoch 9: val_loss improved from 1.58653 to 1.50954, saving model to Model_Gesture_Recog3_2022-08-1508_03_58.129613/model-00009-1.12333-0.52187-1.50954-0.29000.h5\n",
            "21/21 [==============================] - 52s 3s/step - loss: 1.1233 - categorical_accuracy: 0.5219 - val_loss: 1.5095 - val_categorical_accuracy: 0.2900 - lr: 2.0000e-04\n",
            "Epoch 10/80\n",
            "21/21 [==============================] - ETA: 0s - loss: 1.0868 - categorical_accuracy: 0.5143\n",
            "Epoch 10: val_loss did not improve from 1.50954\n",
            "21/21 [==============================] - 51s 3s/step - loss: 1.0868 - categorical_accuracy: 0.5143 - val_loss: 1.5402 - val_categorical_accuracy: 0.3000 - lr: 2.0000e-04\n",
            "Epoch 11/80\n",
            "21/21 [==============================] - ETA: 0s - loss: 1.0762 - categorical_accuracy: 0.5370\n",
            "Epoch 11: val_loss did not improve from 1.50954\n",
            "21/21 [==============================] - 52s 3s/step - loss: 1.0762 - categorical_accuracy: 0.5370 - val_loss: 1.5714 - val_categorical_accuracy: 0.2700 - lr: 2.0000e-04\n",
            "Epoch 12/80\n",
            "21/21 [==============================] - ETA: 0s - loss: 1.0501 - categorical_accuracy: 0.5475\n",
            "Epoch 12: val_loss did not improve from 1.50954\n",
            "21/21 [==============================] - 49s 2s/step - loss: 1.0501 - categorical_accuracy: 0.5475 - val_loss: 1.5503 - val_categorical_accuracy: 0.2400 - lr: 2.0000e-04\n",
            "Epoch 13/80\n",
            "21/21 [==============================] - ETA: 0s - loss: 1.0474 - categorical_accuracy: 0.5520\n",
            "Epoch 13: val_loss did not improve from 1.50954\n",
            "\n",
            "Epoch 13: ReduceLROnPlateau reducing learning rate to 0.0001.\n",
            "21/21 [==============================] - 52s 3s/step - loss: 1.0474 - categorical_accuracy: 0.5520 - val_loss: 1.5651 - val_categorical_accuracy: 0.3500 - lr: 2.0000e-04\n",
            "Epoch 14/80\n",
            "21/21 [==============================] - ETA: 0s - loss: 1.0013 - categorical_accuracy: 0.5671\n",
            "Epoch 14: val_loss did not improve from 1.50954\n",
            "21/21 [==============================] - 51s 3s/step - loss: 1.0013 - categorical_accuracy: 0.5671 - val_loss: 1.5949 - val_categorical_accuracy: 0.3200 - lr: 1.0000e-04\n",
            "Epoch 15/80\n",
            "21/21 [==============================] - ETA: 0s - loss: 0.9577 - categorical_accuracy: 0.5973\n",
            "Epoch 15: val_loss did not improve from 1.50954\n",
            "21/21 [==============================] - 51s 3s/step - loss: 0.9577 - categorical_accuracy: 0.5973 - val_loss: 1.5908 - val_categorical_accuracy: 0.2300 - lr: 1.0000e-04\n",
            "Epoch 16/80\n",
            "21/21 [==============================] - ETA: 0s - loss: 0.9636 - categorical_accuracy: 0.6169\n",
            "Epoch 16: val_loss did not improve from 1.50954\n",
            "21/21 [==============================] - 50s 2s/step - loss: 0.9636 - categorical_accuracy: 0.6169 - val_loss: 1.5450 - val_categorical_accuracy: 0.3100 - lr: 1.0000e-04\n",
            "Epoch 17/80\n",
            "21/21 [==============================] - ETA: 0s - loss: 0.9236 - categorical_accuracy: 0.6259\n",
            "Epoch 17: val_loss did not improve from 1.50954\n",
            "21/21 [==============================] - 51s 3s/step - loss: 0.9236 - categorical_accuracy: 0.6259 - val_loss: 1.6589 - val_categorical_accuracy: 0.2700 - lr: 1.0000e-04\n",
            "Epoch 18/80\n",
            "21/21 [==============================] - ETA: 0s - loss: 0.9232 - categorical_accuracy: 0.6124\n",
            "Epoch 18: val_loss did not improve from 1.50954\n",
            "21/21 [==============================] - 52s 3s/step - loss: 0.9232 - categorical_accuracy: 0.6124 - val_loss: 1.6290 - val_categorical_accuracy: 0.2500 - lr: 1.0000e-04\n",
            "Epoch 19/80\n",
            "21/21 [==============================] - ETA: 0s - loss: 0.8736 - categorical_accuracy: 0.6395\n",
            "Epoch 19: val_loss improved from 1.50954 to 1.43511, saving model to Model_Gesture_Recog3_2022-08-1508_03_58.129613/model-00019-0.87360-0.63952-1.43511-0.32000.h5\n",
            "21/21 [==============================] - 52s 3s/step - loss: 0.8736 - categorical_accuracy: 0.6395 - val_loss: 1.4351 - val_categorical_accuracy: 0.3200 - lr: 1.0000e-04\n",
            "Epoch 20/80\n",
            "21/21 [==============================] - ETA: 0s - loss: 0.8508 - categorical_accuracy: 0.6440\n",
            "Epoch 20: val_loss improved from 1.43511 to 1.41669, saving model to Model_Gesture_Recog3_2022-08-1508_03_58.129613/model-00020-0.85081-0.64404-1.41669-0.30000.h5\n",
            "21/21 [==============================] - 50s 2s/step - loss: 0.8508 - categorical_accuracy: 0.6440 - val_loss: 1.4167 - val_categorical_accuracy: 0.3000 - lr: 1.0000e-04\n",
            "Epoch 21/80\n",
            "21/21 [==============================] - ETA: 0s - loss: 0.8604 - categorical_accuracy: 0.6501\n",
            "Epoch 21: val_loss did not improve from 1.41669\n",
            "21/21 [==============================] - 51s 3s/step - loss: 0.8604 - categorical_accuracy: 0.6501 - val_loss: 1.5536 - val_categorical_accuracy: 0.2800 - lr: 1.0000e-04\n",
            "Epoch 22/80\n",
            "21/21 [==============================] - ETA: 0s - loss: 0.8288 - categorical_accuracy: 0.6486\n",
            "Epoch 22: val_loss did not improve from 1.41669\n",
            "21/21 [==============================] - 51s 3s/step - loss: 0.8288 - categorical_accuracy: 0.6486 - val_loss: 1.5564 - val_categorical_accuracy: 0.3500 - lr: 1.0000e-04\n",
            "Epoch 23/80\n",
            "21/21 [==============================] - ETA: 0s - loss: 0.7961 - categorical_accuracy: 0.6757\n",
            "Epoch 23: val_loss did not improve from 1.41669\n",
            "21/21 [==============================] - 51s 3s/step - loss: 0.7961 - categorical_accuracy: 0.6757 - val_loss: 1.7002 - val_categorical_accuracy: 0.2600 - lr: 1.0000e-04\n",
            "Epoch 24/80\n",
            "21/21 [==============================] - ETA: 0s - loss: 0.7658 - categorical_accuracy: 0.6998\n",
            "Epoch 24: val_loss improved from 1.41669 to 1.40459, saving model to Model_Gesture_Recog3_2022-08-1508_03_58.129613/model-00024-0.76577-0.69985-1.40459-0.37000.h5\n",
            "21/21 [==============================] - 49s 2s/step - loss: 0.7658 - categorical_accuracy: 0.6998 - val_loss: 1.4046 - val_categorical_accuracy: 0.3700 - lr: 1.0000e-04\n",
            "Epoch 25/80\n",
            "21/21 [==============================] - ETA: 0s - loss: 0.7469 - categorical_accuracy: 0.6893\n",
            "Epoch 25: val_loss improved from 1.40459 to 1.34453, saving model to Model_Gesture_Recog3_2022-08-1508_03_58.129613/model-00025-0.74691-0.68929-1.34453-0.42000.h5\n",
            "21/21 [==============================] - 52s 3s/step - loss: 0.7469 - categorical_accuracy: 0.6893 - val_loss: 1.3445 - val_categorical_accuracy: 0.4200 - lr: 1.0000e-04\n",
            "Epoch 26/80\n",
            "21/21 [==============================] - ETA: 0s - loss: 0.7583 - categorical_accuracy: 0.6863\n",
            "Epoch 26: val_loss improved from 1.34453 to 1.27619, saving model to Model_Gesture_Recog3_2022-08-1508_03_58.129613/model-00026-0.75832-0.68627-1.27619-0.52000.h5\n",
            "21/21 [==============================] - 51s 3s/step - loss: 0.7583 - categorical_accuracy: 0.6863 - val_loss: 1.2762 - val_categorical_accuracy: 0.5200 - lr: 1.0000e-04\n",
            "Epoch 27/80\n",
            "21/21 [==============================] - ETA: 0s - loss: 0.7969 - categorical_accuracy: 0.6531\n",
            "Epoch 27: val_loss improved from 1.27619 to 1.24625, saving model to Model_Gesture_Recog3_2022-08-1508_03_58.129613/model-00027-0.79690-0.65309-1.24625-0.45000.h5\n",
            "21/21 [==============================] - 51s 3s/step - loss: 0.7969 - categorical_accuracy: 0.6531 - val_loss: 1.2462 - val_categorical_accuracy: 0.4500 - lr: 1.0000e-04\n",
            "Epoch 28/80\n",
            "21/21 [==============================] - ETA: 0s - loss: 0.7342 - categorical_accuracy: 0.7240\n",
            "Epoch 28: val_loss improved from 1.24625 to 1.17150, saving model to Model_Gesture_Recog3_2022-08-1508_03_58.129613/model-00028-0.73417-0.72398-1.17150-0.51000.h5\n",
            "21/21 [==============================] - 49s 2s/step - loss: 0.7342 - categorical_accuracy: 0.7240 - val_loss: 1.1715 - val_categorical_accuracy: 0.5100 - lr: 1.0000e-04\n",
            "Epoch 29/80\n",
            "21/21 [==============================] - ETA: 0s - loss: 0.6758 - categorical_accuracy: 0.7149\n",
            "Epoch 29: val_loss improved from 1.17150 to 1.12367, saving model to Model_Gesture_Recog3_2022-08-1508_03_58.129613/model-00029-0.67585-0.71493-1.12367-0.51000.h5\n",
            "21/21 [==============================] - 51s 3s/step - loss: 0.6758 - categorical_accuracy: 0.7149 - val_loss: 1.1237 - val_categorical_accuracy: 0.5100 - lr: 1.0000e-04\n",
            "Epoch 30/80\n",
            "21/21 [==============================] - ETA: 0s - loss: 0.6843 - categorical_accuracy: 0.7391\n",
            "Epoch 30: val_loss improved from 1.12367 to 1.11560, saving model to Model_Gesture_Recog3_2022-08-1508_03_58.129613/model-00030-0.68426-0.73906-1.11560-0.52000.h5\n",
            "21/21 [==============================] - 51s 3s/step - loss: 0.6843 - categorical_accuracy: 0.7391 - val_loss: 1.1156 - val_categorical_accuracy: 0.5200 - lr: 1.0000e-04\n",
            "Epoch 31/80\n",
            "21/21 [==============================] - ETA: 0s - loss: 0.6654 - categorical_accuracy: 0.7617\n",
            "Epoch 31: val_loss improved from 1.11560 to 1.04326, saving model to Model_Gesture_Recog3_2022-08-1508_03_58.129613/model-00031-0.66539-0.76169-1.04326-0.58000.h5\n",
            "21/21 [==============================] - 51s 3s/step - loss: 0.6654 - categorical_accuracy: 0.7617 - val_loss: 1.0433 - val_categorical_accuracy: 0.5800 - lr: 1.0000e-04\n",
            "Epoch 32/80\n",
            "21/21 [==============================] - ETA: 0s - loss: 0.6549 - categorical_accuracy: 0.7376\n",
            "Epoch 32: val_loss did not improve from 1.04326\n",
            "21/21 [==============================] - 48s 2s/step - loss: 0.6549 - categorical_accuracy: 0.7376 - val_loss: 1.4393 - val_categorical_accuracy: 0.4800 - lr: 1.0000e-04\n",
            "Epoch 33/80\n",
            "21/21 [==============================] - ETA: 0s - loss: 0.6227 - categorical_accuracy: 0.7647\n",
            "Epoch 33: val_loss did not improve from 1.04326\n",
            "21/21 [==============================] - 51s 3s/step - loss: 0.6227 - categorical_accuracy: 0.7647 - val_loss: 1.0875 - val_categorical_accuracy: 0.5900 - lr: 1.0000e-04\n",
            "Epoch 34/80\n",
            "21/21 [==============================] - ETA: 0s - loss: 0.6474 - categorical_accuracy: 0.7451\n",
            "Epoch 34: val_loss improved from 1.04326 to 0.95862, saving model to Model_Gesture_Recog3_2022-08-1508_03_58.129613/model-00034-0.64740-0.74510-0.95862-0.62000.h5\n",
            "21/21 [==============================] - 50s 2s/step - loss: 0.6474 - categorical_accuracy: 0.7451 - val_loss: 0.9586 - val_categorical_accuracy: 0.6200 - lr: 1.0000e-04\n",
            "Epoch 35/80\n",
            "21/21 [==============================] - ETA: 0s - loss: 0.5866 - categorical_accuracy: 0.7858\n",
            "Epoch 35: val_loss did not improve from 0.95862\n",
            "21/21 [==============================] - 50s 2s/step - loss: 0.5866 - categorical_accuracy: 0.7858 - val_loss: 0.9682 - val_categorical_accuracy: 0.6500 - lr: 1.0000e-04\n",
            "Epoch 36/80\n",
            "21/21 [==============================] - ETA: 0s - loss: 0.5692 - categorical_accuracy: 0.7813\n",
            "Epoch 36: val_loss did not improve from 0.95862\n",
            "21/21 [==============================] - 48s 2s/step - loss: 0.5692 - categorical_accuracy: 0.7813 - val_loss: 1.3554 - val_categorical_accuracy: 0.4300 - lr: 1.0000e-04\n",
            "Epoch 37/80\n",
            "21/21 [==============================] - ETA: 0s - loss: 0.5812 - categorical_accuracy: 0.7828\n",
            "Epoch 37: val_loss did not improve from 0.95862\n",
            "21/21 [==============================] - 50s 2s/step - loss: 0.5812 - categorical_accuracy: 0.7828 - val_loss: 1.1414 - val_categorical_accuracy: 0.5900 - lr: 1.0000e-04\n",
            "Epoch 38/80\n",
            "21/21 [==============================] - ETA: 0s - loss: 0.5738 - categorical_accuracy: 0.7964\n",
            "Epoch 38: val_loss improved from 0.95862 to 0.93030, saving model to Model_Gesture_Recog3_2022-08-1508_03_58.129613/model-00038-0.57376-0.79638-0.93030-0.65000.h5\n",
            "21/21 [==============================] - 50s 2s/step - loss: 0.5738 - categorical_accuracy: 0.7964 - val_loss: 0.9303 - val_categorical_accuracy: 0.6500 - lr: 1.0000e-04\n",
            "Epoch 39/80\n",
            "21/21 [==============================] - ETA: 0s - loss: 0.5638 - categorical_accuracy: 0.7843\n",
            "Epoch 39: val_loss improved from 0.93030 to 0.85508, saving model to Model_Gesture_Recog3_2022-08-1508_03_58.129613/model-00039-0.56375-0.78431-0.85508-0.72000.h5\n",
            "21/21 [==============================] - 50s 2s/step - loss: 0.5638 - categorical_accuracy: 0.7843 - val_loss: 0.8551 - val_categorical_accuracy: 0.7200 - lr: 1.0000e-04\n",
            "Epoch 40/80\n",
            "21/21 [==============================] - ETA: 0s - loss: 0.5584 - categorical_accuracy: 0.7903\n",
            "Epoch 40: val_loss did not improve from 0.85508\n",
            "21/21 [==============================] - 49s 2s/step - loss: 0.5584 - categorical_accuracy: 0.7903 - val_loss: 1.2409 - val_categorical_accuracy: 0.5300 - lr: 1.0000e-04\n",
            "Epoch 41/80\n",
            "21/21 [==============================] - ETA: 0s - loss: 0.5196 - categorical_accuracy: 0.8069\n",
            "Epoch 41: val_loss did not improve from 0.85508\n",
            "21/21 [==============================] - 50s 2s/step - loss: 0.5196 - categorical_accuracy: 0.8069 - val_loss: 0.9038 - val_categorical_accuracy: 0.6700 - lr: 1.0000e-04\n",
            "Epoch 42/80\n",
            "21/21 [==============================] - ETA: 0s - loss: 0.5298 - categorical_accuracy: 0.8084\n",
            "Epoch 42: val_loss did not improve from 0.85508\n",
            "21/21 [==============================] - 50s 2s/step - loss: 0.5298 - categorical_accuracy: 0.8084 - val_loss: 1.6861 - val_categorical_accuracy: 0.5000 - lr: 1.0000e-04\n",
            "Epoch 43/80\n",
            "21/21 [==============================] - ETA: 0s - loss: 0.4980 - categorical_accuracy: 0.8281\n",
            "Epoch 43: val_loss did not improve from 0.85508\n",
            "21/21 [==============================] - 51s 3s/step - loss: 0.4980 - categorical_accuracy: 0.8281 - val_loss: 1.3775 - val_categorical_accuracy: 0.6000 - lr: 1.0000e-04\n",
            "Epoch 44/80\n",
            "21/21 [==============================] - ETA: 0s - loss: 0.4949 - categorical_accuracy: 0.8115\n",
            "Epoch 44: val_loss improved from 0.85508 to 0.79912, saving model to Model_Gesture_Recog3_2022-08-1508_03_58.129613/model-00044-0.49495-0.81146-0.79912-0.69000.h5\n",
            "21/21 [==============================] - 49s 2s/step - loss: 0.4949 - categorical_accuracy: 0.8115 - val_loss: 0.7991 - val_categorical_accuracy: 0.6900 - lr: 1.0000e-04\n",
            "Epoch 45/80\n",
            "21/21 [==============================] - ETA: 0s - loss: 0.4821 - categorical_accuracy: 0.8281\n",
            "Epoch 45: val_loss did not improve from 0.79912\n",
            "21/21 [==============================] - 50s 2s/step - loss: 0.4821 - categorical_accuracy: 0.8281 - val_loss: 0.9684 - val_categorical_accuracy: 0.6300 - lr: 1.0000e-04\n",
            "Epoch 46/80\n",
            "21/21 [==============================] - ETA: 0s - loss: 0.4326 - categorical_accuracy: 0.8462\n",
            "Epoch 46: val_loss did not improve from 0.79912\n",
            "21/21 [==============================] - 50s 2s/step - loss: 0.4326 - categorical_accuracy: 0.8462 - val_loss: 1.3083 - val_categorical_accuracy: 0.5200 - lr: 1.0000e-04\n",
            "Epoch 47/80\n",
            "21/21 [==============================] - ETA: 0s - loss: 0.4397 - categorical_accuracy: 0.8552\n",
            "Epoch 47: val_loss did not improve from 0.79912\n",
            "21/21 [==============================] - 50s 2s/step - loss: 0.4397 - categorical_accuracy: 0.8552 - val_loss: 1.1917 - val_categorical_accuracy: 0.5700 - lr: 1.0000e-04\n",
            "Epoch 48/80\n",
            "21/21 [==============================] - ETA: 0s - loss: 0.4045 - categorical_accuracy: 0.8537\n",
            "Epoch 48: val_loss did not improve from 0.79912\n",
            "21/21 [==============================] - 48s 2s/step - loss: 0.4045 - categorical_accuracy: 0.8537 - val_loss: 1.0285 - val_categorical_accuracy: 0.6200 - lr: 1.0000e-04\n",
            "Epoch 49/80\n",
            "21/21 [==============================] - ETA: 0s - loss: 0.4606 - categorical_accuracy: 0.8220\n",
            "Epoch 49: val_loss did not improve from 0.79912\n",
            "21/21 [==============================] - 50s 2s/step - loss: 0.4606 - categorical_accuracy: 0.8220 - val_loss: 0.9266 - val_categorical_accuracy: 0.6800 - lr: 1.0000e-04\n",
            "Epoch 50/80\n",
            "21/21 [==============================] - ETA: 0s - loss: 0.4393 - categorical_accuracy: 0.8462\n",
            "Epoch 50: val_loss improved from 0.79912 to 0.70912, saving model to Model_Gesture_Recog3_2022-08-1508_03_58.129613/model-00050-0.43931-0.84615-0.70912-0.75000.h5\n",
            "21/21 [==============================] - 51s 3s/step - loss: 0.4393 - categorical_accuracy: 0.8462 - val_loss: 0.7091 - val_categorical_accuracy: 0.7500 - lr: 1.0000e-04\n",
            "Epoch 51/80\n",
            "21/21 [==============================] - ETA: 0s - loss: 0.4431 - categorical_accuracy: 0.8326\n",
            "Epoch 51: val_loss did not improve from 0.70912\n",
            "21/21 [==============================] - 50s 2s/step - loss: 0.4431 - categorical_accuracy: 0.8326 - val_loss: 0.7460 - val_categorical_accuracy: 0.7300 - lr: 1.0000e-04\n",
            "Epoch 52/80\n",
            "21/21 [==============================] - ETA: 0s - loss: 0.4182 - categorical_accuracy: 0.8446\n",
            "Epoch 52: val_loss did not improve from 0.70912\n",
            "21/21 [==============================] - 49s 2s/step - loss: 0.4182 - categorical_accuracy: 0.8446 - val_loss: 0.8304 - val_categorical_accuracy: 0.7100 - lr: 1.0000e-04\n",
            "Epoch 53/80\n",
            "21/21 [==============================] - ETA: 0s - loss: 0.3697 - categorical_accuracy: 0.8733\n",
            "Epoch 53: val_loss did not improve from 0.70912\n",
            "21/21 [==============================] - 50s 2s/step - loss: 0.3697 - categorical_accuracy: 0.8733 - val_loss: 0.8388 - val_categorical_accuracy: 0.7400 - lr: 1.0000e-04\n",
            "Epoch 54/80\n",
            "21/21 [==============================] - ETA: 0s - loss: 0.3972 - categorical_accuracy: 0.8643\n",
            "Epoch 54: val_loss did not improve from 0.70912\n",
            "21/21 [==============================] - 50s 2s/step - loss: 0.3972 - categorical_accuracy: 0.8643 - val_loss: 1.0707 - val_categorical_accuracy: 0.6600 - lr: 1.0000e-04\n",
            "Epoch 55/80\n",
            "21/21 [==============================] - ETA: 0s - loss: 0.3649 - categorical_accuracy: 0.8582\n",
            "Epoch 55: val_loss did not improve from 0.70912\n",
            "21/21 [==============================] - 50s 2s/step - loss: 0.3649 - categorical_accuracy: 0.8582 - val_loss: 0.7908 - val_categorical_accuracy: 0.6900 - lr: 1.0000e-04\n",
            "Epoch 56/80\n",
            "21/21 [==============================] - ETA: 0s - loss: 0.3463 - categorical_accuracy: 0.8959\n",
            "Epoch 56: val_loss did not improve from 0.70912\n",
            "21/21 [==============================] - 49s 2s/step - loss: 0.3463 - categorical_accuracy: 0.8959 - val_loss: 0.7512 - val_categorical_accuracy: 0.7400 - lr: 1.0000e-04\n",
            "Epoch 57/80\n",
            "21/21 [==============================] - ETA: 0s - loss: 0.3256 - categorical_accuracy: 0.9020\n",
            "Epoch 57: val_loss did not improve from 0.70912\n",
            "21/21 [==============================] - 50s 2s/step - loss: 0.3256 - categorical_accuracy: 0.9020 - val_loss: 0.9690 - val_categorical_accuracy: 0.6500 - lr: 1.0000e-04\n",
            "Epoch 58/80\n",
            "21/21 [==============================] - ETA: 0s - loss: 0.3306 - categorical_accuracy: 0.8808\n",
            "Epoch 58: val_loss did not improve from 0.70912\n",
            "21/21 [==============================] - 50s 2s/step - loss: 0.3306 - categorical_accuracy: 0.8808 - val_loss: 0.8278 - val_categorical_accuracy: 0.6800 - lr: 1.0000e-04\n",
            "Epoch 59/80\n",
            "21/21 [==============================] - ETA: 0s - loss: 0.3672 - categorical_accuracy: 0.8778\n",
            "Epoch 59: val_loss did not improve from 0.70912\n",
            "21/21 [==============================] - 50s 2s/step - loss: 0.3672 - categorical_accuracy: 0.8778 - val_loss: 0.7474 - val_categorical_accuracy: 0.7400 - lr: 1.0000e-04\n",
            "Epoch 60/80\n",
            "21/21 [==============================] - ETA: 0s - loss: 0.3339 - categorical_accuracy: 0.8763\n",
            "Epoch 60: val_loss did not improve from 0.70912\n",
            "21/21 [==============================] - 48s 2s/step - loss: 0.3339 - categorical_accuracy: 0.8763 - val_loss: 0.8161 - val_categorical_accuracy: 0.7400 - lr: 1.0000e-04\n",
            "Epoch 61/80\n",
            "21/21 [==============================] - ETA: 0s - loss: 0.2855 - categorical_accuracy: 0.9035\n",
            "Epoch 61: val_loss did not improve from 0.70912\n",
            "21/21 [==============================] - 50s 2s/step - loss: 0.2855 - categorical_accuracy: 0.9035 - val_loss: 0.8016 - val_categorical_accuracy: 0.7400 - lr: 1.0000e-04\n",
            "Epoch 62/80\n",
            "21/21 [==============================] - ETA: 0s - loss: 0.2885 - categorical_accuracy: 0.9005\n",
            "Epoch 62: val_loss did not improve from 0.70912\n",
            "21/21 [==============================] - 51s 3s/step - loss: 0.2885 - categorical_accuracy: 0.9005 - val_loss: 1.2338 - val_categorical_accuracy: 0.6400 - lr: 1.0000e-04\n",
            "Epoch 63/80\n",
            "21/21 [==============================] - ETA: 0s - loss: 0.3043 - categorical_accuracy: 0.8869\n",
            "Epoch 63: val_loss did not improve from 0.70912\n",
            "21/21 [==============================] - 50s 2s/step - loss: 0.3043 - categorical_accuracy: 0.8869 - val_loss: 0.8899 - val_categorical_accuracy: 0.7300 - lr: 1.0000e-04\n",
            "Epoch 64/80\n",
            "21/21 [==============================] - ETA: 0s - loss: 0.3072 - categorical_accuracy: 0.8929\n",
            "Epoch 64: val_loss did not improve from 0.70912\n",
            "21/21 [==============================] - 48s 2s/step - loss: 0.3072 - categorical_accuracy: 0.8929 - val_loss: 1.1501 - val_categorical_accuracy: 0.6200 - lr: 1.0000e-04\n",
            "Epoch 65/80\n",
            "21/21 [==============================] - ETA: 0s - loss: 0.2885 - categorical_accuracy: 0.9005\n",
            "Epoch 65: val_loss did not improve from 0.70912\n",
            "21/21 [==============================] - 51s 3s/step - loss: 0.2885 - categorical_accuracy: 0.9005 - val_loss: 0.7284 - val_categorical_accuracy: 0.7200 - lr: 1.0000e-04\n",
            "Epoch 66/80\n",
            "21/21 [==============================] - ETA: 0s - loss: 0.2734 - categorical_accuracy: 0.9110\n",
            "Epoch 66: val_loss did not improve from 0.70912\n",
            "21/21 [==============================] - 52s 3s/step - loss: 0.2734 - categorical_accuracy: 0.9110 - val_loss: 0.7469 - val_categorical_accuracy: 0.7500 - lr: 1.0000e-04\n",
            "Epoch 67/80\n",
            "21/21 [==============================] - ETA: 0s - loss: 0.2515 - categorical_accuracy: 0.9170\n",
            "Epoch 67: val_loss did not improve from 0.70912\n",
            "21/21 [==============================] - 51s 3s/step - loss: 0.2515 - categorical_accuracy: 0.9170 - val_loss: 0.8293 - val_categorical_accuracy: 0.7000 - lr: 1.0000e-04\n",
            "Epoch 68/80\n",
            "21/21 [==============================] - ETA: 0s - loss: 0.2384 - categorical_accuracy: 0.9351\n",
            "Epoch 68: val_loss did not improve from 0.70912\n",
            "21/21 [==============================] - 49s 2s/step - loss: 0.2384 - categorical_accuracy: 0.9351 - val_loss: 0.8367 - val_categorical_accuracy: 0.7000 - lr: 1.0000e-04\n",
            "Epoch 69/80\n",
            "21/21 [==============================] - ETA: 0s - loss: 0.2971 - categorical_accuracy: 0.9035\n",
            "Epoch 69: val_loss improved from 0.70912 to 0.66198, saving model to Model_Gesture_Recog3_2022-08-1508_03_58.129613/model-00069-0.29708-0.90347-0.66198-0.76000.h5\n",
            "21/21 [==============================] - 51s 3s/step - loss: 0.2971 - categorical_accuracy: 0.9035 - val_loss: 0.6620 - val_categorical_accuracy: 0.7600 - lr: 1.0000e-04\n",
            "Epoch 70/80\n",
            "21/21 [==============================] - ETA: 0s - loss: 0.2464 - categorical_accuracy: 0.9231\n",
            "Epoch 70: val_loss did not improve from 0.66198\n",
            "21/21 [==============================] - 50s 2s/step - loss: 0.2464 - categorical_accuracy: 0.9231 - val_loss: 0.7029 - val_categorical_accuracy: 0.7400 - lr: 1.0000e-04\n",
            "Epoch 71/80\n",
            "21/21 [==============================] - ETA: 0s - loss: 0.2516 - categorical_accuracy: 0.9216\n",
            "Epoch 71: val_loss did not improve from 0.66198\n",
            "21/21 [==============================] - 50s 2s/step - loss: 0.2516 - categorical_accuracy: 0.9216 - val_loss: 0.7421 - val_categorical_accuracy: 0.7300 - lr: 1.0000e-04\n",
            "Epoch 72/80\n",
            "21/21 [==============================] - ETA: 0s - loss: 0.2673 - categorical_accuracy: 0.9095\n",
            "Epoch 72: val_loss did not improve from 0.66198\n",
            "21/21 [==============================] - 48s 2s/step - loss: 0.2673 - categorical_accuracy: 0.9095 - val_loss: 0.6703 - val_categorical_accuracy: 0.7600 - lr: 1.0000e-04\n",
            "Epoch 73/80\n",
            "21/21 [==============================] - ETA: 0s - loss: 0.2143 - categorical_accuracy: 0.9367\n",
            "Epoch 73: val_loss did not improve from 0.66198\n",
            "21/21 [==============================] - 50s 2s/step - loss: 0.2143 - categorical_accuracy: 0.9367 - val_loss: 0.6633 - val_categorical_accuracy: 0.7800 - lr: 1.0000e-04\n",
            "Epoch 74/80\n",
            "21/21 [==============================] - ETA: 0s - loss: 0.2400 - categorical_accuracy: 0.9306\n",
            "Epoch 74: val_loss did not improve from 0.66198\n",
            "21/21 [==============================] - 51s 3s/step - loss: 0.2400 - categorical_accuracy: 0.9306 - val_loss: 0.7343 - val_categorical_accuracy: 0.7600 - lr: 1.0000e-04\n",
            "Epoch 75/80\n",
            "21/21 [==============================] - ETA: 0s - loss: 0.2433 - categorical_accuracy: 0.9216\n",
            "Epoch 75: val_loss did not improve from 0.66198\n",
            "21/21 [==============================] - 51s 3s/step - loss: 0.2433 - categorical_accuracy: 0.9216 - val_loss: 1.2862 - val_categorical_accuracy: 0.6500 - lr: 1.0000e-04\n",
            "Epoch 76/80\n",
            "21/21 [==============================] - ETA: 0s - loss: 0.2093 - categorical_accuracy: 0.9427\n",
            "Epoch 76: val_loss improved from 0.66198 to 0.58085, saving model to Model_Gesture_Recog3_2022-08-1508_03_58.129613/model-00076-0.20931-0.94268-0.58085-0.72000.h5\n",
            "21/21 [==============================] - 49s 2s/step - loss: 0.2093 - categorical_accuracy: 0.9427 - val_loss: 0.5808 - val_categorical_accuracy: 0.7200 - lr: 1.0000e-04\n",
            "Epoch 77/80\n",
            "21/21 [==============================] - ETA: 0s - loss: 0.2327 - categorical_accuracy: 0.9231\n",
            "Epoch 77: val_loss improved from 0.58085 to 0.55833, saving model to Model_Gesture_Recog3_2022-08-1508_03_58.129613/model-00077-0.23271-0.92308-0.55833-0.80000.h5\n",
            "21/21 [==============================] - 51s 3s/step - loss: 0.2327 - categorical_accuracy: 0.9231 - val_loss: 0.5583 - val_categorical_accuracy: 0.8000 - lr: 1.0000e-04\n",
            "Epoch 78/80\n",
            "21/21 [==============================] - ETA: 0s - loss: 0.2381 - categorical_accuracy: 0.9291\n",
            "Epoch 78: val_loss did not improve from 0.55833\n",
            "21/21 [==============================] - 50s 2s/step - loss: 0.2381 - categorical_accuracy: 0.9291 - val_loss: 0.6708 - val_categorical_accuracy: 0.7200 - lr: 1.0000e-04\n",
            "Epoch 79/80\n",
            "21/21 [==============================] - ETA: 0s - loss: 0.2359 - categorical_accuracy: 0.9276\n",
            "Epoch 79: val_loss did not improve from 0.55833\n",
            "21/21 [==============================] - 50s 2s/step - loss: 0.2359 - categorical_accuracy: 0.9276 - val_loss: 0.7183 - val_categorical_accuracy: 0.7900 - lr: 1.0000e-04\n",
            "Epoch 80/80\n",
            "21/21 [==============================] - ETA: 0s - loss: 0.2059 - categorical_accuracy: 0.9472\n",
            "Epoch 80: val_loss did not improve from 0.55833\n",
            "21/21 [==============================] - 48s 2s/step - loss: 0.2059 - categorical_accuracy: 0.9472 - val_loss: 1.1622 - val_categorical_accuracy: 0.6700 - lr: 1.0000e-04\n"
          ]
        }
      ],
      "source": [
        "history3 = model.fit_generator(train_generator, steps_per_epoch=steps_per_epoch, epochs=80, verbose=1, \n",
        "                    callbacks=callbacks_list, validation_data=val_generator, \n",
        "                    validation_steps=validation_steps, class_weight=None, workers=1, initial_epoch=0)"
      ]
    },
    {
      "cell_type": "markdown",
      "metadata": {
        "id": "CaQB2AfhIz7K"
      },
      "source": [
        "##### Results form Model 3:\n",
        "- Decrese in number of units for Dense layers\n",
        "- Increasing number of layers\n",
        "- Training accuracy- 92%\n",
        "- Val Accuracy - 80%"
      ]
    },
    {
      "cell_type": "markdown",
      "metadata": {
        "id": "brO-cVlx3b60"
      },
      "source": [
        "#### Model 4: conv3D with more Dense layers"
      ]
    },
    {
      "cell_type": "code",
      "execution_count": null,
      "metadata": {
        "id": "5l-kiIpg6eGz"
      },
      "outputs": [],
      "source": [
        "model = Sequential()\n",
        "model.add(Conv3D(16, (3, 3, 3), padding='same', input_shape=input_shape))\n",
        "model.add(Activation('relu'))\n",
        "model.add(MaxPooling3D(pool_size=(2, 2, 2)))\n",
        "\n",
        "model.add(Conv3D(32, (2, 2, 2), padding='same'))\n",
        "model.add(Activation('relu'))\n",
        "model.add(MaxPooling3D(pool_size=(2, 2, 2)))\n",
        "\n",
        "model.add(Conv3D(64, (2, 2, 2), padding='same'))\n",
        "model.add(Activation('relu'))\n",
        "model.add(MaxPooling3D(pool_size=(2, 2, 2)))\n",
        "\n",
        "model.add(Conv3D(128, (2, 2, 2), padding='same'))\n",
        "model.add(Activation('relu'))\n",
        "model.add(MaxPooling3D(pool_size=(1, 2, 2)))\n",
        "\n",
        "#model.add(GlobalAveragePooling3D())\n",
        "model.add(Flatten())\n",
        "model.add(Dense(256,activation='relu'))\n",
        "model.add(Dropout(0.25))\n",
        "\n",
        "model.add(Dense(128,activation='relu'))\n",
        "model.add(Dropout(0.25))\n",
        "\n",
        "model.add(Dense(32,activation='relu'))\n",
        "model.add(Dropout(0.25))\n",
        "\n",
        "model.add(Dense(5,activation='softmax'))"
      ]
    },
    {
      "cell_type": "code",
      "execution_count": null,
      "metadata": {
        "colab": {
          "base_uri": "https://localhost:8080/"
        },
        "id": "4eodiB-xH3pC",
        "outputId": "f2ccb1d0-8b6e-40be-ff87-8334a48a7fa7"
      },
      "outputs": [
        {
          "name": "stdout",
          "output_type": "stream",
          "text": [
            "Model: \"sequential_8\"\n",
            "_________________________________________________________________\n",
            " Layer (type)                Output Shape              Param #   \n",
            "=================================================================\n",
            " conv3d_32 (Conv3D)          (None, 15, 100, 100, 16)  1312      \n",
            "                                                                 \n",
            " activation_8 (Activation)   (None, 15, 100, 100, 16)  0         \n",
            "                                                                 \n",
            " max_pooling3d_25 (MaxPoolin  (None, 7, 50, 50, 16)    0         \n",
            " g3D)                                                            \n",
            "                                                                 \n",
            " conv3d_33 (Conv3D)          (None, 7, 50, 50, 32)     4128      \n",
            "                                                                 \n",
            " activation_9 (Activation)   (None, 7, 50, 50, 32)     0         \n",
            "                                                                 \n",
            " max_pooling3d_26 (MaxPoolin  (None, 3, 25, 25, 32)    0         \n",
            " g3D)                                                            \n",
            "                                                                 \n",
            " conv3d_34 (Conv3D)          (None, 3, 25, 25, 64)     16448     \n",
            "                                                                 \n",
            " activation_10 (Activation)  (None, 3, 25, 25, 64)     0         \n",
            "                                                                 \n",
            " max_pooling3d_27 (MaxPoolin  (None, 1, 12, 12, 64)    0         \n",
            " g3D)                                                            \n",
            "                                                                 \n",
            " conv3d_35 (Conv3D)          (None, 1, 12, 12, 128)    65664     \n",
            "                                                                 \n",
            " activation_11 (Activation)  (None, 1, 12, 12, 128)    0         \n",
            "                                                                 \n",
            " max_pooling3d_28 (MaxPoolin  (None, 1, 6, 6, 128)     0         \n",
            " g3D)                                                            \n",
            "                                                                 \n",
            " flatten_1 (Flatten)         (None, 4608)              0         \n",
            "                                                                 \n",
            " dense_17 (Dense)            (None, 256)               1179904   \n",
            "                                                                 \n",
            " dropout_22 (Dropout)        (None, 256)               0         \n",
            "                                                                 \n",
            " dense_18 (Dense)            (None, 128)               32896     \n",
            "                                                                 \n",
            " dropout_23 (Dropout)        (None, 128)               0         \n",
            "                                                                 \n",
            " dense_19 (Dense)            (None, 32)                4128      \n",
            "                                                                 \n",
            " dropout_24 (Dropout)        (None, 32)                0         \n",
            "                                                                 \n",
            " dense_20 (Dense)            (None, 5)                 165       \n",
            "                                                                 \n",
            "=================================================================\n",
            "Total params: 1,304,645\n",
            "Trainable params: 1,304,645\n",
            "Non-trainable params: 0\n",
            "_________________________________________________________________\n"
          ]
        }
      ],
      "source": [
        "optimiser = 'adam'\n",
        "model.compile(optimizer=optimiser, loss='categorical_crossentropy', metrics=['categorical_accuracy'])\n",
        "model.summary()"
      ]
    },
    {
      "cell_type": "code",
      "execution_count": null,
      "metadata": {
        "id": "y03oDPuBH4ML"
      },
      "outputs": [],
      "source": [
        "batch_size= 32\n",
        "train_generator = generator(train_path,data_train, batch_size, x_dim, y_dim, is_train = True, augmention = True)\n",
        "val_generator = generator(val_path, data_test, batch_size, x_dim, y_dim, is_train=False, augmention=False)"
      ]
    },
    {
      "cell_type": "code",
      "execution_count": null,
      "metadata": {
        "colab": {
          "base_uri": "https://localhost:8080/"
        },
        "id": "-g_DxqktH4qu",
        "outputId": "54e83d36-9896-4adc-ede4-d2003d2799a3"
      },
      "outputs": [
        {
          "name": "stderr",
          "output_type": "stream",
          "text": [
            "WARNING:tensorflow:`period` argument is deprecated. Please use `save_freq` to specify the frequency in number of batches seen.\n"
          ]
        }
      ],
      "source": [
        "model_name = 'Model_Gesture_Recog4' + '_' + str(curr_dt_time).replace(' ','').replace(':','_') + '/'\n",
        "    \n",
        "if not os.path.exists(model_name):\n",
        "    os.mkdir(model_name)\n",
        "        \n",
        "filepath = model_name + 'model-{epoch:05d}-{loss:.5f}-{categorical_accuracy:.5f}-{val_loss:.5f}-{val_categorical_accuracy:.5f}.h5'\n",
        "\n",
        "checkpoint = ModelCheckpoint(filepath, monitor='val_loss', verbose=1, save_best_only=True, save_weights_only=False, mode='auto', period=1)\n",
        "LR = ReduceLROnPlateau(monitor='val_loss', factor=0.2, patience=4, min_lr=0.0001, verbose=1)\n",
        "#early_stopping = EarlyStopping(monitor='val_loss', mode='min', verbose=1, patience=8)\n",
        "\n",
        "# LR = # write the REducelronplateau code here\n",
        "callbacks_list = [checkpoint, LR]"
      ]
    },
    {
      "cell_type": "code",
      "execution_count": null,
      "metadata": {
        "colab": {
          "base_uri": "https://localhost:8080/"
        },
        "id": "JIOdHpXBH45z",
        "outputId": "2df265e7-eba5-406d-e6c1-d95863c7a648"
      },
      "outputs": [
        {
          "name": "stderr",
          "output_type": "stream",
          "text": [
            "/usr/local/lib/python3.7/dist-packages/ipykernel_launcher.py:3: UserWarning: `Model.fit_generator` is deprecated and will be removed in a future version. Please use `Model.fit`, which supports generators.\n",
            "  This is separate from the ipykernel package so we can avoid doing imports until\n"
          ]
        },
        {
          "name": "stdout",
          "output_type": "stream",
          "text": [
            "Source path =  Project_data/train ; batch size = 32\n",
            "Epoch 1/80\n",
            "21/21 [==============================] - ETA: 0s - loss: 1.6140 - categorical_accuracy: 0.2112Source path =  Project_data/val ; batch size = 32\n",
            "\n",
            "Epoch 1: val_loss improved from inf to 1.58429, saving model to Model_Gesture_Recog4_2022-08-1508_03_58.129613/model-00001-1.61404-0.21116-1.58429-0.23000.h5\n",
            "21/21 [==============================] - 53s 3s/step - loss: 1.6140 - categorical_accuracy: 0.2112 - val_loss: 1.5843 - val_categorical_accuracy: 0.2300 - lr: 0.0010\n",
            "Epoch 2/80\n",
            "21/21 [==============================] - ETA: 0s - loss: 1.5699 - categorical_accuracy: 0.2715\n",
            "Epoch 2: val_loss improved from 1.58429 to 1.46190, saving model to Model_Gesture_Recog4_2022-08-1508_03_58.129613/model-00002-1.56985-0.27149-1.46190-0.36000.h5\n",
            "21/21 [==============================] - 50s 3s/step - loss: 1.5699 - categorical_accuracy: 0.2715 - val_loss: 1.4619 - val_categorical_accuracy: 0.3600 - lr: 0.0010\n",
            "Epoch 3/80\n",
            "21/21 [==============================] - ETA: 0s - loss: 1.5104 - categorical_accuracy: 0.3198\n",
            "Epoch 3: val_loss did not improve from 1.46190\n",
            "21/21 [==============================] - 50s 2s/step - loss: 1.5104 - categorical_accuracy: 0.3198 - val_loss: 1.4650 - val_categorical_accuracy: 0.3500 - lr: 0.0010\n",
            "Epoch 4/80\n",
            "21/21 [==============================] - ETA: 0s - loss: 1.4427 - categorical_accuracy: 0.3560\n",
            "Epoch 4: val_loss improved from 1.46190 to 1.37911, saving model to Model_Gesture_Recog4_2022-08-1508_03_58.129613/model-00004-1.44266-0.35596-1.37911-0.37000.h5\n",
            "21/21 [==============================] - 47s 2s/step - loss: 1.4427 - categorical_accuracy: 0.3560 - val_loss: 1.3791 - val_categorical_accuracy: 0.3700 - lr: 0.0010\n",
            "Epoch 5/80\n",
            "21/21 [==============================] - ETA: 0s - loss: 1.3938 - categorical_accuracy: 0.3831\n",
            "Epoch 5: val_loss improved from 1.37911 to 1.26545, saving model to Model_Gesture_Recog4_2022-08-1508_03_58.129613/model-00005-1.39383-0.38311-1.26545-0.44000.h5\n",
            "21/21 [==============================] - 50s 2s/step - loss: 1.3938 - categorical_accuracy: 0.3831 - val_loss: 1.2655 - val_categorical_accuracy: 0.4400 - lr: 0.0010\n",
            "Epoch 6/80\n",
            "21/21 [==============================] - ETA: 0s - loss: 1.2624 - categorical_accuracy: 0.4268\n",
            "Epoch 6: val_loss improved from 1.26545 to 1.12338, saving model to Model_Gesture_Recog4_2022-08-1508_03_58.129613/model-00006-1.26242-0.42685-1.12338-0.53000.h5\n",
            "21/21 [==============================] - 50s 2s/step - loss: 1.2624 - categorical_accuracy: 0.4268 - val_loss: 1.1234 - val_categorical_accuracy: 0.5300 - lr: 0.0010\n",
            "Epoch 7/80\n",
            "21/21 [==============================] - ETA: 0s - loss: 1.1408 - categorical_accuracy: 0.5023\n",
            "Epoch 7: val_loss improved from 1.12338 to 1.06988, saving model to Model_Gesture_Recog4_2022-08-1508_03_58.129613/model-00007-1.14075-0.50226-1.06988-0.57000.h5\n",
            "21/21 [==============================] - 50s 2s/step - loss: 1.1408 - categorical_accuracy: 0.5023 - val_loss: 1.0699 - val_categorical_accuracy: 0.5700 - lr: 0.0010\n",
            "Epoch 8/80\n",
            "21/21 [==============================] - ETA: 0s - loss: 1.0708 - categorical_accuracy: 0.5324\n",
            "Epoch 8: val_loss improved from 1.06988 to 1.05448, saving model to Model_Gesture_Recog4_2022-08-1508_03_58.129613/model-00008-1.07079-0.53243-1.05448-0.57000.h5\n",
            "21/21 [==============================] - 48s 2s/step - loss: 1.0708 - categorical_accuracy: 0.5324 - val_loss: 1.0545 - val_categorical_accuracy: 0.5700 - lr: 0.0010\n",
            "Epoch 9/80\n",
            "21/21 [==============================] - ETA: 0s - loss: 1.0224 - categorical_accuracy: 0.5400\n",
            "Epoch 9: val_loss did not improve from 1.05448\n",
            "21/21 [==============================] - 49s 2s/step - loss: 1.0224 - categorical_accuracy: 0.5400 - val_loss: 1.0813 - val_categorical_accuracy: 0.5600 - lr: 0.0010\n",
            "Epoch 10/80\n",
            "21/21 [==============================] - ETA: 0s - loss: 0.8973 - categorical_accuracy: 0.6184\n",
            "Epoch 10: val_loss improved from 1.05448 to 0.81943, saving model to Model_Gesture_Recog4_2022-08-1508_03_58.129613/model-00010-0.89731-0.61840-0.81943-0.72000.h5\n",
            "21/21 [==============================] - 49s 2s/step - loss: 0.8973 - categorical_accuracy: 0.6184 - val_loss: 0.8194 - val_categorical_accuracy: 0.7200 - lr: 0.0010\n",
            "Epoch 11/80\n",
            "21/21 [==============================] - ETA: 0s - loss: 0.8313 - categorical_accuracy: 0.6471\n",
            "Epoch 11: val_loss did not improve from 0.81943\n",
            "21/21 [==============================] - 50s 2s/step - loss: 0.8313 - categorical_accuracy: 0.6471 - val_loss: 0.9048 - val_categorical_accuracy: 0.6500 - lr: 0.0010\n",
            "Epoch 12/80\n",
            "21/21 [==============================] - ETA: 0s - loss: 0.7929 - categorical_accuracy: 0.6848\n",
            "Epoch 12: val_loss did not improve from 0.81943\n",
            "21/21 [==============================] - 48s 2s/step - loss: 0.7929 - categorical_accuracy: 0.6848 - val_loss: 0.9602 - val_categorical_accuracy: 0.6500 - lr: 0.0010\n",
            "Epoch 13/80\n",
            "21/21 [==============================] - ETA: 0s - loss: 0.7030 - categorical_accuracy: 0.7104\n",
            "Epoch 13: val_loss improved from 0.81943 to 0.77489, saving model to Model_Gesture_Recog4_2022-08-1508_03_58.129613/model-00013-0.70299-0.71041-0.77489-0.73000.h5\n",
            "21/21 [==============================] - 50s 2s/step - loss: 0.7030 - categorical_accuracy: 0.7104 - val_loss: 0.7749 - val_categorical_accuracy: 0.7300 - lr: 0.0010\n",
            "Epoch 14/80\n",
            "21/21 [==============================] - ETA: 0s - loss: 0.6310 - categorical_accuracy: 0.7602\n",
            "Epoch 14: val_loss did not improve from 0.77489\n",
            "21/21 [==============================] - 49s 2s/step - loss: 0.6310 - categorical_accuracy: 0.7602 - val_loss: 0.7790 - val_categorical_accuracy: 0.7900 - lr: 0.0010\n",
            "Epoch 15/80\n",
            "21/21 [==============================] - ETA: 0s - loss: 0.5677 - categorical_accuracy: 0.7813\n",
            "Epoch 15: val_loss did not improve from 0.77489\n",
            "21/21 [==============================] - 50s 2s/step - loss: 0.5677 - categorical_accuracy: 0.7813 - val_loss: 0.8046 - val_categorical_accuracy: 0.7600 - lr: 0.0010\n",
            "Epoch 16/80\n",
            "21/21 [==============================] - ETA: 0s - loss: 0.4599 - categorical_accuracy: 0.8386\n",
            "Epoch 16: val_loss improved from 0.77489 to 0.62190, saving model to Model_Gesture_Recog4_2022-08-1508_03_58.129613/model-00016-0.45987-0.83861-0.62190-0.82000.h5\n",
            "21/21 [==============================] - 47s 2s/step - loss: 0.4599 - categorical_accuracy: 0.8386 - val_loss: 0.6219 - val_categorical_accuracy: 0.8200 - lr: 0.0010\n",
            "Epoch 17/80\n",
            "21/21 [==============================] - ETA: 0s - loss: 0.3506 - categorical_accuracy: 0.8808\n",
            "Epoch 17: val_loss improved from 0.62190 to 0.55717, saving model to Model_Gesture_Recog4_2022-08-1508_03_58.129613/model-00017-0.35065-0.88084-0.55717-0.82000.h5\n",
            "21/21 [==============================] - 49s 2s/step - loss: 0.3506 - categorical_accuracy: 0.8808 - val_loss: 0.5572 - val_categorical_accuracy: 0.8200 - lr: 0.0010\n",
            "Epoch 18/80\n",
            "21/21 [==============================] - ETA: 0s - loss: 0.3377 - categorical_accuracy: 0.8869\n",
            "Epoch 18: val_loss improved from 0.55717 to 0.52444, saving model to Model_Gesture_Recog4_2022-08-1508_03_58.129613/model-00018-0.33771-0.88688-0.52444-0.81000.h5\n",
            "21/21 [==============================] - 50s 3s/step - loss: 0.3377 - categorical_accuracy: 0.8869 - val_loss: 0.5244 - val_categorical_accuracy: 0.8100 - lr: 0.0010\n",
            "Epoch 19/80\n",
            "21/21 [==============================] - ETA: 0s - loss: 0.2280 - categorical_accuracy: 0.9321\n",
            "Epoch 19: val_loss did not improve from 0.52444\n",
            "21/21 [==============================] - 49s 2s/step - loss: 0.2280 - categorical_accuracy: 0.9321 - val_loss: 0.8009 - val_categorical_accuracy: 0.7500 - lr: 0.0010\n",
            "Epoch 20/80\n",
            "21/21 [==============================] - ETA: 0s - loss: 0.2716 - categorical_accuracy: 0.8974\n",
            "Epoch 20: val_loss did not improve from 0.52444\n",
            "21/21 [==============================] - 47s 2s/step - loss: 0.2716 - categorical_accuracy: 0.8974 - val_loss: 0.7292 - val_categorical_accuracy: 0.7800 - lr: 0.0010\n",
            "Epoch 21/80\n",
            "21/21 [==============================] - ETA: 0s - loss: 0.2048 - categorical_accuracy: 0.9321\n",
            "Epoch 21: val_loss did not improve from 0.52444\n",
            "21/21 [==============================] - 49s 2s/step - loss: 0.2048 - categorical_accuracy: 0.9321 - val_loss: 0.7909 - val_categorical_accuracy: 0.8100 - lr: 0.0010\n",
            "Epoch 22/80\n",
            "21/21 [==============================] - ETA: 0s - loss: 0.2103 - categorical_accuracy: 0.9382\n",
            "Epoch 22: val_loss did not improve from 0.52444\n",
            "\n",
            "Epoch 22: ReduceLROnPlateau reducing learning rate to 0.00020000000949949026.\n",
            "21/21 [==============================] - 49s 2s/step - loss: 0.2103 - categorical_accuracy: 0.9382 - val_loss: 0.9844 - val_categorical_accuracy: 0.7600 - lr: 0.0010\n",
            "Epoch 23/80\n",
            "21/21 [==============================] - ETA: 0s - loss: 0.1533 - categorical_accuracy: 0.9548\n",
            "Epoch 23: val_loss did not improve from 0.52444\n",
            "21/21 [==============================] - 49s 2s/step - loss: 0.1533 - categorical_accuracy: 0.9548 - val_loss: 0.8951 - val_categorical_accuracy: 0.7800 - lr: 2.0000e-04\n",
            "Epoch 24/80\n",
            "21/21 [==============================] - ETA: 0s - loss: 0.1058 - categorical_accuracy: 0.9608\n",
            "Epoch 24: val_loss did not improve from 0.52444\n",
            "21/21 [==============================] - 48s 2s/step - loss: 0.1058 - categorical_accuracy: 0.9608 - val_loss: 0.6453 - val_categorical_accuracy: 0.8400 - lr: 2.0000e-04\n",
            "Epoch 25/80\n",
            "21/21 [==============================] - ETA: 0s - loss: 0.0899 - categorical_accuracy: 0.9683\n",
            "Epoch 25: val_loss did not improve from 0.52444\n",
            "21/21 [==============================] - 49s 2s/step - loss: 0.0899 - categorical_accuracy: 0.9683 - val_loss: 0.7333 - val_categorical_accuracy: 0.8100 - lr: 2.0000e-04\n",
            "Epoch 26/80\n",
            "21/21 [==============================] - ETA: 0s - loss: 0.0607 - categorical_accuracy: 0.9819\n",
            "Epoch 26: val_loss did not improve from 0.52444\n",
            "\n",
            "Epoch 26: ReduceLROnPlateau reducing learning rate to 0.0001.\n",
            "21/21 [==============================] - 49s 2s/step - loss: 0.0607 - categorical_accuracy: 0.9819 - val_loss: 0.7380 - val_categorical_accuracy: 0.7900 - lr: 2.0000e-04\n",
            "Epoch 27/80\n",
            "21/21 [==============================] - ETA: 0s - loss: 0.0710 - categorical_accuracy: 0.9759\n",
            "Epoch 27: val_loss did not improve from 0.52444\n",
            "21/21 [==============================] - 49s 2s/step - loss: 0.0710 - categorical_accuracy: 0.9759 - val_loss: 0.8116 - val_categorical_accuracy: 0.8200 - lr: 1.0000e-04\n",
            "Epoch 28/80\n",
            "21/21 [==============================] - ETA: 0s - loss: 0.0639 - categorical_accuracy: 0.9879\n",
            "Epoch 28: val_loss did not improve from 0.52444\n",
            "21/21 [==============================] - 48s 2s/step - loss: 0.0639 - categorical_accuracy: 0.9879 - val_loss: 0.7526 - val_categorical_accuracy: 0.8100 - lr: 1.0000e-04\n",
            "Epoch 29/80\n",
            "21/21 [==============================] - ETA: 0s - loss: 0.0617 - categorical_accuracy: 0.9804\n",
            "Epoch 29: val_loss did not improve from 0.52444\n",
            "21/21 [==============================] - 49s 2s/step - loss: 0.0617 - categorical_accuracy: 0.9804 - val_loss: 0.8314 - val_categorical_accuracy: 0.8300 - lr: 1.0000e-04\n",
            "Epoch 30/80\n",
            "21/21 [==============================] - ETA: 0s - loss: 0.0483 - categorical_accuracy: 0.9864\n",
            "Epoch 30: val_loss did not improve from 0.52444\n",
            "21/21 [==============================] - 50s 2s/step - loss: 0.0483 - categorical_accuracy: 0.9864 - val_loss: 0.8963 - val_categorical_accuracy: 0.7900 - lr: 1.0000e-04\n",
            "Epoch 31/80\n",
            "21/21 [==============================] - ETA: 0s - loss: 0.0559 - categorical_accuracy: 0.9834\n",
            "Epoch 31: val_loss did not improve from 0.52444\n",
            "21/21 [==============================] - 49s 2s/step - loss: 0.0559 - categorical_accuracy: 0.9834 - val_loss: 0.5961 - val_categorical_accuracy: 0.8500 - lr: 1.0000e-04\n",
            "Epoch 32/80\n",
            "21/21 [==============================] - ETA: 0s - loss: 0.0508 - categorical_accuracy: 0.9834\n",
            "Epoch 32: val_loss did not improve from 0.52444\n",
            "21/21 [==============================] - 48s 2s/step - loss: 0.0508 - categorical_accuracy: 0.9834 - val_loss: 0.8825 - val_categorical_accuracy: 0.7900 - lr: 1.0000e-04\n",
            "Epoch 33/80\n",
            "21/21 [==============================] - ETA: 0s - loss: 0.0500 - categorical_accuracy: 0.9849\n",
            "Epoch 33: val_loss did not improve from 0.52444\n",
            "21/21 [==============================] - 50s 2s/step - loss: 0.0500 - categorical_accuracy: 0.9849 - val_loss: 0.8063 - val_categorical_accuracy: 0.7900 - lr: 1.0000e-04\n",
            "Epoch 34/80\n",
            "21/21 [==============================] - ETA: 0s - loss: 0.0526 - categorical_accuracy: 0.9834\n",
            "Epoch 34: val_loss did not improve from 0.52444\n",
            "21/21 [==============================] - 49s 2s/step - loss: 0.0526 - categorical_accuracy: 0.9834 - val_loss: 0.9161 - val_categorical_accuracy: 0.7600 - lr: 1.0000e-04\n",
            "Epoch 35/80\n",
            "21/21 [==============================] - ETA: 0s - loss: 0.0430 - categorical_accuracy: 0.9864\n",
            "Epoch 35: val_loss did not improve from 0.52444\n",
            "21/21 [==============================] - 49s 2s/step - loss: 0.0430 - categorical_accuracy: 0.9864 - val_loss: 0.8256 - val_categorical_accuracy: 0.8300 - lr: 1.0000e-04\n",
            "Epoch 36/80\n",
            "21/21 [==============================] - ETA: 0s - loss: 0.0315 - categorical_accuracy: 0.9955\n",
            "Epoch 36: val_loss did not improve from 0.52444\n",
            "21/21 [==============================] - 47s 2s/step - loss: 0.0315 - categorical_accuracy: 0.9955 - val_loss: 0.8324 - val_categorical_accuracy: 0.8300 - lr: 1.0000e-04\n",
            "Epoch 37/80\n",
            "21/21 [==============================] - ETA: 0s - loss: 0.0355 - categorical_accuracy: 0.9910\n",
            "Epoch 37: val_loss did not improve from 0.52444\n",
            "21/21 [==============================] - 50s 2s/step - loss: 0.0355 - categorical_accuracy: 0.9910 - val_loss: 0.8800 - val_categorical_accuracy: 0.8100 - lr: 1.0000e-04\n",
            "Epoch 38/80\n",
            "21/21 [==============================] - ETA: 0s - loss: 0.0434 - categorical_accuracy: 0.9894\n",
            "Epoch 38: val_loss did not improve from 0.52444\n",
            "21/21 [==============================] - 49s 2s/step - loss: 0.0434 - categorical_accuracy: 0.9894 - val_loss: 0.8996 - val_categorical_accuracy: 0.7900 - lr: 1.0000e-04\n",
            "Epoch 39/80\n",
            "21/21 [==============================] - ETA: 0s - loss: 0.0397 - categorical_accuracy: 0.9864\n",
            "Epoch 39: val_loss did not improve from 0.52444\n",
            "21/21 [==============================] - 49s 2s/step - loss: 0.0397 - categorical_accuracy: 0.9864 - val_loss: 0.8182 - val_categorical_accuracy: 0.8500 - lr: 1.0000e-04\n",
            "Epoch 40/80\n",
            "21/21 [==============================] - ETA: 0s - loss: 0.0355 - categorical_accuracy: 0.9894\n",
            "Epoch 40: val_loss did not improve from 0.52444\n",
            "21/21 [==============================] - 48s 2s/step - loss: 0.0355 - categorical_accuracy: 0.9894 - val_loss: 1.0082 - val_categorical_accuracy: 0.7900 - lr: 1.0000e-04\n",
            "Epoch 41/80\n",
            "21/21 [==============================] - ETA: 0s - loss: 0.0332 - categorical_accuracy: 0.9940\n",
            "Epoch 41: val_loss did not improve from 0.52444\n",
            "21/21 [==============================] - 49s 2s/step - loss: 0.0332 - categorical_accuracy: 0.9940 - val_loss: 0.8081 - val_categorical_accuracy: 0.8200 - lr: 1.0000e-04\n",
            "Epoch 42/80\n",
            "21/21 [==============================] - ETA: 0s - loss: 0.0431 - categorical_accuracy: 0.9849\n",
            "Epoch 42: val_loss did not improve from 0.52444\n",
            "21/21 [==============================] - 49s 2s/step - loss: 0.0431 - categorical_accuracy: 0.9849 - val_loss: 0.8470 - val_categorical_accuracy: 0.8000 - lr: 1.0000e-04\n",
            "Epoch 43/80\n",
            "21/21 [==============================] - ETA: 0s - loss: 0.0479 - categorical_accuracy: 0.9789\n",
            "Epoch 43: val_loss did not improve from 0.52444\n",
            "21/21 [==============================] - 51s 3s/step - loss: 0.0479 - categorical_accuracy: 0.9789 - val_loss: 0.8850 - val_categorical_accuracy: 0.8100 - lr: 1.0000e-04\n",
            "Epoch 44/80\n",
            "21/21 [==============================] - ETA: 0s - loss: 0.0411 - categorical_accuracy: 0.9910\n",
            "Epoch 44: val_loss did not improve from 0.52444\n",
            "21/21 [==============================] - 48s 2s/step - loss: 0.0411 - categorical_accuracy: 0.9910 - val_loss: 1.0013 - val_categorical_accuracy: 0.8100 - lr: 1.0000e-04\n",
            "Epoch 45/80\n",
            "21/21 [==============================] - ETA: 0s - loss: 0.0273 - categorical_accuracy: 0.9955\n",
            "Epoch 45: val_loss did not improve from 0.52444\n",
            "21/21 [==============================] - 50s 2s/step - loss: 0.0273 - categorical_accuracy: 0.9955 - val_loss: 0.8552 - val_categorical_accuracy: 0.8200 - lr: 1.0000e-04\n",
            "Epoch 46/80\n",
            "21/21 [==============================] - ETA: 0s - loss: 0.0340 - categorical_accuracy: 0.9910\n",
            "Epoch 46: val_loss did not improve from 0.52444\n",
            "21/21 [==============================] - 50s 2s/step - loss: 0.0340 - categorical_accuracy: 0.9910 - val_loss: 1.0907 - val_categorical_accuracy: 0.7900 - lr: 1.0000e-04\n",
            "Epoch 47/80\n",
            "21/21 [==============================] - ETA: 0s - loss: 0.0496 - categorical_accuracy: 0.9834\n",
            "Epoch 47: val_loss did not improve from 0.52444\n",
            "21/21 [==============================] - 50s 2s/step - loss: 0.0496 - categorical_accuracy: 0.9834 - val_loss: 0.8066 - val_categorical_accuracy: 0.7900 - lr: 1.0000e-04\n",
            "Epoch 48/80\n",
            "21/21 [==============================] - ETA: 0s - loss: 0.0466 - categorical_accuracy: 0.9864\n",
            "Epoch 48: val_loss did not improve from 0.52444\n",
            "21/21 [==============================] - 48s 2s/step - loss: 0.0466 - categorical_accuracy: 0.9864 - val_loss: 0.9915 - val_categorical_accuracy: 0.7900 - lr: 1.0000e-04\n",
            "Epoch 49/80\n",
            "21/21 [==============================] - ETA: 0s - loss: 0.0233 - categorical_accuracy: 0.9970\n",
            "Epoch 49: val_loss did not improve from 0.52444\n",
            "21/21 [==============================] - 49s 2s/step - loss: 0.0233 - categorical_accuracy: 0.9970 - val_loss: 0.9323 - val_categorical_accuracy: 0.7900 - lr: 1.0000e-04\n",
            "Epoch 50/80\n",
            "21/21 [==============================] - ETA: 0s - loss: 0.0330 - categorical_accuracy: 0.9910\n",
            "Epoch 50: val_loss did not improve from 0.52444\n",
            "21/21 [==============================] - 50s 3s/step - loss: 0.0330 - categorical_accuracy: 0.9910 - val_loss: 0.8325 - val_categorical_accuracy: 0.7900 - lr: 1.0000e-04\n",
            "Epoch 51/80\n",
            "21/21 [==============================] - ETA: 0s - loss: 0.0268 - categorical_accuracy: 0.9955\n",
            "Epoch 51: val_loss did not improve from 0.52444\n",
            "21/21 [==============================] - 50s 2s/step - loss: 0.0268 - categorical_accuracy: 0.9955 - val_loss: 0.9650 - val_categorical_accuracy: 0.8300 - lr: 1.0000e-04\n",
            "Epoch 52/80\n",
            "21/21 [==============================] - ETA: 0s - loss: 0.0304 - categorical_accuracy: 0.9894\n",
            "Epoch 52: val_loss did not improve from 0.52444\n",
            "21/21 [==============================] - 48s 2s/step - loss: 0.0304 - categorical_accuracy: 0.9894 - val_loss: 1.0411 - val_categorical_accuracy: 0.7900 - lr: 1.0000e-04\n",
            "Epoch 53/80\n",
            "21/21 [==============================] - ETA: 0s - loss: 0.0237 - categorical_accuracy: 0.9940\n",
            "Epoch 53: val_loss did not improve from 0.52444\n",
            "21/21 [==============================] - 50s 2s/step - loss: 0.0237 - categorical_accuracy: 0.9940 - val_loss: 0.8930 - val_categorical_accuracy: 0.8100 - lr: 1.0000e-04\n",
            "Epoch 54/80\n",
            "21/21 [==============================] - ETA: 0s - loss: 0.0192 - categorical_accuracy: 0.9940\n",
            "Epoch 54: val_loss did not improve from 0.52444\n",
            "21/21 [==============================] - 50s 2s/step - loss: 0.0192 - categorical_accuracy: 0.9940 - val_loss: 0.9728 - val_categorical_accuracy: 0.8100 - lr: 1.0000e-04\n",
            "Epoch 55/80\n",
            "21/21 [==============================] - ETA: 0s - loss: 0.0275 - categorical_accuracy: 0.9925\n",
            "Epoch 55: val_loss did not improve from 0.52444\n",
            "21/21 [==============================] - 49s 2s/step - loss: 0.0275 - categorical_accuracy: 0.9925 - val_loss: 0.8433 - val_categorical_accuracy: 0.8200 - lr: 1.0000e-04\n",
            "Epoch 56/80\n",
            "21/21 [==============================] - ETA: 0s - loss: 0.0190 - categorical_accuracy: 0.9955\n",
            "Epoch 56: val_loss did not improve from 0.52444\n",
            "21/21 [==============================] - 48s 2s/step - loss: 0.0190 - categorical_accuracy: 0.9955 - val_loss: 1.0537 - val_categorical_accuracy: 0.7900 - lr: 1.0000e-04\n",
            "Epoch 57/80\n",
            "21/21 [==============================] - ETA: 0s - loss: 0.0231 - categorical_accuracy: 0.9955\n",
            "Epoch 57: val_loss did not improve from 0.52444\n",
            "21/21 [==============================] - 49s 2s/step - loss: 0.0231 - categorical_accuracy: 0.9955 - val_loss: 1.1319 - val_categorical_accuracy: 0.8000 - lr: 1.0000e-04\n",
            "Epoch 58/80\n",
            "21/21 [==============================] - ETA: 0s - loss: 0.0251 - categorical_accuracy: 0.9925\n",
            "Epoch 58: val_loss did not improve from 0.52444\n",
            "21/21 [==============================] - 50s 2s/step - loss: 0.0251 - categorical_accuracy: 0.9925 - val_loss: 1.2553 - val_categorical_accuracy: 0.7700 - lr: 1.0000e-04\n",
            "Epoch 59/80\n",
            "21/21 [==============================] - ETA: 0s - loss: 0.0175 - categorical_accuracy: 0.9955\n",
            "Epoch 59: val_loss did not improve from 0.52444\n",
            "21/21 [==============================] - 49s 2s/step - loss: 0.0175 - categorical_accuracy: 0.9955 - val_loss: 1.0879 - val_categorical_accuracy: 0.7900 - lr: 1.0000e-04\n",
            "Epoch 60/80\n",
            "21/21 [==============================] - ETA: 0s - loss: 0.0145 - categorical_accuracy: 0.9985\n",
            "Epoch 60: val_loss did not improve from 0.52444\n",
            "21/21 [==============================] - 47s 2s/step - loss: 0.0145 - categorical_accuracy: 0.9985 - val_loss: 1.3053 - val_categorical_accuracy: 0.7900 - lr: 1.0000e-04\n",
            "Epoch 61/80\n",
            "21/21 [==============================] - ETA: 0s - loss: 0.0173 - categorical_accuracy: 0.9970\n",
            "Epoch 61: val_loss did not improve from 0.52444\n",
            "21/21 [==============================] - 50s 2s/step - loss: 0.0173 - categorical_accuracy: 0.9970 - val_loss: 1.1429 - val_categorical_accuracy: 0.8100 - lr: 1.0000e-04\n",
            "Epoch 62/80\n",
            "21/21 [==============================] - ETA: 0s - loss: 0.0188 - categorical_accuracy: 0.9970\n",
            "Epoch 62: val_loss did not improve from 0.52444\n",
            "21/21 [==============================] - 50s 2s/step - loss: 0.0188 - categorical_accuracy: 0.9970 - val_loss: 0.9573 - val_categorical_accuracy: 0.8400 - lr: 1.0000e-04\n",
            "Epoch 63/80\n",
            "21/21 [==============================] - ETA: 0s - loss: 0.0256 - categorical_accuracy: 0.9925\n",
            "Epoch 63: val_loss did not improve from 0.52444\n",
            "21/21 [==============================] - 49s 2s/step - loss: 0.0256 - categorical_accuracy: 0.9925 - val_loss: 0.7921 - val_categorical_accuracy: 0.8100 - lr: 1.0000e-04\n",
            "Epoch 64/80\n",
            "21/21 [==============================] - ETA: 0s - loss: 0.0223 - categorical_accuracy: 0.9940\n",
            "Epoch 64: val_loss did not improve from 0.52444\n",
            "21/21 [==============================] - 47s 2s/step - loss: 0.0223 - categorical_accuracy: 0.9940 - val_loss: 1.5192 - val_categorical_accuracy: 0.7800 - lr: 1.0000e-04\n",
            "Epoch 65/80\n",
            "21/21 [==============================] - ETA: 0s - loss: 0.0229 - categorical_accuracy: 0.9910\n",
            "Epoch 65: val_loss did not improve from 0.52444\n",
            "21/21 [==============================] - 49s 2s/step - loss: 0.0229 - categorical_accuracy: 0.9910 - val_loss: 1.1772 - val_categorical_accuracy: 0.8000 - lr: 1.0000e-04\n",
            "Epoch 66/80\n",
            "21/21 [==============================] - ETA: 0s - loss: 0.0200 - categorical_accuracy: 0.9925\n",
            "Epoch 66: val_loss did not improve from 0.52444\n",
            "21/21 [==============================] - 49s 2s/step - loss: 0.0200 - categorical_accuracy: 0.9925 - val_loss: 0.9397 - val_categorical_accuracy: 0.8200 - lr: 1.0000e-04\n",
            "Epoch 67/80\n",
            "21/21 [==============================] - ETA: 0s - loss: 0.0176 - categorical_accuracy: 0.9955\n",
            "Epoch 67: val_loss did not improve from 0.52444\n",
            "21/21 [==============================] - 49s 2s/step - loss: 0.0176 - categorical_accuracy: 0.9955 - val_loss: 0.9406 - val_categorical_accuracy: 0.7900 - lr: 1.0000e-04\n",
            "Epoch 68/80\n",
            "21/21 [==============================] - ETA: 0s - loss: 0.0100 - categorical_accuracy: 0.9985\n",
            "Epoch 68: val_loss did not improve from 0.52444\n",
            "21/21 [==============================] - 47s 2s/step - loss: 0.0100 - categorical_accuracy: 0.9985 - val_loss: 1.1290 - val_categorical_accuracy: 0.8300 - lr: 1.0000e-04\n",
            "Epoch 69/80\n",
            "21/21 [==============================] - ETA: 0s - loss: 0.0150 - categorical_accuracy: 0.9955\n",
            "Epoch 69: val_loss did not improve from 0.52444\n",
            "21/21 [==============================] - 50s 2s/step - loss: 0.0150 - categorical_accuracy: 0.9955 - val_loss: 1.3042 - val_categorical_accuracy: 0.7900 - lr: 1.0000e-04\n",
            "Epoch 70/80\n",
            "21/21 [==============================] - ETA: 0s - loss: 0.0243 - categorical_accuracy: 0.9940\n",
            "Epoch 70: val_loss did not improve from 0.52444\n",
            "21/21 [==============================] - 49s 2s/step - loss: 0.0243 - categorical_accuracy: 0.9940 - val_loss: 0.9801 - val_categorical_accuracy: 0.8300 - lr: 1.0000e-04\n",
            "Epoch 71/80\n",
            "21/21 [==============================] - ETA: 0s - loss: 0.0189 - categorical_accuracy: 0.9970\n",
            "Epoch 71: val_loss did not improve from 0.52444\n",
            "21/21 [==============================] - 49s 2s/step - loss: 0.0189 - categorical_accuracy: 0.9970 - val_loss: 1.0374 - val_categorical_accuracy: 0.8000 - lr: 1.0000e-04\n",
            "Epoch 72/80\n",
            "21/21 [==============================] - ETA: 0s - loss: 0.0230 - categorical_accuracy: 0.9910\n",
            "Epoch 72: val_loss did not improve from 0.52444\n",
            "21/21 [==============================] - 47s 2s/step - loss: 0.0230 - categorical_accuracy: 0.9910 - val_loss: 1.2043 - val_categorical_accuracy: 0.7800 - lr: 1.0000e-04\n",
            "Epoch 73/80\n",
            "21/21 [==============================] - ETA: 0s - loss: 0.0185 - categorical_accuracy: 0.9940\n",
            "Epoch 73: val_loss did not improve from 0.52444\n",
            "21/21 [==============================] - 56s 3s/step - loss: 0.0185 - categorical_accuracy: 0.9940 - val_loss: 1.2563 - val_categorical_accuracy: 0.8000 - lr: 1.0000e-04\n",
            "Epoch 74/80\n",
            "21/21 [==============================] - ETA: 0s - loss: 0.0211 - categorical_accuracy: 0.9940\n",
            "Epoch 74: val_loss did not improve from 0.52444\n",
            "21/21 [==============================] - 51s 3s/step - loss: 0.0211 - categorical_accuracy: 0.9940 - val_loss: 0.9899 - val_categorical_accuracy: 0.8200 - lr: 1.0000e-04\n",
            "Epoch 75/80\n",
            "21/21 [==============================] - ETA: 0s - loss: 0.0102 - categorical_accuracy: 0.9985\n",
            "Epoch 75: val_loss did not improve from 0.52444\n",
            "21/21 [==============================] - 49s 2s/step - loss: 0.0102 - categorical_accuracy: 0.9985 - val_loss: 0.9837 - val_categorical_accuracy: 0.8000 - lr: 1.0000e-04\n",
            "Epoch 76/80\n",
            "21/21 [==============================] - ETA: 0s - loss: 0.0151 - categorical_accuracy: 0.9970\n",
            "Epoch 76: val_loss did not improve from 0.52444\n",
            "21/21 [==============================] - 51s 3s/step - loss: 0.0151 - categorical_accuracy: 0.9970 - val_loss: 1.2094 - val_categorical_accuracy: 0.8200 - lr: 1.0000e-04\n",
            "Epoch 77/80\n",
            "21/21 [==============================] - ETA: 0s - loss: 0.0197 - categorical_accuracy: 0.9925\n",
            "Epoch 77: val_loss did not improve from 0.52444\n",
            "21/21 [==============================] - 51s 3s/step - loss: 0.0197 - categorical_accuracy: 0.9925 - val_loss: 1.1021 - val_categorical_accuracy: 0.8200 - lr: 1.0000e-04\n",
            "Epoch 78/80\n",
            "21/21 [==============================] - ETA: 0s - loss: 0.0217 - categorical_accuracy: 0.9925\n",
            "Epoch 78: val_loss did not improve from 0.52444\n",
            "21/21 [==============================] - 52s 3s/step - loss: 0.0217 - categorical_accuracy: 0.9925 - val_loss: 1.3130 - val_categorical_accuracy: 0.8000 - lr: 1.0000e-04\n",
            "Epoch 79/80\n",
            "21/21 [==============================] - ETA: 0s - loss: 0.0165 - categorical_accuracy: 0.9955\n",
            "Epoch 79: val_loss did not improve from 0.52444\n",
            "21/21 [==============================] - 53s 3s/step - loss: 0.0165 - categorical_accuracy: 0.9955 - val_loss: 0.8073 - val_categorical_accuracy: 0.8400 - lr: 1.0000e-04\n",
            "Epoch 80/80\n",
            "21/21 [==============================] - ETA: 0s - loss: 0.0128 - categorical_accuracy: 0.9985\n",
            "Epoch 80: val_loss did not improve from 0.52444\n",
            "21/21 [==============================] - 48s 2s/step - loss: 0.0128 - categorical_accuracy: 0.9985 - val_loss: 1.2378 - val_categorical_accuracy: 0.7700 - lr: 1.0000e-04\n"
          ]
        }
      ],
      "source": [
        "history3 = model.fit_generator(train_generator, steps_per_epoch=steps_per_epoch, epochs=80, verbose=1, \n",
        "                    callbacks=callbacks_list, validation_data=val_generator, \n",
        "                    validation_steps=validation_steps, class_weight=None, workers=1, initial_epoch=0)"
      ]
    },
    {
      "cell_type": "markdown",
      "metadata": {
        "id": "PDdmS95DYCSm"
      },
      "source": [
        "##### Results from Model 4:\n",
        "- Training Accuracy- 88%\n",
        "- Val accuracy - 81%\n",
        "- Without batch normalization\n",
        "- Increase Dense Layers\n",
        "- Less overfitting"
      ]
    },
    {
      "cell_type": "markdown",
      "metadata": {
        "id": "a6g0JlHTlG8z"
      },
      "source": [
        "#### Model 5: conv2D + GRU using BatchNormalization. No Dropouts"
      ]
    },
    {
      "cell_type": "code",
      "execution_count": null,
      "metadata": {
        "id": "FAqYay8nX7yc"
      },
      "outputs": [],
      "source": [
        "model = Sequential()\n",
        "model.add(TimeDistributed(Conv2D(32, (3,3), activation='relu'), input_shape=input_shape))\n",
        "model.add(TimeDistributed(MaxPooling2D((2,2))))\n",
        "model.add(BatchNormalization())\n",
        "\n",
        "model.add(TimeDistributed(Conv2D(64, (3,3), activation='relu')))\n",
        "model.add(TimeDistributed(MaxPooling2D((2,2))))\n",
        "model.add(BatchNormalization())\n",
        "\n",
        "model.add(TimeDistributed(GlobalAveragePooling2D()))\n",
        "model.add(TimeDistributed(Dense(64, activation='relu')))\n",
        "model.add(BatchNormalization())\n",
        "\n",
        "model.add(GRU(128))\n",
        "model.add(BatchNormalization())\n",
        "model.add(Dense(5, activation='softmax'))"
      ]
    },
    {
      "cell_type": "code",
      "execution_count": null,
      "metadata": {
        "colab": {
          "base_uri": "https://localhost:8080/"
        },
        "id": "R7GLK97aYtrI",
        "outputId": "266d4309-2aff-4854-ad52-761e1c746885"
      },
      "outputs": [
        {
          "name": "stdout",
          "output_type": "stream",
          "text": [
            "Model: \"sequential_10\"\n",
            "_________________________________________________________________\n",
            " Layer (type)                Output Shape              Param #   \n",
            "=================================================================\n",
            " time_distributed_4 (TimeDis  (None, 15, 98, 98, 32)   896       \n",
            " tributed)                                                       \n",
            "                                                                 \n",
            " time_distributed_5 (TimeDis  (None, 15, 49, 49, 32)   0         \n",
            " tributed)                                                       \n",
            "                                                                 \n",
            " batch_normalization_26 (Bat  (None, 15, 49, 49, 32)   128       \n",
            " chNormalization)                                                \n",
            "                                                                 \n",
            " time_distributed_6 (TimeDis  (None, 15, 47, 47, 64)   18496     \n",
            " tributed)                                                       \n",
            "                                                                 \n",
            " time_distributed_7 (TimeDis  (None, 15, 23, 23, 64)   0         \n",
            " tributed)                                                       \n",
            "                                                                 \n",
            " batch_normalization_27 (Bat  (None, 15, 23, 23, 64)   256       \n",
            " chNormalization)                                                \n",
            "                                                                 \n",
            " time_distributed_8 (TimeDis  (None, 15, 64)           0         \n",
            " tributed)                                                       \n",
            "                                                                 \n",
            " time_distributed_9 (TimeDis  (None, 15, 64)           4160      \n",
            " tributed)                                                       \n",
            "                                                                 \n",
            " batch_normalization_28 (Bat  (None, 15, 64)           256       \n",
            " chNormalization)                                                \n",
            "                                                                 \n",
            " gru (GRU)                   (None, 128)               74496     \n",
            "                                                                 \n",
            " batch_normalization_29 (Bat  (None, 128)              512       \n",
            " chNormalization)                                                \n",
            "                                                                 \n",
            " dense_22 (Dense)            (None, 5)                 645       \n",
            "                                                                 \n",
            "=================================================================\n",
            "Total params: 99,845\n",
            "Trainable params: 99,269\n",
            "Non-trainable params: 576\n",
            "_________________________________________________________________\n"
          ]
        }
      ],
      "source": [
        "optimiser = 'adam'\n",
        "model.compile(optimizer=optimiser, loss='categorical_crossentropy', metrics=['categorical_accuracy'])\n",
        "model.summary()"
      ]
    },
    {
      "cell_type": "code",
      "execution_count": null,
      "metadata": {
        "id": "n01RO6rDYtjz"
      },
      "outputs": [],
      "source": [
        "batch_size= 32\n",
        "train_generator = generator(train_path,data_train, batch_size, x_dim, y_dim, is_train = True, augmention = True)\n",
        "val_generator = generator(val_path, data_test, batch_size, x_dim, y_dim, is_train=False, augmention=False)"
      ]
    },
    {
      "cell_type": "code",
      "execution_count": null,
      "metadata": {
        "colab": {
          "base_uri": "https://localhost:8080/"
        },
        "id": "E0QOWuwVYthB",
        "outputId": "8ecc8863-9c93-4331-d863-b86fd88d1a3f"
      },
      "outputs": [
        {
          "name": "stderr",
          "output_type": "stream",
          "text": [
            "WARNING:tensorflow:`period` argument is deprecated. Please use `save_freq` to specify the frequency in number of batches seen.\n"
          ]
        }
      ],
      "source": [
        "model_name = 'Model_Gesture_Recog5' + '_' + str(curr_dt_time).replace(' ','').replace(':','_') + '/'\n",
        "    \n",
        "if not os.path.exists(model_name):\n",
        "    os.mkdir(model_name)\n",
        "        \n",
        "filepath = model_name + 'model-{epoch:05d}-{loss:.5f}-{categorical_accuracy:.5f}-{val_loss:.5f}-{val_categorical_accuracy:.5f}.h5'\n",
        "\n",
        "checkpoint = ModelCheckpoint(filepath, monitor='val_loss', verbose=1, save_best_only=True, save_weights_only=False, mode='auto', period=1)\n",
        "LR = ReduceLROnPlateau(monitor='val_loss', factor=0.2, patience=4, min_lr=0.0001, verbose=1)\n",
        "#early_stopping = EarlyStopping(monitor='val_loss', mode='min', verbose=1, patience=8)\n",
        "\n",
        "# LR = # write the REducelronplateau code here\n",
        "callbacks_list = [checkpoint, LR]"
      ]
    },
    {
      "cell_type": "code",
      "execution_count": null,
      "metadata": {
        "colab": {
          "base_uri": "https://localhost:8080/"
        },
        "id": "FWqGRPOQYteX",
        "outputId": "ed6596d5-c999-400c-f9c5-ea84ad5062c1"
      },
      "outputs": [
        {
          "name": "stderr",
          "output_type": "stream",
          "text": [
            "/usr/local/lib/python3.7/dist-packages/ipykernel_launcher.py:3: UserWarning: `Model.fit_generator` is deprecated and will be removed in a future version. Please use `Model.fit`, which supports generators.\n",
            "  This is separate from the ipykernel package so we can avoid doing imports until\n"
          ]
        },
        {
          "name": "stdout",
          "output_type": "stream",
          "text": [
            "Epoch 1/30\n",
            "21/21 [==============================] - ETA: 0s - loss: 1.2770 - categorical_accuracy: 0.4661Source path =  Project_data/val ; batch size = 32\n",
            "\n",
            "Epoch 1: val_loss improved from inf to 1.60537, saving model to Model_Gesture_Recog5_2022-08-1508_03_58.129613/model-00001-1.27701-0.46606-1.60537-0.23000.h5\n",
            "21/21 [==============================] - 51s 3s/step - loss: 1.2770 - categorical_accuracy: 0.4661 - val_loss: 1.6054 - val_categorical_accuracy: 0.2300 - lr: 0.0010\n",
            "Epoch 2/30\n",
            "21/21 [==============================] - ETA: 0s - loss: 1.1207 - categorical_accuracy: 0.5596\n",
            "Epoch 2: val_loss improved from 1.60537 to 1.59984, saving model to Model_Gesture_Recog5_2022-08-1508_03_58.129613/model-00002-1.12074-0.55958-1.59984-0.32000.h5\n",
            "21/21 [==============================] - 50s 2s/step - loss: 1.1207 - categorical_accuracy: 0.5596 - val_loss: 1.5998 - val_categorical_accuracy: 0.3200 - lr: 0.0010\n",
            "Epoch 3/30\n",
            "21/21 [==============================] - ETA: 0s - loss: 1.0100 - categorical_accuracy: 0.5867\n",
            "Epoch 3: val_loss improved from 1.59984 to 1.56224, saving model to Model_Gesture_Recog5_2022-08-1508_03_58.129613/model-00003-1.01003-0.58673-1.56224-0.21000.h5\n",
            "21/21 [==============================] - 50s 3s/step - loss: 1.0100 - categorical_accuracy: 0.5867 - val_loss: 1.5622 - val_categorical_accuracy: 0.2100 - lr: 0.0010\n",
            "Epoch 4/30\n",
            "21/21 [==============================] - ETA: 0s - loss: 0.9388 - categorical_accuracy: 0.6124\n",
            "Epoch 4: val_loss improved from 1.56224 to 1.56105, saving model to Model_Gesture_Recog5_2022-08-1508_03_58.129613/model-00004-0.93885-0.61237-1.56105-0.28000.h5\n",
            "21/21 [==============================] - 48s 2s/step - loss: 0.9388 - categorical_accuracy: 0.6124 - val_loss: 1.5610 - val_categorical_accuracy: 0.2800 - lr: 0.0010\n",
            "Epoch 5/30\n",
            "21/21 [==============================] - ETA: 0s - loss: 0.9242 - categorical_accuracy: 0.6063\n",
            "Epoch 5: val_loss improved from 1.56105 to 1.54258, saving model to Model_Gesture_Recog5_2022-08-1508_03_58.129613/model-00005-0.92416-0.60633-1.54258-0.35000.h5\n",
            "21/21 [==============================] - 50s 2s/step - loss: 0.9242 - categorical_accuracy: 0.6063 - val_loss: 1.5426 - val_categorical_accuracy: 0.3500 - lr: 0.0010\n",
            "Epoch 6/30\n",
            "21/21 [==============================] - ETA: 0s - loss: 0.9186 - categorical_accuracy: 0.6169\n",
            "Epoch 6: val_loss did not improve from 1.54258\n",
            "21/21 [==============================] - 50s 2s/step - loss: 0.9186 - categorical_accuracy: 0.6169 - val_loss: 1.5782 - val_categorical_accuracy: 0.2300 - lr: 0.0010\n",
            "Epoch 7/30\n",
            "21/21 [==============================] - ETA: 0s - loss: 0.8705 - categorical_accuracy: 0.6320\n",
            "Epoch 7: val_loss did not improve from 1.54258\n",
            "21/21 [==============================] - 50s 2s/step - loss: 0.8705 - categorical_accuracy: 0.6320 - val_loss: 1.7126 - val_categorical_accuracy: 0.2700 - lr: 0.0010\n",
            "Epoch 8/30\n",
            "21/21 [==============================] - ETA: 0s - loss: 0.7973 - categorical_accuracy: 0.6637\n",
            "Epoch 8: val_loss did not improve from 1.54258\n",
            "21/21 [==============================] - 47s 2s/step - loss: 0.7973 - categorical_accuracy: 0.6637 - val_loss: 1.5532 - val_categorical_accuracy: 0.2700 - lr: 0.0010\n",
            "Epoch 9/30\n",
            "21/21 [==============================] - ETA: 0s - loss: 0.7319 - categorical_accuracy: 0.6817\n",
            "Epoch 9: val_loss did not improve from 1.54258\n",
            "\n",
            "Epoch 9: ReduceLROnPlateau reducing learning rate to 0.00020000000949949026.\n",
            "21/21 [==============================] - 50s 3s/step - loss: 0.7319 - categorical_accuracy: 0.6817 - val_loss: 1.6349 - val_categorical_accuracy: 0.2500 - lr: 0.0010\n",
            "Epoch 10/30\n",
            "21/21 [==============================] - ETA: 0s - loss: 0.6901 - categorical_accuracy: 0.7210\n",
            "Epoch 10: val_loss did not improve from 1.54258\n",
            "21/21 [==============================] - 50s 2s/step - loss: 0.6901 - categorical_accuracy: 0.7210 - val_loss: 1.6235 - val_categorical_accuracy: 0.3500 - lr: 2.0000e-04\n",
            "Epoch 11/30\n",
            "21/21 [==============================] - ETA: 0s - loss: 0.6051 - categorical_accuracy: 0.7677\n",
            "Epoch 11: val_loss did not improve from 1.54258\n",
            "21/21 [==============================] - 50s 2s/step - loss: 0.6051 - categorical_accuracy: 0.7677 - val_loss: 1.5560 - val_categorical_accuracy: 0.3400 - lr: 2.0000e-04\n",
            "Epoch 12/30\n",
            "21/21 [==============================] - ETA: 0s - loss: 0.5814 - categorical_accuracy: 0.7722\n",
            "Epoch 12: val_loss improved from 1.54258 to 1.49513, saving model to Model_Gesture_Recog5_2022-08-1508_03_58.129613/model-00012-0.58141-0.77225-1.49513-0.38000.h5\n",
            "21/21 [==============================] - 48s 2s/step - loss: 0.5814 - categorical_accuracy: 0.7722 - val_loss: 1.4951 - val_categorical_accuracy: 0.3800 - lr: 2.0000e-04\n",
            "Epoch 13/30\n",
            "21/21 [==============================] - ETA: 0s - loss: 0.5630 - categorical_accuracy: 0.7783\n",
            "Epoch 13: val_loss improved from 1.49513 to 1.45590, saving model to Model_Gesture_Recog5_2022-08-1508_03_58.129613/model-00013-0.56303-0.77828-1.45590-0.29000.h5\n",
            "21/21 [==============================] - 50s 2s/step - loss: 0.5630 - categorical_accuracy: 0.7783 - val_loss: 1.4559 - val_categorical_accuracy: 0.2900 - lr: 2.0000e-04\n",
            "Epoch 14/30\n",
            "21/21 [==============================] - ETA: 0s - loss: 0.5261 - categorical_accuracy: 0.7949\n",
            "Epoch 14: val_loss improved from 1.45590 to 1.44844, saving model to Model_Gesture_Recog5_2022-08-1508_03_58.129613/model-00014-0.52607-0.79487-1.44844-0.35000.h5\n",
            "21/21 [==============================] - 49s 2s/step - loss: 0.5261 - categorical_accuracy: 0.7949 - val_loss: 1.4484 - val_categorical_accuracy: 0.3500 - lr: 2.0000e-04\n",
            "Epoch 15/30\n",
            "21/21 [==============================] - ETA: 0s - loss: 0.5446 - categorical_accuracy: 0.7858\n",
            "Epoch 15: val_loss improved from 1.44844 to 1.29637, saving model to Model_Gesture_Recog5_2022-08-1508_03_58.129613/model-00015-0.54463-0.78582-1.29637-0.32000.h5\n",
            "21/21 [==============================] - 50s 3s/step - loss: 0.5446 - categorical_accuracy: 0.7858 - val_loss: 1.2964 - val_categorical_accuracy: 0.3200 - lr: 2.0000e-04\n",
            "Epoch 16/30\n",
            "21/21 [==============================] - ETA: 0s - loss: 0.5629 - categorical_accuracy: 0.7783\n",
            "Epoch 16: val_loss did not improve from 1.29637\n",
            "21/21 [==============================] - 48s 2s/step - loss: 0.5629 - categorical_accuracy: 0.7783 - val_loss: 1.5613 - val_categorical_accuracy: 0.3200 - lr: 2.0000e-04\n",
            "Epoch 17/30\n",
            "21/21 [==============================] - ETA: 0s - loss: 0.5444 - categorical_accuracy: 0.7843\n",
            "Epoch 17: val_loss did not improve from 1.29637\n",
            "21/21 [==============================] - 52s 3s/step - loss: 0.5444 - categorical_accuracy: 0.7843 - val_loss: 1.4519 - val_categorical_accuracy: 0.3300 - lr: 2.0000e-04\n",
            "Epoch 18/30\n",
            "21/21 [==============================] - ETA: 0s - loss: 0.5210 - categorical_accuracy: 0.7919\n",
            "Epoch 18: val_loss did not improve from 1.29637\n",
            "21/21 [==============================] - 50s 3s/step - loss: 0.5210 - categorical_accuracy: 0.7919 - val_loss: 1.5433 - val_categorical_accuracy: 0.3700 - lr: 2.0000e-04\n",
            "Epoch 19/30\n",
            "21/21 [==============================] - ETA: 0s - loss: 0.4970 - categorical_accuracy: 0.8054\n",
            "Epoch 19: val_loss improved from 1.29637 to 1.08912, saving model to Model_Gesture_Recog5_2022-08-1508_03_58.129613/model-00019-0.49696-0.80543-1.08912-0.53000.h5\n",
            "21/21 [==============================] - 49s 2s/step - loss: 0.4970 - categorical_accuracy: 0.8054 - val_loss: 1.0891 - val_categorical_accuracy: 0.5300 - lr: 2.0000e-04\n",
            "Epoch 20/30\n",
            "21/21 [==============================] - ETA: 0s - loss: 0.5096 - categorical_accuracy: 0.7994\n",
            "Epoch 20: val_loss did not improve from 1.08912\n",
            "21/21 [==============================] - 48s 2s/step - loss: 0.5096 - categorical_accuracy: 0.7994 - val_loss: 1.8101 - val_categorical_accuracy: 0.3800 - lr: 2.0000e-04\n",
            "Epoch 21/30\n",
            "21/21 [==============================] - ETA: 0s - loss: 0.4834 - categorical_accuracy: 0.8115\n",
            "Epoch 21: val_loss did not improve from 1.08912\n",
            "21/21 [==============================] - 49s 2s/step - loss: 0.4834 - categorical_accuracy: 0.8115 - val_loss: 1.6302 - val_categorical_accuracy: 0.3800 - lr: 2.0000e-04\n",
            "Epoch 22/30\n",
            "21/21 [==============================] - ETA: 0s - loss: 0.4540 - categorical_accuracy: 0.8296\n",
            "Epoch 22: val_loss did not improve from 1.08912\n",
            "21/21 [==============================] - 50s 3s/step - loss: 0.4540 - categorical_accuracy: 0.8296 - val_loss: 1.5484 - val_categorical_accuracy: 0.4000 - lr: 2.0000e-04\n",
            "Epoch 23/30\n",
            "21/21 [==============================] - ETA: 0s - loss: 0.4436 - categorical_accuracy: 0.8281\n",
            "Epoch 23: val_loss did not improve from 1.08912\n",
            "\n",
            "Epoch 23: ReduceLROnPlateau reducing learning rate to 0.0001.\n",
            "21/21 [==============================] - 50s 2s/step - loss: 0.4436 - categorical_accuracy: 0.8281 - val_loss: 1.4058 - val_categorical_accuracy: 0.5200 - lr: 2.0000e-04\n",
            "Epoch 24/30\n",
            "21/21 [==============================] - ETA: 0s - loss: 0.4987 - categorical_accuracy: 0.8069\n",
            "Epoch 24: val_loss did not improve from 1.08912\n",
            "21/21 [==============================] - 48s 2s/step - loss: 0.4987 - categorical_accuracy: 0.8069 - val_loss: 1.7109 - val_categorical_accuracy: 0.3800 - lr: 1.0000e-04\n",
            "Epoch 25/30\n",
            "21/21 [==============================] - ETA: 0s - loss: 0.4540 - categorical_accuracy: 0.8281\n",
            "Epoch 25: val_loss did not improve from 1.08912\n",
            "21/21 [==============================] - 50s 2s/step - loss: 0.4540 - categorical_accuracy: 0.8281 - val_loss: 1.5224 - val_categorical_accuracy: 0.4400 - lr: 1.0000e-04\n",
            "Epoch 26/30\n",
            "21/21 [==============================] - ETA: 0s - loss: 0.4552 - categorical_accuracy: 0.8296\n",
            "Epoch 26: val_loss did not improve from 1.08912\n",
            "21/21 [==============================] - 50s 2s/step - loss: 0.4552 - categorical_accuracy: 0.8296 - val_loss: 1.1556 - val_categorical_accuracy: 0.5400 - lr: 1.0000e-04\n",
            "Epoch 27/30\n",
            "21/21 [==============================] - ETA: 0s - loss: 0.4365 - categorical_accuracy: 0.8296\n",
            "Epoch 27: val_loss did not improve from 1.08912\n",
            "21/21 [==============================] - 50s 2s/step - loss: 0.4365 - categorical_accuracy: 0.8296 - val_loss: 1.2199 - val_categorical_accuracy: 0.4700 - lr: 1.0000e-04\n",
            "Epoch 28/30\n",
            "21/21 [==============================] - ETA: 0s - loss: 0.4024 - categorical_accuracy: 0.8446\n",
            "Epoch 28: val_loss did not improve from 1.08912\n",
            "21/21 [==============================] - 48s 2s/step - loss: 0.4024 - categorical_accuracy: 0.8446 - val_loss: 1.3044 - val_categorical_accuracy: 0.5100 - lr: 1.0000e-04\n",
            "Epoch 29/30\n",
            "21/21 [==============================] - ETA: 0s - loss: 0.4015 - categorical_accuracy: 0.8416\n",
            "Epoch 29: val_loss improved from 1.08912 to 0.84884, saving model to Model_Gesture_Recog5_2022-08-1508_03_58.129613/model-00029-0.40154-0.84163-0.84884-0.66000.h5\n",
            "21/21 [==============================] - 50s 2s/step - loss: 0.4015 - categorical_accuracy: 0.8416 - val_loss: 0.8488 - val_categorical_accuracy: 0.6600 - lr: 1.0000e-04\n",
            "Epoch 30/30\n",
            "21/21 [==============================] - ETA: 0s - loss: 0.4435 - categorical_accuracy: 0.8311\n",
            "Epoch 30: val_loss did not improve from 0.84884\n",
            "21/21 [==============================] - 49s 2s/step - loss: 0.4435 - categorical_accuracy: 0.8311 - val_loss: 1.0307 - val_categorical_accuracy: 0.6000 - lr: 1.0000e-04\n"
          ]
        }
      ],
      "source": [
        "history5 = model.fit_generator(train_generator, steps_per_epoch=steps_per_epoch, epochs=30, verbose=1, \n",
        "                    callbacks=callbacks_list, validation_data=val_generator, \n",
        "                    validation_steps=validation_steps, class_weight=None, workers=1, initial_epoch=0)"
      ]
    },
    {
      "cell_type": "code",
      "execution_count": null,
      "metadata": {
        "colab": {
          "base_uri": "https://localhost:8080/"
        },
        "id": "uWfPBsISYtbp",
        "outputId": "a47c721a-6506-4468-8378-ad9d83cc2630"
      },
      "outputs": [
        {
          "name": "stderr",
          "output_type": "stream",
          "text": [
            "/usr/local/lib/python3.7/dist-packages/ipykernel_launcher.py:3: UserWarning: `Model.fit_generator` is deprecated and will be removed in a future version. Please use `Model.fit`, which supports generators.\n",
            "  This is separate from the ipykernel package so we can avoid doing imports until\n"
          ]
        },
        {
          "name": "stdout",
          "output_type": "stream",
          "text": [
            "Epoch 1/30\n",
            "21/21 [==============================] - ETA: 0s - loss: 0.4595 - categorical_accuracy: 0.8356\n",
            "Epoch 1: val_loss improved from 0.84884 to 0.71959, saving model to Model_Gesture_Recog5_2022-08-1508_03_58.129613/model-00001-0.45954-0.83560-0.71959-0.74000.h5\n",
            "21/21 [==============================] - 50s 2s/step - loss: 0.4595 - categorical_accuracy: 0.8356 - val_loss: 0.7196 - val_categorical_accuracy: 0.7400 - lr: 1.0000e-04\n",
            "Epoch 2/30\n",
            "21/21 [==============================] - ETA: 0s - loss: 0.4219 - categorical_accuracy: 0.8537\n",
            "Epoch 2: val_loss did not improve from 0.71959\n",
            "21/21 [==============================] - 48s 2s/step - loss: 0.4219 - categorical_accuracy: 0.8537 - val_loss: 0.8988 - val_categorical_accuracy: 0.6500 - lr: 1.0000e-04\n",
            "Epoch 3/30\n",
            "21/21 [==============================] - ETA: 0s - loss: 0.3693 - categorical_accuracy: 0.8778\n",
            "Epoch 3: val_loss did not improve from 0.71959\n",
            "21/21 [==============================] - 51s 3s/step - loss: 0.3693 - categorical_accuracy: 0.8778 - val_loss: 1.1070 - val_categorical_accuracy: 0.6200 - lr: 1.0000e-04\n",
            "Epoch 4/30\n",
            "21/21 [==============================] - ETA: 0s - loss: 0.4045 - categorical_accuracy: 0.8446\n",
            "Epoch 4: val_loss did not improve from 0.71959\n",
            "21/21 [==============================] - 49s 2s/step - loss: 0.4045 - categorical_accuracy: 0.8446 - val_loss: 0.9696 - val_categorical_accuracy: 0.6200 - lr: 1.0000e-04\n",
            "Epoch 5/30\n",
            "21/21 [==============================] - ETA: 0s - loss: 0.4086 - categorical_accuracy: 0.8643\n",
            "Epoch 5: val_loss did not improve from 0.71959\n",
            "21/21 [==============================] - 50s 3s/step - loss: 0.4086 - categorical_accuracy: 0.8643 - val_loss: 0.8690 - val_categorical_accuracy: 0.6500 - lr: 1.0000e-04\n",
            "Epoch 6/30\n",
            "21/21 [==============================] - ETA: 0s - loss: 0.3800 - categorical_accuracy: 0.8643\n",
            "Epoch 6: val_loss did not improve from 0.71959\n",
            "21/21 [==============================] - 48s 2s/step - loss: 0.3800 - categorical_accuracy: 0.8643 - val_loss: 0.8669 - val_categorical_accuracy: 0.6400 - lr: 1.0000e-04\n",
            "Epoch 7/30\n",
            "21/21 [==============================] - ETA: 0s - loss: 0.4017 - categorical_accuracy: 0.8537\n",
            "Epoch 7: val_loss improved from 0.71959 to 0.69088, saving model to Model_Gesture_Recog5_2022-08-1508_03_58.129613/model-00007-0.40169-0.85370-0.69088-0.78000.h5\n",
            "21/21 [==============================] - 50s 2s/step - loss: 0.4017 - categorical_accuracy: 0.8537 - val_loss: 0.6909 - val_categorical_accuracy: 0.7800 - lr: 1.0000e-04\n",
            "Epoch 8/30\n",
            "21/21 [==============================] - ETA: 0s - loss: 0.3831 - categorical_accuracy: 0.8597\n",
            "Epoch 8: val_loss did not improve from 0.69088\n",
            "21/21 [==============================] - 49s 2s/step - loss: 0.3831 - categorical_accuracy: 0.8597 - val_loss: 0.7536 - val_categorical_accuracy: 0.6600 - lr: 1.0000e-04\n",
            "Epoch 9/30\n",
            "21/21 [==============================] - ETA: 0s - loss: 0.3833 - categorical_accuracy: 0.8688\n",
            "Epoch 9: val_loss improved from 0.69088 to 0.61383, saving model to Model_Gesture_Recog5_2022-08-1508_03_58.129613/model-00009-0.38331-0.86878-0.61383-0.75000.h5\n",
            "21/21 [==============================] - 50s 3s/step - loss: 0.3833 - categorical_accuracy: 0.8688 - val_loss: 0.6138 - val_categorical_accuracy: 0.7500 - lr: 1.0000e-04\n",
            "Epoch 10/30\n",
            "21/21 [==============================] - ETA: 0s - loss: 0.3663 - categorical_accuracy: 0.8673\n",
            "Epoch 10: val_loss did not improve from 0.61383\n",
            "21/21 [==============================] - 47s 2s/step - loss: 0.3663 - categorical_accuracy: 0.8673 - val_loss: 0.7024 - val_categorical_accuracy: 0.7300 - lr: 1.0000e-04\n",
            "Epoch 11/30\n",
            "21/21 [==============================] - ETA: 0s - loss: 0.3776 - categorical_accuracy: 0.8582\n",
            "Epoch 11: val_loss did not improve from 0.61383\n",
            "21/21 [==============================] - 51s 3s/step - loss: 0.3776 - categorical_accuracy: 0.8582 - val_loss: 0.6888 - val_categorical_accuracy: 0.7000 - lr: 1.0000e-04\n",
            "Epoch 12/30\n",
            "21/21 [==============================] - ETA: 0s - loss: 0.3846 - categorical_accuracy: 0.8431\n",
            "Epoch 12: val_loss did not improve from 0.61383\n",
            "21/21 [==============================] - 49s 2s/step - loss: 0.3846 - categorical_accuracy: 0.8431 - val_loss: 0.6727 - val_categorical_accuracy: 0.7600 - lr: 1.0000e-04\n",
            "Epoch 13/30\n",
            "21/21 [==============================] - ETA: 0s - loss: 0.4018 - categorical_accuracy: 0.8552\n",
            "Epoch 13: val_loss improved from 0.61383 to 0.61004, saving model to Model_Gesture_Recog5_2022-08-1508_03_58.129613/model-00013-0.40185-0.85520-0.61004-0.73000.h5\n",
            "21/21 [==============================] - 50s 2s/step - loss: 0.4018 - categorical_accuracy: 0.8552 - val_loss: 0.6100 - val_categorical_accuracy: 0.7300 - lr: 1.0000e-04\n",
            "Epoch 14/30\n",
            "21/21 [==============================] - ETA: 0s - loss: 0.3555 - categorical_accuracy: 0.8658\n",
            "Epoch 14: val_loss did not improve from 0.61004\n",
            "21/21 [==============================] - 48s 2s/step - loss: 0.3555 - categorical_accuracy: 0.8658 - val_loss: 0.7134 - val_categorical_accuracy: 0.7700 - lr: 1.0000e-04\n",
            "Epoch 15/30\n",
            "21/21 [==============================] - ETA: 0s - loss: 0.3889 - categorical_accuracy: 0.8582\n",
            "Epoch 15: val_loss did not improve from 0.61004\n",
            "21/21 [==============================] - 50s 2s/step - loss: 0.3889 - categorical_accuracy: 0.8582 - val_loss: 0.7526 - val_categorical_accuracy: 0.6700 - lr: 1.0000e-04\n",
            "Epoch 16/30\n",
            "21/21 [==============================] - ETA: 0s - loss: 0.3557 - categorical_accuracy: 0.8763\n",
            "Epoch 16: val_loss improved from 0.61004 to 0.56809, saving model to Model_Gesture_Recog5_2022-08-1508_03_58.129613/model-00016-0.35570-0.87632-0.56809-0.76000.h5\n",
            "21/21 [==============================] - 50s 2s/step - loss: 0.3557 - categorical_accuracy: 0.8763 - val_loss: 0.5681 - val_categorical_accuracy: 0.7600 - lr: 1.0000e-04\n",
            "Epoch 17/30\n",
            "21/21 [==============================] - ETA: 0s - loss: 0.3816 - categorical_accuracy: 0.8522\n",
            "Epoch 17: val_loss did not improve from 0.56809\n",
            "21/21 [==============================] - 50s 3s/step - loss: 0.3816 - categorical_accuracy: 0.8522 - val_loss: 1.0137 - val_categorical_accuracy: 0.6900 - lr: 1.0000e-04\n",
            "Epoch 18/30\n",
            "21/21 [==============================] - ETA: 0s - loss: 0.3766 - categorical_accuracy: 0.8673\n",
            "Epoch 18: val_loss did not improve from 0.56809\n",
            "21/21 [==============================] - 48s 2s/step - loss: 0.3766 - categorical_accuracy: 0.8673 - val_loss: 0.7880 - val_categorical_accuracy: 0.6900 - lr: 1.0000e-04\n",
            "Epoch 19/30\n",
            "21/21 [==============================] - ETA: 0s - loss: 0.3450 - categorical_accuracy: 0.8869\n",
            "Epoch 19: val_loss did not improve from 0.56809\n",
            "21/21 [==============================] - 50s 3s/step - loss: 0.3450 - categorical_accuracy: 0.8869 - val_loss: 0.7190 - val_categorical_accuracy: 0.7600 - lr: 1.0000e-04\n",
            "Epoch 20/30\n",
            "21/21 [==============================] - ETA: 0s - loss: 0.3564 - categorical_accuracy: 0.8778\n",
            "Epoch 20: val_loss did not improve from 0.56809\n",
            "21/21 [==============================] - 49s 2s/step - loss: 0.3564 - categorical_accuracy: 0.8778 - val_loss: 0.7393 - val_categorical_accuracy: 0.7400 - lr: 1.0000e-04\n",
            "Epoch 21/30\n",
            "21/21 [==============================] - ETA: 0s - loss: 0.3652 - categorical_accuracy: 0.8673\n",
            "Epoch 21: val_loss did not improve from 0.56809\n",
            "21/21 [==============================] - 49s 2s/step - loss: 0.3652 - categorical_accuracy: 0.8673 - val_loss: 0.9074 - val_categorical_accuracy: 0.6600 - lr: 1.0000e-04\n",
            "Epoch 22/30\n",
            "21/21 [==============================] - ETA: 0s - loss: 0.3438 - categorical_accuracy: 0.8627\n",
            "Epoch 22: val_loss did not improve from 0.56809\n",
            "21/21 [==============================] - 48s 2s/step - loss: 0.3438 - categorical_accuracy: 0.8627 - val_loss: 0.7029 - val_categorical_accuracy: 0.7400 - lr: 1.0000e-04\n",
            "Epoch 23/30\n",
            "21/21 [==============================] - ETA: 0s - loss: 0.3592 - categorical_accuracy: 0.8612\n",
            "Epoch 23: val_loss did not improve from 0.56809\n",
            "21/21 [==============================] - 49s 2s/step - loss: 0.3592 - categorical_accuracy: 0.8612 - val_loss: 0.9619 - val_categorical_accuracy: 0.6900 - lr: 1.0000e-04\n",
            "Epoch 24/30\n",
            "21/21 [==============================] - ETA: 0s - loss: 0.3403 - categorical_accuracy: 0.8733\n",
            "Epoch 24: val_loss did not improve from 0.56809\n",
            "21/21 [==============================] - 50s 2s/step - loss: 0.3403 - categorical_accuracy: 0.8733 - val_loss: 0.9344 - val_categorical_accuracy: 0.6500 - lr: 1.0000e-04\n",
            "Epoch 25/30\n",
            "21/21 [==============================] - ETA: 0s - loss: 0.3645 - categorical_accuracy: 0.8582\n",
            "Epoch 25: val_loss improved from 0.56809 to 0.51280, saving model to Model_Gesture_Recog5_2022-08-1508_03_58.129613/model-00025-0.36451-0.85822-0.51280-0.84000.h5\n",
            "21/21 [==============================] - 50s 2s/step - loss: 0.3645 - categorical_accuracy: 0.8582 - val_loss: 0.5128 - val_categorical_accuracy: 0.8400 - lr: 1.0000e-04\n",
            "Epoch 26/30\n",
            "21/21 [==============================] - ETA: 0s - loss: 0.3173 - categorical_accuracy: 0.8869\n",
            "Epoch 26: val_loss did not improve from 0.51280\n",
            "21/21 [==============================] - 47s 2s/step - loss: 0.3173 - categorical_accuracy: 0.8869 - val_loss: 0.7455 - val_categorical_accuracy: 0.7000 - lr: 1.0000e-04\n",
            "Epoch 27/30\n",
            "21/21 [==============================] - ETA: 0s - loss: 0.3279 - categorical_accuracy: 0.8808\n",
            "Epoch 27: val_loss did not improve from 0.51280\n",
            "21/21 [==============================] - 50s 3s/step - loss: 0.3279 - categorical_accuracy: 0.8808 - val_loss: 0.5965 - val_categorical_accuracy: 0.7500 - lr: 1.0000e-04\n",
            "Epoch 28/30\n",
            "21/21 [==============================] - ETA: 0s - loss: 0.3188 - categorical_accuracy: 0.8884\n",
            "Epoch 28: val_loss did not improve from 0.51280\n",
            "21/21 [==============================] - 49s 2s/step - loss: 0.3188 - categorical_accuracy: 0.8884 - val_loss: 0.8422 - val_categorical_accuracy: 0.6700 - lr: 1.0000e-04\n",
            "Epoch 29/30\n",
            "21/21 [==============================] - ETA: 0s - loss: 0.3083 - categorical_accuracy: 0.8899\n",
            "Epoch 29: val_loss did not improve from 0.51280\n",
            "21/21 [==============================] - 49s 2s/step - loss: 0.3083 - categorical_accuracy: 0.8899 - val_loss: 0.8412 - val_categorical_accuracy: 0.7400 - lr: 1.0000e-04\n",
            "Epoch 30/30\n",
            "21/21 [==============================] - ETA: 0s - loss: 0.3100 - categorical_accuracy: 0.8839\n",
            "Epoch 30: val_loss did not improve from 0.51280\n",
            "21/21 [==============================] - 49s 2s/step - loss: 0.3100 - categorical_accuracy: 0.8839 - val_loss: 0.6031 - val_categorical_accuracy: 0.7300 - lr: 1.0000e-04\n"
          ]
        }
      ],
      "source": [
        "history5 = model.fit_generator(train_generator, steps_per_epoch=steps_per_epoch, epochs=30, verbose=1, \n",
        "                    callbacks=callbacks_list, validation_data=val_generator, \n",
        "                    validation_steps=validation_steps, class_weight=None, workers=1, initial_epoch=0)"
      ]
    },
    {
      "cell_type": "markdown",
      "metadata": {
        "id": "uFFtAWv2kqKi"
      },
      "source": [
        "##### Results from Model 5:\n",
        "- No dropouts used\n",
        "- Simpler GRU Model\n",
        "- Training Accuracy - 86%\n",
        "- Val Accuracy - 84%\n",
        "- No overfiiting and better accuracy"
      ]
    },
    {
      "cell_type": "markdown",
      "metadata": {
        "id": "DebWgcWD3b64"
      },
      "source": [
        "#### Model 6: conv2D + GRU with more layers using Dropouts"
      ]
    },
    {
      "cell_type": "code",
      "execution_count": null,
      "metadata": {
        "id": "NGjFPRZ2dBmf"
      },
      "outputs": [],
      "source": [
        "model = Sequential()\n",
        "model.add(TimeDistributed(Conv2D(32, (3,3), activation='relu'), input_shape=input_shape))\n",
        "model.add(BatchNormalization())\n",
        "model.add(TimeDistributed(MaxPooling2D((2,2))))\n",
        "model.add(Dropout(0.2))\n",
        "\n",
        "model.add(TimeDistributed(Conv2D(64, (3,3), activation='relu')))\n",
        "model.add(BatchNormalization())\n",
        "model.add(TimeDistributed(MaxPooling2D((2,2))))\n",
        "model.add(Dropout(0.2))\n",
        "\n",
        "model.add(TimeDistributed(Conv2D(128, (3,3), activation='relu')))\n",
        "model.add(BatchNormalization())\n",
        "model.add(TimeDistributed(MaxPooling2D((2,2))))\n",
        "model.add(Dropout(0.2))\n",
        "\n",
        "model.add(TimeDistributed(GlobalAveragePooling2D()))\n",
        "\n",
        "model.add(TimeDistributed(Dense(64, activation='relu')))\n",
        "model.add(BatchNormalization())\n",
        "model.add(Dropout(0.2))\n",
        "\n",
        "model.add(GRU(256))\n",
        "model.add(BatchNormalization())\n",
        "\n",
        "model.add(Dense(5, activation='softmax'))"
      ]
    },
    {
      "cell_type": "code",
      "execution_count": null,
      "metadata": {
        "colab": {
          "base_uri": "https://localhost:8080/"
        },
        "id": "Zzng4Hwjl1Xe",
        "outputId": "b6ea9022-4565-4f8b-c22c-9272f932a786"
      },
      "outputs": [
        {
          "name": "stdout",
          "output_type": "stream",
          "text": [
            "Model: \"sequential_19\"\n",
            "_________________________________________________________________\n",
            " Layer (type)                Output Shape              Param #   \n",
            "=================================================================\n",
            " time_distributed_77 (TimeDi  (None, 15, 98, 98, 32)   896       \n",
            " stributed)                                                      \n",
            "                                                                 \n",
            " batch_normalization_70 (Bat  (None, 15, 98, 98, 32)   128       \n",
            " chNormalization)                                                \n",
            "                                                                 \n",
            " time_distributed_78 (TimeDi  (None, 15, 49, 49, 32)   0         \n",
            " stributed)                                                      \n",
            "                                                                 \n",
            " dropout_59 (Dropout)        (None, 15, 49, 49, 32)    0         \n",
            "                                                                 \n",
            " time_distributed_79 (TimeDi  (None, 15, 47, 47, 64)   18496     \n",
            " stributed)                                                      \n",
            "                                                                 \n",
            " batch_normalization_71 (Bat  (None, 15, 47, 47, 64)   256       \n",
            " chNormalization)                                                \n",
            "                                                                 \n",
            " time_distributed_80 (TimeDi  (None, 15, 23, 23, 64)   0         \n",
            " stributed)                                                      \n",
            "                                                                 \n",
            " dropout_60 (Dropout)        (None, 15, 23, 23, 64)    0         \n",
            "                                                                 \n",
            " time_distributed_81 (TimeDi  (None, 15, 21, 21, 128)  73856     \n",
            " stributed)                                                      \n",
            "                                                                 \n",
            " batch_normalization_72 (Bat  (None, 15, 21, 21, 128)  512       \n",
            " chNormalization)                                                \n",
            "                                                                 \n",
            " time_distributed_82 (TimeDi  (None, 15, 10, 10, 128)  0         \n",
            " stributed)                                                      \n",
            "                                                                 \n",
            " dropout_61 (Dropout)        (None, 15, 10, 10, 128)   0         \n",
            "                                                                 \n",
            " time_distributed_83 (TimeDi  (None, 15, 128)          0         \n",
            " stributed)                                                      \n",
            "                                                                 \n",
            " time_distributed_84 (TimeDi  (None, 15, 64)           8256      \n",
            " stributed)                                                      \n",
            "                                                                 \n",
            " batch_normalization_73 (Bat  (None, 15, 64)           256       \n",
            " chNormalization)                                                \n",
            "                                                                 \n",
            " dropout_62 (Dropout)        (None, 15, 64)            0         \n",
            "                                                                 \n",
            " gru_8 (GRU)                 (None, 256)               247296    \n",
            "                                                                 \n",
            " batch_normalization_74 (Bat  (None, 256)              1024      \n",
            " chNormalization)                                                \n",
            "                                                                 \n",
            " dense_40 (Dense)            (None, 5)                 1285      \n",
            "                                                                 \n",
            "=================================================================\n",
            "Total params: 352,261\n",
            "Trainable params: 351,173\n",
            "Non-trainable params: 1,088\n",
            "_________________________________________________________________\n"
          ]
        }
      ],
      "source": [
        "optimiser = 'adam'\n",
        "model.compile(optimizer=optimiser, loss='categorical_crossentropy', metrics=['categorical_accuracy'])\n",
        "model.summary()"
      ]
    },
    {
      "cell_type": "code",
      "execution_count": null,
      "metadata": {
        "id": "LEYp7N39l5DV"
      },
      "outputs": [],
      "source": [
        "batch_size= 32\n",
        "train_generator = generator(train_path,data_train, batch_size, x_dim, y_dim, is_train = True, augmention = True)\n",
        "val_generator = generator(val_path, data_test, batch_size, x_dim, y_dim, is_train=False, augmention=False)"
      ]
    },
    {
      "cell_type": "code",
      "execution_count": null,
      "metadata": {
        "colab": {
          "base_uri": "https://localhost:8080/"
        },
        "id": "HzZ0qjtRmkLo",
        "outputId": "1aa9691f-e44a-4796-8111-63ba70e4c6a3"
      },
      "outputs": [
        {
          "name": "stderr",
          "output_type": "stream",
          "text": [
            "WARNING:tensorflow:`period` argument is deprecated. Please use `save_freq` to specify the frequency in number of batches seen.\n"
          ]
        }
      ],
      "source": [
        "model_name = 'Model_Gesture_Recog6' + '_' + str(curr_dt_time).replace(' ','').replace(':','_') + '/'\n",
        "    \n",
        "if not os.path.exists(model_name):\n",
        "    os.mkdir(model_name)\n",
        "        \n",
        "filepath = model_name + 'model-{epoch:05d}-{loss:.5f}-{categorical_accuracy:.5f}-{val_loss:.5f}-{val_categorical_accuracy:.5f}.h5'\n",
        "\n",
        "checkpoint = ModelCheckpoint(filepath, monitor='val_loss', verbose=1, save_best_only=True, save_weights_only=False, mode='auto', period=1)\n",
        "LR = ReduceLROnPlateau(monitor='val_loss', factor=0.2, patience=4, min_lr=0.0001, verbose=1)\n",
        "#early_stopping = EarlyStopping(monitor='val_loss', mode='min', verbose=1, patience=8)\n",
        "\n",
        "# LR = # write the REducelronplateau code here\n",
        "callbacks_list = [checkpoint, LR]"
      ]
    },
    {
      "cell_type": "code",
      "execution_count": null,
      "metadata": {
        "colab": {
          "base_uri": "https://localhost:8080/"
        },
        "id": "qC2Fy9VNmoMS",
        "outputId": "554a46a7-9c28-47f5-e4bb-aa83e050a161"
      },
      "outputs": [
        {
          "name": "stderr",
          "output_type": "stream",
          "text": [
            "/usr/local/lib/python3.7/dist-packages/ipykernel_launcher.py:3: UserWarning: `Model.fit_generator` is deprecated and will be removed in a future version. Please use `Model.fit`, which supports generators.\n",
            "  This is separate from the ipykernel package so we can avoid doing imports until\n"
          ]
        },
        {
          "name": "stdout",
          "output_type": "stream",
          "text": [
            "Source path =  Project_data/train ; batch size = 32\n",
            "Epoch 1/50\n",
            "21/21 [==============================] - ETA: 0s - loss: 1.7226 - categorical_accuracy: 0.3454Source path =  Project_data/val ; batch size = 32\n",
            "\n",
            "Epoch 1: val_loss improved from inf to 1.60406, saving model to Model_Gesture_Recog6_2022-08-1508_03_58.129613/model-00001-1.72259-0.34540-1.60406-0.21000.h5\n",
            "21/21 [==============================] - 52s 2s/step - loss: 1.7226 - categorical_accuracy: 0.3454 - val_loss: 1.6041 - val_categorical_accuracy: 0.2100 - lr: 0.0010\n",
            "Epoch 2/50\n",
            "21/21 [==============================] - ETA: 0s - loss: 1.4041 - categorical_accuracy: 0.4314\n",
            "Epoch 2: val_loss did not improve from 1.60406\n",
            "21/21 [==============================] - 50s 2s/step - loss: 1.4041 - categorical_accuracy: 0.4314 - val_loss: 1.6542 - val_categorical_accuracy: 0.1900 - lr: 0.0010\n",
            "Epoch 3/50\n",
            "21/21 [==============================] - ETA: 0s - loss: 1.1905 - categorical_accuracy: 0.5098\n",
            "Epoch 3: val_loss did not improve from 1.60406\n",
            "21/21 [==============================] - 49s 2s/step - loss: 1.1905 - categorical_accuracy: 0.5098 - val_loss: 1.7634 - val_categorical_accuracy: 0.1700 - lr: 0.0010\n",
            "Epoch 4/50\n",
            "21/21 [==============================] - ETA: 0s - loss: 1.1005 - categorical_accuracy: 0.5566\n",
            "Epoch 4: val_loss did not improve from 1.60406\n",
            "21/21 [==============================] - 47s 2s/step - loss: 1.1005 - categorical_accuracy: 0.5566 - val_loss: 2.2260 - val_categorical_accuracy: 0.2100 - lr: 0.0010\n",
            "Epoch 5/50\n",
            "21/21 [==============================] - ETA: 0s - loss: 0.9298 - categorical_accuracy: 0.6290\n",
            "Epoch 5: val_loss did not improve from 1.60406\n",
            "\n",
            "Epoch 5: ReduceLROnPlateau reducing learning rate to 0.00020000000949949026.\n",
            "21/21 [==============================] - 49s 2s/step - loss: 0.9298 - categorical_accuracy: 0.6290 - val_loss: 2.3031 - val_categorical_accuracy: 0.1600 - lr: 0.0010\n",
            "Epoch 6/50\n",
            "21/21 [==============================] - ETA: 0s - loss: 0.8780 - categorical_accuracy: 0.6425\n",
            "Epoch 6: val_loss did not improve from 1.60406\n",
            "21/21 [==============================] - 49s 2s/step - loss: 0.8780 - categorical_accuracy: 0.6425 - val_loss: 2.5515 - val_categorical_accuracy: 0.2000 - lr: 2.0000e-04\n",
            "Epoch 7/50\n",
            "21/21 [==============================] - ETA: 0s - loss: 0.7593 - categorical_accuracy: 0.6817\n",
            "Epoch 7: val_loss did not improve from 1.60406\n",
            "21/21 [==============================] - 49s 2s/step - loss: 0.7593 - categorical_accuracy: 0.6817 - val_loss: 2.7640 - val_categorical_accuracy: 0.2300 - lr: 2.0000e-04\n",
            "Epoch 8/50\n",
            "21/21 [==============================] - ETA: 0s - loss: 0.7418 - categorical_accuracy: 0.6983\n",
            "Epoch 8: val_loss did not improve from 1.60406\n",
            "21/21 [==============================] - 47s 2s/step - loss: 0.7418 - categorical_accuracy: 0.6983 - val_loss: 2.9717 - val_categorical_accuracy: 0.2200 - lr: 2.0000e-04\n",
            "Epoch 9/50\n",
            "21/21 [==============================] - ETA: 0s - loss: 0.7008 - categorical_accuracy: 0.6983\n",
            "Epoch 9: val_loss did not improve from 1.60406\n",
            "\n",
            "Epoch 9: ReduceLROnPlateau reducing learning rate to 0.0001.\n",
            "21/21 [==============================] - 49s 2s/step - loss: 0.7008 - categorical_accuracy: 0.6983 - val_loss: 2.8540 - val_categorical_accuracy: 0.2600 - lr: 2.0000e-04\n",
            "Epoch 10/50\n",
            "21/21 [==============================] - ETA: 0s - loss: 0.6676 - categorical_accuracy: 0.7285\n",
            "Epoch 10: val_loss did not improve from 1.60406\n",
            "21/21 [==============================] - 49s 2s/step - loss: 0.6676 - categorical_accuracy: 0.7285 - val_loss: 2.8755 - val_categorical_accuracy: 0.2700 - lr: 1.0000e-04\n",
            "Epoch 11/50\n",
            "21/21 [==============================] - ETA: 0s - loss: 0.5878 - categorical_accuracy: 0.7677\n",
            "Epoch 11: val_loss did not improve from 1.60406\n",
            "21/21 [==============================] - 49s 2s/step - loss: 0.5878 - categorical_accuracy: 0.7677 - val_loss: 3.7579 - val_categorical_accuracy: 0.2300 - lr: 1.0000e-04\n",
            "Epoch 12/50\n",
            "21/21 [==============================] - ETA: 0s - loss: 0.6136 - categorical_accuracy: 0.7677\n",
            "Epoch 12: val_loss did not improve from 1.60406\n",
            "21/21 [==============================] - 47s 2s/step - loss: 0.6136 - categorical_accuracy: 0.7677 - val_loss: 3.5362 - val_categorical_accuracy: 0.1900 - lr: 1.0000e-04\n",
            "Epoch 13/50\n",
            "21/21 [==============================] - ETA: 0s - loss: 0.6141 - categorical_accuracy: 0.7526\n",
            "Epoch 13: val_loss did not improve from 1.60406\n",
            "21/21 [==============================] - 49s 2s/step - loss: 0.6141 - categorical_accuracy: 0.7526 - val_loss: 3.3662 - val_categorical_accuracy: 0.2200 - lr: 1.0000e-04\n",
            "Epoch 14/50\n",
            "21/21 [==============================] - ETA: 0s - loss: 0.6228 - categorical_accuracy: 0.7406\n",
            "Epoch 14: val_loss did not improve from 1.60406\n",
            "21/21 [==============================] - 50s 2s/step - loss: 0.6228 - categorical_accuracy: 0.7406 - val_loss: 3.7526 - val_categorical_accuracy: 0.2100 - lr: 1.0000e-04\n",
            "Epoch 15/50\n",
            "21/21 [==============================] - ETA: 0s - loss: 0.5593 - categorical_accuracy: 0.7662\n",
            "Epoch 15: val_loss did not improve from 1.60406\n",
            "21/21 [==============================] - 49s 2s/step - loss: 0.5593 - categorical_accuracy: 0.7662 - val_loss: 2.9237 - val_categorical_accuracy: 0.2900 - lr: 1.0000e-04\n",
            "Epoch 16/50\n",
            "21/21 [==============================] - ETA: 0s - loss: 0.6000 - categorical_accuracy: 0.7572\n",
            "Epoch 16: val_loss did not improve from 1.60406\n",
            "21/21 [==============================] - 47s 2s/step - loss: 0.6000 - categorical_accuracy: 0.7572 - val_loss: 3.7077 - val_categorical_accuracy: 0.2100 - lr: 1.0000e-04\n",
            "Epoch 17/50\n",
            "21/21 [==============================] - ETA: 0s - loss: 0.5264 - categorical_accuracy: 0.7873\n",
            "Epoch 17: val_loss did not improve from 1.60406\n",
            "21/21 [==============================] - 49s 2s/step - loss: 0.5264 - categorical_accuracy: 0.7873 - val_loss: 3.5946 - val_categorical_accuracy: 0.2500 - lr: 1.0000e-04\n",
            "Epoch 18/50\n",
            "21/21 [==============================] - ETA: 0s - loss: 0.5111 - categorical_accuracy: 0.7873\n",
            "Epoch 18: val_loss did not improve from 1.60406\n",
            "21/21 [==============================] - 49s 2s/step - loss: 0.5111 - categorical_accuracy: 0.7873 - val_loss: 3.8541 - val_categorical_accuracy: 0.2100 - lr: 1.0000e-04\n",
            "Epoch 19/50\n",
            "21/21 [==============================] - ETA: 0s - loss: 0.5384 - categorical_accuracy: 0.7692\n",
            "Epoch 19: val_loss did not improve from 1.60406\n",
            "21/21 [==============================] - 49s 2s/step - loss: 0.5384 - categorical_accuracy: 0.7692 - val_loss: 3.3547 - val_categorical_accuracy: 0.2800 - lr: 1.0000e-04\n",
            "Epoch 20/50\n",
            "21/21 [==============================] - ETA: 0s - loss: 0.5672 - categorical_accuracy: 0.7541\n",
            "Epoch 20: val_loss did not improve from 1.60406\n",
            "21/21 [==============================] - 48s 2s/step - loss: 0.5672 - categorical_accuracy: 0.7541 - val_loss: 3.8688 - val_categorical_accuracy: 0.2700 - lr: 1.0000e-04\n",
            "Epoch 21/50\n",
            "21/21 [==============================] - ETA: 0s - loss: 0.5211 - categorical_accuracy: 0.7903\n",
            "Epoch 21: val_loss did not improve from 1.60406\n",
            "21/21 [==============================] - 49s 2s/step - loss: 0.5211 - categorical_accuracy: 0.7903 - val_loss: 3.5695 - val_categorical_accuracy: 0.3000 - lr: 1.0000e-04\n",
            "Epoch 22/50\n",
            "21/21 [==============================] - ETA: 0s - loss: 0.5588 - categorical_accuracy: 0.7557\n",
            "Epoch 22: val_loss did not improve from 1.60406\n",
            "21/21 [==============================] - 49s 2s/step - loss: 0.5588 - categorical_accuracy: 0.7557 - val_loss: 3.5910 - val_categorical_accuracy: 0.3000 - lr: 1.0000e-04\n",
            "Epoch 23/50\n",
            "21/21 [==============================] - ETA: 0s - loss: 0.4913 - categorical_accuracy: 0.7903\n",
            "Epoch 23: val_loss did not improve from 1.60406\n",
            "21/21 [==============================] - 49s 2s/step - loss: 0.4913 - categorical_accuracy: 0.7903 - val_loss: 3.2831 - val_categorical_accuracy: 0.3400 - lr: 1.0000e-04\n",
            "Epoch 24/50\n",
            "21/21 [==============================] - ETA: 0s - loss: 0.4770 - categorical_accuracy: 0.8009\n",
            "Epoch 24: val_loss did not improve from 1.60406\n",
            "21/21 [==============================] - 47s 2s/step - loss: 0.4770 - categorical_accuracy: 0.8009 - val_loss: 3.4135 - val_categorical_accuracy: 0.3200 - lr: 1.0000e-04\n",
            "Epoch 25/50\n",
            "21/21 [==============================] - ETA: 0s - loss: 0.5179 - categorical_accuracy: 0.7903\n",
            "Epoch 25: val_loss did not improve from 1.60406\n",
            "21/21 [==============================] - 49s 2s/step - loss: 0.5179 - categorical_accuracy: 0.7903 - val_loss: 3.5245 - val_categorical_accuracy: 0.2800 - lr: 1.0000e-04\n",
            "Epoch 26/50\n",
            "21/21 [==============================] - ETA: 0s - loss: 0.4676 - categorical_accuracy: 0.8115\n",
            "Epoch 26: val_loss did not improve from 1.60406\n",
            "21/21 [==============================] - 50s 2s/step - loss: 0.4676 - categorical_accuracy: 0.8115 - val_loss: 2.8890 - val_categorical_accuracy: 0.3000 - lr: 1.0000e-04\n",
            "Epoch 27/50\n",
            "21/21 [==============================] - ETA: 0s - loss: 0.4718 - categorical_accuracy: 0.8130\n",
            "Epoch 27: val_loss did not improve from 1.60406\n",
            "21/21 [==============================] - 49s 2s/step - loss: 0.4718 - categorical_accuracy: 0.8130 - val_loss: 2.3104 - val_categorical_accuracy: 0.3900 - lr: 1.0000e-04\n",
            "Epoch 28/50\n",
            "21/21 [==============================] - ETA: 0s - loss: 0.4518 - categorical_accuracy: 0.8205\n",
            "Epoch 28: val_loss did not improve from 1.60406\n",
            "21/21 [==============================] - 47s 2s/step - loss: 0.4518 - categorical_accuracy: 0.8205 - val_loss: 2.6062 - val_categorical_accuracy: 0.4400 - lr: 1.0000e-04\n",
            "Epoch 29/50\n",
            "21/21 [==============================] - ETA: 0s - loss: 0.4764 - categorical_accuracy: 0.8024\n",
            "Epoch 29: val_loss did not improve from 1.60406\n",
            "21/21 [==============================] - 49s 2s/step - loss: 0.4764 - categorical_accuracy: 0.8024 - val_loss: 2.6746 - val_categorical_accuracy: 0.3800 - lr: 1.0000e-04\n",
            "Epoch 30/50\n",
            "21/21 [==============================] - ETA: 0s - loss: 0.4472 - categorical_accuracy: 0.8220\n",
            "Epoch 30: val_loss did not improve from 1.60406\n",
            "21/21 [==============================] - 50s 2s/step - loss: 0.4472 - categorical_accuracy: 0.8220 - val_loss: 2.8600 - val_categorical_accuracy: 0.3900 - lr: 1.0000e-04\n",
            "Epoch 31/50\n",
            "21/21 [==============================] - ETA: 0s - loss: 0.4441 - categorical_accuracy: 0.8265\n",
            "Epoch 31: val_loss did not improve from 1.60406\n",
            "21/21 [==============================] - 49s 2s/step - loss: 0.4441 - categorical_accuracy: 0.8265 - val_loss: 2.4273 - val_categorical_accuracy: 0.3500 - lr: 1.0000e-04\n",
            "Epoch 32/50\n",
            "21/21 [==============================] - ETA: 0s - loss: 0.4026 - categorical_accuracy: 0.8341\n",
            "Epoch 32: val_loss did not improve from 1.60406\n",
            "21/21 [==============================] - 47s 2s/step - loss: 0.4026 - categorical_accuracy: 0.8341 - val_loss: 2.0175 - val_categorical_accuracy: 0.4800 - lr: 1.0000e-04\n",
            "Epoch 33/50\n",
            "21/21 [==============================] - ETA: 0s - loss: 0.4164 - categorical_accuracy: 0.8281\n",
            "Epoch 33: val_loss did not improve from 1.60406\n",
            "21/21 [==============================] - 50s 2s/step - loss: 0.4164 - categorical_accuracy: 0.8281 - val_loss: 1.7728 - val_categorical_accuracy: 0.4500 - lr: 1.0000e-04\n",
            "Epoch 34/50\n",
            "21/21 [==============================] - ETA: 0s - loss: 0.4285 - categorical_accuracy: 0.8401\n",
            "Epoch 34: val_loss did not improve from 1.60406\n",
            "21/21 [==============================] - 49s 2s/step - loss: 0.4285 - categorical_accuracy: 0.8401 - val_loss: 1.8594 - val_categorical_accuracy: 0.5300 - lr: 1.0000e-04\n",
            "Epoch 35/50\n",
            "21/21 [==============================] - ETA: 0s - loss: 0.4365 - categorical_accuracy: 0.8296\n",
            "Epoch 35: val_loss did not improve from 1.60406\n",
            "21/21 [==============================] - 49s 2s/step - loss: 0.4365 - categorical_accuracy: 0.8296 - val_loss: 1.7718 - val_categorical_accuracy: 0.5400 - lr: 1.0000e-04\n",
            "Epoch 36/50\n",
            "21/21 [==============================] - ETA: 0s - loss: 0.4037 - categorical_accuracy: 0.8356\n",
            "Epoch 36: val_loss did not improve from 1.60406\n",
            "21/21 [==============================] - 47s 2s/step - loss: 0.4037 - categorical_accuracy: 0.8356 - val_loss: 1.8257 - val_categorical_accuracy: 0.4400 - lr: 1.0000e-04\n",
            "Epoch 37/50\n",
            "21/21 [==============================] - ETA: 0s - loss: 0.3538 - categorical_accuracy: 0.8658\n",
            "Epoch 37: val_loss improved from 1.60406 to 1.59097, saving model to Model_Gesture_Recog6_2022-08-1508_03_58.129613/model-00037-0.35380-0.86576-1.59097-0.48000.h5\n",
            "21/21 [==============================] - 49s 2s/step - loss: 0.3538 - categorical_accuracy: 0.8658 - val_loss: 1.5910 - val_categorical_accuracy: 0.4800 - lr: 1.0000e-04\n",
            "Epoch 38/50\n",
            "21/21 [==============================] - ETA: 0s - loss: 0.3634 - categorical_accuracy: 0.8567\n",
            "Epoch 38: val_loss improved from 1.59097 to 1.43181, saving model to Model_Gesture_Recog6_2022-08-1508_03_58.129613/model-00038-0.36340-0.85671-1.43181-0.50000.h5\n",
            "21/21 [==============================] - 49s 2s/step - loss: 0.3634 - categorical_accuracy: 0.8567 - val_loss: 1.4318 - val_categorical_accuracy: 0.5000 - lr: 1.0000e-04\n",
            "Epoch 39/50\n",
            "21/21 [==============================] - ETA: 0s - loss: 0.3645 - categorical_accuracy: 0.8673\n",
            "Epoch 39: val_loss did not improve from 1.43181\n",
            "21/21 [==============================] - 49s 2s/step - loss: 0.3645 - categorical_accuracy: 0.8673 - val_loss: 2.0197 - val_categorical_accuracy: 0.5700 - lr: 1.0000e-04\n",
            "Epoch 40/50\n",
            "21/21 [==============================] - ETA: 0s - loss: 0.3392 - categorical_accuracy: 0.8718\n",
            "Epoch 40: val_loss did not improve from 1.43181\n",
            "21/21 [==============================] - 48s 2s/step - loss: 0.3392 - categorical_accuracy: 0.8718 - val_loss: 1.5160 - val_categorical_accuracy: 0.4900 - lr: 1.0000e-04\n",
            "Epoch 41/50\n",
            "21/21 [==============================] - ETA: 0s - loss: 0.3617 - categorical_accuracy: 0.8582\n",
            "Epoch 41: val_loss did not improve from 1.43181\n",
            "21/21 [==============================] - 49s 2s/step - loss: 0.3617 - categorical_accuracy: 0.8582 - val_loss: 1.7419 - val_categorical_accuracy: 0.5400 - lr: 1.0000e-04\n",
            "Epoch 42/50\n",
            "21/21 [==============================] - ETA: 0s - loss: 0.3343 - categorical_accuracy: 0.8612\n",
            "Epoch 42: val_loss did not improve from 1.43181\n",
            "21/21 [==============================] - 49s 2s/step - loss: 0.3343 - categorical_accuracy: 0.8612 - val_loss: 2.3401 - val_categorical_accuracy: 0.5300 - lr: 1.0000e-04\n",
            "Epoch 43/50\n",
            "21/21 [==============================] - ETA: 0s - loss: 0.3399 - categorical_accuracy: 0.8733\n",
            "Epoch 43: val_loss improved from 1.43181 to 1.31691, saving model to Model_Gesture_Recog6_2022-08-1508_03_58.129613/model-00043-0.33995-0.87330-1.31691-0.61000.h5\n",
            "21/21 [==============================] - 50s 2s/step - loss: 0.3399 - categorical_accuracy: 0.8733 - val_loss: 1.3169 - val_categorical_accuracy: 0.6100 - lr: 1.0000e-04\n",
            "Epoch 44/50\n",
            "21/21 [==============================] - ETA: 0s - loss: 0.3582 - categorical_accuracy: 0.8582\n",
            "Epoch 44: val_loss improved from 1.31691 to 1.22766, saving model to Model_Gesture_Recog6_2022-08-1508_03_58.129613/model-00044-0.35821-0.85822-1.22766-0.61000.h5\n",
            "21/21 [==============================] - 47s 2s/step - loss: 0.3582 - categorical_accuracy: 0.8582 - val_loss: 1.2277 - val_categorical_accuracy: 0.6100 - lr: 1.0000e-04\n",
            "Epoch 45/50\n",
            "21/21 [==============================] - ETA: 0s - loss: 0.3636 - categorical_accuracy: 0.8567\n",
            "Epoch 45: val_loss did not improve from 1.22766\n",
            "21/21 [==============================] - 49s 2s/step - loss: 0.3636 - categorical_accuracy: 0.8567 - val_loss: 1.7698 - val_categorical_accuracy: 0.5600 - lr: 1.0000e-04\n",
            "Epoch 46/50\n",
            "21/21 [==============================] - ETA: 0s - loss: 0.3232 - categorical_accuracy: 0.8718\n",
            "Epoch 46: val_loss improved from 1.22766 to 1.04856, saving model to Model_Gesture_Recog6_2022-08-1508_03_58.129613/model-00046-0.32318-0.87179-1.04856-0.68000.h5\n",
            "21/21 [==============================] - 51s 3s/step - loss: 0.3232 - categorical_accuracy: 0.8718 - val_loss: 1.0486 - val_categorical_accuracy: 0.6800 - lr: 1.0000e-04\n",
            "Epoch 47/50\n",
            "21/21 [==============================] - ETA: 0s - loss: 0.2959 - categorical_accuracy: 0.8884\n",
            "Epoch 47: val_loss did not improve from 1.04856\n",
            "21/21 [==============================] - 49s 2s/step - loss: 0.2959 - categorical_accuracy: 0.8884 - val_loss: 1.0535 - val_categorical_accuracy: 0.6800 - lr: 1.0000e-04\n",
            "Epoch 48/50\n",
            "21/21 [==============================] - ETA: 0s - loss: 0.3006 - categorical_accuracy: 0.8854\n",
            "Epoch 48: val_loss did not improve from 1.04856\n",
            "21/21 [==============================] - 47s 2s/step - loss: 0.3006 - categorical_accuracy: 0.8854 - val_loss: 1.9840 - val_categorical_accuracy: 0.6200 - lr: 1.0000e-04\n",
            "Epoch 49/50\n",
            "21/21 [==============================] - ETA: 0s - loss: 0.3522 - categorical_accuracy: 0.8612\n",
            "Epoch 49: val_loss did not improve from 1.04856\n",
            "21/21 [==============================] - 49s 2s/step - loss: 0.3522 - categorical_accuracy: 0.8612 - val_loss: 1.4693 - val_categorical_accuracy: 0.6000 - lr: 1.0000e-04\n",
            "Epoch 50/50\n",
            "21/21 [==============================] - ETA: 0s - loss: 0.3217 - categorical_accuracy: 0.8869\n",
            "Epoch 50: val_loss improved from 1.04856 to 0.90298, saving model to Model_Gesture_Recog6_2022-08-1508_03_58.129613/model-00050-0.32174-0.88688-0.90298-0.67000.h5\n",
            "21/21 [==============================] - 50s 2s/step - loss: 0.3217 - categorical_accuracy: 0.8869 - val_loss: 0.9030 - val_categorical_accuracy: 0.6700 - lr: 1.0000e-04\n"
          ]
        }
      ],
      "source": [
        "history6 = model.fit_generator(train_generator, steps_per_epoch=steps_per_epoch, epochs=50, verbose=1, \n",
        "                    callbacks=callbacks_list, validation_data=val_generator, \n",
        "                    validation_steps=validation_steps, class_weight=None, workers=1, initial_epoch=0)"
      ]
    },
    {
      "cell_type": "code",
      "execution_count": null,
      "metadata": {
        "colab": {
          "base_uri": "https://localhost:8080/"
        },
        "id": "k7lpve67mwZU",
        "outputId": "87fda969-ad3f-4246-d873-b416cc459f91"
      },
      "outputs": [
        {
          "name": "stderr",
          "output_type": "stream",
          "text": [
            "/usr/local/lib/python3.7/dist-packages/ipykernel_launcher.py:3: UserWarning: `Model.fit_generator` is deprecated and will be removed in a future version. Please use `Model.fit`, which supports generators.\n",
            "  This is separate from the ipykernel package so we can avoid doing imports until\n"
          ]
        },
        {
          "name": "stdout",
          "output_type": "stream",
          "text": [
            "Epoch 1/30\n",
            "21/21 [==============================] - ETA: 0s - loss: 0.3257 - categorical_accuracy: 0.8793\n",
            "Epoch 1: val_loss did not improve from 0.90298\n",
            "21/21 [==============================] - 49s 2s/step - loss: 0.3257 - categorical_accuracy: 0.8793 - val_loss: 1.2203 - val_categorical_accuracy: 0.6600 - lr: 1.0000e-04\n",
            "Epoch 2/30\n",
            "21/21 [==============================] - ETA: 0s - loss: 0.3493 - categorical_accuracy: 0.8793\n",
            "Epoch 2: val_loss did not improve from 0.90298\n",
            "21/21 [==============================] - 48s 2s/step - loss: 0.3493 - categorical_accuracy: 0.8793 - val_loss: 1.2884 - val_categorical_accuracy: 0.5800 - lr: 1.0000e-04\n",
            "Epoch 3/30\n",
            "21/21 [==============================] - ETA: 0s - loss: 0.3536 - categorical_accuracy: 0.8627\n",
            "Epoch 3: val_loss did not improve from 0.90298\n",
            "21/21 [==============================] - 49s 2s/step - loss: 0.3536 - categorical_accuracy: 0.8627 - val_loss: 1.4826 - val_categorical_accuracy: 0.5300 - lr: 1.0000e-04\n",
            "Epoch 4/30\n",
            "21/21 [==============================] - ETA: 0s - loss: 0.2639 - categorical_accuracy: 0.9125\n",
            "Epoch 4: val_loss did not improve from 0.90298\n",
            "21/21 [==============================] - 49s 2s/step - loss: 0.2639 - categorical_accuracy: 0.9125 - val_loss: 1.4047 - val_categorical_accuracy: 0.5700 - lr: 1.0000e-04\n",
            "Epoch 5/30\n",
            "21/21 [==============================] - ETA: 0s - loss: 0.3038 - categorical_accuracy: 0.8899\n",
            "Epoch 5: val_loss did not improve from 0.90298\n",
            "21/21 [==============================] - 49s 2s/step - loss: 0.3038 - categorical_accuracy: 0.8899 - val_loss: 1.6046 - val_categorical_accuracy: 0.5800 - lr: 1.0000e-04\n",
            "Epoch 6/30\n",
            "21/21 [==============================] - ETA: 0s - loss: 0.2469 - categorical_accuracy: 0.9110\n",
            "Epoch 6: val_loss did not improve from 0.90298\n",
            "21/21 [==============================] - 47s 2s/step - loss: 0.2469 - categorical_accuracy: 0.9110 - val_loss: 1.5244 - val_categorical_accuracy: 0.5700 - lr: 1.0000e-04\n",
            "Epoch 7/30\n",
            "21/21 [==============================] - ETA: 0s - loss: 0.2713 - categorical_accuracy: 0.8974\n",
            "Epoch 7: val_loss did not improve from 0.90298\n",
            "21/21 [==============================] - 49s 2s/step - loss: 0.2713 - categorical_accuracy: 0.8974 - val_loss: 1.0394 - val_categorical_accuracy: 0.6600 - lr: 1.0000e-04\n",
            "Epoch 8/30\n",
            "21/21 [==============================] - ETA: 0s - loss: 0.2692 - categorical_accuracy: 0.9080\n",
            "Epoch 8: val_loss did not improve from 0.90298\n",
            "21/21 [==============================] - 50s 2s/step - loss: 0.2692 - categorical_accuracy: 0.9080 - val_loss: 0.9251 - val_categorical_accuracy: 0.6900 - lr: 1.0000e-04\n",
            "Epoch 9/30\n",
            "21/21 [==============================] - ETA: 0s - loss: 0.2296 - categorical_accuracy: 0.9125\n",
            "Epoch 9: val_loss did not improve from 0.90298\n",
            "21/21 [==============================] - 49s 2s/step - loss: 0.2296 - categorical_accuracy: 0.9125 - val_loss: 1.2151 - val_categorical_accuracy: 0.6600 - lr: 1.0000e-04\n",
            "Epoch 10/30\n",
            "21/21 [==============================] - ETA: 0s - loss: 0.2356 - categorical_accuracy: 0.9155\n",
            "Epoch 10: val_loss did not improve from 0.90298\n",
            "21/21 [==============================] - 47s 2s/step - loss: 0.2356 - categorical_accuracy: 0.9155 - val_loss: 1.2545 - val_categorical_accuracy: 0.6000 - lr: 1.0000e-04\n",
            "Epoch 11/30\n",
            "21/21 [==============================] - ETA: 0s - loss: 0.2165 - categorical_accuracy: 0.9186\n",
            "Epoch 11: val_loss did not improve from 0.90298\n",
            "21/21 [==============================] - 49s 2s/step - loss: 0.2165 - categorical_accuracy: 0.9186 - val_loss: 1.2060 - val_categorical_accuracy: 0.6200 - lr: 1.0000e-04\n",
            "Epoch 12/30\n",
            "21/21 [==============================] - ETA: 0s - loss: 0.2465 - categorical_accuracy: 0.9050\n",
            "Epoch 12: val_loss did not improve from 0.90298\n",
            "21/21 [==============================] - 49s 2s/step - loss: 0.2465 - categorical_accuracy: 0.9050 - val_loss: 1.0311 - val_categorical_accuracy: 0.6800 - lr: 1.0000e-04\n",
            "Epoch 13/30\n",
            "21/21 [==============================] - ETA: 0s - loss: 0.2571 - categorical_accuracy: 0.8974\n",
            "Epoch 13: val_loss did not improve from 0.90298\n",
            "21/21 [==============================] - 49s 2s/step - loss: 0.2571 - categorical_accuracy: 0.8974 - val_loss: 1.4008 - val_categorical_accuracy: 0.5800 - lr: 1.0000e-04\n",
            "Epoch 14/30\n",
            "21/21 [==============================] - ETA: 0s - loss: 0.2051 - categorical_accuracy: 0.9276\n",
            "Epoch 14: val_loss did not improve from 0.90298\n",
            "21/21 [==============================] - 47s 2s/step - loss: 0.2051 - categorical_accuracy: 0.9276 - val_loss: 1.3696 - val_categorical_accuracy: 0.6400 - lr: 1.0000e-04\n",
            "Epoch 15/30\n",
            "21/21 [==============================] - ETA: 0s - loss: 0.2143 - categorical_accuracy: 0.9321\n",
            "Epoch 15: val_loss did not improve from 0.90298\n",
            "21/21 [==============================] - 50s 2s/step - loss: 0.2143 - categorical_accuracy: 0.9321 - val_loss: 1.1278 - val_categorical_accuracy: 0.6300 - lr: 1.0000e-04\n",
            "Epoch 16/30\n",
            "21/21 [==============================] - ETA: 0s - loss: 0.2698 - categorical_accuracy: 0.8974\n",
            "Epoch 16: val_loss did not improve from 0.90298\n",
            "21/21 [==============================] - 49s 2s/step - loss: 0.2698 - categorical_accuracy: 0.8974 - val_loss: 1.3545 - val_categorical_accuracy: 0.6400 - lr: 1.0000e-04\n",
            "Epoch 17/30\n",
            "21/21 [==============================] - ETA: 0s - loss: 0.2517 - categorical_accuracy: 0.9050\n",
            "Epoch 17: val_loss did not improve from 0.90298\n",
            "21/21 [==============================] - 49s 2s/step - loss: 0.2517 - categorical_accuracy: 0.9050 - val_loss: 1.5676 - val_categorical_accuracy: 0.6200 - lr: 1.0000e-04\n",
            "Epoch 18/30\n",
            "21/21 [==============================] - ETA: 0s - loss: 0.1845 - categorical_accuracy: 0.9336\n",
            "Epoch 18: val_loss did not improve from 0.90298\n",
            "21/21 [==============================] - 48s 2s/step - loss: 0.1845 - categorical_accuracy: 0.9336 - val_loss: 1.7933 - val_categorical_accuracy: 0.6000 - lr: 1.0000e-04\n",
            "Epoch 19/30\n",
            "21/21 [==============================] - ETA: 0s - loss: 0.2004 - categorical_accuracy: 0.9321\n",
            "Epoch 19: val_loss did not improve from 0.90298\n",
            "21/21 [==============================] - 49s 2s/step - loss: 0.2004 - categorical_accuracy: 0.9321 - val_loss: 1.4025 - val_categorical_accuracy: 0.6100 - lr: 1.0000e-04\n",
            "Epoch 20/30\n",
            "21/21 [==============================] - ETA: 0s - loss: 0.2189 - categorical_accuracy: 0.9201\n",
            "Epoch 20: val_loss did not improve from 0.90298\n",
            "21/21 [==============================] - 50s 2s/step - loss: 0.2189 - categorical_accuracy: 0.9201 - val_loss: 1.3349 - val_categorical_accuracy: 0.5700 - lr: 1.0000e-04\n",
            "Epoch 21/30\n",
            "21/21 [==============================] - ETA: 0s - loss: 0.1833 - categorical_accuracy: 0.9276\n",
            "Epoch 21: val_loss did not improve from 0.90298\n",
            "21/21 [==============================] - 51s 3s/step - loss: 0.1833 - categorical_accuracy: 0.9276 - val_loss: 1.1604 - val_categorical_accuracy: 0.6700 - lr: 1.0000e-04\n",
            "Epoch 22/30\n",
            "21/21 [==============================] - ETA: 0s - loss: 0.2140 - categorical_accuracy: 0.9291\n",
            "Epoch 22: val_loss improved from 0.90298 to 0.86701, saving model to Model_Gesture_Recog6_2022-08-1508_03_58.129613/model-00022-0.21403-0.92911-0.86701-0.69000.h5\n",
            "21/21 [==============================] - 48s 2s/step - loss: 0.2140 - categorical_accuracy: 0.9291 - val_loss: 0.8670 - val_categorical_accuracy: 0.6900 - lr: 1.0000e-04\n",
            "Epoch 23/30\n",
            "21/21 [==============================] - ETA: 0s - loss: 0.1743 - categorical_accuracy: 0.9472\n",
            "Epoch 23: val_loss did not improve from 0.86701\n",
            "21/21 [==============================] - 50s 3s/step - loss: 0.1743 - categorical_accuracy: 0.9472 - val_loss: 2.1767 - val_categorical_accuracy: 0.5800 - lr: 1.0000e-04\n",
            "Epoch 24/30\n",
            "21/21 [==============================] - ETA: 0s - loss: 0.2114 - categorical_accuracy: 0.9276\n",
            "Epoch 24: val_loss did not improve from 0.86701\n",
            "21/21 [==============================] - 51s 3s/step - loss: 0.2114 - categorical_accuracy: 0.9276 - val_loss: 1.1810 - val_categorical_accuracy: 0.6600 - lr: 1.0000e-04\n",
            "Epoch 25/30\n",
            "21/21 [==============================] - ETA: 0s - loss: 0.1802 - categorical_accuracy: 0.9261\n",
            "Epoch 25: val_loss did not improve from 0.86701\n",
            "21/21 [==============================] - 50s 2s/step - loss: 0.1802 - categorical_accuracy: 0.9261 - val_loss: 0.9283 - val_categorical_accuracy: 0.7000 - lr: 1.0000e-04\n",
            "Epoch 26/30\n",
            "21/21 [==============================] - ETA: 0s - loss: 0.1724 - categorical_accuracy: 0.9427\n",
            "Epoch 26: val_loss did not improve from 0.86701\n",
            "21/21 [==============================] - 48s 2s/step - loss: 0.1724 - categorical_accuracy: 0.9427 - val_loss: 0.9763 - val_categorical_accuracy: 0.7100 - lr: 1.0000e-04\n",
            "Epoch 27/30\n",
            "21/21 [==============================] - ETA: 0s - loss: 0.1887 - categorical_accuracy: 0.9276\n",
            "Epoch 27: val_loss did not improve from 0.86701\n",
            "21/21 [==============================] - 51s 3s/step - loss: 0.1887 - categorical_accuracy: 0.9276 - val_loss: 1.0638 - val_categorical_accuracy: 0.7000 - lr: 1.0000e-04\n",
            "Epoch 28/30\n",
            "21/21 [==============================] - ETA: 0s - loss: 0.1917 - categorical_accuracy: 0.9261\n",
            "Epoch 28: val_loss did not improve from 0.86701\n",
            "21/21 [==============================] - 50s 2s/step - loss: 0.1917 - categorical_accuracy: 0.9261 - val_loss: 1.0747 - val_categorical_accuracy: 0.6600 - lr: 1.0000e-04\n",
            "Epoch 29/30\n",
            "21/21 [==============================] - ETA: 0s - loss: 0.2002 - categorical_accuracy: 0.9276\n",
            "Epoch 29: val_loss did not improve from 0.86701\n",
            "21/21 [==============================] - 50s 2s/step - loss: 0.2002 - categorical_accuracy: 0.9276 - val_loss: 1.3510 - val_categorical_accuracy: 0.6300 - lr: 1.0000e-04\n",
            "Epoch 30/30\n",
            "21/21 [==============================] - ETA: 0s - loss: 0.1953 - categorical_accuracy: 0.9382\n",
            "Epoch 30: val_loss did not improve from 0.86701\n",
            "21/21 [==============================] - 49s 2s/step - loss: 0.1953 - categorical_accuracy: 0.9382 - val_loss: 1.7247 - val_categorical_accuracy: 0.6100 - lr: 1.0000e-04\n"
          ]
        }
      ],
      "source": [
        "history6 = model.fit_generator(train_generator, steps_per_epoch=steps_per_epoch, epochs=30, verbose=1, \n",
        "                    callbacks=callbacks_list, validation_data=val_generator, \n",
        "                    validation_steps=validation_steps, class_weight=None, workers=1, initial_epoch=0)"
      ]
    },
    {
      "cell_type": "markdown",
      "metadata": {
        "id": "o4SRY9ZkADZ8"
      },
      "source": [
        "##### Results from Model 6:\n",
        "- Complex GRU model with more units and more layers\n",
        "- Training Accuracy - 93%\n",
        "- Validation Accuracy - 69%\n",
        "- GRU with dropouts\n",
        "- Much more overfitting"
      ]
    },
    {
      "cell_type": "markdown",
      "metadata": {
        "id": "ZQjckvYK3b66"
      },
      "source": [
        "#### Model 7: GRU + ResNet50 "
      ]
    },
    {
      "cell_type": "code",
      "execution_count": null,
      "metadata": {
        "id": "L6pAnOsqASQ0"
      },
      "outputs": [],
      "source": [
        "input_shape = (15, x_dim, y_dim, 3)\n",
        "mobilenet_tl = tf.keras.applications.resnet50.ResNet50(weights='imagenet', include_top=False, classes=5)\n",
        "\n",
        "model = Sequential()\n",
        "model.add(TimeDistributed(mobilenet_tl, input_shape=input_shape))\n",
        "\n",
        "for layer in model.layers:\n",
        "  layer.trainable = False\n",
        "\n",
        "model.add(TimeDistributed(BatchNormalization()))\n",
        "model.add(TimeDistributed(MaxPooling2D((2, 2))))\n",
        "model.add(Dropout(0.25))\n",
        "model.add(TimeDistributed(Flatten()))\n",
        "\n",
        "model.add(Dense(128,activation='relu'))\n",
        "model.add(Dropout(0.25))\n",
        "\n",
        "model.add(GRU(128))\n",
        "model.add(Dropout(0.25))\n",
        "  \n",
        "model.add(Dense(5, activation='softmax'))"
      ]
    },
    {
      "cell_type": "code",
      "execution_count": null,
      "metadata": {
        "colab": {
          "base_uri": "https://localhost:8080/"
        },
        "id": "kliNZ2daDnCG",
        "outputId": "c1a753e2-0b9c-4785-89f7-316e39a8af01"
      },
      "outputs": [
        {
          "name": "stdout",
          "output_type": "stream",
          "text": [
            "Model: \"sequential_1\"\n",
            "_________________________________________________________________\n",
            " Layer (type)                Output Shape              Param #   \n",
            "=================================================================\n",
            " time_distributed (TimeDistr  (None, 15, 4, 4, 2048)   23587712  \n",
            " ibuted)                                                         \n",
            "                                                                 \n",
            " time_distributed_1 (TimeDis  (None, 15, 4, 4, 2048)   8192      \n",
            " tributed)                                                       \n",
            "                                                                 \n",
            " time_distributed_2 (TimeDis  (None, 15, 2, 2, 2048)   0         \n",
            " tributed)                                                       \n",
            "                                                                 \n",
            " dropout (Dropout)           (None, 15, 2, 2, 2048)    0         \n",
            "                                                                 \n",
            " time_distributed_3 (TimeDis  (None, 15, 8192)         0         \n",
            " tributed)                                                       \n",
            "                                                                 \n",
            " dense (Dense)               (None, 15, 128)           1048704   \n",
            "                                                                 \n",
            " dropout_1 (Dropout)         (None, 15, 128)           0         \n",
            "                                                                 \n",
            " gru (GRU)                   (None, 128)               99072     \n",
            "                                                                 \n",
            " dropout_2 (Dropout)         (None, 128)               0         \n",
            "                                                                 \n",
            " dense_1 (Dense)             (None, 5)                 645       \n",
            "                                                                 \n",
            "=================================================================\n",
            "Total params: 24,744,325\n",
            "Trainable params: 1,152,517\n",
            "Non-trainable params: 23,591,808\n",
            "_________________________________________________________________\n"
          ]
        }
      ],
      "source": [
        "optimiser = 'adam'\n",
        "model.compile(optimizer=optimiser, loss='categorical_crossentropy', metrics=['categorical_accuracy'])\n",
        "model.summary()"
      ]
    },
    {
      "cell_type": "code",
      "execution_count": null,
      "metadata": {
        "id": "X8RzRZUVE92H"
      },
      "outputs": [],
      "source": [
        "batch_size= 32\n",
        "train_generator = generator(train_path,data_train, batch_size, x_dim, y_dim, is_train = True, augmention = True)\n",
        "val_generator = generator(val_path, data_test, batch_size, x_dim, y_dim, is_train=False, augmention=False)"
      ]
    },
    {
      "cell_type": "code",
      "execution_count": null,
      "metadata": {
        "colab": {
          "base_uri": "https://localhost:8080/"
        },
        "id": "FasVdMl3FC63",
        "outputId": "27dc4849-9b52-4188-f59b-461b7600e924"
      },
      "outputs": [
        {
          "name": "stderr",
          "output_type": "stream",
          "text": [
            "WARNING:tensorflow:`period` argument is deprecated. Please use `save_freq` to specify the frequency in number of batches seen.\n"
          ]
        }
      ],
      "source": [
        "model_name = 'Model_Gesture_Recog7' + '_' + str(curr_dt_time).replace(' ','').replace(':','_') + '/'\n",
        "    \n",
        "if not os.path.exists(model_name):\n",
        "    os.mkdir(model_name)\n",
        "        \n",
        "filepath = model_name + 'model-{epoch:05d}-{loss:.5f}-{categorical_accuracy:.5f}-{val_loss:.5f}-{val_categorical_accuracy:.5f}.h5'\n",
        "\n",
        "checkpoint = ModelCheckpoint(filepath, monitor='val_loss', verbose=1, save_best_only=True, save_weights_only=False, mode='auto', period=1)\n",
        "LR = ReduceLROnPlateau(monitor='val_loss', factor=0.2, patience=4, min_lr=0.0001, verbose=1)\n",
        "#early_stopping = EarlyStopping(monitor='val_loss', mode='min', verbose=1, patience=8)\n",
        "\n",
        "# LR = # write the REducelronplateau code here\n",
        "callbacks_list = [checkpoint, LR]"
      ]
    },
    {
      "cell_type": "code",
      "execution_count": null,
      "metadata": {
        "id": "0Ef-f2GZPNmF"
      },
      "outputs": [],
      "source": [
        "if (num_train_sequences%batch_size) == 0:\n",
        "    steps_per_epoch = int(num_train_sequences/batch_size)\n",
        "else:\n",
        "    steps_per_epoch = (num_train_sequences//batch_size) + 1\n",
        "\n",
        "if (num_val_sequences%batch_size) == 0:\n",
        "    validation_steps = int(num_val_sequences/batch_size)\n",
        "else:\n",
        "    validation_steps = (num_val_sequences//batch_size) + 1"
      ]
    },
    {
      "cell_type": "code",
      "execution_count": null,
      "metadata": {
        "colab": {
          "base_uri": "https://localhost:8080/"
        },
        "id": "KRGlzPNJFGt7",
        "outputId": "aa15de33-22ea-448b-9295-ad28f8ef3083"
      },
      "outputs": [
        {
          "name": "stderr",
          "output_type": "stream",
          "text": [
            "/usr/local/lib/python3.7/dist-packages/ipykernel_launcher.py:3: UserWarning: `Model.fit_generator` is deprecated and will be removed in a future version. Please use `Model.fit`, which supports generators.\n",
            "  This is separate from the ipykernel package so we can avoid doing imports until\n"
          ]
        },
        {
          "name": "stdout",
          "output_type": "stream",
          "text": [
            "Source path =  Project_data/train ; batch size = 32\n",
            "Epoch 1/30\n",
            "21/21 [==============================] - ETA: 0s - loss: 1.9532 - categorical_accuracy: 0.2323  Source path =  Project_data/val ; batch size = 32\n",
            "\n",
            "Epoch 1: val_loss improved from inf to 1.74334, saving model to Model_Gesture_Recog7_2022-08-1606_00_06.375963/model-00001-1.95316-0.23228-1.74334-0.16000.h5\n",
            "21/21 [==============================] - 1912s 95s/step - loss: 1.9532 - categorical_accuracy: 0.2323 - val_loss: 1.7433 - val_categorical_accuracy: 0.1600 - lr: 0.0010\n",
            "Epoch 2/30\n",
            "21/21 [==============================] - ETA: 0s - loss: 1.9168 - categorical_accuracy: 0.2036\n",
            "Epoch 2: val_loss improved from 1.74334 to 1.69377, saving model to Model_Gesture_Recog7_2022-08-1606_00_06.375963/model-00002-1.91676-0.20362-1.69377-0.20000.h5\n",
            "21/21 [==============================] - 62s 3s/step - loss: 1.9168 - categorical_accuracy: 0.2036 - val_loss: 1.6938 - val_categorical_accuracy: 0.2000 - lr: 0.0010\n",
            "Epoch 3/30\n",
            "21/21 [==============================] - ETA: 0s - loss: 1.8220 - categorical_accuracy: 0.2187\n",
            "Epoch 3: val_loss did not improve from 1.69377\n",
            "21/21 [==============================] - 59s 3s/step - loss: 1.8220 - categorical_accuracy: 0.2187 - val_loss: 1.7309 - val_categorical_accuracy: 0.1600 - lr: 0.0010\n",
            "Epoch 4/30\n",
            "21/21 [==============================] - ETA: 0s - loss: 1.7975 - categorical_accuracy: 0.2308\n",
            "Epoch 4: val_loss improved from 1.69377 to 1.60187, saving model to Model_Gesture_Recog7_2022-08-1606_00_06.375963/model-00004-1.79752-0.23077-1.60187-0.32000.h5\n",
            "21/21 [==============================] - 59s 3s/step - loss: 1.7975 - categorical_accuracy: 0.2308 - val_loss: 1.6019 - val_categorical_accuracy: 0.3200 - lr: 0.0010\n",
            "Epoch 5/30\n",
            "21/21 [==============================] - ETA: 0s - loss: 1.7096 - categorical_accuracy: 0.2594\n",
            "Epoch 5: val_loss did not improve from 1.60187\n",
            "21/21 [==============================] - 60s 3s/step - loss: 1.7096 - categorical_accuracy: 0.2594 - val_loss: 1.6582 - val_categorical_accuracy: 0.2100 - lr: 0.0010\n",
            "Epoch 6/30\n",
            "21/21 [==============================] - ETA: 0s - loss: 1.6951 - categorical_accuracy: 0.2760\n",
            "Epoch 6: val_loss did not improve from 1.60187\n",
            "21/21 [==============================] - 61s 3s/step - loss: 1.6951 - categorical_accuracy: 0.2760 - val_loss: 1.7807 - val_categorical_accuracy: 0.1400 - lr: 0.0010\n",
            "Epoch 7/30\n",
            "21/21 [==============================] - ETA: 0s - loss: 1.6800 - categorical_accuracy: 0.2262\n",
            "Epoch 7: val_loss did not improve from 1.60187\n",
            "21/21 [==============================] - 60s 3s/step - loss: 1.6800 - categorical_accuracy: 0.2262 - val_loss: 1.7581 - val_categorical_accuracy: 0.1800 - lr: 0.0010\n",
            "Epoch 8/30\n",
            "21/21 [==============================] - ETA: 0s - loss: 1.6499 - categorical_accuracy: 0.2594\n",
            "Epoch 8: val_loss did not improve from 1.60187\n",
            "\n",
            "Epoch 8: ReduceLROnPlateau reducing learning rate to 0.00020000000949949026.\n",
            "21/21 [==============================] - 59s 3s/step - loss: 1.6499 - categorical_accuracy: 0.2594 - val_loss: 1.7391 - val_categorical_accuracy: 0.1800 - lr: 0.0010\n",
            "Epoch 9/30\n",
            "21/21 [==============================] - ETA: 0s - loss: 1.6634 - categorical_accuracy: 0.2579\n",
            "Epoch 9: val_loss did not improve from 1.60187\n",
            "21/21 [==============================] - 60s 3s/step - loss: 1.6634 - categorical_accuracy: 0.2579 - val_loss: 1.6886 - val_categorical_accuracy: 0.1800 - lr: 2.0000e-04\n",
            "Epoch 10/30\n",
            "21/21 [==============================] - ETA: 0s - loss: 1.6452 - categorical_accuracy: 0.2896\n",
            "Epoch 10: val_loss did not improve from 1.60187\n",
            "21/21 [==============================] - 60s 3s/step - loss: 1.6452 - categorical_accuracy: 0.2896 - val_loss: 1.6653 - val_categorical_accuracy: 0.1900 - lr: 2.0000e-04\n",
            "Epoch 11/30\n",
            "21/21 [==============================] - ETA: 0s - loss: 1.6770 - categorical_accuracy: 0.2459\n",
            "Epoch 11: val_loss did not improve from 1.60187\n",
            "21/21 [==============================] - 60s 3s/step - loss: 1.6770 - categorical_accuracy: 0.2459 - val_loss: 1.7048 - val_categorical_accuracy: 0.1500 - lr: 2.0000e-04\n",
            "Epoch 12/30\n",
            "21/21 [==============================] - ETA: 0s - loss: 1.6115 - categorical_accuracy: 0.2715\n",
            "Epoch 12: val_loss did not improve from 1.60187\n",
            "\n",
            "Epoch 12: ReduceLROnPlateau reducing learning rate to 0.0001.\n",
            "21/21 [==============================] - 58s 3s/step - loss: 1.6115 - categorical_accuracy: 0.2715 - val_loss: 1.6796 - val_categorical_accuracy: 0.1800 - lr: 2.0000e-04\n",
            "Epoch 13/30\n",
            "21/21 [==============================] - ETA: 0s - loss: 1.6125 - categorical_accuracy: 0.2730\n",
            "Epoch 13: val_loss did not improve from 1.60187\n",
            "21/21 [==============================] - 61s 3s/step - loss: 1.6125 - categorical_accuracy: 0.2730 - val_loss: 1.6643 - val_categorical_accuracy: 0.1800 - lr: 1.0000e-04\n",
            "Epoch 14/30\n",
            "21/21 [==============================] - ETA: 0s - loss: 1.6037 - categorical_accuracy: 0.3198\n",
            "Epoch 14: val_loss did not improve from 1.60187\n",
            "21/21 [==============================] - 60s 3s/step - loss: 1.6037 - categorical_accuracy: 0.3198 - val_loss: 1.6580 - val_categorical_accuracy: 0.2200 - lr: 1.0000e-04\n",
            "Epoch 15/30\n",
            "21/21 [==============================] - ETA: 0s - loss: 1.6332 - categorical_accuracy: 0.2821\n",
            "Epoch 15: val_loss did not improve from 1.60187\n",
            "21/21 [==============================] - 60s 3s/step - loss: 1.6332 - categorical_accuracy: 0.2821 - val_loss: 1.6821 - val_categorical_accuracy: 0.1700 - lr: 1.0000e-04\n",
            "Epoch 16/30\n",
            "21/21 [==============================] - ETA: 0s - loss: 1.6051 - categorical_accuracy: 0.2851\n",
            "Epoch 16: val_loss did not improve from 1.60187\n",
            "21/21 [==============================] - 58s 3s/step - loss: 1.6051 - categorical_accuracy: 0.2851 - val_loss: 1.6764 - val_categorical_accuracy: 0.1900 - lr: 1.0000e-04\n",
            "Epoch 17/30\n",
            "21/21 [==============================] - ETA: 0s - loss: 1.5750 - categorical_accuracy: 0.3243\n",
            "Epoch 17: val_loss did not improve from 1.60187\n",
            "21/21 [==============================] - 61s 3s/step - loss: 1.5750 - categorical_accuracy: 0.3243 - val_loss: 1.6562 - val_categorical_accuracy: 0.1900 - lr: 1.0000e-04\n",
            "Epoch 18/30\n",
            "21/21 [==============================] - ETA: 0s - loss: 1.6103 - categorical_accuracy: 0.2655\n",
            "Epoch 18: val_loss did not improve from 1.60187\n",
            "21/21 [==============================] - 61s 3s/step - loss: 1.6103 - categorical_accuracy: 0.2655 - val_loss: 1.6667 - val_categorical_accuracy: 0.2100 - lr: 1.0000e-04\n",
            "Epoch 19/30\n",
            "21/21 [==============================] - ETA: 0s - loss: 1.5455 - categorical_accuracy: 0.3288\n",
            "Epoch 19: val_loss did not improve from 1.60187\n",
            "21/21 [==============================] - 60s 3s/step - loss: 1.5455 - categorical_accuracy: 0.3288 - val_loss: 1.6430 - val_categorical_accuracy: 0.2200 - lr: 1.0000e-04\n",
            "Epoch 20/30\n",
            "21/21 [==============================] - ETA: 0s - loss: 1.5858 - categorical_accuracy: 0.2941\n",
            "Epoch 20: val_loss did not improve from 1.60187\n",
            "21/21 [==============================] - 58s 3s/step - loss: 1.5858 - categorical_accuracy: 0.2941 - val_loss: 1.6151 - val_categorical_accuracy: 0.2300 - lr: 1.0000e-04\n",
            "Epoch 21/30\n",
            "21/21 [==============================] - ETA: 0s - loss: 1.6119 - categorical_accuracy: 0.2805\n",
            "Epoch 21: val_loss did not improve from 1.60187\n",
            "21/21 [==============================] - 60s 3s/step - loss: 1.6119 - categorical_accuracy: 0.2805 - val_loss: 1.6154 - val_categorical_accuracy: 0.2300 - lr: 1.0000e-04\n",
            "Epoch 22/30\n",
            "21/21 [==============================] - ETA: 0s - loss: 1.5479 - categorical_accuracy: 0.3228\n",
            "Epoch 22: val_loss improved from 1.60187 to 1.60155, saving model to Model_Gesture_Recog7_2022-08-1606_00_06.375963/model-00022-1.54792-0.32278-1.60155-0.24000.h5\n",
            "21/21 [==============================] - 61s 3s/step - loss: 1.5479 - categorical_accuracy: 0.3228 - val_loss: 1.6015 - val_categorical_accuracy: 0.2400 - lr: 1.0000e-04\n",
            "Epoch 23/30\n",
            "21/21 [==============================] - ETA: 0s - loss: 1.5604 - categorical_accuracy: 0.3017\n",
            "Epoch 23: val_loss improved from 1.60155 to 1.57680, saving model to Model_Gesture_Recog7_2022-08-1606_00_06.375963/model-00023-1.56036-0.30166-1.57680-0.27000.h5\n",
            "21/21 [==============================] - 61s 3s/step - loss: 1.5604 - categorical_accuracy: 0.3017 - val_loss: 1.5768 - val_categorical_accuracy: 0.2700 - lr: 1.0000e-04\n",
            "Epoch 24/30\n",
            "21/21 [==============================] - ETA: 0s - loss: 1.5260 - categorical_accuracy: 0.3273\n",
            "Epoch 24: val_loss did not improve from 1.57680\n",
            "21/21 [==============================] - 59s 3s/step - loss: 1.5260 - categorical_accuracy: 0.3273 - val_loss: 1.6010 - val_categorical_accuracy: 0.2100 - lr: 1.0000e-04\n",
            "Epoch 25/30\n",
            "21/21 [==============================] - ETA: 0s - loss: 1.5664 - categorical_accuracy: 0.2941\n",
            "Epoch 25: val_loss did not improve from 1.57680\n",
            "21/21 [==============================] - 59s 3s/step - loss: 1.5664 - categorical_accuracy: 0.2941 - val_loss: 1.6167 - val_categorical_accuracy: 0.2200 - lr: 1.0000e-04\n",
            "Epoch 26/30\n",
            "21/21 [==============================] - ETA: 0s - loss: 1.5659 - categorical_accuracy: 0.3092\n",
            "Epoch 26: val_loss did not improve from 1.57680\n",
            "21/21 [==============================] - 60s 3s/step - loss: 1.5659 - categorical_accuracy: 0.3092 - val_loss: 1.5956 - val_categorical_accuracy: 0.1600 - lr: 1.0000e-04\n",
            "Epoch 27/30\n",
            "21/21 [==============================] - ETA: 0s - loss: 1.5286 - categorical_accuracy: 0.3363\n",
            "Epoch 27: val_loss did not improve from 1.57680\n",
            "21/21 [==============================] - 58s 3s/step - loss: 1.5286 - categorical_accuracy: 0.3363 - val_loss: 1.6505 - val_categorical_accuracy: 0.2000 - lr: 1.0000e-04\n",
            "Epoch 28/30\n",
            "21/21 [==============================] - ETA: 0s - loss: 1.5282 - categorical_accuracy: 0.3152\n",
            "Epoch 28: val_loss did not improve from 1.57680\n",
            "21/21 [==============================] - 57s 3s/step - loss: 1.5282 - categorical_accuracy: 0.3152 - val_loss: 1.5863 - val_categorical_accuracy: 0.2600 - lr: 1.0000e-04\n",
            "Epoch 29/30\n",
            "21/21 [==============================] - ETA: 0s - loss: 1.4774 - categorical_accuracy: 0.3605\n",
            "Epoch 29: val_loss improved from 1.57680 to 1.57132, saving model to Model_Gesture_Recog7_2022-08-1606_00_06.375963/model-00029-1.47738-0.36048-1.57132-0.25000.h5\n",
            "21/21 [==============================] - 59s 3s/step - loss: 1.4774 - categorical_accuracy: 0.3605 - val_loss: 1.5713 - val_categorical_accuracy: 0.2500 - lr: 1.0000e-04\n",
            "Epoch 30/30\n",
            "21/21 [==============================] - ETA: 0s - loss: 1.5171 - categorical_accuracy: 0.3333\n",
            "Epoch 30: val_loss improved from 1.57132 to 1.55717, saving model to Model_Gesture_Recog7_2022-08-1606_00_06.375963/model-00030-1.51710-0.33333-1.55717-0.32000.h5\n",
            "21/21 [==============================] - 59s 3s/step - loss: 1.5171 - categorical_accuracy: 0.3333 - val_loss: 1.5572 - val_categorical_accuracy: 0.3200 - lr: 1.0000e-04\n"
          ]
        }
      ],
      "source": [
        "history7 = model.fit_generator(train_generator, steps_per_epoch=steps_per_epoch, epochs=30, verbose=1, \n",
        "                    callbacks=callbacks_list, validation_data=val_generator, \n",
        "                    validation_steps=validation_steps, class_weight=None, workers=1, initial_epoch=0)"
      ]
    },
    {
      "cell_type": "code",
      "execution_count": null,
      "metadata": {
        "colab": {
          "base_uri": "https://localhost:8080/"
        },
        "id": "AKeMLJQgFMfp",
        "outputId": "c84f5383-4c73-42fa-da91-cc68381fb872"
      },
      "outputs": [
        {
          "name": "stderr",
          "output_type": "stream",
          "text": [
            "/usr/local/lib/python3.7/dist-packages/ipykernel_launcher.py:3: UserWarning: `Model.fit_generator` is deprecated and will be removed in a future version. Please use `Model.fit`, which supports generators.\n",
            "  This is separate from the ipykernel package so we can avoid doing imports until\n"
          ]
        },
        {
          "name": "stdout",
          "output_type": "stream",
          "text": [
            "Epoch 1/30\n",
            "21/21 [==============================] - ETA: 0s - loss: 1.5158 - categorical_accuracy: 0.3333\n",
            "Epoch 1: val_loss improved from 1.55717 to 1.49764, saving model to Model_Gesture_Recog7_2022-08-1606_00_06.375963/model-00001-1.51580-0.33333-1.49764-0.27000.h5\n",
            "21/21 [==============================] - 60s 3s/step - loss: 1.5158 - categorical_accuracy: 0.3333 - val_loss: 1.4976 - val_categorical_accuracy: 0.2700 - lr: 1.0000e-04\n",
            "Epoch 2/30\n",
            "21/21 [==============================] - ETA: 0s - loss: 1.5454 - categorical_accuracy: 0.3017\n",
            "Epoch 2: val_loss did not improve from 1.49764\n",
            "21/21 [==============================] - 58s 3s/step - loss: 1.5454 - categorical_accuracy: 0.3017 - val_loss: 1.5331 - val_categorical_accuracy: 0.2300 - lr: 1.0000e-04\n",
            "Epoch 3/30\n",
            "21/21 [==============================] - ETA: 0s - loss: 1.5309 - categorical_accuracy: 0.3394\n",
            "Epoch 3: val_loss did not improve from 1.49764\n",
            "21/21 [==============================] - 60s 3s/step - loss: 1.5309 - categorical_accuracy: 0.3394 - val_loss: 1.5159 - val_categorical_accuracy: 0.2600 - lr: 1.0000e-04\n",
            "Epoch 4/30\n",
            "21/21 [==============================] - ETA: 0s - loss: 1.4966 - categorical_accuracy: 0.3484\n",
            "Epoch 4: val_loss improved from 1.49764 to 1.48492, saving model to Model_Gesture_Recog7_2022-08-1606_00_06.375963/model-00004-1.49663-0.34842-1.48492-0.28000.h5\n",
            "21/21 [==============================] - 60s 3s/step - loss: 1.4966 - categorical_accuracy: 0.3484 - val_loss: 1.4849 - val_categorical_accuracy: 0.2800 - lr: 1.0000e-04\n",
            "Epoch 5/30\n",
            "21/21 [==============================] - ETA: 0s - loss: 1.4903 - categorical_accuracy: 0.3288\n",
            "Epoch 5: val_loss improved from 1.48492 to 1.45485, saving model to Model_Gesture_Recog7_2022-08-1606_00_06.375963/model-00005-1.49027-0.32881-1.45485-0.27000.h5\n",
            "21/21 [==============================] - 60s 3s/step - loss: 1.4903 - categorical_accuracy: 0.3288 - val_loss: 1.4549 - val_categorical_accuracy: 0.2700 - lr: 1.0000e-04\n",
            "Epoch 6/30\n",
            "21/21 [==============================] - ETA: 0s - loss: 1.5109 - categorical_accuracy: 0.3348\n",
            "Epoch 6: val_loss did not improve from 1.45485\n",
            "21/21 [==============================] - 57s 3s/step - loss: 1.5109 - categorical_accuracy: 0.3348 - val_loss: 1.4949 - val_categorical_accuracy: 0.3000 - lr: 1.0000e-04\n",
            "Epoch 7/30\n",
            "21/21 [==============================] - ETA: 0s - loss: 1.4840 - categorical_accuracy: 0.3590\n",
            "Epoch 7: val_loss did not improve from 1.45485\n",
            "21/21 [==============================] - 58s 3s/step - loss: 1.4840 - categorical_accuracy: 0.3590 - val_loss: 1.4833 - val_categorical_accuracy: 0.2800 - lr: 1.0000e-04\n",
            "Epoch 8/30\n",
            "21/21 [==============================] - ETA: 0s - loss: 1.4596 - categorical_accuracy: 0.3635\n",
            "Epoch 8: val_loss did not improve from 1.45485\n",
            "21/21 [==============================] - 60s 3s/step - loss: 1.4596 - categorical_accuracy: 0.3635 - val_loss: 1.4929 - val_categorical_accuracy: 0.2700 - lr: 1.0000e-04\n",
            "Epoch 9/30\n",
            "21/21 [==============================] - ETA: 0s - loss: 1.4730 - categorical_accuracy: 0.3665\n",
            "Epoch 9: val_loss did not improve from 1.45485\n",
            "21/21 [==============================] - 60s 3s/step - loss: 1.4730 - categorical_accuracy: 0.3665 - val_loss: 1.4592 - val_categorical_accuracy: 0.3300 - lr: 1.0000e-04\n",
            "Epoch 10/30\n",
            "21/21 [==============================] - ETA: 0s - loss: 1.4530 - categorical_accuracy: 0.3725\n",
            "Epoch 10: val_loss improved from 1.45485 to 1.41802, saving model to Model_Gesture_Recog7_2022-08-1606_00_06.375963/model-00010-1.45305-0.37255-1.41802-0.41000.h5\n",
            "21/21 [==============================] - 59s 3s/step - loss: 1.4530 - categorical_accuracy: 0.3725 - val_loss: 1.4180 - val_categorical_accuracy: 0.4100 - lr: 1.0000e-04\n",
            "Epoch 11/30\n",
            "21/21 [==============================] - ETA: 0s - loss: 1.4677 - categorical_accuracy: 0.3725\n",
            "Epoch 11: val_loss did not improve from 1.41802\n",
            "21/21 [==============================] - 61s 3s/step - loss: 1.4677 - categorical_accuracy: 0.3725 - val_loss: 1.4216 - val_categorical_accuracy: 0.4300 - lr: 1.0000e-04\n",
            "Epoch 12/30\n",
            "21/21 [==============================] - ETA: 0s - loss: 1.4259 - categorical_accuracy: 0.3846\n",
            "Epoch 12: val_loss did not improve from 1.41802\n",
            "21/21 [==============================] - 60s 3s/step - loss: 1.4259 - categorical_accuracy: 0.3846 - val_loss: 1.4703 - val_categorical_accuracy: 0.3400 - lr: 1.0000e-04\n",
            "Epoch 13/30\n",
            "21/21 [==============================] - ETA: 0s - loss: 1.4553 - categorical_accuracy: 0.3771\n",
            "Epoch 13: val_loss improved from 1.41802 to 1.37231, saving model to Model_Gesture_Recog7_2022-08-1606_00_06.375963/model-00013-1.45528-0.37707-1.37231-0.36000.h5\n",
            "21/21 [==============================] - 62s 3s/step - loss: 1.4553 - categorical_accuracy: 0.3771 - val_loss: 1.3723 - val_categorical_accuracy: 0.3600 - lr: 1.0000e-04\n",
            "Epoch 14/30\n",
            "21/21 [==============================] - ETA: 0s - loss: 1.4508 - categorical_accuracy: 0.3937\n",
            "Epoch 14: val_loss did not improve from 1.37231\n",
            "21/21 [==============================] - 57s 3s/step - loss: 1.4508 - categorical_accuracy: 0.3937 - val_loss: 1.3990 - val_categorical_accuracy: 0.3700 - lr: 1.0000e-04\n",
            "Epoch 15/30\n",
            "21/21 [==============================] - ETA: 0s - loss: 1.4381 - categorical_accuracy: 0.4072\n",
            "Epoch 15: val_loss did not improve from 1.37231\n",
            "21/21 [==============================] - 61s 3s/step - loss: 1.4381 - categorical_accuracy: 0.4072 - val_loss: 1.4114 - val_categorical_accuracy: 0.4300 - lr: 1.0000e-04\n",
            "Epoch 16/30\n",
            "21/21 [==============================] - ETA: 0s - loss: 1.4718 - categorical_accuracy: 0.3922\n",
            "Epoch 16: val_loss improved from 1.37231 to 1.36861, saving model to Model_Gesture_Recog7_2022-08-1606_00_06.375963/model-00016-1.47178-0.39216-1.36861-0.38000.h5\n",
            "21/21 [==============================] - 61s 3s/step - loss: 1.4718 - categorical_accuracy: 0.3922 - val_loss: 1.3686 - val_categorical_accuracy: 0.3800 - lr: 1.0000e-04\n",
            "Epoch 17/30\n",
            "21/21 [==============================] - ETA: 0s - loss: 1.4329 - categorical_accuracy: 0.3650\n",
            "Epoch 17: val_loss did not improve from 1.36861\n",
            "21/21 [==============================] - 60s 3s/step - loss: 1.4329 - categorical_accuracy: 0.3650 - val_loss: 1.3790 - val_categorical_accuracy: 0.4500 - lr: 1.0000e-04\n",
            "Epoch 18/30\n",
            "21/21 [==============================] - ETA: 0s - loss: 1.3957 - categorical_accuracy: 0.3952\n",
            "Epoch 18: val_loss improved from 1.36861 to 1.35195, saving model to Model_Gesture_Recog7_2022-08-1606_00_06.375963/model-00018-1.39568-0.39517-1.35195-0.44000.h5\n",
            "21/21 [==============================] - 57s 3s/step - loss: 1.3957 - categorical_accuracy: 0.3952 - val_loss: 1.3519 - val_categorical_accuracy: 0.4400 - lr: 1.0000e-04\n",
            "Epoch 19/30\n",
            "21/21 [==============================] - ETA: 0s - loss: 1.4231 - categorical_accuracy: 0.3846\n",
            "Epoch 19: val_loss improved from 1.35195 to 1.34345, saving model to Model_Gesture_Recog7_2022-08-1606_00_06.375963/model-00019-1.42308-0.38462-1.34345-0.45000.h5\n",
            "21/21 [==============================] - 60s 3s/step - loss: 1.4231 - categorical_accuracy: 0.3846 - val_loss: 1.3434 - val_categorical_accuracy: 0.4500 - lr: 1.0000e-04\n",
            "Epoch 20/30\n",
            "21/21 [==============================] - ETA: 0s - loss: 1.3939 - categorical_accuracy: 0.3922\n",
            "Epoch 20: val_loss did not improve from 1.34345\n",
            "21/21 [==============================] - 61s 3s/step - loss: 1.3939 - categorical_accuracy: 0.3922 - val_loss: 1.4181 - val_categorical_accuracy: 0.3700 - lr: 1.0000e-04\n",
            "Epoch 21/30\n",
            "21/21 [==============================] - ETA: 0s - loss: 1.4083 - categorical_accuracy: 0.4193\n",
            "Epoch 21: val_loss improved from 1.34345 to 1.31128, saving model to Model_Gesture_Recog7_2022-08-1606_00_06.375963/model-00021-1.40831-0.41931-1.31128-0.46000.h5\n",
            "21/21 [==============================] - 59s 3s/step - loss: 1.4083 - categorical_accuracy: 0.4193 - val_loss: 1.3113 - val_categorical_accuracy: 0.4600 - lr: 1.0000e-04\n",
            "Epoch 22/30\n",
            "21/21 [==============================] - ETA: 0s - loss: 1.3738 - categorical_accuracy: 0.4118\n",
            "Epoch 22: val_loss did not improve from 1.31128\n",
            "21/21 [==============================] - 56s 3s/step - loss: 1.3738 - categorical_accuracy: 0.4118 - val_loss: 1.3175 - val_categorical_accuracy: 0.4200 - lr: 1.0000e-04\n",
            "Epoch 23/30\n",
            "21/21 [==============================] - ETA: 0s - loss: 1.3939 - categorical_accuracy: 0.4268\n",
            "Epoch 23: val_loss did not improve from 1.31128\n",
            "21/21 [==============================] - 58s 3s/step - loss: 1.3939 - categorical_accuracy: 0.4268 - val_loss: 1.3211 - val_categorical_accuracy: 0.4600 - lr: 1.0000e-04\n",
            "Epoch 24/30\n",
            "21/21 [==============================] - ETA: 0s - loss: 1.3893 - categorical_accuracy: 0.4223\n",
            "Epoch 24: val_loss improved from 1.31128 to 1.28053, saving model to Model_Gesture_Recog7_2022-08-1606_00_06.375963/model-00024-1.38932-0.42232-1.28053-0.47000.h5\n",
            "21/21 [==============================] - 59s 3s/step - loss: 1.3893 - categorical_accuracy: 0.4223 - val_loss: 1.2805 - val_categorical_accuracy: 0.4700 - lr: 1.0000e-04\n",
            "Epoch 25/30\n",
            "21/21 [==============================] - ETA: 0s - loss: 1.3338 - categorical_accuracy: 0.4419\n",
            "Epoch 25: val_loss improved from 1.28053 to 1.27027, saving model to Model_Gesture_Recog7_2022-08-1606_00_06.375963/model-00025-1.33385-0.44193-1.27027-0.49000.h5\n",
            "21/21 [==============================] - 60s 3s/step - loss: 1.3338 - categorical_accuracy: 0.4419 - val_loss: 1.2703 - val_categorical_accuracy: 0.4900 - lr: 1.0000e-04\n",
            "Epoch 26/30\n",
            "21/21 [==============================] - ETA: 0s - loss: 1.3323 - categorical_accuracy: 0.4661\n",
            "Epoch 26: val_loss did not improve from 1.27027\n",
            "21/21 [==============================] - 59s 3s/step - loss: 1.3323 - categorical_accuracy: 0.4661 - val_loss: 1.3123 - val_categorical_accuracy: 0.4600 - lr: 1.0000e-04\n",
            "Epoch 27/30\n",
            "21/21 [==============================] - ETA: 0s - loss: 1.3279 - categorical_accuracy: 0.4359\n",
            "Epoch 27: val_loss did not improve from 1.27027\n",
            "21/21 [==============================] - 58s 3s/step - loss: 1.3279 - categorical_accuracy: 0.4359 - val_loss: 1.2802 - val_categorical_accuracy: 0.4600 - lr: 1.0000e-04\n",
            "Epoch 28/30\n",
            "21/21 [==============================] - ETA: 0s - loss: 1.3155 - categorical_accuracy: 0.4495\n",
            "Epoch 28: val_loss improved from 1.27027 to 1.22940, saving model to Model_Gesture_Recog7_2022-08-1606_00_06.375963/model-00028-1.31550-0.44947-1.22940-0.52000.h5\n",
            "21/21 [==============================] - 59s 3s/step - loss: 1.3155 - categorical_accuracy: 0.4495 - val_loss: 1.2294 - val_categorical_accuracy: 0.5200 - lr: 1.0000e-04\n",
            "Epoch 29/30\n",
            "21/21 [==============================] - ETA: 0s - loss: 1.3054 - categorical_accuracy: 0.4646\n",
            "Epoch 29: val_loss did not improve from 1.22940\n",
            "21/21 [==============================] - 59s 3s/step - loss: 1.3054 - categorical_accuracy: 0.4646 - val_loss: 1.3284 - val_categorical_accuracy: 0.4500 - lr: 1.0000e-04\n",
            "Epoch 30/30\n",
            "21/21 [==============================] - ETA: 0s - loss: 1.3361 - categorical_accuracy: 0.4600\n",
            "Epoch 30: val_loss did not improve from 1.22940\n",
            "21/21 [==============================] - 57s 3s/step - loss: 1.3361 - categorical_accuracy: 0.4600 - val_loss: 1.2852 - val_categorical_accuracy: 0.4200 - lr: 1.0000e-04\n"
          ]
        }
      ],
      "source": [
        "history7 = model.fit_generator(train_generator, steps_per_epoch=steps_per_epoch, epochs=30, verbose=1, \n",
        "                    callbacks=callbacks_list, validation_data=val_generator, \n",
        "                    validation_steps=validation_steps, class_weight=None, workers=1, initial_epoch=0)"
      ]
    },
    {
      "cell_type": "code",
      "execution_count": null,
      "metadata": {
        "colab": {
          "base_uri": "https://localhost:8080/"
        },
        "id": "Ki5keYRIjcQp",
        "outputId": "9ec29db7-82c2-4fb5-dc15-f04e92b997f4"
      },
      "outputs": [
        {
          "name": "stderr",
          "output_type": "stream",
          "text": [
            "/usr/local/lib/python3.7/dist-packages/ipykernel_launcher.py:3: UserWarning: `Model.fit_generator` is deprecated and will be removed in a future version. Please use `Model.fit`, which supports generators.\n",
            "  This is separate from the ipykernel package so we can avoid doing imports until\n"
          ]
        },
        {
          "name": "stdout",
          "output_type": "stream",
          "text": [
            "Epoch 1/20\n",
            "21/21 [==============================] - ETA: 0s - loss: 1.2975 - categorical_accuracy: 0.4419\n",
            "Epoch 1: val_loss did not improve from 1.22940\n",
            "21/21 [==============================] - 59s 3s/step - loss: 1.2975 - categorical_accuracy: 0.4419 - val_loss: 1.2460 - val_categorical_accuracy: 0.4400 - lr: 1.0000e-04\n",
            "Epoch 2/20\n",
            "21/21 [==============================] - ETA: 0s - loss: 1.3032 - categorical_accuracy: 0.4721\n",
            "Epoch 2: val_loss did not improve from 1.22940\n",
            "21/21 [==============================] - 58s 3s/step - loss: 1.3032 - categorical_accuracy: 0.4721 - val_loss: 1.2511 - val_categorical_accuracy: 0.5100 - lr: 1.0000e-04\n",
            "Epoch 3/20\n",
            "21/21 [==============================] - ETA: 0s - loss: 1.2574 - categorical_accuracy: 0.4691\n",
            "Epoch 3: val_loss did not improve from 1.22940\n",
            "21/21 [==============================] - 58s 3s/step - loss: 1.2574 - categorical_accuracy: 0.4691 - val_loss: 1.3137 - val_categorical_accuracy: 0.4700 - lr: 1.0000e-04\n",
            "Epoch 4/20\n",
            "21/21 [==============================] - ETA: 0s - loss: 1.2378 - categorical_accuracy: 0.4842\n",
            "Epoch 4: val_loss did not improve from 1.22940\n",
            "21/21 [==============================] - 59s 3s/step - loss: 1.2378 - categorical_accuracy: 0.4842 - val_loss: 1.2690 - val_categorical_accuracy: 0.4300 - lr: 1.0000e-04\n",
            "Epoch 5/20\n",
            "21/21 [==============================] - ETA: 0s - loss: 1.2683 - categorical_accuracy: 0.4887\n",
            "Epoch 5: val_loss did not improve from 1.22940\n",
            "21/21 [==============================] - 59s 3s/step - loss: 1.2683 - categorical_accuracy: 0.4887 - val_loss: 1.2368 - val_categorical_accuracy: 0.5500 - lr: 1.0000e-04\n",
            "Epoch 6/20\n",
            "21/21 [==============================] - ETA: 0s - loss: 1.2088 - categorical_accuracy: 0.5264\n",
            "Epoch 6: val_loss did not improve from 1.22940\n",
            "21/21 [==============================] - 58s 3s/step - loss: 1.2088 - categorical_accuracy: 0.5264 - val_loss: 1.2441 - val_categorical_accuracy: 0.4400 - lr: 1.0000e-04\n",
            "Epoch 7/20\n",
            "21/21 [==============================] - ETA: 0s - loss: 1.2539 - categorical_accuracy: 0.4872\n",
            "Epoch 7: val_loss did not improve from 1.22940\n",
            "21/21 [==============================] - 59s 3s/step - loss: 1.2539 - categorical_accuracy: 0.4872 - val_loss: 1.2855 - val_categorical_accuracy: 0.4700 - lr: 1.0000e-04\n",
            "Epoch 8/20\n",
            "21/21 [==============================] - ETA: 0s - loss: 1.2019 - categorical_accuracy: 0.5173\n",
            "Epoch 8: val_loss improved from 1.22940 to 1.20874, saving model to Model_Gesture_Recog7_2022-08-1606_00_06.375963/model-00008-1.20186-0.51735-1.20874-0.48000.h5\n",
            "21/21 [==============================] - 58s 3s/step - loss: 1.2019 - categorical_accuracy: 0.5173 - val_loss: 1.2087 - val_categorical_accuracy: 0.4800 - lr: 1.0000e-04\n",
            "Epoch 9/20\n",
            "21/21 [==============================] - ETA: 0s - loss: 1.2229 - categorical_accuracy: 0.5053\n",
            "Epoch 9: val_loss did not improve from 1.20874\n",
            "21/21 [==============================] - 61s 3s/step - loss: 1.2229 - categorical_accuracy: 0.5053 - val_loss: 1.2444 - val_categorical_accuracy: 0.4900 - lr: 1.0000e-04\n",
            "Epoch 10/20\n",
            "21/21 [==============================] - ETA: 0s - loss: 1.1970 - categorical_accuracy: 0.5370\n",
            "Epoch 10: val_loss did not improve from 1.20874\n",
            "21/21 [==============================] - 59s 3s/step - loss: 1.1970 - categorical_accuracy: 0.5370 - val_loss: 1.3087 - val_categorical_accuracy: 0.4800 - lr: 1.0000e-04\n",
            "Epoch 11/20\n",
            "21/21 [==============================] - ETA: 0s - loss: 1.2330 - categorical_accuracy: 0.5098\n",
            "Epoch 11: val_loss did not improve from 1.20874\n",
            "21/21 [==============================] - 59s 3s/step - loss: 1.2330 - categorical_accuracy: 0.5098 - val_loss: 1.2119 - val_categorical_accuracy: 0.4700 - lr: 1.0000e-04\n",
            "Epoch 12/20\n",
            "21/21 [==============================] - ETA: 0s - loss: 1.1728 - categorical_accuracy: 0.5400\n",
            "Epoch 12: val_loss did not improve from 1.20874\n",
            "21/21 [==============================] - 58s 3s/step - loss: 1.1728 - categorical_accuracy: 0.5400 - val_loss: 1.2891 - val_categorical_accuracy: 0.4800 - lr: 1.0000e-04\n",
            "Epoch 13/20\n",
            "21/21 [==============================] - ETA: 0s - loss: 1.1841 - categorical_accuracy: 0.5370\n",
            "Epoch 13: val_loss did not improve from 1.20874\n",
            "21/21 [==============================] - 59s 3s/step - loss: 1.1841 - categorical_accuracy: 0.5370 - val_loss: 1.2247 - val_categorical_accuracy: 0.5300 - lr: 1.0000e-04\n",
            "Epoch 14/20\n",
            "21/21 [==============================] - ETA: 0s - loss: 1.2129 - categorical_accuracy: 0.5219\n",
            "Epoch 14: val_loss improved from 1.20874 to 1.17109, saving model to Model_Gesture_Recog7_2022-08-1606_00_06.375963/model-00014-1.21292-0.52187-1.17109-0.58000.h5\n",
            "21/21 [==============================] - 60s 3s/step - loss: 1.2129 - categorical_accuracy: 0.5219 - val_loss: 1.1711 - val_categorical_accuracy: 0.5800 - lr: 1.0000e-04\n",
            "Epoch 15/20\n",
            "21/21 [==============================] - ETA: 0s - loss: 1.1701 - categorical_accuracy: 0.5370\n",
            "Epoch 15: val_loss did not improve from 1.17109\n",
            "21/21 [==============================] - 60s 3s/step - loss: 1.1701 - categorical_accuracy: 0.5370 - val_loss: 1.2760 - val_categorical_accuracy: 0.4600 - lr: 1.0000e-04\n",
            "Epoch 16/20\n",
            "21/21 [==============================] - ETA: 0s - loss: 1.1326 - categorical_accuracy: 0.5732\n",
            "Epoch 16: val_loss did not improve from 1.17109\n",
            "21/21 [==============================] - 57s 3s/step - loss: 1.1326 - categorical_accuracy: 0.5732 - val_loss: 1.2070 - val_categorical_accuracy: 0.5000 - lr: 1.0000e-04\n",
            "Epoch 17/20\n",
            "21/21 [==============================] - ETA: 0s - loss: 1.1603 - categorical_accuracy: 0.5415\n",
            "Epoch 17: val_loss did not improve from 1.17109\n",
            "21/21 [==============================] - 60s 3s/step - loss: 1.1603 - categorical_accuracy: 0.5415 - val_loss: 1.2168 - val_categorical_accuracy: 0.5100 - lr: 1.0000e-04\n",
            "Epoch 18/20\n",
            "21/21 [==============================] - ETA: 0s - loss: 1.1278 - categorical_accuracy: 0.5490\n",
            "Epoch 18: val_loss did not improve from 1.17109\n",
            "21/21 [==============================] - 59s 3s/step - loss: 1.1278 - categorical_accuracy: 0.5490 - val_loss: 1.2658 - val_categorical_accuracy: 0.4200 - lr: 1.0000e-04\n",
            "Epoch 19/20\n",
            "21/21 [==============================] - ETA: 0s - loss: 1.1413 - categorical_accuracy: 0.5385\n",
            "Epoch 19: val_loss did not improve from 1.17109\n",
            "21/21 [==============================] - 59s 3s/step - loss: 1.1413 - categorical_accuracy: 0.5385 - val_loss: 1.2455 - val_categorical_accuracy: 0.4600 - lr: 1.0000e-04\n",
            "Epoch 20/20\n",
            "21/21 [==============================] - ETA: 0s - loss: 1.1107 - categorical_accuracy: 0.5671\n",
            "Epoch 20: val_loss did not improve from 1.17109\n",
            "21/21 [==============================] - 57s 3s/step - loss: 1.1107 - categorical_accuracy: 0.5671 - val_loss: 1.2060 - val_categorical_accuracy: 0.4600 - lr: 1.0000e-04\n"
          ]
        }
      ],
      "source": [
        "history7 = model.fit_generator(train_generator, steps_per_epoch=steps_per_epoch, epochs=20, verbose=1, \n",
        "                    callbacks=callbacks_list, validation_data=val_generator, \n",
        "                    validation_steps=validation_steps, class_weight=None, workers=1, initial_epoch=0)"
      ]
    },
    {
      "cell_type": "markdown",
      "metadata": {
        "id": "p_oifJOeS0wR"
      },
      "source": [
        "##### Results from Model 7:\n",
        "- Transfer Learning with resNet50\n",
        "- GRU + ResNet50\n",
        "- Model is underfitting with less accuracy and more epochs\n",
        "- Training Accuracy - 52%\n",
        "- Val Accuracy - 58%"
      ]
    },
    {
      "cell_type": "markdown",
      "metadata": {
        "id": "HH2BybBj3b6-"
      },
      "source": [
        "#### Model 8: LSTM + MobileNet"
      ]
    },
    {
      "cell_type": "code",
      "execution_count": null,
      "metadata": {
        "colab": {
          "base_uri": "https://localhost:8080/"
        },
        "id": "p8YC66WOtlzl",
        "outputId": "fd34e87c-6f08-4de8-f20e-b33833e14c48"
      },
      "outputs": [
        {
          "name": "stderr",
          "output_type": "stream",
          "text": [
            "WARNING:tensorflow:`input_shape` is undefined or non-square, or `rows` is not in [96, 128, 160, 192, 224]. Weights for input shape (224, 224) will be loaded as the default.\n"
          ]
        },
        {
          "name": "stdout",
          "output_type": "stream",
          "text": [
            "Downloading data from https://storage.googleapis.com/tensorflow/keras-applications/mobilenet_v2/mobilenet_v2_weights_tf_dim_ordering_tf_kernels_1.0_224_no_top.h5\n",
            "9412608/9406464 [==============================] - 0s 0us/step\n",
            "9420800/9406464 [==============================] - 0s 0us/step\n"
          ]
        }
      ],
      "source": [
        "input_shape = (15, x_dim, y_dim, 3)\n",
        "mobilenet_tl = tf.keras.applications.MobileNetV2(weights='imagenet', include_top=False, classes=5)\n",
        "\n",
        "model = Sequential()\n",
        "model.add(TimeDistributed(mobilenet_tl, input_shape=input_shape))\n",
        "\n",
        "for layer in model.layers:\n",
        "  layer.trainable = False\n",
        "\n",
        "model.add(TimeDistributed(BatchNormalization()))\n",
        "model.add(TimeDistributed(MaxPooling2D((2, 2))))\n",
        "model.add(Dropout(0.25))\n",
        "model.add(TimeDistributed(Flatten()))\n",
        "\n",
        "model.add(LSTM(128))\n",
        "model.add(Dropout(0.25))\n",
        "\n",
        "model.add(Dense(128,activation='relu'))\n",
        "model.add(Dropout(0.25))\n",
        "\n",
        "model.add(Dense(5, activation='softmax'))"
      ]
    },
    {
      "cell_type": "code",
      "execution_count": null,
      "metadata": {
        "colab": {
          "base_uri": "https://localhost:8080/"
        },
        "id": "2PHFndyHt9Tr",
        "outputId": "2e69d414-9db6-4755-d7c9-2768c764c013"
      },
      "outputs": [
        {
          "name": "stdout",
          "output_type": "stream",
          "text": [
            "Model: \"sequential_2\"\n",
            "_________________________________________________________________\n",
            " Layer (type)                Output Shape              Param #   \n",
            "=================================================================\n",
            " time_distributed_4 (TimeDis  (None, 15, 3, 3, 1280)   2257984   \n",
            " tributed)                                                       \n",
            "                                                                 \n",
            " time_distributed_5 (TimeDis  (None, 15, 3, 3, 1280)   5120      \n",
            " tributed)                                                       \n",
            "                                                                 \n",
            " time_distributed_6 (TimeDis  (None, 15, 1, 1, 1280)   0         \n",
            " tributed)                                                       \n",
            "                                                                 \n",
            " dropout_3 (Dropout)         (None, 15, 1, 1, 1280)    0         \n",
            "                                                                 \n",
            " time_distributed_7 (TimeDis  (None, 15, 1280)         0         \n",
            " tributed)                                                       \n",
            "                                                                 \n",
            " lstm (LSTM)                 (None, 128)               721408    \n",
            "                                                                 \n",
            " dropout_4 (Dropout)         (None, 128)               0         \n",
            "                                                                 \n",
            " dense_2 (Dense)             (None, 128)               16512     \n",
            "                                                                 \n",
            " dropout_5 (Dropout)         (None, 128)               0         \n",
            "                                                                 \n",
            " dense_3 (Dense)             (None, 5)                 645       \n",
            "                                                                 \n",
            "=================================================================\n",
            "Total params: 3,001,669\n",
            "Trainable params: 741,125\n",
            "Non-trainable params: 2,260,544\n",
            "_________________________________________________________________\n"
          ]
        }
      ],
      "source": [
        "optimiser = 'adam'\n",
        "model.compile(optimizer=optimiser, loss='categorical_crossentropy', metrics=['categorical_accuracy'])\n",
        "model.summary()"
      ]
    },
    {
      "cell_type": "code",
      "execution_count": null,
      "metadata": {
        "id": "4cs85vt_uCdl"
      },
      "outputs": [],
      "source": [
        "batch_size= 40\n",
        "train_generator = generator(train_path,data_train, batch_size, x_dim, y_dim, is_train = True, augmention = True)\n",
        "val_generator = generator(val_path, data_test, batch_size, x_dim, y_dim, is_train=False, augmention=False)"
      ]
    },
    {
      "cell_type": "code",
      "execution_count": null,
      "metadata": {
        "colab": {
          "base_uri": "https://localhost:8080/"
        },
        "id": "Nqqg8DuguI5C",
        "outputId": "0a7fa9e5-7411-457d-e78a-6aef992dbb0f"
      },
      "outputs": [
        {
          "name": "stderr",
          "output_type": "stream",
          "text": [
            "WARNING:tensorflow:`period` argument is deprecated. Please use `save_freq` to specify the frequency in number of batches seen.\n"
          ]
        }
      ],
      "source": [
        "model_name = 'Model_Gesture_Recog8' + '_' + str(curr_dt_time).replace(' ','').replace(':','_') + '/'\n",
        "    \n",
        "if not os.path.exists(model_name):\n",
        "    os.mkdir(model_name)\n",
        "        \n",
        "filepath = model_name + 'model-{epoch:05d}-{loss:.5f}-{categorical_accuracy:.5f}-{val_loss:.5f}-{val_categorical_accuracy:.5f}.h5'\n",
        "\n",
        "checkpoint = ModelCheckpoint(filepath, monitor='val_loss', verbose=1, save_best_only=True, save_weights_only=False, mode='auto', period=1)\n",
        "LR = ReduceLROnPlateau(monitor='val_loss', factor=0.2, patience=4, min_lr=0.0001, verbose=1)\n",
        "#early_stopping = EarlyStopping(monitor='val_loss', mode='min', verbose=1, patience=8)\n",
        "\n",
        "# LR = # write the REducelronplateau code here\n",
        "callbacks_list = [checkpoint, LR]"
      ]
    },
    {
      "cell_type": "code",
      "execution_count": null,
      "metadata": {
        "id": "RE1a1ljEuMvM"
      },
      "outputs": [],
      "source": [
        "if (num_train_sequences%batch_size) == 0:\n",
        "    steps_per_epoch = int(num_train_sequences/batch_size)\n",
        "else:\n",
        "    steps_per_epoch = (num_train_sequences//batch_size) + 1\n",
        "\n",
        "if (num_val_sequences%batch_size) == 0:\n",
        "    validation_steps = int(num_val_sequences/batch_size)\n",
        "else:\n",
        "    validation_steps = (num_val_sequences//batch_size) + 1"
      ]
    },
    {
      "cell_type": "code",
      "execution_count": null,
      "metadata": {
        "colab": {
          "base_uri": "https://localhost:8080/"
        },
        "id": "sX3s17cMuSGs",
        "outputId": "ef1d6c8e-d505-4cfe-c5f3-e5566b159caf"
      },
      "outputs": [
        {
          "name": "stderr",
          "output_type": "stream",
          "text": [
            "/usr/local/lib/python3.7/dist-packages/ipykernel_launcher.py:3: UserWarning: `Model.fit_generator` is deprecated and will be removed in a future version. Please use `Model.fit`, which supports generators.\n",
            "  This is separate from the ipykernel package so we can avoid doing imports until\n"
          ]
        },
        {
          "name": "stdout",
          "output_type": "stream",
          "text": [
            "Source path =  Project_data/train ; batch size = 40\n",
            "Epoch 1/50\n",
            "17/17 [==============================] - ETA: 0s - loss: 1.5477 - categorical_accuracy: 0.3092Source path =  Project_data/val ; batch size = 40\n",
            "\n",
            "Epoch 1: val_loss improved from inf to 1.49402, saving model to Model_Gesture_Recog8_2022-08-1606_00_06.375963/model-00001-1.54772-0.30920-1.49402-0.39000.h5\n",
            "17/17 [==============================] - 72s 4s/step - loss: 1.5477 - categorical_accuracy: 0.3092 - val_loss: 1.4940 - val_categorical_accuracy: 0.3900 - lr: 0.0010\n",
            "Epoch 2/50\n",
            "17/17 [==============================] - ETA: 0s - loss: 1.1745 - categorical_accuracy: 0.5641\n",
            "Epoch 2: val_loss improved from 1.49402 to 1.11437, saving model to Model_Gesture_Recog8_2022-08-1606_00_06.375963/model-00002-1.17445-0.56410-1.11437-0.63000.h5\n",
            "17/17 [==============================] - 63s 4s/step - loss: 1.1745 - categorical_accuracy: 0.5641 - val_loss: 1.1144 - val_categorical_accuracy: 0.6300 - lr: 0.0010\n",
            "Epoch 3/50\n",
            "17/17 [==============================] - ETA: 0s - loss: 0.9227 - categorical_accuracy: 0.6214\n",
            "Epoch 3: val_loss improved from 1.11437 to 1.04129, saving model to Model_Gesture_Recog8_2022-08-1606_00_06.375963/model-00003-0.92270-0.62142-1.04129-0.63000.h5\n",
            "17/17 [==============================] - 60s 4s/step - loss: 0.9227 - categorical_accuracy: 0.6214 - val_loss: 1.0413 - val_categorical_accuracy: 0.6300 - lr: 0.0010\n",
            "Epoch 4/50\n",
            "17/17 [==============================] - ETA: 0s - loss: 0.7037 - categorical_accuracy: 0.7557\n",
            "Epoch 4: val_loss improved from 1.04129 to 0.89595, saving model to Model_Gesture_Recog8_2022-08-1606_00_06.375963/model-00004-0.70367-0.75566-0.89595-0.60000.h5\n",
            "17/17 [==============================] - 63s 4s/step - loss: 0.7037 - categorical_accuracy: 0.7557 - val_loss: 0.8959 - val_categorical_accuracy: 0.6000 - lr: 0.0010\n",
            "Epoch 5/50\n",
            "17/17 [==============================] - ETA: 0s - loss: 0.6223 - categorical_accuracy: 0.7738\n",
            "Epoch 5: val_loss improved from 0.89595 to 0.87057, saving model to Model_Gesture_Recog8_2022-08-1606_00_06.375963/model-00005-0.62230-0.77376-0.87057-0.64000.h5\n",
            "17/17 [==============================] - 62s 4s/step - loss: 0.6223 - categorical_accuracy: 0.7738 - val_loss: 0.8706 - val_categorical_accuracy: 0.6400 - lr: 0.0010\n",
            "Epoch 6/50\n",
            "17/17 [==============================] - ETA: 0s - loss: 0.4833 - categorical_accuracy: 0.8265\n",
            "Epoch 6: val_loss did not improve from 0.87057\n",
            "17/17 [==============================] - 60s 4s/step - loss: 0.4833 - categorical_accuracy: 0.8265 - val_loss: 0.8916 - val_categorical_accuracy: 0.6200 - lr: 0.0010\n",
            "Epoch 7/50\n",
            "17/17 [==============================] - ETA: 0s - loss: 0.4258 - categorical_accuracy: 0.8416\n",
            "Epoch 7: val_loss improved from 0.87057 to 0.79838, saving model to Model_Gesture_Recog8_2022-08-1606_00_06.375963/model-00007-0.42581-0.84163-0.79838-0.61000.h5\n",
            "17/17 [==============================] - 62s 4s/step - loss: 0.4258 - categorical_accuracy: 0.8416 - val_loss: 0.7984 - val_categorical_accuracy: 0.6100 - lr: 0.0010\n",
            "Epoch 8/50\n",
            "17/17 [==============================] - ETA: 0s - loss: 0.3904 - categorical_accuracy: 0.8733\n",
            "Epoch 8: val_loss did not improve from 0.79838\n",
            "17/17 [==============================] - 60s 4s/step - loss: 0.3904 - categorical_accuracy: 0.8733 - val_loss: 0.8405 - val_categorical_accuracy: 0.7100 - lr: 0.0010\n",
            "Epoch 9/50\n",
            "17/17 [==============================] - ETA: 0s - loss: 0.3263 - categorical_accuracy: 0.8824\n",
            "Epoch 9: val_loss did not improve from 0.79838\n",
            "17/17 [==============================] - 59s 4s/step - loss: 0.3263 - categorical_accuracy: 0.8824 - val_loss: 0.8634 - val_categorical_accuracy: 0.6900 - lr: 0.0010\n",
            "Epoch 10/50\n",
            "17/17 [==============================] - ETA: 0s - loss: 0.2909 - categorical_accuracy: 0.8974\n",
            "Epoch 10: val_loss did not improve from 0.79838\n",
            "17/17 [==============================] - 60s 4s/step - loss: 0.2909 - categorical_accuracy: 0.8974 - val_loss: 0.9140 - val_categorical_accuracy: 0.7100 - lr: 0.0010\n",
            "Epoch 11/50\n",
            "17/17 [==============================] - ETA: 0s - loss: 0.2557 - categorical_accuracy: 0.9276\n",
            "Epoch 11: val_loss did not improve from 0.79838\n",
            "\n",
            "Epoch 11: ReduceLROnPlateau reducing learning rate to 0.00020000000949949026.\n",
            "17/17 [==============================] - 61s 4s/step - loss: 0.2557 - categorical_accuracy: 0.9276 - val_loss: 1.0938 - val_categorical_accuracy: 0.6800 - lr: 0.0010\n",
            "Epoch 12/50\n",
            "17/17 [==============================] - ETA: 0s - loss: 0.2143 - categorical_accuracy: 0.9246\n",
            "Epoch 12: val_loss did not improve from 0.79838\n",
            "17/17 [==============================] - 59s 4s/step - loss: 0.2143 - categorical_accuracy: 0.9246 - val_loss: 1.1143 - val_categorical_accuracy: 0.6700 - lr: 2.0000e-04\n",
            "Epoch 13/50\n",
            "17/17 [==============================] - ETA: 0s - loss: 0.2264 - categorical_accuracy: 0.9397\n",
            "Epoch 13: val_loss did not improve from 0.79838\n",
            "17/17 [==============================] - 60s 4s/step - loss: 0.2264 - categorical_accuracy: 0.9397 - val_loss: 0.9844 - val_categorical_accuracy: 0.6900 - lr: 2.0000e-04\n",
            "Epoch 14/50\n",
            "17/17 [==============================] - ETA: 0s - loss: 0.1745 - categorical_accuracy: 0.9502\n",
            "Epoch 14: val_loss did not improve from 0.79838\n",
            "17/17 [==============================] - 60s 4s/step - loss: 0.1745 - categorical_accuracy: 0.9502 - val_loss: 1.3331 - val_categorical_accuracy: 0.6000 - lr: 2.0000e-04\n",
            "Epoch 15/50\n",
            "17/17 [==============================] - ETA: 0s - loss: 0.1902 - categorical_accuracy: 0.9382\n",
            "Epoch 15: val_loss did not improve from 0.79838\n",
            "\n",
            "Epoch 15: ReduceLROnPlateau reducing learning rate to 0.0001.\n",
            "17/17 [==============================] - 59s 4s/step - loss: 0.1902 - categorical_accuracy: 0.9382 - val_loss: 1.0674 - val_categorical_accuracy: 0.6600 - lr: 2.0000e-04\n",
            "Epoch 16/50\n",
            "17/17 [==============================] - ETA: 0s - loss: 0.1722 - categorical_accuracy: 0.9457\n",
            "Epoch 16: val_loss did not improve from 0.79838\n",
            "17/17 [==============================] - 60s 4s/step - loss: 0.1722 - categorical_accuracy: 0.9457 - val_loss: 0.9710 - val_categorical_accuracy: 0.7100 - lr: 1.0000e-04\n",
            "Epoch 17/50\n",
            "17/17 [==============================] - ETA: 0s - loss: 0.1992 - categorical_accuracy: 0.9351\n",
            "Epoch 17: val_loss improved from 0.79838 to 0.79710, saving model to Model_Gesture_Recog8_2022-08-1606_00_06.375963/model-00017-0.19919-0.93514-0.79710-0.77000.h5\n",
            "17/17 [==============================] - 61s 4s/step - loss: 0.1992 - categorical_accuracy: 0.9351 - val_loss: 0.7971 - val_categorical_accuracy: 0.7700 - lr: 1.0000e-04\n",
            "Epoch 18/50\n",
            "17/17 [==============================] - ETA: 0s - loss: 0.1809 - categorical_accuracy: 0.9397\n",
            "Epoch 18: val_loss did not improve from 0.79710\n",
            "17/17 [==============================] - 59s 4s/step - loss: 0.1809 - categorical_accuracy: 0.9397 - val_loss: 0.9490 - val_categorical_accuracy: 0.7300 - lr: 1.0000e-04\n",
            "Epoch 19/50\n",
            "17/17 [==============================] - ETA: 0s - loss: 0.1630 - categorical_accuracy: 0.9472\n",
            "Epoch 19: val_loss did not improve from 0.79710\n",
            "17/17 [==============================] - 60s 4s/step - loss: 0.1630 - categorical_accuracy: 0.9472 - val_loss: 1.0078 - val_categorical_accuracy: 0.7200 - lr: 1.0000e-04\n",
            "Epoch 20/50\n",
            "17/17 [==============================] - ETA: 0s - loss: 0.1315 - categorical_accuracy: 0.9638\n",
            "Epoch 20: val_loss did not improve from 0.79710\n",
            "17/17 [==============================] - 61s 4s/step - loss: 0.1315 - categorical_accuracy: 0.9638 - val_loss: 1.0610 - val_categorical_accuracy: 0.7200 - lr: 1.0000e-04\n",
            "Epoch 21/50\n",
            "17/17 [==============================] - ETA: 0s - loss: 0.1337 - categorical_accuracy: 0.9623\n",
            "Epoch 21: val_loss did not improve from 0.79710\n",
            "17/17 [==============================] - 58s 4s/step - loss: 0.1337 - categorical_accuracy: 0.9623 - val_loss: 0.8698 - val_categorical_accuracy: 0.7500 - lr: 1.0000e-04\n",
            "Epoch 22/50\n",
            "17/17 [==============================] - ETA: 0s - loss: 0.1676 - categorical_accuracy: 0.9563\n",
            "Epoch 22: val_loss did not improve from 0.79710\n",
            "17/17 [==============================] - 60s 4s/step - loss: 0.1676 - categorical_accuracy: 0.9563 - val_loss: 1.0219 - val_categorical_accuracy: 0.7100 - lr: 1.0000e-04\n",
            "Epoch 23/50\n",
            "17/17 [==============================] - ETA: 0s - loss: 0.1623 - categorical_accuracy: 0.9412\n",
            "Epoch 23: val_loss did not improve from 0.79710\n",
            "17/17 [==============================] - 61s 4s/step - loss: 0.1623 - categorical_accuracy: 0.9412 - val_loss: 1.2394 - val_categorical_accuracy: 0.6900 - lr: 1.0000e-04\n",
            "Epoch 24/50\n",
            "17/17 [==============================] - ETA: 0s - loss: 0.1258 - categorical_accuracy: 0.9608\n",
            "Epoch 24: val_loss did not improve from 0.79710\n",
            "17/17 [==============================] - 58s 4s/step - loss: 0.1258 - categorical_accuracy: 0.9608 - val_loss: 1.1080 - val_categorical_accuracy: 0.6700 - lr: 1.0000e-04\n",
            "Epoch 25/50\n",
            "17/17 [==============================] - ETA: 0s - loss: 0.1537 - categorical_accuracy: 0.9412\n",
            "Epoch 25: val_loss did not improve from 0.79710\n",
            "17/17 [==============================] - 60s 4s/step - loss: 0.1537 - categorical_accuracy: 0.9412 - val_loss: 1.0703 - val_categorical_accuracy: 0.6900 - lr: 1.0000e-04\n",
            "Epoch 26/50\n",
            "17/17 [==============================] - ETA: 0s - loss: 0.1211 - categorical_accuracy: 0.9713\n",
            "Epoch 26: val_loss did not improve from 0.79710\n",
            "17/17 [==============================] - 60s 4s/step - loss: 0.1211 - categorical_accuracy: 0.9713 - val_loss: 1.0424 - val_categorical_accuracy: 0.7100 - lr: 1.0000e-04\n",
            "Epoch 27/50\n",
            "17/17 [==============================] - ETA: 0s - loss: 0.1186 - categorical_accuracy: 0.9653\n",
            "Epoch 27: val_loss did not improve from 0.79710\n",
            "17/17 [==============================] - 58s 4s/step - loss: 0.1186 - categorical_accuracy: 0.9653 - val_loss: 1.1712 - val_categorical_accuracy: 0.7000 - lr: 1.0000e-04\n",
            "Epoch 28/50\n",
            "17/17 [==============================] - ETA: 0s - loss: 0.1220 - categorical_accuracy: 0.9593\n",
            "Epoch 28: val_loss did not improve from 0.79710\n",
            "17/17 [==============================] - 61s 4s/step - loss: 0.1220 - categorical_accuracy: 0.9593 - val_loss: 1.0932 - val_categorical_accuracy: 0.7100 - lr: 1.0000e-04\n",
            "Epoch 29/50\n",
            "17/17 [==============================] - ETA: 0s - loss: 0.1150 - categorical_accuracy: 0.9698\n",
            "Epoch 29: val_loss improved from 0.79710 to 0.77881, saving model to Model_Gesture_Recog8_2022-08-1606_00_06.375963/model-00029-0.11498-0.96983-0.77881-0.75000.h5\n",
            "17/17 [==============================] - 63s 4s/step - loss: 0.1150 - categorical_accuracy: 0.9698 - val_loss: 0.7788 - val_categorical_accuracy: 0.7500 - lr: 1.0000e-04\n",
            "Epoch 30/50\n",
            "17/17 [==============================] - ETA: 0s - loss: 0.1207 - categorical_accuracy: 0.9623\n",
            "Epoch 30: val_loss did not improve from 0.77881\n",
            "17/17 [==============================] - 60s 4s/step - loss: 0.1207 - categorical_accuracy: 0.9623 - val_loss: 1.1961 - val_categorical_accuracy: 0.6800 - lr: 1.0000e-04\n",
            "Epoch 31/50\n",
            "17/17 [==============================] - ETA: 0s - loss: 0.1490 - categorical_accuracy: 0.9487\n",
            "Epoch 31: val_loss did not improve from 0.77881\n",
            "17/17 [==============================] - 61s 4s/step - loss: 0.1490 - categorical_accuracy: 0.9487 - val_loss: 1.0969 - val_categorical_accuracy: 0.7000 - lr: 1.0000e-04\n",
            "Epoch 32/50\n",
            "17/17 [==============================] - ETA: 0s - loss: 0.1042 - categorical_accuracy: 0.9744\n",
            "Epoch 32: val_loss did not improve from 0.77881\n",
            "17/17 [==============================] - 62s 4s/step - loss: 0.1042 - categorical_accuracy: 0.9744 - val_loss: 1.0154 - val_categorical_accuracy: 0.7100 - lr: 1.0000e-04\n",
            "Epoch 33/50\n",
            "17/17 [==============================] - ETA: 0s - loss: 0.1404 - categorical_accuracy: 0.9608\n",
            "Epoch 33: val_loss did not improve from 0.77881\n",
            "17/17 [==============================] - 60s 4s/step - loss: 0.1404 - categorical_accuracy: 0.9608 - val_loss: 1.1511 - val_categorical_accuracy: 0.7000 - lr: 1.0000e-04\n",
            "Epoch 34/50\n",
            "17/17 [==============================] - ETA: 0s - loss: 0.1152 - categorical_accuracy: 0.9623\n",
            "Epoch 34: val_loss did not improve from 0.77881\n",
            "17/17 [==============================] - 61s 4s/step - loss: 0.1152 - categorical_accuracy: 0.9623 - val_loss: 1.1505 - val_categorical_accuracy: 0.7000 - lr: 1.0000e-04\n",
            "Epoch 35/50\n",
            "17/17 [==============================] - ETA: 0s - loss: 0.1257 - categorical_accuracy: 0.9623\n",
            "Epoch 35: val_loss did not improve from 0.77881\n",
            "17/17 [==============================] - 62s 4s/step - loss: 0.1257 - categorical_accuracy: 0.9623 - val_loss: 1.0143 - val_categorical_accuracy: 0.7200 - lr: 1.0000e-04\n",
            "Epoch 36/50\n",
            "17/17 [==============================] - ETA: 0s - loss: 0.1074 - categorical_accuracy: 0.9729\n",
            "Epoch 36: val_loss did not improve from 0.77881\n",
            "17/17 [==============================] - 61s 4s/step - loss: 0.1074 - categorical_accuracy: 0.9729 - val_loss: 1.2355 - val_categorical_accuracy: 0.6700 - lr: 1.0000e-04\n",
            "Epoch 37/50\n",
            "17/17 [==============================] - ETA: 0s - loss: 0.1179 - categorical_accuracy: 0.9653\n",
            "Epoch 37: val_loss did not improve from 0.77881\n",
            "17/17 [==============================] - 63s 4s/step - loss: 0.1179 - categorical_accuracy: 0.9653 - val_loss: 1.1700 - val_categorical_accuracy: 0.7100 - lr: 1.0000e-04\n",
            "Epoch 38/50\n",
            "17/17 [==============================] - ETA: 0s - loss: 0.1447 - categorical_accuracy: 0.9623\n",
            "Epoch 38: val_loss did not improve from 0.77881\n",
            "17/17 [==============================] - 62s 4s/step - loss: 0.1447 - categorical_accuracy: 0.9623 - val_loss: 1.3993 - val_categorical_accuracy: 0.6900 - lr: 1.0000e-04\n",
            "Epoch 39/50\n",
            "17/17 [==============================] - ETA: 0s - loss: 0.0837 - categorical_accuracy: 0.9759\n",
            "Epoch 39: val_loss did not improve from 0.77881\n",
            "17/17 [==============================] - 60s 4s/step - loss: 0.0837 - categorical_accuracy: 0.9759 - val_loss: 1.1156 - val_categorical_accuracy: 0.6700 - lr: 1.0000e-04\n",
            "Epoch 40/50\n",
            "17/17 [==============================] - ETA: 0s - loss: 0.0941 - categorical_accuracy: 0.9698\n",
            "Epoch 40: val_loss did not improve from 0.77881\n",
            "17/17 [==============================] - 62s 4s/step - loss: 0.0941 - categorical_accuracy: 0.9698 - val_loss: 1.1393 - val_categorical_accuracy: 0.7100 - lr: 1.0000e-04\n",
            "Epoch 41/50\n",
            "17/17 [==============================] - ETA: 0s - loss: 0.0925 - categorical_accuracy: 0.9683\n",
            "Epoch 41: val_loss did not improve from 0.77881\n",
            "17/17 [==============================] - 61s 4s/step - loss: 0.0925 - categorical_accuracy: 0.9683 - val_loss: 1.0348 - val_categorical_accuracy: 0.7300 - lr: 1.0000e-04\n",
            "Epoch 42/50\n",
            "17/17 [==============================] - ETA: 0s - loss: 0.0921 - categorical_accuracy: 0.9698\n",
            "Epoch 42: val_loss did not improve from 0.77881\n",
            "17/17 [==============================] - 60s 4s/step - loss: 0.0921 - categorical_accuracy: 0.9698 - val_loss: 1.0014 - val_categorical_accuracy: 0.7300 - lr: 1.0000e-04\n",
            "Epoch 43/50\n",
            "17/17 [==============================] - ETA: 0s - loss: 0.0765 - categorical_accuracy: 0.9744\n",
            "Epoch 43: val_loss did not improve from 0.77881\n",
            "17/17 [==============================] - 65s 4s/step - loss: 0.0765 - categorical_accuracy: 0.9744 - val_loss: 1.1440 - val_categorical_accuracy: 0.7200 - lr: 1.0000e-04\n",
            "Epoch 44/50\n",
            "17/17 [==============================] - ETA: 0s - loss: 0.0652 - categorical_accuracy: 0.9819\n",
            "Epoch 44: val_loss did not improve from 0.77881\n",
            "17/17 [==============================] - 62s 4s/step - loss: 0.0652 - categorical_accuracy: 0.9819 - val_loss: 1.1777 - val_categorical_accuracy: 0.7300 - lr: 1.0000e-04\n",
            "Epoch 45/50\n",
            "17/17 [==============================] - ETA: 0s - loss: 0.1003 - categorical_accuracy: 0.9638\n",
            "Epoch 45: val_loss did not improve from 0.77881\n",
            "17/17 [==============================] - 60s 4s/step - loss: 0.1003 - categorical_accuracy: 0.9638 - val_loss: 1.2127 - val_categorical_accuracy: 0.7000 - lr: 1.0000e-04\n",
            "Epoch 46/50\n",
            "17/17 [==============================] - ETA: 0s - loss: 0.0950 - categorical_accuracy: 0.9713\n",
            "Epoch 46: val_loss did not improve from 0.77881\n",
            "17/17 [==============================] - 63s 4s/step - loss: 0.0950 - categorical_accuracy: 0.9713 - val_loss: 1.1776 - val_categorical_accuracy: 0.7100 - lr: 1.0000e-04\n",
            "Epoch 47/50\n",
            "17/17 [==============================] - ETA: 0s - loss: 0.1006 - categorical_accuracy: 0.9683\n",
            "Epoch 47: val_loss did not improve from 0.77881\n",
            "17/17 [==============================] - 64s 4s/step - loss: 0.1006 - categorical_accuracy: 0.9683 - val_loss: 0.9968 - val_categorical_accuracy: 0.7600 - lr: 1.0000e-04\n",
            "Epoch 48/50\n",
            "17/17 [==============================] - ETA: 0s - loss: 0.0634 - categorical_accuracy: 0.9879\n",
            "Epoch 48: val_loss did not improve from 0.77881\n",
            "17/17 [==============================] - 64s 4s/step - loss: 0.0634 - categorical_accuracy: 0.9879 - val_loss: 1.1497 - val_categorical_accuracy: 0.7400 - lr: 1.0000e-04\n",
            "Epoch 49/50\n",
            "17/17 [==============================] - ETA: 0s - loss: 0.0819 - categorical_accuracy: 0.9729\n",
            "Epoch 49: val_loss did not improve from 0.77881\n",
            "17/17 [==============================] - 63s 4s/step - loss: 0.0819 - categorical_accuracy: 0.9729 - val_loss: 1.1496 - val_categorical_accuracy: 0.7000 - lr: 1.0000e-04\n",
            "Epoch 50/50\n",
            "17/17 [==============================] - ETA: 0s - loss: 0.0994 - categorical_accuracy: 0.9668\n",
            "Epoch 50: val_loss did not improve from 0.77881\n",
            "17/17 [==============================] - 61s 4s/step - loss: 0.0994 - categorical_accuracy: 0.9668 - val_loss: 1.0689 - val_categorical_accuracy: 0.7000 - lr: 1.0000e-04\n"
          ]
        }
      ],
      "source": [
        "history8 = model.fit_generator(train_generator, steps_per_epoch=steps_per_epoch, epochs=50, verbose=1, \n",
        "                    callbacks=callbacks_list, validation_data=val_generator, \n",
        "                    validation_steps=validation_steps, class_weight=None, workers=1, initial_epoch=0)"
      ]
    },
    {
      "cell_type": "markdown",
      "metadata": {
        "id": "xleloryv5Cb7"
      },
      "source": [
        "##### Results from Model 8:\n",
        "- Transfer Learning with MobileNet\n",
        "- Model is overfitting with lesser validation accuracy\n",
        "- Training Accuracy - 96%\n",
        "- val accuracy - 75%\n",
        "- MobileNet + LSTM"
      ]
    },
    {
      "cell_type": "markdown",
      "metadata": {
        "id": "xkCkDuWP3b7B"
      },
      "source": [
        "#### Model 9: MobileNet + GRU"
      ]
    },
    {
      "cell_type": "code",
      "execution_count": null,
      "metadata": {
        "colab": {
          "base_uri": "https://localhost:8080/"
        },
        "id": "neEMVQkB5Cuz",
        "outputId": "648b85cf-e125-4642-be06-5b0a033f5cc1"
      },
      "outputs": [
        {
          "name": "stderr",
          "output_type": "stream",
          "text": [
            "WARNING:tensorflow:`input_shape` is undefined or non-square, or `rows` is not in [96, 128, 160, 192, 224]. Weights for input shape (224, 224) will be loaded as the default.\n"
          ]
        }
      ],
      "source": [
        "input_shape = (15, x_dim, y_dim, 3)\n",
        "mobilenet_tl = tf.keras.applications.MobileNetV2(weights='imagenet', include_top=False, classes=5)\n",
        "\n",
        "model = Sequential()\n",
        "model.add(TimeDistributed(mobilenet_tl, input_shape=input_shape))\n",
        "\n",
        "for layer in model.layers:\n",
        "  layer.trainable = False\n",
        "\n",
        "model.add(TimeDistributed(BatchNormalization()))\n",
        "model.add(TimeDistributed(MaxPooling2D((2, 2))))\n",
        "model.add(Dropout(0.25))\n",
        "model.add(TimeDistributed(Flatten()))\n",
        "\n",
        "model.add(GRU(256))\n",
        "model.add(Dense(128,activation='relu'))\n",
        "model.add(Dropout(0.25))\n",
        "\n",
        "model.add(Dense(5, activation='softmax'))"
      ]
    },
    {
      "cell_type": "code",
      "execution_count": null,
      "metadata": {
        "colab": {
          "base_uri": "https://localhost:8080/"
        },
        "id": "TJmIKAhV5Dlv",
        "outputId": "167a96ef-a1f9-4769-b9a1-22a37d4a5de6"
      },
      "outputs": [
        {
          "name": "stdout",
          "output_type": "stream",
          "text": [
            "Model: \"sequential_3\"\n",
            "_________________________________________________________________\n",
            " Layer (type)                Output Shape              Param #   \n",
            "=================================================================\n",
            " time_distributed_8 (TimeDis  (None, 15, 3, 3, 1280)   2257984   \n",
            " tributed)                                                       \n",
            "                                                                 \n",
            " time_distributed_9 (TimeDis  (None, 15, 3, 3, 1280)   5120      \n",
            " tributed)                                                       \n",
            "                                                                 \n",
            " time_distributed_10 (TimeDi  (None, 15, 1, 1, 1280)   0         \n",
            " stributed)                                                      \n",
            "                                                                 \n",
            " dropout_6 (Dropout)         (None, 15, 1, 1, 1280)    0         \n",
            "                                                                 \n",
            " time_distributed_11 (TimeDi  (None, 15, 1280)         0         \n",
            " stributed)                                                      \n",
            "                                                                 \n",
            " gru_1 (GRU)                 (None, 256)               1181184   \n",
            "                                                                 \n",
            " dense_4 (Dense)             (None, 128)               32896     \n",
            "                                                                 \n",
            " dropout_7 (Dropout)         (None, 128)               0         \n",
            "                                                                 \n",
            " dense_5 (Dense)             (None, 5)                 645       \n",
            "                                                                 \n",
            "=================================================================\n",
            "Total params: 3,477,829\n",
            "Trainable params: 1,217,285\n",
            "Non-trainable params: 2,260,544\n",
            "_________________________________________________________________\n"
          ]
        }
      ],
      "source": [
        "optimiser = 'adam'\n",
        "model.compile(optimizer=optimiser, loss='categorical_crossentropy', metrics=['categorical_accuracy'])\n",
        "model.summary()"
      ]
    },
    {
      "cell_type": "code",
      "execution_count": null,
      "metadata": {
        "id": "T4JLVV1k5Dev"
      },
      "outputs": [],
      "source": [
        "batch_size= 40\n",
        "train_generator = generator(train_path,data_train, batch_size, x_dim, y_dim, is_train = True, augmention = True)\n",
        "val_generator = generator(val_path, data_test, batch_size, x_dim, y_dim, is_train=False, augmention=False)"
      ]
    },
    {
      "cell_type": "code",
      "execution_count": null,
      "metadata": {
        "colab": {
          "base_uri": "https://localhost:8080/"
        },
        "id": "ExsFqlQh5DWO",
        "outputId": "1fd40646-1c5c-42a1-fb43-497a886af1cb"
      },
      "outputs": [
        {
          "name": "stderr",
          "output_type": "stream",
          "text": [
            "WARNING:tensorflow:`period` argument is deprecated. Please use `save_freq` to specify the frequency in number of batches seen.\n"
          ]
        }
      ],
      "source": [
        "model_name = 'Model_Gesture_Recog9' + '_' + str(curr_dt_time).replace(' ','').replace(':','_') + '/'\n",
        "    \n",
        "if not os.path.exists(model_name):\n",
        "    os.mkdir(model_name)\n",
        "        \n",
        "filepath = model_name + 'model-{epoch:05d}-{loss:.5f}-{categorical_accuracy:.5f}-{val_loss:.5f}-{val_categorical_accuracy:.5f}.h5'\n",
        "\n",
        "checkpoint = ModelCheckpoint(filepath, monitor='val_loss', verbose=1, save_best_only=True, save_weights_only=False, mode='auto', period=1)\n",
        "LR = ReduceLROnPlateau(monitor='val_loss', factor=0.2, patience=4, min_lr=0.0001, verbose=1)\n",
        "#early_stopping = EarlyStopping(monitor='val_loss', mode='min', verbose=1, patience=8)\n",
        "\n",
        "# LR = # write the REducelronplateau code here\n",
        "callbacks_list = [checkpoint, LR]"
      ]
    },
    {
      "cell_type": "code",
      "execution_count": null,
      "metadata": {
        "id": "pvqhA6RZ5DJ-"
      },
      "outputs": [],
      "source": [
        "if (num_train_sequences%batch_size) == 0:\n",
        "    steps_per_epoch = int(num_train_sequences/batch_size)\n",
        "else:\n",
        "    steps_per_epoch = (num_train_sequences//batch_size) + 1\n",
        "\n",
        "if (num_val_sequences%batch_size) == 0:\n",
        "    validation_steps = int(num_val_sequences/batch_size)\n",
        "else:\n",
        "    validation_steps = (num_val_sequences//batch_size) + 1"
      ]
    },
    {
      "cell_type": "code",
      "execution_count": null,
      "metadata": {
        "colab": {
          "base_uri": "https://localhost:8080/"
        },
        "id": "TMT9gV285f6a",
        "outputId": "bd48326e-7d9d-449b-afca-252a71dc9530"
      },
      "outputs": [
        {
          "name": "stderr",
          "output_type": "stream",
          "text": [
            "/usr/local/lib/python3.7/dist-packages/ipykernel_launcher.py:3: UserWarning: `Model.fit_generator` is deprecated and will be removed in a future version. Please use `Model.fit`, which supports generators.\n",
            "  This is separate from the ipykernel package so we can avoid doing imports until\n"
          ]
        },
        {
          "name": "stdout",
          "output_type": "stream",
          "text": [
            "Source path =  Project_data/train ; batch size = 40\n",
            "Epoch 1/50\n",
            "17/17 [==============================] - ETA: 0s - loss: 1.4284 - categorical_accuracy: 0.4072Source path =  Project_data/val ; batch size = 40\n",
            "\n",
            "Epoch 1: val_loss improved from inf to 1.17168, saving model to Model_Gesture_Recog9_2022-08-1606_00_06.375963/model-00001-1.42843-0.40724-1.17168-0.53000.h5\n",
            "17/17 [==============================] - 68s 4s/step - loss: 1.4284 - categorical_accuracy: 0.4072 - val_loss: 1.1717 - val_categorical_accuracy: 0.5300 - lr: 0.0010\n",
            "Epoch 2/50\n",
            "17/17 [==============================] - ETA: 0s - loss: 0.8002 - categorical_accuracy: 0.6682\n",
            "Epoch 2: val_loss improved from 1.17168 to 0.92179, saving model to Model_Gesture_Recog9_2022-08-1606_00_06.375963/model-00002-0.80023-0.66817-0.92179-0.59000.h5\n",
            "17/17 [==============================] - 62s 4s/step - loss: 0.8002 - categorical_accuracy: 0.6682 - val_loss: 0.9218 - val_categorical_accuracy: 0.5900 - lr: 0.0010\n",
            "Epoch 3/50\n",
            "17/17 [==============================] - ETA: 0s - loss: 0.5634 - categorical_accuracy: 0.7753\n",
            "Epoch 3: val_loss improved from 0.92179 to 0.88116, saving model to Model_Gesture_Recog9_2022-08-1606_00_06.375963/model-00003-0.56336-0.77526-0.88116-0.62000.h5\n",
            "17/17 [==============================] - 60s 4s/step - loss: 0.5634 - categorical_accuracy: 0.7753 - val_loss: 0.8812 - val_categorical_accuracy: 0.6200 - lr: 0.0010\n",
            "Epoch 4/50\n",
            "17/17 [==============================] - ETA: 0s - loss: 0.4274 - categorical_accuracy: 0.8356\n",
            "Epoch 4: val_loss improved from 0.88116 to 0.82738, saving model to Model_Gesture_Recog9_2022-08-1606_00_06.375963/model-00004-0.42737-0.83560-0.82738-0.61000.h5\n",
            "17/17 [==============================] - 61s 4s/step - loss: 0.4274 - categorical_accuracy: 0.8356 - val_loss: 0.8274 - val_categorical_accuracy: 0.6100 - lr: 0.0010\n",
            "Epoch 5/50\n",
            "17/17 [==============================] - ETA: 0s - loss: 0.3525 - categorical_accuracy: 0.8869\n",
            "Epoch 5: val_loss did not improve from 0.82738\n",
            "17/17 [==============================] - 61s 4s/step - loss: 0.3525 - categorical_accuracy: 0.8869 - val_loss: 0.8485 - val_categorical_accuracy: 0.6500 - lr: 0.0010\n",
            "Epoch 6/50\n",
            "17/17 [==============================] - ETA: 0s - loss: 0.2995 - categorical_accuracy: 0.8944\n",
            "Epoch 6: val_loss did not improve from 0.82738\n",
            "17/17 [==============================] - 59s 4s/step - loss: 0.2995 - categorical_accuracy: 0.8944 - val_loss: 0.9673 - val_categorical_accuracy: 0.5500 - lr: 0.0010\n",
            "Epoch 7/50\n",
            "17/17 [==============================] - ETA: 0s - loss: 0.2677 - categorical_accuracy: 0.8989\n",
            "Epoch 7: val_loss improved from 0.82738 to 0.80931, saving model to Model_Gesture_Recog9_2022-08-1606_00_06.375963/model-00007-0.26772-0.89894-0.80931-0.67000.h5\n",
            "17/17 [==============================] - 61s 4s/step - loss: 0.2677 - categorical_accuracy: 0.8989 - val_loss: 0.8093 - val_categorical_accuracy: 0.6700 - lr: 0.0010\n",
            "Epoch 8/50\n",
            "17/17 [==============================] - ETA: 0s - loss: 0.2145 - categorical_accuracy: 0.9472\n",
            "Epoch 8: val_loss improved from 0.80931 to 0.77225, saving model to Model_Gesture_Recog9_2022-08-1606_00_06.375963/model-00008-0.21445-0.94721-0.77225-0.70000.h5\n",
            "17/17 [==============================] - 62s 4s/step - loss: 0.2145 - categorical_accuracy: 0.9472 - val_loss: 0.7722 - val_categorical_accuracy: 0.7000 - lr: 0.0010\n",
            "Epoch 9/50\n",
            "17/17 [==============================] - ETA: 0s - loss: 0.1662 - categorical_accuracy: 0.9487\n",
            "Epoch 9: val_loss did not improve from 0.77225\n",
            "17/17 [==============================] - 59s 4s/step - loss: 0.1662 - categorical_accuracy: 0.9487 - val_loss: 1.0408 - val_categorical_accuracy: 0.6400 - lr: 0.0010\n",
            "Epoch 10/50\n",
            "17/17 [==============================] - ETA: 0s - loss: 0.1687 - categorical_accuracy: 0.9382\n",
            "Epoch 10: val_loss did not improve from 0.77225\n",
            "17/17 [==============================] - 61s 4s/step - loss: 0.1687 - categorical_accuracy: 0.9382 - val_loss: 0.8990 - val_categorical_accuracy: 0.7100 - lr: 0.0010\n",
            "Epoch 11/50\n",
            "17/17 [==============================] - ETA: 0s - loss: 0.1313 - categorical_accuracy: 0.9502\n",
            "Epoch 11: val_loss did not improve from 0.77225\n",
            "17/17 [==============================] - 61s 4s/step - loss: 0.1313 - categorical_accuracy: 0.9502 - val_loss: 1.1511 - val_categorical_accuracy: 0.5800 - lr: 0.0010\n",
            "Epoch 12/50\n",
            "17/17 [==============================] - ETA: 0s - loss: 0.1821 - categorical_accuracy: 0.9397\n",
            "Epoch 12: val_loss did not improve from 0.77225\n",
            "\n",
            "Epoch 12: ReduceLROnPlateau reducing learning rate to 0.00020000000949949026.\n",
            "17/17 [==============================] - 59s 4s/step - loss: 0.1821 - categorical_accuracy: 0.9397 - val_loss: 0.9645 - val_categorical_accuracy: 0.6900 - lr: 0.0010\n",
            "Epoch 13/50\n",
            "17/17 [==============================] - ETA: 0s - loss: 0.1452 - categorical_accuracy: 0.9548\n",
            "Epoch 13: val_loss did not improve from 0.77225\n",
            "17/17 [==============================] - 61s 4s/step - loss: 0.1452 - categorical_accuracy: 0.9548 - val_loss: 0.9849 - val_categorical_accuracy: 0.6700 - lr: 2.0000e-04\n",
            "Epoch 14/50\n",
            "17/17 [==============================] - ETA: 0s - loss: 0.1061 - categorical_accuracy: 0.9563\n",
            "Epoch 14: val_loss did not improve from 0.77225\n",
            "17/17 [==============================] - 61s 4s/step - loss: 0.1061 - categorical_accuracy: 0.9563 - val_loss: 0.9743 - val_categorical_accuracy: 0.6800 - lr: 2.0000e-04\n",
            "Epoch 15/50\n",
            "17/17 [==============================] - ETA: 0s - loss: 0.0902 - categorical_accuracy: 0.9713\n",
            "Epoch 15: val_loss did not improve from 0.77225\n",
            "17/17 [==============================] - 59s 4s/step - loss: 0.0902 - categorical_accuracy: 0.9713 - val_loss: 0.8795 - val_categorical_accuracy: 0.7100 - lr: 2.0000e-04\n",
            "Epoch 16/50\n",
            "17/17 [==============================] - ETA: 0s - loss: 0.0854 - categorical_accuracy: 0.9759\n",
            "Epoch 16: val_loss did not improve from 0.77225\n",
            "\n",
            "Epoch 16: ReduceLROnPlateau reducing learning rate to 0.0001.\n",
            "17/17 [==============================] - 61s 4s/step - loss: 0.0854 - categorical_accuracy: 0.9759 - val_loss: 0.8862 - val_categorical_accuracy: 0.6900 - lr: 2.0000e-04\n",
            "Epoch 17/50\n",
            "17/17 [==============================] - ETA: 0s - loss: 0.0764 - categorical_accuracy: 0.9804\n",
            "Epoch 17: val_loss did not improve from 0.77225\n",
            "17/17 [==============================] - 61s 4s/step - loss: 0.0764 - categorical_accuracy: 0.9804 - val_loss: 1.0293 - val_categorical_accuracy: 0.6800 - lr: 1.0000e-04\n",
            "Epoch 18/50\n",
            "17/17 [==============================] - ETA: 0s - loss: 0.0778 - categorical_accuracy: 0.9789\n",
            "Epoch 18: val_loss did not improve from 0.77225\n",
            "17/17 [==============================] - 58s 4s/step - loss: 0.0778 - categorical_accuracy: 0.9789 - val_loss: 0.7869 - val_categorical_accuracy: 0.7600 - lr: 1.0000e-04\n",
            "Epoch 19/50\n",
            "17/17 [==============================] - ETA: 0s - loss: 0.0771 - categorical_accuracy: 0.9729\n",
            "Epoch 19: val_loss did not improve from 0.77225\n",
            "17/17 [==============================] - 60s 4s/step - loss: 0.0771 - categorical_accuracy: 0.9729 - val_loss: 0.9010 - val_categorical_accuracy: 0.7100 - lr: 1.0000e-04\n",
            "Epoch 20/50\n",
            "17/17 [==============================] - ETA: 0s - loss: 0.0515 - categorical_accuracy: 0.9894\n",
            "Epoch 20: val_loss did not improve from 0.77225\n",
            "17/17 [==============================] - 59s 4s/step - loss: 0.0515 - categorical_accuracy: 0.9894 - val_loss: 0.8101 - val_categorical_accuracy: 0.7500 - lr: 1.0000e-04\n",
            "Epoch 21/50\n",
            "17/17 [==============================] - ETA: 0s - loss: 0.0825 - categorical_accuracy: 0.9713\n",
            "Epoch 21: val_loss did not improve from 0.77225\n",
            "17/17 [==============================] - 58s 4s/step - loss: 0.0825 - categorical_accuracy: 0.9713 - val_loss: 0.9595 - val_categorical_accuracy: 0.7200 - lr: 1.0000e-04\n",
            "Epoch 22/50\n",
            "17/17 [==============================] - ETA: 0s - loss: 0.0782 - categorical_accuracy: 0.9774\n",
            "Epoch 22: val_loss did not improve from 0.77225\n",
            "17/17 [==============================] - 59s 4s/step - loss: 0.0782 - categorical_accuracy: 0.9774 - val_loss: 0.9175 - val_categorical_accuracy: 0.7200 - lr: 1.0000e-04\n",
            "Epoch 23/50\n",
            "17/17 [==============================] - ETA: 0s - loss: 0.0705 - categorical_accuracy: 0.9819\n",
            "Epoch 23: val_loss did not improve from 0.77225\n",
            "17/17 [==============================] - 59s 4s/step - loss: 0.0705 - categorical_accuracy: 0.9819 - val_loss: 1.0052 - val_categorical_accuracy: 0.6700 - lr: 1.0000e-04\n",
            "Epoch 24/50\n",
            "17/17 [==============================] - ETA: 0s - loss: 0.0594 - categorical_accuracy: 0.9834\n",
            "Epoch 24: val_loss did not improve from 0.77225\n",
            "17/17 [==============================] - 58s 4s/step - loss: 0.0594 - categorical_accuracy: 0.9834 - val_loss: 0.8537 - val_categorical_accuracy: 0.7200 - lr: 1.0000e-04\n",
            "Epoch 25/50\n",
            "17/17 [==============================] - ETA: 0s - loss: 0.0668 - categorical_accuracy: 0.9774\n",
            "Epoch 25: val_loss did not improve from 0.77225\n",
            "17/17 [==============================] - 59s 4s/step - loss: 0.0668 - categorical_accuracy: 0.9774 - val_loss: 0.9377 - val_categorical_accuracy: 0.6800 - lr: 1.0000e-04\n",
            "Epoch 26/50\n",
            "17/17 [==============================] - ETA: 0s - loss: 0.0571 - categorical_accuracy: 0.9849\n",
            "Epoch 26: val_loss did not improve from 0.77225\n",
            "17/17 [==============================] - 60s 4s/step - loss: 0.0571 - categorical_accuracy: 0.9849 - val_loss: 1.0386 - val_categorical_accuracy: 0.6500 - lr: 1.0000e-04\n",
            "Epoch 27/50\n",
            "17/17 [==============================] - ETA: 0s - loss: 0.0641 - categorical_accuracy: 0.9819\n",
            "Epoch 27: val_loss did not improve from 0.77225\n",
            "17/17 [==============================] - 57s 4s/step - loss: 0.0641 - categorical_accuracy: 0.9819 - val_loss: 0.8928 - val_categorical_accuracy: 0.7200 - lr: 1.0000e-04\n",
            "Epoch 28/50\n",
            "17/17 [==============================] - ETA: 0s - loss: 0.0614 - categorical_accuracy: 0.9834\n",
            "Epoch 28: val_loss did not improve from 0.77225\n",
            "17/17 [==============================] - 59s 4s/step - loss: 0.0614 - categorical_accuracy: 0.9834 - val_loss: 0.9286 - val_categorical_accuracy: 0.6800 - lr: 1.0000e-04\n",
            "Epoch 29/50\n",
            "17/17 [==============================] - ETA: 0s - loss: 0.0590 - categorical_accuracy: 0.9819\n",
            "Epoch 29: val_loss did not improve from 0.77225\n",
            "17/17 [==============================] - 60s 4s/step - loss: 0.0590 - categorical_accuracy: 0.9819 - val_loss: 1.0379 - val_categorical_accuracy: 0.6600 - lr: 1.0000e-04\n",
            "Epoch 30/50\n",
            "17/17 [==============================] - ETA: 0s - loss: 0.0596 - categorical_accuracy: 0.9819\n",
            "Epoch 30: val_loss did not improve from 0.77225\n",
            "17/17 [==============================] - 58s 4s/step - loss: 0.0596 - categorical_accuracy: 0.9819 - val_loss: 0.9318 - val_categorical_accuracy: 0.6800 - lr: 1.0000e-04\n",
            "Epoch 31/50\n",
            "17/17 [==============================] - ETA: 0s - loss: 0.0526 - categorical_accuracy: 0.9849\n",
            "Epoch 31: val_loss did not improve from 0.77225\n",
            "17/17 [==============================] - 58s 4s/step - loss: 0.0526 - categorical_accuracy: 0.9849 - val_loss: 0.9386 - val_categorical_accuracy: 0.6800 - lr: 1.0000e-04\n",
            "Epoch 32/50\n",
            "17/17 [==============================] - ETA: 0s - loss: 0.0533 - categorical_accuracy: 0.9894\n",
            "Epoch 32: val_loss did not improve from 0.77225\n",
            "17/17 [==============================] - 59s 4s/step - loss: 0.0533 - categorical_accuracy: 0.9894 - val_loss: 0.8315 - val_categorical_accuracy: 0.7100 - lr: 1.0000e-04\n",
            "Epoch 33/50\n",
            "17/17 [==============================] - ETA: 0s - loss: 0.0531 - categorical_accuracy: 0.9834\n",
            "Epoch 33: val_loss did not improve from 0.77225\n",
            "17/17 [==============================] - 57s 4s/step - loss: 0.0531 - categorical_accuracy: 0.9834 - val_loss: 0.9594 - val_categorical_accuracy: 0.6700 - lr: 1.0000e-04\n",
            "Epoch 34/50\n",
            "17/17 [==============================] - ETA: 0s - loss: 0.0467 - categorical_accuracy: 0.9879\n",
            "Epoch 34: val_loss did not improve from 0.77225\n",
            "17/17 [==============================] - 59s 4s/step - loss: 0.0467 - categorical_accuracy: 0.9879 - val_loss: 0.9343 - val_categorical_accuracy: 0.6900 - lr: 1.0000e-04\n",
            "Epoch 35/50\n",
            "17/17 [==============================] - ETA: 0s - loss: 0.0484 - categorical_accuracy: 0.9819\n",
            "Epoch 35: val_loss did not improve from 0.77225\n",
            "17/17 [==============================] - 59s 4s/step - loss: 0.0484 - categorical_accuracy: 0.9819 - val_loss: 1.0643 - val_categorical_accuracy: 0.7100 - lr: 1.0000e-04\n",
            "Epoch 36/50\n",
            "17/17 [==============================] - ETA: 0s - loss: 0.0373 - categorical_accuracy: 0.9940\n",
            "Epoch 36: val_loss did not improve from 0.77225\n",
            "17/17 [==============================] - 57s 4s/step - loss: 0.0373 - categorical_accuracy: 0.9940 - val_loss: 0.7736 - val_categorical_accuracy: 0.7500 - lr: 1.0000e-04\n",
            "Epoch 37/50\n",
            "17/17 [==============================] - ETA: 0s - loss: 0.0454 - categorical_accuracy: 0.9894\n",
            "Epoch 37: val_loss did not improve from 0.77225\n",
            "17/17 [==============================] - 58s 4s/step - loss: 0.0454 - categorical_accuracy: 0.9894 - val_loss: 0.9552 - val_categorical_accuracy: 0.7300 - lr: 1.0000e-04\n",
            "Epoch 38/50\n",
            "17/17 [==============================] - ETA: 0s - loss: 0.0510 - categorical_accuracy: 0.9849\n",
            "Epoch 38: val_loss did not improve from 0.77225\n",
            "17/17 [==============================] - 60s 4s/step - loss: 0.0510 - categorical_accuracy: 0.9849 - val_loss: 1.0369 - val_categorical_accuracy: 0.6700 - lr: 1.0000e-04\n",
            "Epoch 39/50\n",
            "17/17 [==============================] - ETA: 0s - loss: 0.0330 - categorical_accuracy: 0.9940\n",
            "Epoch 39: val_loss did not improve from 0.77225\n",
            "17/17 [==============================] - 57s 4s/step - loss: 0.0330 - categorical_accuracy: 0.9940 - val_loss: 0.9232 - val_categorical_accuracy: 0.7100 - lr: 1.0000e-04\n",
            "Epoch 40/50\n",
            "17/17 [==============================] - ETA: 0s - loss: 0.0349 - categorical_accuracy: 0.9925\n",
            "Epoch 40: val_loss did not improve from 0.77225\n",
            "17/17 [==============================] - 60s 4s/step - loss: 0.0349 - categorical_accuracy: 0.9925 - val_loss: 0.9641 - val_categorical_accuracy: 0.6800 - lr: 1.0000e-04\n",
            "Epoch 41/50\n",
            "17/17 [==============================] - ETA: 0s - loss: 0.0379 - categorical_accuracy: 0.9879\n",
            "Epoch 41: val_loss did not improve from 0.77225\n",
            "17/17 [==============================] - 59s 4s/step - loss: 0.0379 - categorical_accuracy: 0.9879 - val_loss: 0.9347 - val_categorical_accuracy: 0.7200 - lr: 1.0000e-04\n",
            "Epoch 42/50\n",
            "17/17 [==============================] - ETA: 0s - loss: 0.0414 - categorical_accuracy: 0.9894\n",
            "Epoch 42: val_loss did not improve from 0.77225\n",
            "17/17 [==============================] - 58s 4s/step - loss: 0.0414 - categorical_accuracy: 0.9894 - val_loss: 0.9649 - val_categorical_accuracy: 0.6900 - lr: 1.0000e-04\n",
            "Epoch 43/50\n",
            "17/17 [==============================] - ETA: 0s - loss: 0.0369 - categorical_accuracy: 0.9910\n",
            "Epoch 43: val_loss did not improve from 0.77225\n",
            "17/17 [==============================] - 59s 4s/step - loss: 0.0369 - categorical_accuracy: 0.9910 - val_loss: 0.9622 - val_categorical_accuracy: 0.6900 - lr: 1.0000e-04\n",
            "Epoch 44/50\n",
            "17/17 [==============================] - ETA: 0s - loss: 0.0387 - categorical_accuracy: 0.9879\n",
            "Epoch 44: val_loss improved from 0.77225 to 0.75748, saving model to Model_Gesture_Recog9_2022-08-1606_00_06.375963/model-00044-0.03872-0.98793-0.75748-0.73000.h5\n",
            "17/17 [==============================] - 60s 4s/step - loss: 0.0387 - categorical_accuracy: 0.9879 - val_loss: 0.7575 - val_categorical_accuracy: 0.7300 - lr: 1.0000e-04\n",
            "Epoch 45/50\n",
            "17/17 [==============================] - ETA: 0s - loss: 0.0578 - categorical_accuracy: 0.9819\n",
            "Epoch 45: val_loss did not improve from 0.75748\n",
            "17/17 [==============================] - 59s 4s/step - loss: 0.0578 - categorical_accuracy: 0.9819 - val_loss: 1.0046 - val_categorical_accuracy: 0.7100 - lr: 1.0000e-04\n",
            "Epoch 46/50\n",
            "17/17 [==============================] - ETA: 0s - loss: 0.0434 - categorical_accuracy: 0.9849\n",
            "Epoch 46: val_loss did not improve from 0.75748\n",
            "17/17 [==============================] - 59s 4s/step - loss: 0.0434 - categorical_accuracy: 0.9849 - val_loss: 0.9487 - val_categorical_accuracy: 0.7400 - lr: 1.0000e-04\n",
            "Epoch 47/50\n",
            "17/17 [==============================] - ETA: 0s - loss: 0.0446 - categorical_accuracy: 0.9849\n",
            "Epoch 47: val_loss improved from 0.75748 to 0.75577, saving model to Model_Gesture_Recog9_2022-08-1606_00_06.375963/model-00047-0.04460-0.98492-0.75577-0.76000.h5\n",
            "17/17 [==============================] - 60s 4s/step - loss: 0.0446 - categorical_accuracy: 0.9849 - val_loss: 0.7558 - val_categorical_accuracy: 0.7600 - lr: 1.0000e-04\n",
            "Epoch 48/50\n",
            "17/17 [==============================] - ETA: 0s - loss: 0.0202 - categorical_accuracy: 0.9985\n",
            "Epoch 48: val_loss did not improve from 0.75577\n",
            "17/17 [==============================] - 58s 4s/step - loss: 0.0202 - categorical_accuracy: 0.9985 - val_loss: 0.9444 - val_categorical_accuracy: 0.7100 - lr: 1.0000e-04\n",
            "Epoch 49/50\n",
            "17/17 [==============================] - ETA: 0s - loss: 0.0301 - categorical_accuracy: 0.9925\n",
            "Epoch 49: val_loss did not improve from 0.75577\n",
            "17/17 [==============================] - 60s 4s/step - loss: 0.0301 - categorical_accuracy: 0.9925 - val_loss: 0.9763 - val_categorical_accuracy: 0.7100 - lr: 1.0000e-04\n",
            "Epoch 50/50\n",
            "17/17 [==============================] - ETA: 0s - loss: 0.0464 - categorical_accuracy: 0.9834\n",
            "Epoch 50: val_loss did not improve from 0.75577\n",
            "17/17 [==============================] - 60s 4s/step - loss: 0.0464 - categorical_accuracy: 0.9834 - val_loss: 0.9531 - val_categorical_accuracy: 0.7100 - lr: 1.0000e-04\n"
          ]
        }
      ],
      "source": [
        "history9 = model.fit_generator(train_generator, steps_per_epoch=steps_per_epoch, epochs=50, verbose=1, \n",
        "                    callbacks=callbacks_list, validation_data=val_generator, \n",
        "                    validation_steps=validation_steps, class_weight=None, workers=1, initial_epoch=0)"
      ]
    },
    {
      "cell_type": "markdown",
      "metadata": {
        "id": "8fpf8jGeMHur"
      },
      "source": [
        "##### Results from Model 9:\n",
        "- Training Accuracy - 98%\n",
        "- Val accuracy - 76%\n",
        "- MobileNet + GRU\n",
        "- Model is overfitting with lesser validation accuracy and large number of parameters"
      ]
    },
    {
      "cell_type": "markdown",
      "metadata": {
        "id": "cWL49MxnDQ3m"
      },
      "source": [
        "#### Model 10: conv2D + LSTM"
      ]
    },
    {
      "cell_type": "code",
      "execution_count": null,
      "metadata": {
        "id": "MK7xC0cUGMS-"
      },
      "outputs": [],
      "source": [
        "x_dim,y_dim = 180,180\n",
        "model5 = Sequential()\n",
        "model5.add(TimeDistributed(Conv2D(32, (3,3),padding='same', activation='relu'), input_shape=(15,x_dim,y_dim,3)))\n",
        "model5.add(TimeDistributed(BatchNormalization()))\n",
        "model5.add(TimeDistributed(MaxPooling2D((2,2))))\n",
        "model5.add(Dropout(0.2))\n",
        "\n",
        "model5.add(TimeDistributed(Conv2D(64, (3,3),padding='same', activation='relu')))\n",
        "model5.add(TimeDistributed(BatchNormalization()))\n",
        "model5.add(TimeDistributed(MaxPooling2D((2,2))))\n",
        "model5.add(Dropout(0.2))\n",
        "\n",
        "model5.add(TimeDistributed(Conv2D(128, (3,3),padding='same', activation='relu')))\n",
        "model5.add(TimeDistributed(BatchNormalization()))\n",
        "model5.add(TimeDistributed(MaxPooling2D((2,2))))\n",
        "model5.add(Dropout(0.2))\n",
        "\n",
        "model5.add(TimeDistributed(Conv2D(256, (3,3),padding='same', activation='relu')))\n",
        "model5.add(TimeDistributed(BatchNormalization()))\n",
        "model5.add(TimeDistributed(GlobalAveragePooling2D()))\n",
        "\n",
        "model5.add(LSTM(64))\n",
        "model5.add(Dense(64, activation='relu'))\n",
        "model5.add(Dense(32, activation='relu'))\n",
        "model5.add(Dropout(0.2))\n",
        "model5.add(Dense(5, activation='softmax'))"
      ]
    },
    {
      "cell_type": "code",
      "execution_count": null,
      "metadata": {
        "colab": {
          "base_uri": "https://localhost:8080/"
        },
        "id": "JppWjRpbGMY4",
        "outputId": "3b87b985-f04f-4789-8c01-e762aba54d97"
      },
      "outputs": [
        {
          "name": "stdout",
          "output_type": "stream",
          "text": [
            "Model: \"sequential_6\"\n",
            "_________________________________________________________________\n",
            " Layer (type)                Output Shape              Param #   \n",
            "=================================================================\n",
            " time_distributed_45 (TimeDi  (None, 15, 180, 180, 32)  896      \n",
            " stributed)                                                      \n",
            "                                                                 \n",
            " time_distributed_46 (TimeDi  (None, 15, 180, 180, 32)  128      \n",
            " stributed)                                                      \n",
            "                                                                 \n",
            " time_distributed_47 (TimeDi  (None, 15, 90, 90, 32)   0         \n",
            " stributed)                                                      \n",
            "                                                                 \n",
            " dropout_15 (Dropout)        (None, 15, 90, 90, 32)    0         \n",
            "                                                                 \n",
            " time_distributed_48 (TimeDi  (None, 15, 90, 90, 64)   18496     \n",
            " stributed)                                                      \n",
            "                                                                 \n",
            " time_distributed_49 (TimeDi  (None, 15, 90, 90, 64)   256       \n",
            " stributed)                                                      \n",
            "                                                                 \n",
            " time_distributed_50 (TimeDi  (None, 15, 45, 45, 64)   0         \n",
            " stributed)                                                      \n",
            "                                                                 \n",
            " dropout_16 (Dropout)        (None, 15, 45, 45, 64)    0         \n",
            "                                                                 \n",
            " time_distributed_51 (TimeDi  (None, 15, 45, 45, 128)  73856     \n",
            " stributed)                                                      \n",
            "                                                                 \n",
            " time_distributed_52 (TimeDi  (None, 15, 45, 45, 128)  512       \n",
            " stributed)                                                      \n",
            "                                                                 \n",
            " time_distributed_53 (TimeDi  (None, 15, 22, 22, 128)  0         \n",
            " stributed)                                                      \n",
            "                                                                 \n",
            " dropout_17 (Dropout)        (None, 15, 22, 22, 128)   0         \n",
            "                                                                 \n",
            " time_distributed_54 (TimeDi  (None, 15, 22, 22, 256)  295168    \n",
            " stributed)                                                      \n",
            "                                                                 \n",
            " time_distributed_55 (TimeDi  (None, 15, 22, 22, 256)  1024      \n",
            " stributed)                                                      \n",
            "                                                                 \n",
            " time_distributed_56 (TimeDi  (None, 15, 256)          0         \n",
            " stributed)                                                      \n",
            "                                                                 \n",
            " lstm_4 (LSTM)               (None, 64)                82176     \n",
            "                                                                 \n",
            " dense_12 (Dense)            (None, 64)                4160      \n",
            "                                                                 \n",
            " dense_13 (Dense)            (None, 32)                2080      \n",
            "                                                                 \n",
            " dropout_18 (Dropout)        (None, 32)                0         \n",
            "                                                                 \n",
            " dense_14 (Dense)            (None, 5)                 165       \n",
            "                                                                 \n",
            "=================================================================\n",
            "Total params: 478,917\n",
            "Trainable params: 477,957\n",
            "Non-trainable params: 960\n",
            "_________________________________________________________________\n"
          ]
        }
      ],
      "source": [
        "model5.summary()"
      ]
    },
    {
      "cell_type": "code",
      "execution_count": null,
      "metadata": {
        "id": "O6OArBUfGMbF"
      },
      "outputs": [],
      "source": [
        "model5.compile(optimizer='adam', loss='categorical_crossentropy', metrics=['categorical_accuracy'])\n",
        "num_epochs = 80\n",
        "x_dims,y_dims = 180,180\n",
        "batch_size = 32\n",
        "callback_list = callback_defination('model5_cnn_lstm_180_dims')\n",
        "##generator \n",
        "train_generator = generator(train_path,data_train, batch_size,x_dims,y_dims)\n",
        "val_generator = generator(val_path, data_test, batch_size,x_dims,y_dims)\n",
        "\n"
      ]
    },
    {
      "cell_type": "code",
      "execution_count": null,
      "metadata": {
        "id": "97WLPuUCEYYQ"
      },
      "outputs": [],
      "source": [
        "if (num_train_sequences%batch_size) == 0:\n",
        "        steps_per_epoch = int(num_train_sequences/batch_size)\n",
        "else:\n",
        "    steps_per_epoch = (num_train_sequences//batch_size) + 1\n",
        "\n",
        "if (num_val_sequences%batch_size) == 0:\n",
        "    validation_steps = int(num_val_sequences/batch_size)\n",
        "else:\n",
        "    validation_steps = (num_val_sequences//batch_size) + 1"
      ]
    },
    {
      "cell_type": "code",
      "execution_count": null,
      "metadata": {
        "colab": {
          "base_uri": "https://localhost:8080/"
        },
        "id": "g6GFeDqYCu_c",
        "outputId": "8fdd7fbd-63c8-4eb4-ef5a-e0cad378a113"
      },
      "outputs": [
        {
          "name": "stderr",
          "output_type": "stream",
          "text": [
            "/usr/local/lib/python3.7/dist-packages/ipykernel_launcher.py:4: UserWarning: `Model.fit_generator` is deprecated and will be removed in a future version. Please use `Model.fit`, which supports generators.\n",
            "  after removing the cwd from sys.path.\n"
          ]
        },
        {
          "name": "stdout",
          "output_type": "stream",
          "text": [
            "Source path =  /content/drive/MyDrive/iiit-b assigments/gesture recognition/Project_data/train ; batch size = 32\n",
            "Epoch 1/80\n",
            "21/21 [==============================] - ETA: 0s - loss: 1.4616 - categorical_accuracy: 0.3635Source path =  /content/drive/MyDrive/iiit-b assigments/gesture recognition/Project_data/val ; batch size = 32\n",
            "\n",
            "Epoch 1: val_loss improved from inf to 1.67438, saving model to /content/drive/MyDrive/iiit-b assigments/gesture recognition/model_trained/model5_cnn_lstm_180_dims\n"
          ]
        },
        {
          "name": "stderr",
          "output_type": "stream",
          "text": [
            "WARNING:absl:<keras.layers.recurrent.LSTM object at 0x7efcbbd94f90> has the same name 'LSTM' as a built-in Keras object. Consider renaming <class 'keras.layers.recurrent.LSTM'> to avoid naming conflicts when loading with `tf.keras.models.load_model`. If renaming is not possible, pass the object in the `custom_objects` parameter of the load function.\n",
            "WARNING:absl:<keras.layers.recurrent.LSTMCell object at 0x7efcbbd94b90> has the same name 'LSTMCell' as a built-in Keras object. Consider renaming <class 'keras.layers.recurrent.LSTMCell'> to avoid naming conflicts when loading with `tf.keras.models.load_model`. If renaming is not possible, pass the object in the `custom_objects` parameter of the load function.\n"
          ]
        },
        {
          "name": "stdout",
          "output_type": "stream",
          "text": [
            "\b\b\b\b\b\b\b\b\b\b\b\b\b\b\b\b\b\b\b\b\b\b\b\b\b\b\b\b\b\b\b\b\b\b\b\b\b\b\b\b\b\b\b\b\b\b\b\b\b\b\b\b\b\b\b\b\b\b\b\b\b\b\b\b\b\b\b\b\b\b\b\b\b\b\b\b\b\b\b\b\b\b\b\b\b\b\b\b\b\b\b\b\b\b\r21/21 [==============================] - 75s 4s/step - loss: 1.4616 - categorical_accuracy: 0.3635 - val_loss: 1.6744 - val_categorical_accuracy: 0.2100 - lr: 0.0010\n",
            "Epoch 2/80\n",
            "21/21 [==============================] - ETA: 0s - loss: 1.1970 - categorical_accuracy: 0.4872\n",
            "Epoch 2: val_loss did not improve from 1.67438\n",
            "21/21 [==============================] - 72s 4s/step - loss: 1.1970 - categorical_accuracy: 0.4872 - val_loss: 1.8227 - val_categorical_accuracy: 0.2800 - lr: 0.0010\n",
            "Epoch 3/80\n",
            "21/21 [==============================] - ETA: 0s - loss: 1.1326 - categorical_accuracy: 0.5189\n",
            "Epoch 3: val_loss did not improve from 1.67438\n",
            "21/21 [==============================] - 61s 3s/step - loss: 1.1326 - categorical_accuracy: 0.5189 - val_loss: 1.9894 - val_categorical_accuracy: 0.1700 - lr: 0.0010\n",
            "Epoch 4/80\n",
            "21/21 [==============================] - ETA: 0s - loss: 1.0438 - categorical_accuracy: 0.5686\n",
            "Epoch 4: val_loss did not improve from 1.67438\n",
            "21/21 [==============================] - 58s 3s/step - loss: 1.0438 - categorical_accuracy: 0.5686 - val_loss: 2.3408 - val_categorical_accuracy: 0.1900 - lr: 0.0010\n",
            "Epoch 5/80\n",
            "21/21 [==============================] - ETA: 0s - loss: 0.9307 - categorical_accuracy: 0.6275\n",
            "Epoch 5: val_loss did not improve from 1.67438\n",
            "21/21 [==============================] - 60s 3s/step - loss: 0.9307 - categorical_accuracy: 0.6275 - val_loss: 2.4573 - val_categorical_accuracy: 0.2100 - lr: 0.0010\n",
            "Epoch 6/80\n",
            "21/21 [==============================] - ETA: 0s - loss: 0.8916 - categorical_accuracy: 0.6621\n",
            "Epoch 6: val_loss did not improve from 1.67438\n",
            "21/21 [==============================] - 59s 3s/step - loss: 0.8916 - categorical_accuracy: 0.6621 - val_loss: 2.3484 - val_categorical_accuracy: 0.2200 - lr: 0.0010\n",
            "Epoch 7/80\n",
            "21/21 [==============================] - ETA: 0s - loss: 0.7939 - categorical_accuracy: 0.6802\n",
            "Epoch 7: val_loss did not improve from 1.67438\n",
            "21/21 [==============================] - 59s 3s/step - loss: 0.7939 - categorical_accuracy: 0.6802 - val_loss: 2.4692 - val_categorical_accuracy: 0.1500 - lr: 0.0010\n",
            "Epoch 8/80\n",
            "21/21 [==============================] - ETA: 0s - loss: 0.8226 - categorical_accuracy: 0.6817\n",
            "Epoch 8: val_loss did not improve from 1.67438\n",
            "21/21 [==============================] - 57s 3s/step - loss: 0.8226 - categorical_accuracy: 0.6817 - val_loss: 1.7608 - val_categorical_accuracy: 0.2000 - lr: 0.0010\n",
            "Epoch 9/80\n",
            "21/21 [==============================] - ETA: 0s - loss: 0.7734 - categorical_accuracy: 0.7059\n",
            "Epoch 9: val_loss did not improve from 1.67438\n",
            "\n",
            "Epoch 9: ReduceLROnPlateau reducing learning rate to 0.00010000000474974513.\n",
            "21/21 [==============================] - 59s 3s/step - loss: 0.7734 - categorical_accuracy: 0.7059 - val_loss: 2.1043 - val_categorical_accuracy: 0.2100 - lr: 0.0010\n",
            "Epoch 10/80\n",
            "21/21 [==============================] - ETA: 0s - loss: 0.6347 - categorical_accuracy: 0.7255\n",
            "Epoch 10: val_loss did not improve from 1.67438\n",
            "21/21 [==============================] - 60s 3s/step - loss: 0.6347 - categorical_accuracy: 0.7255 - val_loss: 1.8525 - val_categorical_accuracy: 0.2500 - lr: 1.0000e-04\n",
            "Epoch 11/80\n",
            "21/21 [==============================] - ETA: 0s - loss: 0.5838 - categorical_accuracy: 0.7511\n",
            "Epoch 11: val_loss did not improve from 1.67438\n",
            "21/21 [==============================] - 59s 3s/step - loss: 0.5838 - categorical_accuracy: 0.7511 - val_loss: 1.8150 - val_categorical_accuracy: 0.2700 - lr: 1.0000e-04\n",
            "Epoch 12/80\n",
            "21/21 [==============================] - ETA: 0s - loss: 0.5742 - categorical_accuracy: 0.7692\n",
            "Epoch 12: val_loss did not improve from 1.67438\n",
            "21/21 [==============================] - 56s 3s/step - loss: 0.5742 - categorical_accuracy: 0.7692 - val_loss: 1.8597 - val_categorical_accuracy: 0.1900 - lr: 1.0000e-04\n",
            "Epoch 13/80\n",
            "21/21 [==============================] - ETA: 0s - loss: 0.5872 - categorical_accuracy: 0.7496\n",
            "Epoch 13: val_loss did not improve from 1.67438\n",
            "21/21 [==============================] - 59s 3s/step - loss: 0.5872 - categorical_accuracy: 0.7496 - val_loss: 1.7744 - val_categorical_accuracy: 0.2200 - lr: 1.0000e-04\n",
            "Epoch 14/80\n",
            "21/21 [==============================] - ETA: 0s - loss: 0.5397 - categorical_accuracy: 0.7843\n",
            "Epoch 14: val_loss did not improve from 1.67438\n",
            "21/21 [==============================] - 59s 3s/step - loss: 0.5397 - categorical_accuracy: 0.7843 - val_loss: 1.7375 - val_categorical_accuracy: 0.2200 - lr: 1.0000e-04\n",
            "Epoch 15/80\n",
            "21/21 [==============================] - ETA: 0s - loss: 0.4838 - categorical_accuracy: 0.8009\n",
            "Epoch 15: val_loss did not improve from 1.67438\n",
            "21/21 [==============================] - 59s 3s/step - loss: 0.4838 - categorical_accuracy: 0.8009 - val_loss: 1.7971 - val_categorical_accuracy: 0.3100 - lr: 1.0000e-04\n",
            "Epoch 16/80\n",
            "21/21 [==============================] - ETA: 0s - loss: 0.4698 - categorical_accuracy: 0.8296\n",
            "Epoch 16: val_loss did not improve from 1.67438\n",
            "21/21 [==============================] - 56s 3s/step - loss: 0.4698 - categorical_accuracy: 0.8296 - val_loss: 1.7366 - val_categorical_accuracy: 0.2700 - lr: 1.0000e-04\n",
            "Epoch 17/80\n",
            "21/21 [==============================] - ETA: 0s - loss: 0.4999 - categorical_accuracy: 0.8145\n",
            "Epoch 17: val_loss did not improve from 1.67438\n",
            "\n",
            "Epoch 17: ReduceLROnPlateau reducing learning rate to 0.0001.\n",
            "21/21 [==============================] - 59s 3s/step - loss: 0.4999 - categorical_accuracy: 0.8145 - val_loss: 1.6929 - val_categorical_accuracy: 0.2900 - lr: 1.0000e-04\n",
            "Epoch 18/80\n",
            "21/21 [==============================] - ETA: 0s - loss: 0.4645 - categorical_accuracy: 0.8175\n",
            "Epoch 18: val_loss did not improve from 1.67438\n",
            "21/21 [==============================] - 58s 3s/step - loss: 0.4645 - categorical_accuracy: 0.8175 - val_loss: 1.8003 - val_categorical_accuracy: 0.2700 - lr: 1.0000e-04\n",
            "Epoch 19/80\n",
            "21/21 [==============================] - ETA: 0s - loss: 0.4569 - categorical_accuracy: 0.8371\n",
            "Epoch 19: val_loss improved from 1.67438 to 1.67120, saving model to /content/drive/MyDrive/iiit-b assigments/gesture recognition/model_trained/model5_cnn_lstm_180_dims\n"
          ]
        },
        {
          "name": "stderr",
          "output_type": "stream",
          "text": [
            "WARNING:absl:<keras.layers.recurrent.LSTM object at 0x7efcbbd94f90> has the same name 'LSTM' as a built-in Keras object. Consider renaming <class 'keras.layers.recurrent.LSTM'> to avoid naming conflicts when loading with `tf.keras.models.load_model`. If renaming is not possible, pass the object in the `custom_objects` parameter of the load function.\n",
            "WARNING:absl:<keras.layers.recurrent.LSTMCell object at 0x7efcbbd94b90> has the same name 'LSTMCell' as a built-in Keras object. Consider renaming <class 'keras.layers.recurrent.LSTMCell'> to avoid naming conflicts when loading with `tf.keras.models.load_model`. If renaming is not possible, pass the object in the `custom_objects` parameter of the load function.\n"
          ]
        },
        {
          "name": "stdout",
          "output_type": "stream",
          "text": [
            "\b\b\b\b\b\b\b\b\b\b\b\b\b\b\b\b\b\b\b\b\b\b\b\b\b\b\b\b\b\b\b\b\b\b\b\b\b\b\b\b\b\b\b\b\b\b\b\b\b\b\b\b\b\b\b\b\b\b\b\b\b\b\b\b\b\b\b\b\b\b\b\b\b\b\b\b\b\b\b\b\b\b\b\b\b\b\b\b\b\b\b\b\b\b\r21/21 [==============================] - 64s 3s/step - loss: 0.4569 - categorical_accuracy: 0.8371 - val_loss: 1.6712 - val_categorical_accuracy: 0.3200 - lr: 1.0000e-04\n",
            "Epoch 20/80\n",
            "21/21 [==============================] - ETA: 0s - loss: 0.4539 - categorical_accuracy: 0.8235\n",
            "Epoch 20: val_loss did not improve from 1.67120\n",
            "21/21 [==============================] - 58s 3s/step - loss: 0.4539 - categorical_accuracy: 0.8235 - val_loss: 1.7986 - val_categorical_accuracy: 0.3000 - lr: 1.0000e-04\n",
            "Epoch 21/80\n",
            "21/21 [==============================] - ETA: 0s - loss: 0.4239 - categorical_accuracy: 0.8386\n",
            "Epoch 21: val_loss did not improve from 1.67120\n",
            "21/21 [==============================] - 58s 3s/step - loss: 0.4239 - categorical_accuracy: 0.8386 - val_loss: 1.7494 - val_categorical_accuracy: 0.3800 - lr: 1.0000e-04\n",
            "Epoch 22/80\n",
            "21/21 [==============================] - ETA: 0s - loss: 0.4703 - categorical_accuracy: 0.8250\n",
            "Epoch 22: val_loss did not improve from 1.67120\n",
            "21/21 [==============================] - 58s 3s/step - loss: 0.4703 - categorical_accuracy: 0.8250 - val_loss: 1.7329 - val_categorical_accuracy: 0.3100 - lr: 1.0000e-04\n",
            "Epoch 23/80\n",
            "21/21 [==============================] - ETA: 0s - loss: 0.4036 - categorical_accuracy: 0.8446\n",
            "Epoch 23: val_loss did not improve from 1.67120\n",
            "21/21 [==============================] - 58s 3s/step - loss: 0.4036 - categorical_accuracy: 0.8446 - val_loss: 1.9371 - val_categorical_accuracy: 0.3200 - lr: 1.0000e-04\n",
            "Epoch 24/80\n",
            "21/21 [==============================] - ETA: 0s - loss: 0.4228 - categorical_accuracy: 0.8311\n",
            "Epoch 24: val_loss did not improve from 1.67120\n",
            "21/21 [==============================] - 56s 3s/step - loss: 0.4228 - categorical_accuracy: 0.8311 - val_loss: 1.9024 - val_categorical_accuracy: 0.3400 - lr: 1.0000e-04\n",
            "Epoch 25/80\n",
            "21/21 [==============================] - ETA: 0s - loss: 0.3823 - categorical_accuracy: 0.8446\n",
            "Epoch 25: val_loss did not improve from 1.67120\n",
            "21/21 [==============================] - 58s 3s/step - loss: 0.3823 - categorical_accuracy: 0.8446 - val_loss: 1.6858 - val_categorical_accuracy: 0.3600 - lr: 1.0000e-04\n",
            "Epoch 26/80\n",
            "21/21 [==============================] - ETA: 0s - loss: 0.3862 - categorical_accuracy: 0.8492\n",
            "Epoch 26: val_loss improved from 1.67120 to 1.58700, saving model to /content/drive/MyDrive/iiit-b assigments/gesture recognition/model_trained/model5_cnn_lstm_180_dims\n"
          ]
        },
        {
          "name": "stderr",
          "output_type": "stream",
          "text": [
            "WARNING:absl:<keras.layers.recurrent.LSTM object at 0x7efcbbd94f90> has the same name 'LSTM' as a built-in Keras object. Consider renaming <class 'keras.layers.recurrent.LSTM'> to avoid naming conflicts when loading with `tf.keras.models.load_model`. If renaming is not possible, pass the object in the `custom_objects` parameter of the load function.\n",
            "WARNING:absl:<keras.layers.recurrent.LSTMCell object at 0x7efcbbd94b90> has the same name 'LSTMCell' as a built-in Keras object. Consider renaming <class 'keras.layers.recurrent.LSTMCell'> to avoid naming conflicts when loading with `tf.keras.models.load_model`. If renaming is not possible, pass the object in the `custom_objects` parameter of the load function.\n"
          ]
        },
        {
          "name": "stdout",
          "output_type": "stream",
          "text": [
            "\b\b\b\b\b\b\b\b\b\b\b\b\b\b\b\b\b\b\b\b\b\b\b\b\b\b\b\b\b\b\b\b\b\b\b\b\b\b\b\b\b\b\b\b\b\b\b\b\b\b\b\b\b\b\b\b\b\b\b\b\b\b\b\b\b\b\b\b\b\b\b\b\b\b\b\b\b\b\b\b\b\b\b\b\b\b\b\b\b\b\b\b\b\b\r21/21 [==============================] - 64s 3s/step - loss: 0.3862 - categorical_accuracy: 0.8492 - val_loss: 1.5870 - val_categorical_accuracy: 0.3800 - lr: 1.0000e-04\n",
            "Epoch 27/80\n",
            "21/21 [==============================] - ETA: 0s - loss: 0.3462 - categorical_accuracy: 0.8808\n",
            "Epoch 27: val_loss improved from 1.58700 to 1.54659, saving model to /content/drive/MyDrive/iiit-b assigments/gesture recognition/model_trained/model5_cnn_lstm_180_dims\n"
          ]
        },
        {
          "name": "stderr",
          "output_type": "stream",
          "text": [
            "WARNING:absl:<keras.layers.recurrent.LSTM object at 0x7efcbbd94f90> has the same name 'LSTM' as a built-in Keras object. Consider renaming <class 'keras.layers.recurrent.LSTM'> to avoid naming conflicts when loading with `tf.keras.models.load_model`. If renaming is not possible, pass the object in the `custom_objects` parameter of the load function.\n",
            "WARNING:absl:<keras.layers.recurrent.LSTMCell object at 0x7efcbbd94b90> has the same name 'LSTMCell' as a built-in Keras object. Consider renaming <class 'keras.layers.recurrent.LSTMCell'> to avoid naming conflicts when loading with `tf.keras.models.load_model`. If renaming is not possible, pass the object in the `custom_objects` parameter of the load function.\n"
          ]
        },
        {
          "name": "stdout",
          "output_type": "stream",
          "text": [
            "\b\b\b\b\b\b\b\b\b\b\b\b\b\b\b\b\b\b\b\b\b\b\b\b\b\b\b\b\b\b\b\b\b\b\b\b\b\b\b\b\b\b\b\b\b\b\b\b\b\b\b\b\b\b\b\b\b\b\b\b\b\b\b\b\b\b\b\b\b\b\b\b\b\b\b\b\b\b\b\b\b\b\b\b\b\b\b\b\b\b\b\b\b\b\r21/21 [==============================] - 64s 3s/step - loss: 0.3462 - categorical_accuracy: 0.8808 - val_loss: 1.5466 - val_categorical_accuracy: 0.4300 - lr: 1.0000e-04\n",
            "Epoch 28/80\n",
            "21/21 [==============================] - ETA: 0s - loss: 0.3743 - categorical_accuracy: 0.8462\n",
            "Epoch 28: val_loss improved from 1.54659 to 1.51263, saving model to /content/drive/MyDrive/iiit-b assigments/gesture recognition/model_trained/model5_cnn_lstm_180_dims\n"
          ]
        },
        {
          "name": "stderr",
          "output_type": "stream",
          "text": [
            "WARNING:absl:<keras.layers.recurrent.LSTM object at 0x7efcbbd94f90> has the same name 'LSTM' as a built-in Keras object. Consider renaming <class 'keras.layers.recurrent.LSTM'> to avoid naming conflicts when loading with `tf.keras.models.load_model`. If renaming is not possible, pass the object in the `custom_objects` parameter of the load function.\n",
            "WARNING:absl:<keras.layers.recurrent.LSTMCell object at 0x7efcbbd94b90> has the same name 'LSTMCell' as a built-in Keras object. Consider renaming <class 'keras.layers.recurrent.LSTMCell'> to avoid naming conflicts when loading with `tf.keras.models.load_model`. If renaming is not possible, pass the object in the `custom_objects` parameter of the load function.\n"
          ]
        },
        {
          "name": "stdout",
          "output_type": "stream",
          "text": [
            "\b\b\b\b\b\b\b\b\b\b\b\b\b\b\b\b\b\b\b\b\b\b\b\b\b\b\b\b\b\b\b\b\b\b\b\b\b\b\b\b\b\b\b\b\b\b\b\b\b\b\b\b\b\b\b\b\b\b\b\b\b\b\b\b\b\b\b\b\b\b\b\b\b\b\b\b\b\b\b\b\b\b\b\b\b\b\b\b\b\b\b\b\b\b\r21/21 [==============================] - 63s 3s/step - loss: 0.3743 - categorical_accuracy: 0.8462 - val_loss: 1.5126 - val_categorical_accuracy: 0.3900 - lr: 1.0000e-04\n",
            "Epoch 29/80\n",
            "21/21 [==============================] - ETA: 0s - loss: 0.3466 - categorical_accuracy: 0.8718\n",
            "Epoch 29: val_loss improved from 1.51263 to 1.29493, saving model to /content/drive/MyDrive/iiit-b assigments/gesture recognition/model_trained/model5_cnn_lstm_180_dims\n"
          ]
        },
        {
          "name": "stderr",
          "output_type": "stream",
          "text": [
            "WARNING:absl:<keras.layers.recurrent.LSTM object at 0x7efcbbd94f90> has the same name 'LSTM' as a built-in Keras object. Consider renaming <class 'keras.layers.recurrent.LSTM'> to avoid naming conflicts when loading with `tf.keras.models.load_model`. If renaming is not possible, pass the object in the `custom_objects` parameter of the load function.\n",
            "WARNING:absl:<keras.layers.recurrent.LSTMCell object at 0x7efcbbd94b90> has the same name 'LSTMCell' as a built-in Keras object. Consider renaming <class 'keras.layers.recurrent.LSTMCell'> to avoid naming conflicts when loading with `tf.keras.models.load_model`. If renaming is not possible, pass the object in the `custom_objects` parameter of the load function.\n"
          ]
        },
        {
          "name": "stdout",
          "output_type": "stream",
          "text": [
            "\b\b\b\b\b\b\b\b\b\b\b\b\b\b\b\b\b\b\b\b\b\b\b\b\b\b\b\b\b\b\b\b\b\b\b\b\b\b\b\b\b\b\b\b\b\b\b\b\b\b\b\b\b\b\b\b\b\b\b\b\b\b\b\b\b\b\b\b\b\b\b\b\b\b\b\b\b\b\b\b\b\b\b\b\b\b\b\b\b\b\b\b\b\b\r21/21 [==============================] - 64s 3s/step - loss: 0.3466 - categorical_accuracy: 0.8718 - val_loss: 1.2949 - val_categorical_accuracy: 0.4800 - lr: 1.0000e-04\n",
            "Epoch 30/80\n",
            "21/21 [==============================] - ETA: 0s - loss: 0.3366 - categorical_accuracy: 0.8748\n",
            "Epoch 30: val_loss did not improve from 1.29493\n",
            "21/21 [==============================] - 59s 3s/step - loss: 0.3366 - categorical_accuracy: 0.8748 - val_loss: 1.3100 - val_categorical_accuracy: 0.4800 - lr: 1.0000e-04\n",
            "Epoch 31/80\n",
            "21/21 [==============================] - ETA: 0s - loss: 0.3236 - categorical_accuracy: 0.8763\n",
            "Epoch 31: val_loss improved from 1.29493 to 1.14726, saving model to /content/drive/MyDrive/iiit-b assigments/gesture recognition/model_trained/model5_cnn_lstm_180_dims\n"
          ]
        },
        {
          "name": "stderr",
          "output_type": "stream",
          "text": [
            "WARNING:absl:<keras.layers.recurrent.LSTM object at 0x7efcbbd94f90> has the same name 'LSTM' as a built-in Keras object. Consider renaming <class 'keras.layers.recurrent.LSTM'> to avoid naming conflicts when loading with `tf.keras.models.load_model`. If renaming is not possible, pass the object in the `custom_objects` parameter of the load function.\n",
            "WARNING:absl:<keras.layers.recurrent.LSTMCell object at 0x7efcbbd94b90> has the same name 'LSTMCell' as a built-in Keras object. Consider renaming <class 'keras.layers.recurrent.LSTMCell'> to avoid naming conflicts when loading with `tf.keras.models.load_model`. If renaming is not possible, pass the object in the `custom_objects` parameter of the load function.\n"
          ]
        },
        {
          "name": "stdout",
          "output_type": "stream",
          "text": [
            "\b\b\b\b\b\b\b\b\b\b\b\b\b\b\b\b\b\b\b\b\b\b\b\b\b\b\b\b\b\b\b\b\b\b\b\b\b\b\b\b\b\b\b\b\b\b\b\b\b\b\b\b\b\b\b\b\b\b\b\b\b\b\b\b\b\b\b\b\b\b\b\b\b\b\b\b\b\b\b\b\b\b\b\b\b\b\b\b\b\b\b\b\b\b\r21/21 [==============================] - 65s 3s/step - loss: 0.3236 - categorical_accuracy: 0.8763 - val_loss: 1.1473 - val_categorical_accuracy: 0.5400 - lr: 1.0000e-04\n",
            "Epoch 32/80\n",
            "21/21 [==============================] - ETA: 0s - loss: 0.3469 - categorical_accuracy: 0.8673\n",
            "Epoch 32: val_loss did not improve from 1.14726\n",
            "21/21 [==============================] - 56s 3s/step - loss: 0.3469 - categorical_accuracy: 0.8673 - val_loss: 1.1885 - val_categorical_accuracy: 0.5700 - lr: 1.0000e-04\n",
            "Epoch 33/80\n",
            "21/21 [==============================] - ETA: 0s - loss: 0.3506 - categorical_accuracy: 0.8643\n",
            "Epoch 33: val_loss improved from 1.14726 to 1.01399, saving model to /content/drive/MyDrive/iiit-b assigments/gesture recognition/model_trained/model5_cnn_lstm_180_dims\n"
          ]
        },
        {
          "name": "stderr",
          "output_type": "stream",
          "text": [
            "WARNING:absl:<keras.layers.recurrent.LSTM object at 0x7efcbbd94f90> has the same name 'LSTM' as a built-in Keras object. Consider renaming <class 'keras.layers.recurrent.LSTM'> to avoid naming conflicts when loading with `tf.keras.models.load_model`. If renaming is not possible, pass the object in the `custom_objects` parameter of the load function.\n",
            "WARNING:absl:<keras.layers.recurrent.LSTMCell object at 0x7efcbbd94b90> has the same name 'LSTMCell' as a built-in Keras object. Consider renaming <class 'keras.layers.recurrent.LSTMCell'> to avoid naming conflicts when loading with `tf.keras.models.load_model`. If renaming is not possible, pass the object in the `custom_objects` parameter of the load function.\n"
          ]
        },
        {
          "name": "stdout",
          "output_type": "stream",
          "text": [
            "\b\b\b\b\b\b\b\b\b\b\b\b\b\b\b\b\b\b\b\b\b\b\b\b\b\b\b\b\b\b\b\b\b\b\b\b\b\b\b\b\b\b\b\b\b\b\b\b\b\b\b\b\b\b\b\b\b\b\b\b\b\b\b\b\b\b\b\b\b\b\b\b\b\b\b\b\b\b\b\b\b\b\b\b\b\b\b\b\b\b\b\b\b\b\r21/21 [==============================] - 64s 3s/step - loss: 0.3506 - categorical_accuracy: 0.8643 - val_loss: 1.0140 - val_categorical_accuracy: 0.6100 - lr: 1.0000e-04\n",
            "Epoch 34/80\n",
            "21/21 [==============================] - ETA: 0s - loss: 0.3312 - categorical_accuracy: 0.8808\n",
            "Epoch 34: val_loss improved from 1.01399 to 0.87132, saving model to /content/drive/MyDrive/iiit-b assigments/gesture recognition/model_trained/model5_cnn_lstm_180_dims\n"
          ]
        },
        {
          "name": "stderr",
          "output_type": "stream",
          "text": [
            "WARNING:absl:<keras.layers.recurrent.LSTM object at 0x7efcbbd94f90> has the same name 'LSTM' as a built-in Keras object. Consider renaming <class 'keras.layers.recurrent.LSTM'> to avoid naming conflicts when loading with `tf.keras.models.load_model`. If renaming is not possible, pass the object in the `custom_objects` parameter of the load function.\n",
            "WARNING:absl:<keras.layers.recurrent.LSTMCell object at 0x7efcbbd94b90> has the same name 'LSTMCell' as a built-in Keras object. Consider renaming <class 'keras.layers.recurrent.LSTMCell'> to avoid naming conflicts when loading with `tf.keras.models.load_model`. If renaming is not possible, pass the object in the `custom_objects` parameter of the load function.\n"
          ]
        },
        {
          "name": "stdout",
          "output_type": "stream",
          "text": [
            "\b\b\b\b\b\b\b\b\b\b\b\b\b\b\b\b\b\b\b\b\b\b\b\b\b\b\b\b\b\b\b\b\b\b\b\b\b\b\b\b\b\b\b\b\b\b\b\b\b\b\b\b\b\b\b\b\b\b\b\b\b\b\b\b\b\b\b\b\b\b\b\b\b\b\b\b\b\b\b\b\b\b\b\b\b\b\b\b\b\b\b\b\b\b\r21/21 [==============================] - 65s 3s/step - loss: 0.3312 - categorical_accuracy: 0.8808 - val_loss: 0.8713 - val_categorical_accuracy: 0.6300 - lr: 1.0000e-04\n",
            "Epoch 35/80\n",
            "21/21 [==============================] - ETA: 0s - loss: 0.3346 - categorical_accuracy: 0.8763\n",
            "Epoch 35: val_loss did not improve from 0.87132\n",
            "21/21 [==============================] - 58s 3s/step - loss: 0.3346 - categorical_accuracy: 0.8763 - val_loss: 1.1764 - val_categorical_accuracy: 0.6200 - lr: 1.0000e-04\n",
            "Epoch 36/80\n",
            "21/21 [==============================] - ETA: 0s - loss: 0.3343 - categorical_accuracy: 0.8748\n",
            "Epoch 36: val_loss improved from 0.87132 to 0.80732, saving model to /content/drive/MyDrive/iiit-b assigments/gesture recognition/model_trained/model5_cnn_lstm_180_dims\n"
          ]
        },
        {
          "name": "stderr",
          "output_type": "stream",
          "text": [
            "WARNING:absl:<keras.layers.recurrent.LSTM object at 0x7efcbbd94f90> has the same name 'LSTM' as a built-in Keras object. Consider renaming <class 'keras.layers.recurrent.LSTM'> to avoid naming conflicts when loading with `tf.keras.models.load_model`. If renaming is not possible, pass the object in the `custom_objects` parameter of the load function.\n",
            "WARNING:absl:<keras.layers.recurrent.LSTMCell object at 0x7efcbbd94b90> has the same name 'LSTMCell' as a built-in Keras object. Consider renaming <class 'keras.layers.recurrent.LSTMCell'> to avoid naming conflicts when loading with `tf.keras.models.load_model`. If renaming is not possible, pass the object in the `custom_objects` parameter of the load function.\n"
          ]
        },
        {
          "name": "stdout",
          "output_type": "stream",
          "text": [
            "\b\b\b\b\b\b\b\b\b\b\b\b\b\b\b\b\b\b\b\b\b\b\b\b\b\b\b\b\b\b\b\b\b\b\b\b\b\b\b\b\b\b\b\b\b\b\b\b\b\b\b\b\b\b\b\b\b\b\b\b\b\b\b\b\b\b\b\b\b\b\b\b\b\b\b\b\b\b\b\b\b\b\b\b\b\b\b\b\b\b\b\b\b\b\r21/21 [==============================] - 61s 3s/step - loss: 0.3343 - categorical_accuracy: 0.8748 - val_loss: 0.8073 - val_categorical_accuracy: 0.6500 - lr: 1.0000e-04\n",
            "Epoch 37/80\n",
            "21/21 [==============================] - ETA: 0s - loss: 0.3192 - categorical_accuracy: 0.8854\n",
            "Epoch 37: val_loss improved from 0.80732 to 0.79910, saving model to /content/drive/MyDrive/iiit-b assigments/gesture recognition/model_trained/model5_cnn_lstm_180_dims\n"
          ]
        },
        {
          "name": "stderr",
          "output_type": "stream",
          "text": [
            "WARNING:absl:<keras.layers.recurrent.LSTM object at 0x7efcbbd94f90> has the same name 'LSTM' as a built-in Keras object. Consider renaming <class 'keras.layers.recurrent.LSTM'> to avoid naming conflicts when loading with `tf.keras.models.load_model`. If renaming is not possible, pass the object in the `custom_objects` parameter of the load function.\n",
            "WARNING:absl:<keras.layers.recurrent.LSTMCell object at 0x7efcbbd94b90> has the same name 'LSTMCell' as a built-in Keras object. Consider renaming <class 'keras.layers.recurrent.LSTMCell'> to avoid naming conflicts when loading with `tf.keras.models.load_model`. If renaming is not possible, pass the object in the `custom_objects` parameter of the load function.\n"
          ]
        },
        {
          "name": "stdout",
          "output_type": "stream",
          "text": [
            "\b\b\b\b\b\b\b\b\b\b\b\b\b\b\b\b\b\b\b\b\b\b\b\b\b\b\b\b\b\b\b\b\b\b\b\b\b\b\b\b\b\b\b\b\b\b\b\b\b\b\b\b\b\b\b\b\b\b\b\b\b\b\b\b\b\b\b\b\b\b\b\b\b\b\b\b\b\b\b\b\b\b\b\b\b\b\b\b\b\b\b\b\b\b\r21/21 [==============================] - 64s 3s/step - loss: 0.3192 - categorical_accuracy: 0.8854 - val_loss: 0.7991 - val_categorical_accuracy: 0.6800 - lr: 1.0000e-04\n",
            "Epoch 38/80\n",
            "21/21 [==============================] - ETA: 0s - loss: 0.3302 - categorical_accuracy: 0.8808\n",
            "Epoch 38: val_loss did not improve from 0.79910\n",
            "21/21 [==============================] - 58s 3s/step - loss: 0.3302 - categorical_accuracy: 0.8808 - val_loss: 1.1568 - val_categorical_accuracy: 0.5900 - lr: 1.0000e-04\n",
            "Epoch 39/80\n",
            "21/21 [==============================] - ETA: 0s - loss: 0.2826 - categorical_accuracy: 0.8944\n",
            "Epoch 39: val_loss improved from 0.79910 to 0.64028, saving model to /content/drive/MyDrive/iiit-b assigments/gesture recognition/model_trained/model5_cnn_lstm_180_dims\n"
          ]
        },
        {
          "name": "stderr",
          "output_type": "stream",
          "text": [
            "WARNING:absl:<keras.layers.recurrent.LSTM object at 0x7efcbbd94f90> has the same name 'LSTM' as a built-in Keras object. Consider renaming <class 'keras.layers.recurrent.LSTM'> to avoid naming conflicts when loading with `tf.keras.models.load_model`. If renaming is not possible, pass the object in the `custom_objects` parameter of the load function.\n",
            "WARNING:absl:<keras.layers.recurrent.LSTMCell object at 0x7efcbbd94b90> has the same name 'LSTMCell' as a built-in Keras object. Consider renaming <class 'keras.layers.recurrent.LSTMCell'> to avoid naming conflicts when loading with `tf.keras.models.load_model`. If renaming is not possible, pass the object in the `custom_objects` parameter of the load function.\n"
          ]
        },
        {
          "name": "stdout",
          "output_type": "stream",
          "text": [
            "\b\b\b\b\b\b\b\b\b\b\b\b\b\b\b\b\b\b\b\b\b\b\b\b\b\b\b\b\b\b\b\b\b\b\b\b\b\b\b\b\b\b\b\b\b\b\b\b\b\b\b\b\b\b\b\b\b\b\b\b\b\b\b\b\b\b\b\b\b\b\b\b\b\b\b\b\b\b\b\b\b\b\b\b\b\b\b\b\b\b\b\b\b\b\r21/21 [==============================] - 63s 3s/step - loss: 0.2826 - categorical_accuracy: 0.8944 - val_loss: 0.6403 - val_categorical_accuracy: 0.7600 - lr: 1.0000e-04\n",
            "Epoch 40/80\n",
            "21/21 [==============================] - ETA: 0s - loss: 0.2745 - categorical_accuracy: 0.8899\n",
            "Epoch 40: val_loss improved from 0.64028 to 0.52115, saving model to /content/drive/MyDrive/iiit-b assigments/gesture recognition/model_trained/model5_cnn_lstm_180_dims\n"
          ]
        },
        {
          "name": "stderr",
          "output_type": "stream",
          "text": [
            "WARNING:absl:<keras.layers.recurrent.LSTM object at 0x7efcbbd94f90> has the same name 'LSTM' as a built-in Keras object. Consider renaming <class 'keras.layers.recurrent.LSTM'> to avoid naming conflicts when loading with `tf.keras.models.load_model`. If renaming is not possible, pass the object in the `custom_objects` parameter of the load function.\n",
            "WARNING:absl:<keras.layers.recurrent.LSTMCell object at 0x7efcbbd94b90> has the same name 'LSTMCell' as a built-in Keras object. Consider renaming <class 'keras.layers.recurrent.LSTMCell'> to avoid naming conflicts when loading with `tf.keras.models.load_model`. If renaming is not possible, pass the object in the `custom_objects` parameter of the load function.\n"
          ]
        },
        {
          "name": "stdout",
          "output_type": "stream",
          "text": [
            "\b\b\b\b\b\b\b\b\b\b\b\b\b\b\b\b\b\b\b\b\b\b\b\b\b\b\b\b\b\b\b\b\b\b\b\b\b\b\b\b\b\b\b\b\b\b\b\b\b\b\b\b\b\b\b\b\b\b\b\b\b\b\b\b\b\b\b\b\b\b\b\b\b\b\b\b\b\b\b\b\b\b\b\b\b\b\b\b\b\b\b\b\b\b\r21/21 [==============================] - 62s 3s/step - loss: 0.2745 - categorical_accuracy: 0.8899 - val_loss: 0.5212 - val_categorical_accuracy: 0.7500 - lr: 1.0000e-04\n",
            "Epoch 41/80\n",
            "21/21 [==============================] - ETA: 0s - loss: 0.2970 - categorical_accuracy: 0.9050\n",
            "Epoch 41: val_loss did not improve from 0.52115\n",
            "21/21 [==============================] - 58s 3s/step - loss: 0.2970 - categorical_accuracy: 0.9050 - val_loss: 0.5715 - val_categorical_accuracy: 0.7700 - lr: 1.0000e-04\n",
            "Epoch 42/80\n",
            "21/21 [==============================] - ETA: 0s - loss: 0.2781 - categorical_accuracy: 0.9035\n",
            "Epoch 42: val_loss did not improve from 0.52115\n",
            "21/21 [==============================] - 58s 3s/step - loss: 0.2781 - categorical_accuracy: 0.9035 - val_loss: 0.8078 - val_categorical_accuracy: 0.7100 - lr: 1.0000e-04\n",
            "Epoch 43/80\n",
            "21/21 [==============================] - ETA: 0s - loss: 0.2586 - categorical_accuracy: 0.9110\n",
            "Epoch 43: val_loss did not improve from 0.52115\n",
            "21/21 [==============================] - 58s 3s/step - loss: 0.2586 - categorical_accuracy: 0.9110 - val_loss: 0.7477 - val_categorical_accuracy: 0.7500 - lr: 1.0000e-04\n",
            "Epoch 44/80\n",
            "21/21 [==============================] - ETA: 0s - loss: 0.2630 - categorical_accuracy: 0.8959\n",
            "Epoch 44: val_loss did not improve from 0.52115\n",
            "21/21 [==============================] - 56s 3s/step - loss: 0.2630 - categorical_accuracy: 0.8959 - val_loss: 0.6002 - val_categorical_accuracy: 0.7700 - lr: 1.0000e-04\n",
            "Epoch 45/80\n",
            "21/21 [==============================] - ETA: 0s - loss: 0.2350 - categorical_accuracy: 0.9080\n",
            "Epoch 45: val_loss did not improve from 0.52115\n",
            "21/21 [==============================] - 58s 3s/step - loss: 0.2350 - categorical_accuracy: 0.9080 - val_loss: 0.7748 - val_categorical_accuracy: 0.7100 - lr: 1.0000e-04\n",
            "Epoch 46/80\n",
            "21/21 [==============================] - ETA: 0s - loss: 0.2786 - categorical_accuracy: 0.9095\n",
            "Epoch 46: val_loss did not improve from 0.52115\n",
            "21/21 [==============================] - 58s 3s/step - loss: 0.2786 - categorical_accuracy: 0.9095 - val_loss: 0.8074 - val_categorical_accuracy: 0.7600 - lr: 1.0000e-04\n",
            "Epoch 47/80\n",
            "21/21 [==============================] - ETA: 0s - loss: 0.2470 - categorical_accuracy: 0.9246\n",
            "Epoch 47: val_loss did not improve from 0.52115\n",
            "21/21 [==============================] - 58s 3s/step - loss: 0.2470 - categorical_accuracy: 0.9246 - val_loss: 0.6001 - val_categorical_accuracy: 0.7600 - lr: 1.0000e-04\n",
            "Epoch 48/80\n",
            "21/21 [==============================] - ETA: 0s - loss: 0.2412 - categorical_accuracy: 0.9201\n",
            "Epoch 48: val_loss did not improve from 0.52115\n",
            "21/21 [==============================] - 56s 3s/step - loss: 0.2412 - categorical_accuracy: 0.9201 - val_loss: 0.5378 - val_categorical_accuracy: 0.8200 - lr: 1.0000e-04\n",
            "Epoch 49/80\n",
            "21/21 [==============================] - ETA: 0s - loss: 0.2300 - categorical_accuracy: 0.9155\n",
            "Epoch 49: val_loss did not improve from 0.52115\n",
            "21/21 [==============================] - 58s 3s/step - loss: 0.2300 - categorical_accuracy: 0.9155 - val_loss: 0.7141 - val_categorical_accuracy: 0.7500 - lr: 1.0000e-04\n",
            "Epoch 50/80\n",
            "21/21 [==============================] - ETA: 0s - loss: 0.2327 - categorical_accuracy: 0.9186\n",
            "Epoch 50: val_loss did not improve from 0.52115\n",
            "21/21 [==============================] - 58s 3s/step - loss: 0.2327 - categorical_accuracy: 0.9186 - val_loss: 0.6711 - val_categorical_accuracy: 0.7700 - lr: 1.0000e-04\n",
            "Epoch 51/80\n",
            "21/21 [==============================] - ETA: 0s - loss: 0.2465 - categorical_accuracy: 0.9155\n",
            "Epoch 51: val_loss did not improve from 0.52115\n",
            "21/21 [==============================] - 58s 3s/step - loss: 0.2465 - categorical_accuracy: 0.9155 - val_loss: 0.6147 - val_categorical_accuracy: 0.7800 - lr: 1.0000e-04\n",
            "Epoch 52/80\n",
            "21/21 [==============================] - ETA: 0s - loss: 0.2527 - categorical_accuracy: 0.9110\n",
            "Epoch 52: val_loss improved from 0.52115 to 0.45178, saving model to /content/drive/MyDrive/iiit-b assigments/gesture recognition/model_trained/model5_cnn_lstm_180_dims\n"
          ]
        },
        {
          "name": "stderr",
          "output_type": "stream",
          "text": [
            "WARNING:absl:<keras.layers.recurrent.LSTM object at 0x7efcbbd94f90> has the same name 'LSTM' as a built-in Keras object. Consider renaming <class 'keras.layers.recurrent.LSTM'> to avoid naming conflicts when loading with `tf.keras.models.load_model`. If renaming is not possible, pass the object in the `custom_objects` parameter of the load function.\n",
            "WARNING:absl:<keras.layers.recurrent.LSTMCell object at 0x7efcbbd94b90> has the same name 'LSTMCell' as a built-in Keras object. Consider renaming <class 'keras.layers.recurrent.LSTMCell'> to avoid naming conflicts when loading with `tf.keras.models.load_model`. If renaming is not possible, pass the object in the `custom_objects` parameter of the load function.\n"
          ]
        },
        {
          "name": "stdout",
          "output_type": "stream",
          "text": [
            "\b\b\b\b\b\b\b\b\b\b\b\b\b\b\b\b\b\b\b\b\b\b\b\b\b\b\b\b\b\b\b\b\b\b\b\b\b\b\b\b\b\b\b\b\b\b\b\b\b\b\b\b\b\b\b\b\b\b\b\b\b\b\b\b\b\b\b\b\b\b\b\b\b\b\b\b\b\b\b\b\b\b\b\b\b\b\b\b\b\b\b\b\b\b\r21/21 [==============================] - 63s 3s/step - loss: 0.2527 - categorical_accuracy: 0.9110 - val_loss: 0.4518 - val_categorical_accuracy: 0.8400 - lr: 1.0000e-04\n",
            "Epoch 53/80\n",
            "21/21 [==============================] - ETA: 0s - loss: 0.2549 - categorical_accuracy: 0.9170\n",
            "Epoch 53: val_loss did not improve from 0.45178\n",
            "21/21 [==============================] - 58s 3s/step - loss: 0.2549 - categorical_accuracy: 0.9170 - val_loss: 0.5679 - val_categorical_accuracy: 0.8300 - lr: 1.0000e-04\n",
            "Epoch 54/80\n",
            "21/21 [==============================] - ETA: 0s - loss: 0.2268 - categorical_accuracy: 0.9216\n",
            "Epoch 54: val_loss did not improve from 0.45178\n",
            "21/21 [==============================] - 58s 3s/step - loss: 0.2268 - categorical_accuracy: 0.9216 - val_loss: 0.4813 - val_categorical_accuracy: 0.8000 - lr: 1.0000e-04\n",
            "Epoch 55/80\n",
            "21/21 [==============================] - ETA: 0s - loss: 0.2162 - categorical_accuracy: 0.9261\n",
            "Epoch 55: val_loss did not improve from 0.45178\n",
            "21/21 [==============================] - 58s 3s/step - loss: 0.2162 - categorical_accuracy: 0.9261 - val_loss: 0.7022 - val_categorical_accuracy: 0.7900 - lr: 1.0000e-04\n",
            "Epoch 56/80\n",
            "21/21 [==============================] - ETA: 0s - loss: 0.2015 - categorical_accuracy: 0.9276\n",
            "Epoch 56: val_loss did not improve from 0.45178\n",
            "21/21 [==============================] - 56s 3s/step - loss: 0.2015 - categorical_accuracy: 0.9276 - val_loss: 0.5846 - val_categorical_accuracy: 0.8100 - lr: 1.0000e-04\n",
            "Epoch 57/80\n",
            "21/21 [==============================] - ETA: 0s - loss: 0.1964 - categorical_accuracy: 0.9397\n",
            "Epoch 57: val_loss did not improve from 0.45178\n",
            "21/21 [==============================] - 58s 3s/step - loss: 0.1964 - categorical_accuracy: 0.9397 - val_loss: 0.5340 - val_categorical_accuracy: 0.8400 - lr: 1.0000e-04\n",
            "Epoch 58/80\n",
            "21/21 [==============================] - ETA: 0s - loss: 0.2153 - categorical_accuracy: 0.9276\n",
            "Epoch 58: val_loss did not improve from 0.45178\n",
            "21/21 [==============================] - 58s 3s/step - loss: 0.2153 - categorical_accuracy: 0.9276 - val_loss: 0.6328 - val_categorical_accuracy: 0.7300 - lr: 1.0000e-04\n",
            "Epoch 59/80\n",
            "21/21 [==============================] - ETA: 0s - loss: 0.1952 - categorical_accuracy: 0.9291\n",
            "Epoch 59: val_loss did not improve from 0.45178\n",
            "21/21 [==============================] - 57s 3s/step - loss: 0.1952 - categorical_accuracy: 0.9291 - val_loss: 0.7109 - val_categorical_accuracy: 0.8000 - lr: 1.0000e-04\n",
            "Epoch 60/80\n",
            "21/21 [==============================] - ETA: 0s - loss: 0.1840 - categorical_accuracy: 0.9397\n",
            "Epoch 60: val_loss did not improve from 0.45178\n",
            "21/21 [==============================] - 56s 3s/step - loss: 0.1840 - categorical_accuracy: 0.9397 - val_loss: 0.7185 - val_categorical_accuracy: 0.7800 - lr: 1.0000e-04\n",
            "Epoch 61/80\n",
            "21/21 [==============================] - ETA: 0s - loss: 0.2112 - categorical_accuracy: 0.9246\n",
            "Epoch 61: val_loss did not improve from 0.45178\n",
            "21/21 [==============================] - 58s 3s/step - loss: 0.2112 - categorical_accuracy: 0.9246 - val_loss: 0.5099 - val_categorical_accuracy: 0.8000 - lr: 1.0000e-04\n",
            "Epoch 62/80\n",
            "21/21 [==============================] - ETA: 0s - loss: 0.2014 - categorical_accuracy: 0.9276\n",
            "Epoch 62: val_loss did not improve from 0.45178\n",
            "21/21 [==============================] - 58s 3s/step - loss: 0.2014 - categorical_accuracy: 0.9276 - val_loss: 0.7061 - val_categorical_accuracy: 0.7500 - lr: 1.0000e-04\n",
            "Epoch 63/80\n",
            "21/21 [==============================] - ETA: 0s - loss: 0.2396 - categorical_accuracy: 0.9140\n",
            "Epoch 63: val_loss did not improve from 0.45178\n",
            "21/21 [==============================] - 57s 3s/step - loss: 0.2396 - categorical_accuracy: 0.9140 - val_loss: 0.8098 - val_categorical_accuracy: 0.7000 - lr: 1.0000e-04\n",
            "Epoch 64/80\n",
            "21/21 [==============================] - ETA: 0s - loss: 0.2036 - categorical_accuracy: 0.9291\n",
            "Epoch 64: val_loss did not improve from 0.45178\n",
            "21/21 [==============================] - 57s 3s/step - loss: 0.2036 - categorical_accuracy: 0.9291 - val_loss: 0.6524 - val_categorical_accuracy: 0.8300 - lr: 1.0000e-04\n",
            "Epoch 65/80\n",
            "21/21 [==============================] - ETA: 0s - loss: 0.1921 - categorical_accuracy: 0.9397\n",
            "Epoch 65: val_loss did not improve from 0.45178\n",
            "21/21 [==============================] - 58s 3s/step - loss: 0.1921 - categorical_accuracy: 0.9397 - val_loss: 0.4716 - val_categorical_accuracy: 0.8600 - lr: 1.0000e-04\n",
            "Epoch 66/80\n",
            "21/21 [==============================] - ETA: 0s - loss: 0.1921 - categorical_accuracy: 0.9201\n",
            "Epoch 66: val_loss did not improve from 0.45178\n",
            "21/21 [==============================] - 57s 3s/step - loss: 0.1921 - categorical_accuracy: 0.9201 - val_loss: 0.4569 - val_categorical_accuracy: 0.8400 - lr: 1.0000e-04\n",
            "Epoch 67/80\n",
            "21/21 [==============================] - ETA: 0s - loss: 0.1472 - categorical_accuracy: 0.9653\n",
            "Epoch 67: val_loss did not improve from 0.45178\n",
            "21/21 [==============================] - 58s 3s/step - loss: 0.1472 - categorical_accuracy: 0.9653 - val_loss: 0.5834 - val_categorical_accuracy: 0.8200 - lr: 1.0000e-04\n",
            "Epoch 68/80\n",
            "21/21 [==============================] - ETA: 0s - loss: 0.1582 - categorical_accuracy: 0.9427\n",
            "Epoch 68: val_loss did not improve from 0.45178\n",
            "21/21 [==============================] - 56s 3s/step - loss: 0.1582 - categorical_accuracy: 0.9427 - val_loss: 0.4645 - val_categorical_accuracy: 0.8000 - lr: 1.0000e-04\n",
            "Epoch 69/80\n",
            "21/21 [==============================] - ETA: 0s - loss: 0.1764 - categorical_accuracy: 0.9382\n",
            "Epoch 69: val_loss did not improve from 0.45178\n",
            "21/21 [==============================] - 58s 3s/step - loss: 0.1764 - categorical_accuracy: 0.9382 - val_loss: 0.5105 - val_categorical_accuracy: 0.8300 - lr: 1.0000e-04\n",
            "Epoch 70/80\n",
            "21/21 [==============================] - ETA: 0s - loss: 0.1731 - categorical_accuracy: 0.9487\n",
            "Epoch 70: val_loss did not improve from 0.45178\n",
            "21/21 [==============================] - 58s 3s/step - loss: 0.1731 - categorical_accuracy: 0.9487 - val_loss: 0.5534 - val_categorical_accuracy: 0.7800 - lr: 1.0000e-04\n",
            "Epoch 71/80\n",
            "21/21 [==============================] - ETA: 0s - loss: 0.1471 - categorical_accuracy: 0.9548\n",
            "Epoch 71: val_loss did not improve from 0.45178\n",
            "21/21 [==============================] - 58s 3s/step - loss: 0.1471 - categorical_accuracy: 0.9548 - val_loss: 0.5395 - val_categorical_accuracy: 0.8200 - lr: 1.0000e-04\n",
            "Epoch 72/80\n",
            "21/21 [==============================] - ETA: 0s - loss: 0.1498 - categorical_accuracy: 0.9502\n",
            "Epoch 72: val_loss did not improve from 0.45178\n",
            "21/21 [==============================] - 56s 3s/step - loss: 0.1498 - categorical_accuracy: 0.9502 - val_loss: 0.7641 - val_categorical_accuracy: 0.7800 - lr: 1.0000e-04\n",
            "Epoch 72: early stopping\n"
          ]
        }
      ],
      "source": [
        "\n",
        "history5 = model5.fit_generator(train_generator, steps_per_epoch=steps_per_epoch, epochs=num_epochs, verbose=1, \n",
        "                    callbacks=callback_list, validation_data=val_generator, \n",
        "                    validation_steps=validation_steps, class_weight=None, workers=1, initial_epoch=0)"
      ]
    },
    {
      "cell_type": "code",
      "execution_count": null,
      "metadata": {
        "colab": {
          "base_uri": "https://localhost:8080/",
          "height": 264
        },
        "id": "6HX2NCJYFtc0",
        "outputId": "fc1f1538-0db7-4da4-a8d0-203de1a23895"
      },
      "outputs": [
        {
          "data": {
            "image/png": "[encoded data removed]",
            "text/plain": [
              "<Figure size 1080x288 with 2 Axes>"
            ]
          },
          "metadata": {
            "needs_background": "light"
          },
          "output_type": "display_data"
        }
      ],
      "source": [
        "plot_results(history5)"
      ]
    },
    {
      "cell_type": "markdown",
      "metadata": {
        "id": "3whkILXBEFPU"
      },
      "source": [
        "#### Model 11: CNN + LSTM (Reduced CNN layers)"
      ]
    },
    {
      "cell_type": "code",
      "execution_count": null,
      "metadata": {
        "id": "G1WgeJbkCvUQ"
      },
      "outputs": [],
      "source": [
        "x_dim,y_dim = 120,120\n",
        "model6 = Sequential()\n",
        "model6.add(TimeDistributed(Conv2D(32, (3,3),padding='same', activation='relu'), input_shape=(15,x_dim,y_dim,3)))\n",
        "model6.add(TimeDistributed(BatchNormalization()))\n",
        "model6.add(TimeDistributed(MaxPooling2D((2,2))))\n",
        "model6.add(Dropout(0.2))\n",
        "\n",
        "model6.add(TimeDistributed(Conv2D(64, (3,3),padding='same', activation='relu')))\n",
        "model6.add(TimeDistributed(BatchNormalization()))\n",
        "model6.add(TimeDistributed(MaxPooling2D((2,2))))\n",
        "model6.add(Dropout(0.2))\n",
        "\n",
        "model6.add(TimeDistributed(Conv2D(128, (3,3),padding='same', activation='relu')))\n",
        "model6.add(TimeDistributed(BatchNormalization()))\n",
        "\n",
        "model6.add(TimeDistributed(GlobalAveragePooling2D()))\n",
        "\n",
        "model6.add(LSTM(64))\n",
        "model6.add(Dense(64, activation='relu'))\n",
        "model6.add(Dense(32, activation='relu'))\n",
        "model6.add(Dropout(0.2))\n",
        "model6.add(Dense(5, activation='softmax'))"
      ]
    },
    {
      "cell_type": "code",
      "execution_count": null,
      "metadata": {
        "colab": {
          "base_uri": "https://localhost:8080/"
        },
        "id": "22h-yloWCvcO",
        "outputId": "c3d0a35d-eace-4b34-8ec0-46fb6b8aac77"
      },
      "outputs": [
        {
          "name": "stdout",
          "output_type": "stream",
          "text": [
            "Model: \"sequential_7\"\n",
            "_________________________________________________________________\n",
            " Layer (type)                Output Shape              Param #   \n",
            "=================================================================\n",
            " time_distributed_57 (TimeDi  (None, 15, 120, 120, 32)  896      \n",
            " stributed)                                                      \n",
            "                                                                 \n",
            " time_distributed_58 (TimeDi  (None, 15, 120, 120, 32)  128      \n",
            " stributed)                                                      \n",
            "                                                                 \n",
            " time_distributed_59 (TimeDi  (None, 15, 60, 60, 32)   0         \n",
            " stributed)                                                      \n",
            "                                                                 \n",
            " dropout_19 (Dropout)        (None, 15, 60, 60, 32)    0         \n",
            "                                                                 \n",
            " time_distributed_60 (TimeDi  (None, 15, 60, 60, 64)   18496     \n",
            " stributed)                                                      \n",
            "                                                                 \n",
            " time_distributed_61 (TimeDi  (None, 15, 60, 60, 64)   256       \n",
            " stributed)                                                      \n",
            "                                                                 \n",
            " time_distributed_62 (TimeDi  (None, 15, 30, 30, 64)   0         \n",
            " stributed)                                                      \n",
            "                                                                 \n",
            " dropout_20 (Dropout)        (None, 15, 30, 30, 64)    0         \n",
            "                                                                 \n",
            " time_distributed_63 (TimeDi  (None, 15, 30, 30, 128)  73856     \n",
            " stributed)                                                      \n",
            "                                                                 \n",
            " time_distributed_64 (TimeDi  (None, 15, 30, 30, 128)  512       \n",
            " stributed)                                                      \n",
            "                                                                 \n",
            " time_distributed_65 (TimeDi  (None, 15, 128)          0         \n",
            " stributed)                                                      \n",
            "                                                                 \n",
            " lstm_5 (LSTM)               (None, 64)                49408     \n",
            "                                                                 \n",
            " dense_15 (Dense)            (None, 64)                4160      \n",
            "                                                                 \n",
            " dense_16 (Dense)            (None, 32)                2080      \n",
            "                                                                 \n",
            " dropout_21 (Dropout)        (None, 32)                0         \n",
            "                                                                 \n",
            " dense_17 (Dense)            (None, 5)                 165       \n",
            "                                                                 \n",
            "=================================================================\n",
            "Total params: 149,957\n",
            "Trainable params: 149,509\n",
            "Non-trainable params: 448\n",
            "_________________________________________________________________\n"
          ]
        }
      ],
      "source": [
        "model6.summary()"
      ]
    },
    {
      "cell_type": "code",
      "execution_count": null,
      "metadata": {
        "id": "XOX2XgB2GMef"
      },
      "outputs": [],
      "source": [
        "model6.compile(optimizer='adam', loss='categorical_crossentropy', metrics=['categorical_accuracy'])\n",
        "num_epochs = 80\n",
        "x_dims,y_dims = 120,120\n",
        "batch_size = 32\n",
        "callback_list = callback_defination('model6_cnn_lstm_cnn_reduced')\n",
        "##generator \n",
        "train_generator = generator(train_path,data_train, batch_size,x_dims,y_dims)\n",
        "val_generator = generator(val_path, data_test, batch_size,x_dims,y_dims)\n",
        "\n"
      ]
    },
    {
      "cell_type": "code",
      "execution_count": null,
      "metadata": {
        "colab": {
          "base_uri": "https://localhost:8080/"
        },
        "id": "LY6sryhiGOfJ",
        "outputId": "b17e15bb-2f54-4767-effe-310d778ae5b6"
      },
      "outputs": [
        {
          "name": "stdout",
          "output_type": "stream",
          "text": [
            "Source path =  /content/drive/MyDrive/iiit-b assigments/gesture recognition/Project_data/train ; batch size = 32\n"
          ]
        },
        {
          "name": "stderr",
          "output_type": "stream",
          "text": [
            "/usr/local/lib/python3.7/dist-packages/ipykernel_launcher.py:4: UserWarning: `Model.fit_generator` is deprecated and will be removed in a future version. Please use `Model.fit`, which supports generators.\n",
            "  after removing the cwd from sys.path.\n"
          ]
        },
        {
          "name": "stdout",
          "output_type": "stream",
          "text": [
            "Epoch 1/80\n",
            "21/21 [==============================] - ETA: 0s - loss: 1.3961 - categorical_accuracy: 0.3816Source path =  /content/drive/MyDrive/iiit-b assigments/gesture recognition/Project_data/val ; batch size = 32\n",
            "\n",
            "Epoch 1: val_loss improved from inf to 1.66052, saving model to /content/drive/MyDrive/iiit-b assigments/gesture recognition/model_trained/model6_cnn_lstm_cnn_reduced\n"
          ]
        },
        {
          "name": "stderr",
          "output_type": "stream",
          "text": [
            "WARNING:absl:<keras.layers.recurrent.LSTM object at 0x7f018016a750> has the same name 'LSTM' as a built-in Keras object. Consider renaming <class 'keras.layers.recurrent.LSTM'> to avoid naming conflicts when loading with `tf.keras.models.load_model`. If renaming is not possible, pass the object in the `custom_objects` parameter of the load function.\n",
            "WARNING:absl:<keras.layers.recurrent.LSTMCell object at 0x7efcbfd6aa50> has the same name 'LSTMCell' as a built-in Keras object. Consider renaming <class 'keras.layers.recurrent.LSTMCell'> to avoid naming conflicts when loading with `tf.keras.models.load_model`. If renaming is not possible, pass the object in the `custom_objects` parameter of the load function.\n"
          ]
        },
        {
          "name": "stdout",
          "output_type": "stream",
          "text": [
            "\b\b\b\b\b\b\b\b\b\b\b\b\b\b\b\b\b\b\b\b\b\b\b\b\b\b\b\b\b\b\b\b\b\b\b\b\b\b\b\b\b\b\b\b\b\b\b\b\b\b\b\b\b\b\b\b\b\b\b\b\b\b\b\b\b\b\b\b\b\b\b\b\b\b\b\b\b\b\b\b\b\b\b\b\b\b\b\b\b\b\b\b\b\b\r21/21 [==============================] - 62s 3s/step - loss: 1.3961 - categorical_accuracy: 0.3816 - val_loss: 1.6605 - val_categorical_accuracy: 0.1500 - lr: 0.0010\n",
            "Epoch 2/80\n",
            "21/21 [==============================] - ETA: 0s - loss: 1.1866 - categorical_accuracy: 0.4796\n",
            "Epoch 2: val_loss did not improve from 1.66052\n",
            "21/21 [==============================] - 52s 3s/step - loss: 1.1866 - categorical_accuracy: 0.4796 - val_loss: 1.7517 - val_categorical_accuracy: 0.2700 - lr: 0.0010\n",
            "Epoch 3/80\n",
            "21/21 [==============================] - ETA: 0s - loss: 1.0371 - categorical_accuracy: 0.5385\n",
            "Epoch 3: val_loss did not improve from 1.66052\n",
            "21/21 [==============================] - 52s 3s/step - loss: 1.0371 - categorical_accuracy: 0.5385 - val_loss: 1.8865 - val_categorical_accuracy: 0.1400 - lr: 0.0010\n",
            "Epoch 4/80\n",
            "21/21 [==============================] - ETA: 0s - loss: 0.9615 - categorical_accuracy: 0.5958\n",
            "Epoch 4: val_loss did not improve from 1.66052\n",
            "21/21 [==============================] - 51s 3s/step - loss: 0.9615 - categorical_accuracy: 0.5958 - val_loss: 1.9353 - val_categorical_accuracy: 0.1700 - lr: 0.0010\n",
            "Epoch 5/80\n",
            "21/21 [==============================] - ETA: 0s - loss: 0.8973 - categorical_accuracy: 0.6214\n",
            "Epoch 5: val_loss did not improve from 1.66052\n",
            "21/21 [==============================] - 52s 3s/step - loss: 0.8973 - categorical_accuracy: 0.6214 - val_loss: 1.9700 - val_categorical_accuracy: 0.2200 - lr: 0.0010\n",
            "Epoch 6/80\n",
            "21/21 [==============================] - ETA: 0s - loss: 0.8601 - categorical_accuracy: 0.6531\n",
            "Epoch 6: val_loss did not improve from 1.66052\n",
            "21/21 [==============================] - 53s 3s/step - loss: 0.8601 - categorical_accuracy: 0.6531 - val_loss: 2.1673 - val_categorical_accuracy: 0.2200 - lr: 0.0010\n",
            "Epoch 7/80\n",
            "21/21 [==============================] - ETA: 0s - loss: 0.7803 - categorical_accuracy: 0.6772\n",
            "Epoch 7: val_loss did not improve from 1.66052\n",
            "21/21 [==============================] - 53s 3s/step - loss: 0.7803 - categorical_accuracy: 0.6772 - val_loss: 2.1685 - val_categorical_accuracy: 0.2400 - lr: 0.0010\n",
            "Epoch 8/80\n",
            "21/21 [==============================] - ETA: 0s - loss: 0.7226 - categorical_accuracy: 0.7089\n",
            "Epoch 8: val_loss did not improve from 1.66052\n",
            "21/21 [==============================] - 50s 3s/step - loss: 0.7226 - categorical_accuracy: 0.7089 - val_loss: 2.2527 - val_categorical_accuracy: 0.2000 - lr: 0.0010\n",
            "Epoch 9/80\n",
            "21/21 [==============================] - ETA: 0s - loss: 0.7200 - categorical_accuracy: 0.6953\n",
            "Epoch 9: val_loss did not improve from 1.66052\n",
            "\n",
            "Epoch 9: ReduceLROnPlateau reducing learning rate to 0.00010000000474974513.\n",
            "21/21 [==============================] - 53s 3s/step - loss: 0.7200 - categorical_accuracy: 0.6953 - val_loss: 1.9997 - val_categorical_accuracy: 0.2100 - lr: 0.0010\n",
            "Epoch 10/80\n",
            "21/21 [==============================] - ETA: 0s - loss: 0.6090 - categorical_accuracy: 0.7526\n",
            "Epoch 10: val_loss did not improve from 1.66052\n",
            "21/21 [==============================] - 52s 3s/step - loss: 0.6090 - categorical_accuracy: 0.7526 - val_loss: 1.8917 - val_categorical_accuracy: 0.1800 - lr: 1.0000e-04\n",
            "Epoch 11/80\n",
            "21/21 [==============================] - ETA: 0s - loss: 0.5677 - categorical_accuracy: 0.7602\n",
            "Epoch 11: val_loss did not improve from 1.66052\n",
            "21/21 [==============================] - 53s 3s/step - loss: 0.5677 - categorical_accuracy: 0.7602 - val_loss: 1.8007 - val_categorical_accuracy: 0.2000 - lr: 1.0000e-04\n",
            "Epoch 12/80\n",
            "21/21 [==============================] - ETA: 0s - loss: 0.5565 - categorical_accuracy: 0.7888\n",
            "Epoch 12: val_loss did not improve from 1.66052\n",
            "21/21 [==============================] - 51s 3s/step - loss: 0.5565 - categorical_accuracy: 0.7888 - val_loss: 1.8008 - val_categorical_accuracy: 0.1900 - lr: 1.0000e-04\n",
            "Epoch 13/80\n",
            "21/21 [==============================] - ETA: 0s - loss: 0.5197 - categorical_accuracy: 0.7919\n",
            "Epoch 13: val_loss did not improve from 1.66052\n",
            "21/21 [==============================] - 53s 3s/step - loss: 0.5197 - categorical_accuracy: 0.7919 - val_loss: 1.8205 - val_categorical_accuracy: 0.1900 - lr: 1.0000e-04\n",
            "Epoch 14/80\n",
            "21/21 [==============================] - ETA: 0s - loss: 0.5239 - categorical_accuracy: 0.7919\n",
            "Epoch 14: val_loss did not improve from 1.66052\n",
            "21/21 [==============================] - 53s 3s/step - loss: 0.5239 - categorical_accuracy: 0.7919 - val_loss: 1.8429 - val_categorical_accuracy: 0.2000 - lr: 1.0000e-04\n",
            "Epoch 15/80\n",
            "21/21 [==============================] - ETA: 0s - loss: 0.5148 - categorical_accuracy: 0.7858\n",
            "Epoch 15: val_loss did not improve from 1.66052\n",
            "21/21 [==============================] - 52s 3s/step - loss: 0.5148 - categorical_accuracy: 0.7858 - val_loss: 1.7255 - val_categorical_accuracy: 0.2500 - lr: 1.0000e-04\n",
            "Epoch 16/80\n",
            "21/21 [==============================] - ETA: 0s - loss: 0.5143 - categorical_accuracy: 0.8054\n",
            "Epoch 16: val_loss did not improve from 1.66052\n",
            "21/21 [==============================] - 50s 2s/step - loss: 0.5143 - categorical_accuracy: 0.8054 - val_loss: 1.8038 - val_categorical_accuracy: 0.2300 - lr: 1.0000e-04\n",
            "Epoch 17/80\n",
            "21/21 [==============================] - ETA: 0s - loss: 0.4960 - categorical_accuracy: 0.7949\n",
            "Epoch 17: val_loss did not improve from 1.66052\n",
            "\n",
            "Epoch 17: ReduceLROnPlateau reducing learning rate to 0.0001.\n",
            "21/21 [==============================] - 52s 3s/step - loss: 0.4960 - categorical_accuracy: 0.7949 - val_loss: 1.7787 - val_categorical_accuracy: 0.2300 - lr: 1.0000e-04\n",
            "Epoch 18/80\n",
            "21/21 [==============================] - ETA: 0s - loss: 0.4616 - categorical_accuracy: 0.8220\n",
            "Epoch 18: val_loss did not improve from 1.66052\n",
            "21/21 [==============================] - 53s 3s/step - loss: 0.4616 - categorical_accuracy: 0.8220 - val_loss: 1.7022 - val_categorical_accuracy: 0.3000 - lr: 1.0000e-04\n",
            "Epoch 19/80\n",
            "21/21 [==============================] - ETA: 0s - loss: 0.4704 - categorical_accuracy: 0.8235\n",
            "Epoch 19: val_loss improved from 1.66052 to 1.60647, saving model to /content/drive/MyDrive/iiit-b assigments/gesture recognition/model_trained/model6_cnn_lstm_cnn_reduced\n"
          ]
        },
        {
          "name": "stderr",
          "output_type": "stream",
          "text": [
            "WARNING:absl:<keras.layers.recurrent.LSTM object at 0x7f018016a750> has the same name 'LSTM' as a built-in Keras object. Consider renaming <class 'keras.layers.recurrent.LSTM'> to avoid naming conflicts when loading with `tf.keras.models.load_model`. If renaming is not possible, pass the object in the `custom_objects` parameter of the load function.\n",
            "WARNING:absl:<keras.layers.recurrent.LSTMCell object at 0x7efcbfd6aa50> has the same name 'LSTMCell' as a built-in Keras object. Consider renaming <class 'keras.layers.recurrent.LSTMCell'> to avoid naming conflicts when loading with `tf.keras.models.load_model`. If renaming is not possible, pass the object in the `custom_objects` parameter of the load function.\n"
          ]
        },
        {
          "name": "stdout",
          "output_type": "stream",
          "text": [
            "\b\b\b\b\b\b\b\b\b\b\b\b\b\b\b\b\b\b\b\b\b\b\b\b\b\b\b\b\b\b\b\b\b\b\b\b\b\b\b\b\b\b\b\b\b\b\b\b\b\b\b\b\b\b\b\b\b\b\b\b\b\b\b\b\b\b\b\b\b\b\b\b\b\b\b\b\b\b\b\b\b\b\b\b\b\b\b\b\b\b\b\b\b\b\r21/21 [==============================] - 57s 3s/step - loss: 0.4704 - categorical_accuracy: 0.8235 - val_loss: 1.6065 - val_categorical_accuracy: 0.3400 - lr: 1.0000e-04\n",
            "Epoch 20/80\n",
            "21/21 [==============================] - ETA: 0s - loss: 0.4529 - categorical_accuracy: 0.8250\n",
            "Epoch 20: val_loss improved from 1.60647 to 1.55742, saving model to /content/drive/MyDrive/iiit-b assigments/gesture recognition/model_trained/model6_cnn_lstm_cnn_reduced\n"
          ]
        },
        {
          "name": "stderr",
          "output_type": "stream",
          "text": [
            "WARNING:absl:<keras.layers.recurrent.LSTM object at 0x7f018016a750> has the same name 'LSTM' as a built-in Keras object. Consider renaming <class 'keras.layers.recurrent.LSTM'> to avoid naming conflicts when loading with `tf.keras.models.load_model`. If renaming is not possible, pass the object in the `custom_objects` parameter of the load function.\n",
            "WARNING:absl:<keras.layers.recurrent.LSTMCell object at 0x7efcbfd6aa50> has the same name 'LSTMCell' as a built-in Keras object. Consider renaming <class 'keras.layers.recurrent.LSTMCell'> to avoid naming conflicts when loading with `tf.keras.models.load_model`. If renaming is not possible, pass the object in the `custom_objects` parameter of the load function.\n"
          ]
        },
        {
          "name": "stdout",
          "output_type": "stream",
          "text": [
            "\b\b\b\b\b\b\b\b\b\b\b\b\b\b\b\b\b\b\b\b\b\b\b\b\b\b\b\b\b\b\b\b\b\b\b\b\b\b\b\b\b\b\b\b\b\b\b\b\b\b\b\b\b\b\b\b\b\b\b\b\b\b\b\b\b\b\b\b\b\b\b\b\b\b\b\b\b\b\b\b\b\b\b\b\b\b\b\b\b\b\b\b\b\b\r21/21 [==============================] - 56s 3s/step - loss: 0.4529 - categorical_accuracy: 0.8250 - val_loss: 1.5574 - val_categorical_accuracy: 0.4100 - lr: 1.0000e-04\n",
            "Epoch 21/80\n",
            "21/21 [==============================] - ETA: 0s - loss: 0.4479 - categorical_accuracy: 0.8311\n",
            "Epoch 21: val_loss did not improve from 1.55742\n",
            "21/21 [==============================] - 52s 3s/step - loss: 0.4479 - categorical_accuracy: 0.8311 - val_loss: 1.6048 - val_categorical_accuracy: 0.4100 - lr: 1.0000e-04\n",
            "Epoch 22/80\n",
            "21/21 [==============================] - ETA: 0s - loss: 0.4320 - categorical_accuracy: 0.8296\n",
            "Epoch 22: val_loss did not improve from 1.55742\n",
            "21/21 [==============================] - 53s 3s/step - loss: 0.4320 - categorical_accuracy: 0.8296 - val_loss: 1.6076 - val_categorical_accuracy: 0.3700 - lr: 1.0000e-04\n",
            "Epoch 23/80\n",
            "21/21 [==============================] - ETA: 0s - loss: 0.4201 - categorical_accuracy: 0.8356\n",
            "Epoch 23: val_loss did not improve from 1.55742\n",
            "21/21 [==============================] - 52s 3s/step - loss: 0.4201 - categorical_accuracy: 0.8356 - val_loss: 1.5762 - val_categorical_accuracy: 0.4600 - lr: 1.0000e-04\n",
            "Epoch 24/80\n",
            "21/21 [==============================] - ETA: 0s - loss: 0.4166 - categorical_accuracy: 0.8371\n",
            "Epoch 24: val_loss improved from 1.55742 to 1.47734, saving model to /content/drive/MyDrive/iiit-b assigments/gesture recognition/model_trained/model6_cnn_lstm_cnn_reduced\n"
          ]
        },
        {
          "name": "stderr",
          "output_type": "stream",
          "text": [
            "WARNING:absl:<keras.layers.recurrent.LSTM object at 0x7f018016a750> has the same name 'LSTM' as a built-in Keras object. Consider renaming <class 'keras.layers.recurrent.LSTM'> to avoid naming conflicts when loading with `tf.keras.models.load_model`. If renaming is not possible, pass the object in the `custom_objects` parameter of the load function.\n",
            "WARNING:absl:<keras.layers.recurrent.LSTMCell object at 0x7efcbfd6aa50> has the same name 'LSTMCell' as a built-in Keras object. Consider renaming <class 'keras.layers.recurrent.LSTMCell'> to avoid naming conflicts when loading with `tf.keras.models.load_model`. If renaming is not possible, pass the object in the `custom_objects` parameter of the load function.\n"
          ]
        },
        {
          "name": "stdout",
          "output_type": "stream",
          "text": [
            "\b\b\b\b\b\b\b\b\b\b\b\b\b\b\b\b\b\b\b\b\b\b\b\b\b\b\b\b\b\b\b\b\b\b\b\b\b\b\b\b\b\b\b\b\b\b\b\b\b\b\b\b\b\b\b\b\b\b\b\b\b\b\b\b\b\b\b\b\b\b\b\b\b\b\b\b\b\b\b\b\b\b\b\b\b\b\b\b\b\b\b\b\b\b\r21/21 [==============================] - 56s 3s/step - loss: 0.4166 - categorical_accuracy: 0.8371 - val_loss: 1.4773 - val_categorical_accuracy: 0.4300 - lr: 1.0000e-04\n",
            "Epoch 25/80\n",
            "21/21 [==============================] - ETA: 0s - loss: 0.4417 - categorical_accuracy: 0.8100\n",
            "Epoch 25: val_loss improved from 1.47734 to 1.35655, saving model to /content/drive/MyDrive/iiit-b assigments/gesture recognition/model_trained/model6_cnn_lstm_cnn_reduced\n"
          ]
        },
        {
          "name": "stderr",
          "output_type": "stream",
          "text": [
            "WARNING:absl:<keras.layers.recurrent.LSTM object at 0x7f018016a750> has the same name 'LSTM' as a built-in Keras object. Consider renaming <class 'keras.layers.recurrent.LSTM'> to avoid naming conflicts when loading with `tf.keras.models.load_model`. If renaming is not possible, pass the object in the `custom_objects` parameter of the load function.\n",
            "WARNING:absl:<keras.layers.recurrent.LSTMCell object at 0x7efcbfd6aa50> has the same name 'LSTMCell' as a built-in Keras object. Consider renaming <class 'keras.layers.recurrent.LSTMCell'> to avoid naming conflicts when loading with `tf.keras.models.load_model`. If renaming is not possible, pass the object in the `custom_objects` parameter of the load function.\n"
          ]
        },
        {
          "name": "stdout",
          "output_type": "stream",
          "text": [
            "\b\b\b\b\b\b\b\b\b\b\b\b\b\b\b\b\b\b\b\b\b\b\b\b\b\b\b\b\b\b\b\b\b\b\b\b\b\b\b\b\b\b\b\b\b\b\b\b\b\b\b\b\b\b\b\b\b\b\b\b\b\b\b\b\b\b\b\b\b\b\b\b\b\b\b\b\b\b\b\b\b\b\b\b\b\b\b\b\b\b\b\b\b\b\r21/21 [==============================] - 57s 3s/step - loss: 0.4417 - categorical_accuracy: 0.8100 - val_loss: 1.3565 - val_categorical_accuracy: 0.4400 - lr: 1.0000e-04\n",
            "Epoch 26/80\n",
            "21/21 [==============================] - ETA: 0s - loss: 0.4116 - categorical_accuracy: 0.8446\n",
            "Epoch 26: val_loss improved from 1.35655 to 1.28437, saving model to /content/drive/MyDrive/iiit-b assigments/gesture recognition/model_trained/model6_cnn_lstm_cnn_reduced\n"
          ]
        },
        {
          "name": "stderr",
          "output_type": "stream",
          "text": [
            "WARNING:absl:<keras.layers.recurrent.LSTM object at 0x7f018016a750> has the same name 'LSTM' as a built-in Keras object. Consider renaming <class 'keras.layers.recurrent.LSTM'> to avoid naming conflicts when loading with `tf.keras.models.load_model`. If renaming is not possible, pass the object in the `custom_objects` parameter of the load function.\n",
            "WARNING:absl:<keras.layers.recurrent.LSTMCell object at 0x7efcbfd6aa50> has the same name 'LSTMCell' as a built-in Keras object. Consider renaming <class 'keras.layers.recurrent.LSTMCell'> to avoid naming conflicts when loading with `tf.keras.models.load_model`. If renaming is not possible, pass the object in the `custom_objects` parameter of the load function.\n"
          ]
        },
        {
          "name": "stdout",
          "output_type": "stream",
          "text": [
            "\b\b\b\b\b\b\b\b\b\b\b\b\b\b\b\b\b\b\b\b\b\b\b\b\b\b\b\b\b\b\b\b\b\b\b\b\b\b\b\b\b\b\b\b\b\b\b\b\b\b\b\b\b\b\b\b\b\b\b\b\b\b\b\b\b\b\b\b\b\b\b\b\b\b\b\b\b\b\b\b\b\b\b\b\b\b\b\b\b\b\b\b\b\b\r21/21 [==============================] - 57s 3s/step - loss: 0.4116 - categorical_accuracy: 0.8446 - val_loss: 1.2844 - val_categorical_accuracy: 0.4800 - lr: 1.0000e-04\n",
            "Epoch 27/80\n",
            "21/21 [==============================] - ETA: 0s - loss: 0.4232 - categorical_accuracy: 0.8356\n",
            "Epoch 27: val_loss improved from 1.28437 to 1.27719, saving model to /content/drive/MyDrive/iiit-b assigments/gesture recognition/model_trained/model6_cnn_lstm_cnn_reduced\n"
          ]
        },
        {
          "name": "stderr",
          "output_type": "stream",
          "text": [
            "WARNING:absl:<keras.layers.recurrent.LSTM object at 0x7f018016a750> has the same name 'LSTM' as a built-in Keras object. Consider renaming <class 'keras.layers.recurrent.LSTM'> to avoid naming conflicts when loading with `tf.keras.models.load_model`. If renaming is not possible, pass the object in the `custom_objects` parameter of the load function.\n",
            "WARNING:absl:<keras.layers.recurrent.LSTMCell object at 0x7efcbfd6aa50> has the same name 'LSTMCell' as a built-in Keras object. Consider renaming <class 'keras.layers.recurrent.LSTMCell'> to avoid naming conflicts when loading with `tf.keras.models.load_model`. If renaming is not possible, pass the object in the `custom_objects` parameter of the load function.\n"
          ]
        },
        {
          "name": "stdout",
          "output_type": "stream",
          "text": [
            "\b\b\b\b\b\b\b\b\b\b\b\b\b\b\b\b\b\b\b\b\b\b\b\b\b\b\b\b\b\b\b\b\b\b\b\b\b\b\b\b\b\b\b\b\b\b\b\b\b\b\b\b\b\b\b\b\b\b\b\b\b\b\b\b\b\b\b\b\b\b\b\b\b\b\b\b\b\b\b\b\b\b\b\b\b\b\b\b\b\b\b\b\b\b\r21/21 [==============================] - 57s 3s/step - loss: 0.4232 - categorical_accuracy: 0.8356 - val_loss: 1.2772 - val_categorical_accuracy: 0.4600 - lr: 1.0000e-04\n",
            "Epoch 28/80\n",
            "21/21 [==============================] - ETA: 0s - loss: 0.4131 - categorical_accuracy: 0.8477\n",
            "Epoch 28: val_loss improved from 1.27719 to 1.19288, saving model to /content/drive/MyDrive/iiit-b assigments/gesture recognition/model_trained/model6_cnn_lstm_cnn_reduced\n"
          ]
        },
        {
          "name": "stderr",
          "output_type": "stream",
          "text": [
            "WARNING:absl:<keras.layers.recurrent.LSTM object at 0x7f018016a750> has the same name 'LSTM' as a built-in Keras object. Consider renaming <class 'keras.layers.recurrent.LSTM'> to avoid naming conflicts when loading with `tf.keras.models.load_model`. If renaming is not possible, pass the object in the `custom_objects` parameter of the load function.\n",
            "WARNING:absl:<keras.layers.recurrent.LSTMCell object at 0x7efcbfd6aa50> has the same name 'LSTMCell' as a built-in Keras object. Consider renaming <class 'keras.layers.recurrent.LSTMCell'> to avoid naming conflicts when loading with `tf.keras.models.load_model`. If renaming is not possible, pass the object in the `custom_objects` parameter of the load function.\n"
          ]
        },
        {
          "name": "stdout",
          "output_type": "stream",
          "text": [
            "\b\b\b\b\b\b\b\b\b\b\b\b\b\b\b\b\b\b\b\b\b\b\b\b\b\b\b\b\b\b\b\b\b\b\b\b\b\b\b\b\b\b\b\b\b\b\b\b\b\b\b\b\b\b\b\b\b\b\b\b\b\b\b\b\b\b\b\b\b\b\b\b\b\b\b\b\b\b\b\b\b\b\b\b\b\b\b\b\b\b\b\b\b\b\r21/21 [==============================] - 55s 3s/step - loss: 0.4131 - categorical_accuracy: 0.8477 - val_loss: 1.1929 - val_categorical_accuracy: 0.5100 - lr: 1.0000e-04\n",
            "Epoch 29/80\n",
            "21/21 [==============================] - ETA: 0s - loss: 0.3886 - categorical_accuracy: 0.8477\n",
            "Epoch 29: val_loss did not improve from 1.19288\n",
            "21/21 [==============================] - 52s 3s/step - loss: 0.3886 - categorical_accuracy: 0.8477 - val_loss: 1.2432 - val_categorical_accuracy: 0.4700 - lr: 1.0000e-04\n",
            "Epoch 30/80\n",
            "21/21 [==============================] - ETA: 0s - loss: 0.3895 - categorical_accuracy: 0.8597\n",
            "Epoch 30: val_loss did not improve from 1.19288\n",
            "21/21 [==============================] - 53s 3s/step - loss: 0.3895 - categorical_accuracy: 0.8597 - val_loss: 1.2151 - val_categorical_accuracy: 0.5200 - lr: 1.0000e-04\n",
            "Epoch 31/80\n",
            "21/21 [==============================] - ETA: 0s - loss: 0.3709 - categorical_accuracy: 0.8386\n",
            "Epoch 31: val_loss improved from 1.19288 to 1.08750, saving model to /content/drive/MyDrive/iiit-b assigments/gesture recognition/model_trained/model6_cnn_lstm_cnn_reduced\n"
          ]
        },
        {
          "name": "stderr",
          "output_type": "stream",
          "text": [
            "WARNING:absl:<keras.layers.recurrent.LSTM object at 0x7f018016a750> has the same name 'LSTM' as a built-in Keras object. Consider renaming <class 'keras.layers.recurrent.LSTM'> to avoid naming conflicts when loading with `tf.keras.models.load_model`. If renaming is not possible, pass the object in the `custom_objects` parameter of the load function.\n",
            "WARNING:absl:<keras.layers.recurrent.LSTMCell object at 0x7efcbfd6aa50> has the same name 'LSTMCell' as a built-in Keras object. Consider renaming <class 'keras.layers.recurrent.LSTMCell'> to avoid naming conflicts when loading with `tf.keras.models.load_model`. If renaming is not possible, pass the object in the `custom_objects` parameter of the load function.\n"
          ]
        },
        {
          "name": "stdout",
          "output_type": "stream",
          "text": [
            "\b\b\b\b\b\b\b\b\b\b\b\b\b\b\b\b\b\b\b\b\b\b\b\b\b\b\b\b\b\b\b\b\b\b\b\b\b\b\b\b\b\b\b\b\b\b\b\b\b\b\b\b\b\b\b\b\b\b\b\b\b\b\b\b\b\b\b\b\b\b\b\b\b\b\b\b\b\b\b\b\b\b\b\b\b\b\b\b\b\b\b\b\b\b\r21/21 [==============================] - 58s 3s/step - loss: 0.3709 - categorical_accuracy: 0.8386 - val_loss: 1.0875 - val_categorical_accuracy: 0.5800 - lr: 1.0000e-04\n",
            "Epoch 32/80\n",
            "21/21 [==============================] - ETA: 0s - loss: 0.3971 - categorical_accuracy: 0.8416\n",
            "Epoch 32: val_loss improved from 1.08750 to 1.00370, saving model to /content/drive/MyDrive/iiit-b assigments/gesture recognition/model_trained/model6_cnn_lstm_cnn_reduced\n"
          ]
        },
        {
          "name": "stderr",
          "output_type": "stream",
          "text": [
            "WARNING:absl:<keras.layers.recurrent.LSTM object at 0x7f018016a750> has the same name 'LSTM' as a built-in Keras object. Consider renaming <class 'keras.layers.recurrent.LSTM'> to avoid naming conflicts when loading with `tf.keras.models.load_model`. If renaming is not possible, pass the object in the `custom_objects` parameter of the load function.\n",
            "WARNING:absl:<keras.layers.recurrent.LSTMCell object at 0x7efcbfd6aa50> has the same name 'LSTMCell' as a built-in Keras object. Consider renaming <class 'keras.layers.recurrent.LSTMCell'> to avoid naming conflicts when loading with `tf.keras.models.load_model`. If renaming is not possible, pass the object in the `custom_objects` parameter of the load function.\n"
          ]
        },
        {
          "name": "stdout",
          "output_type": "stream",
          "text": [
            "\b\b\b\b\b\b\b\b\b\b\b\b\b\b\b\b\b\b\b\b\b\b\b\b\b\b\b\b\b\b\b\b\b\b\b\b\b\b\b\b\b\b\b\b\b\b\b\b\b\b\b\b\b\b\b\b\b\b\b\b\b\b\b\b\b\b\b\b\b\b\b\b\b\b\b\b\b\b\b\b\b\b\b\b\b\b\b\b\b\b\b\b\b\b\r21/21 [==============================] - 55s 3s/step - loss: 0.3971 - categorical_accuracy: 0.8416 - val_loss: 1.0037 - val_categorical_accuracy: 0.5800 - lr: 1.0000e-04\n",
            "Epoch 33/80\n",
            "21/21 [==============================] - ETA: 0s - loss: 0.3685 - categorical_accuracy: 0.8688\n",
            "Epoch 33: val_loss improved from 1.00370 to 0.96930, saving model to /content/drive/MyDrive/iiit-b assigments/gesture recognition/model_trained/model6_cnn_lstm_cnn_reduced\n"
          ]
        },
        {
          "name": "stderr",
          "output_type": "stream",
          "text": [
            "WARNING:absl:<keras.layers.recurrent.LSTM object at 0x7f018016a750> has the same name 'LSTM' as a built-in Keras object. Consider renaming <class 'keras.layers.recurrent.LSTM'> to avoid naming conflicts when loading with `tf.keras.models.load_model`. If renaming is not possible, pass the object in the `custom_objects` parameter of the load function.\n",
            "WARNING:absl:<keras.layers.recurrent.LSTMCell object at 0x7efcbfd6aa50> has the same name 'LSTMCell' as a built-in Keras object. Consider renaming <class 'keras.layers.recurrent.LSTMCell'> to avoid naming conflicts when loading with `tf.keras.models.load_model`. If renaming is not possible, pass the object in the `custom_objects` parameter of the load function.\n"
          ]
        },
        {
          "name": "stdout",
          "output_type": "stream",
          "text": [
            "\b\b\b\b\b\b\b\b\b\b\b\b\b\b\b\b\b\b\b\b\b\b\b\b\b\b\b\b\b\b\b\b\b\b\b\b\b\b\b\b\b\b\b\b\b\b\b\b\b\b\b\b\b\b\b\b\b\b\b\b\b\b\b\b\b\b\b\b\b\b\b\b\b\b\b\b\b\b\b\b\b\b\b\b\b\b\b\b\b\b\b\b\b\b\r21/21 [==============================] - 57s 3s/step - loss: 0.3685 - categorical_accuracy: 0.8688 - val_loss: 0.9693 - val_categorical_accuracy: 0.6300 - lr: 1.0000e-04\n",
            "Epoch 34/80\n",
            "21/21 [==============================] - ETA: 0s - loss: 0.3720 - categorical_accuracy: 0.8492\n",
            "Epoch 34: val_loss did not improve from 0.96930\n",
            "21/21 [==============================] - 53s 3s/step - loss: 0.3720 - categorical_accuracy: 0.8492 - val_loss: 1.1613 - val_categorical_accuracy: 0.5600 - lr: 1.0000e-04\n",
            "Epoch 35/80\n",
            "21/21 [==============================] - ETA: 0s - loss: 0.3830 - categorical_accuracy: 0.8522\n",
            "Epoch 35: val_loss improved from 0.96930 to 0.77966, saving model to /content/drive/MyDrive/iiit-b assigments/gesture recognition/model_trained/model6_cnn_lstm_cnn_reduced\n"
          ]
        },
        {
          "name": "stderr",
          "output_type": "stream",
          "text": [
            "WARNING:absl:<keras.layers.recurrent.LSTM object at 0x7f018016a750> has the same name 'LSTM' as a built-in Keras object. Consider renaming <class 'keras.layers.recurrent.LSTM'> to avoid naming conflicts when loading with `tf.keras.models.load_model`. If renaming is not possible, pass the object in the `custom_objects` parameter of the load function.\n",
            "WARNING:absl:<keras.layers.recurrent.LSTMCell object at 0x7efcbfd6aa50> has the same name 'LSTMCell' as a built-in Keras object. Consider renaming <class 'keras.layers.recurrent.LSTMCell'> to avoid naming conflicts when loading with `tf.keras.models.load_model`. If renaming is not possible, pass the object in the `custom_objects` parameter of the load function.\n"
          ]
        },
        {
          "name": "stdout",
          "output_type": "stream",
          "text": [
            "\b\b\b\b\b\b\b\b\b\b\b\b\b\b\b\b\b\b\b\b\b\b\b\b\b\b\b\b\b\b\b\b\b\b\b\b\b\b\b\b\b\b\b\b\b\b\b\b\b\b\b\b\b\b\b\b\b\b\b\b\b\b\b\b\b\b\b\b\b\b\b\b\b\b\b\b\b\b\b\b\b\b\b\b\b\b\b\b\b\b\b\b\b\b\r21/21 [==============================] - 58s 3s/step - loss: 0.3830 - categorical_accuracy: 0.8522 - val_loss: 0.7797 - val_categorical_accuracy: 0.6800 - lr: 1.0000e-04\n",
            "Epoch 36/80\n",
            "21/21 [==============================] - ETA: 0s - loss: 0.3993 - categorical_accuracy: 0.8341\n",
            "Epoch 36: val_loss improved from 0.77966 to 0.75888, saving model to /content/drive/MyDrive/iiit-b assigments/gesture recognition/model_trained/model6_cnn_lstm_cnn_reduced\n"
          ]
        },
        {
          "name": "stderr",
          "output_type": "stream",
          "text": [
            "WARNING:absl:<keras.layers.recurrent.LSTM object at 0x7f018016a750> has the same name 'LSTM' as a built-in Keras object. Consider renaming <class 'keras.layers.recurrent.LSTM'> to avoid naming conflicts when loading with `tf.keras.models.load_model`. If renaming is not possible, pass the object in the `custom_objects` parameter of the load function.\n",
            "WARNING:absl:<keras.layers.recurrent.LSTMCell object at 0x7efcbfd6aa50> has the same name 'LSTMCell' as a built-in Keras object. Consider renaming <class 'keras.layers.recurrent.LSTMCell'> to avoid naming conflicts when loading with `tf.keras.models.load_model`. If renaming is not possible, pass the object in the `custom_objects` parameter of the load function.\n"
          ]
        },
        {
          "name": "stdout",
          "output_type": "stream",
          "text": [
            "\b\b\b\b\b\b\b\b\b\b\b\b\b\b\b\b\b\b\b\b\b\b\b\b\b\b\b\b\b\b\b\b\b\b\b\b\b\b\b\b\b\b\b\b\b\b\b\b\b\b\b\b\b\b\b\b\b\b\b\b\b\b\b\b\b\b\b\b\b\b\b\b\b\b\b\b\b\b\b\b\b\b\b\b\b\b\b\b\b\b\b\b\b\b\r21/21 [==============================] - 56s 3s/step - loss: 0.3993 - categorical_accuracy: 0.8341 - val_loss: 0.7589 - val_categorical_accuracy: 0.6800 - lr: 1.0000e-04\n",
            "Epoch 37/80\n",
            "21/21 [==============================] - ETA: 0s - loss: 0.3341 - categorical_accuracy: 0.8733\n",
            "Epoch 37: val_loss improved from 0.75888 to 0.63668, saving model to /content/drive/MyDrive/iiit-b assigments/gesture recognition/model_trained/model6_cnn_lstm_cnn_reduced\n"
          ]
        },
        {
          "name": "stderr",
          "output_type": "stream",
          "text": [
            "WARNING:absl:<keras.layers.recurrent.LSTM object at 0x7f018016a750> has the same name 'LSTM' as a built-in Keras object. Consider renaming <class 'keras.layers.recurrent.LSTM'> to avoid naming conflicts when loading with `tf.keras.models.load_model`. If renaming is not possible, pass the object in the `custom_objects` parameter of the load function.\n",
            "WARNING:absl:<keras.layers.recurrent.LSTMCell object at 0x7efcbfd6aa50> has the same name 'LSTMCell' as a built-in Keras object. Consider renaming <class 'keras.layers.recurrent.LSTMCell'> to avoid naming conflicts when loading with `tf.keras.models.load_model`. If renaming is not possible, pass the object in the `custom_objects` parameter of the load function.\n"
          ]
        },
        {
          "name": "stdout",
          "output_type": "stream",
          "text": [
            "\b\b\b\b\b\b\b\b\b\b\b\b\b\b\b\b\b\b\b\b\b\b\b\b\b\b\b\b\b\b\b\b\b\b\b\b\b\b\b\b\b\b\b\b\b\b\b\b\b\b\b\b\b\b\b\b\b\b\b\b\b\b\b\b\b\b\b\b\b\b\b\b\b\b\b\b\b\b\b\b\b\b\b\b\b\b\b\b\b\b\b\b\b\b\r21/21 [==============================] - 57s 3s/step - loss: 0.3341 - categorical_accuracy: 0.8733 - val_loss: 0.6367 - val_categorical_accuracy: 0.7000 - lr: 1.0000e-04\n",
            "Epoch 38/80\n",
            "21/21 [==============================] - ETA: 0s - loss: 0.3318 - categorical_accuracy: 0.8718\n",
            "Epoch 38: val_loss did not improve from 0.63668\n",
            "21/21 [==============================] - 52s 3s/step - loss: 0.3318 - categorical_accuracy: 0.8718 - val_loss: 0.7741 - val_categorical_accuracy: 0.6300 - lr: 1.0000e-04\n",
            "Epoch 39/80\n",
            "21/21 [==============================] - ETA: 0s - loss: 0.3465 - categorical_accuracy: 0.8673\n",
            "Epoch 39: val_loss improved from 0.63668 to 0.56216, saving model to /content/drive/MyDrive/iiit-b assigments/gesture recognition/model_trained/model6_cnn_lstm_cnn_reduced\n"
          ]
        },
        {
          "name": "stderr",
          "output_type": "stream",
          "text": [
            "WARNING:absl:<keras.layers.recurrent.LSTM object at 0x7f018016a750> has the same name 'LSTM' as a built-in Keras object. Consider renaming <class 'keras.layers.recurrent.LSTM'> to avoid naming conflicts when loading with `tf.keras.models.load_model`. If renaming is not possible, pass the object in the `custom_objects` parameter of the load function.\n",
            "WARNING:absl:<keras.layers.recurrent.LSTMCell object at 0x7efcbfd6aa50> has the same name 'LSTMCell' as a built-in Keras object. Consider renaming <class 'keras.layers.recurrent.LSTMCell'> to avoid naming conflicts when loading with `tf.keras.models.load_model`. If renaming is not possible, pass the object in the `custom_objects` parameter of the load function.\n"
          ]
        },
        {
          "name": "stdout",
          "output_type": "stream",
          "text": [
            "\b\b\b\b\b\b\b\b\b\b\b\b\b\b\b\b\b\b\b\b\b\b\b\b\b\b\b\b\b\b\b\b\b\b\b\b\b\b\b\b\b\b\b\b\b\b\b\b\b\b\b\b\b\b\b\b\b\b\b\b\b\b\b\b\b\b\b\b\b\b\b\b\b\b\b\b\b\b\b\b\b\b\b\b\b\b\b\b\b\b\b\b\b\b\r21/21 [==============================] - 58s 3s/step - loss: 0.3465 - categorical_accuracy: 0.8673 - val_loss: 0.5622 - val_categorical_accuracy: 0.6700 - lr: 1.0000e-04\n",
            "Epoch 40/80\n",
            "21/21 [==============================] - ETA: 0s - loss: 0.3381 - categorical_accuracy: 0.8643\n",
            "Epoch 40: val_loss did not improve from 0.56216\n",
            "21/21 [==============================] - 50s 3s/step - loss: 0.3381 - categorical_accuracy: 0.8643 - val_loss: 0.6992 - val_categorical_accuracy: 0.7200 - lr: 1.0000e-04\n",
            "Epoch 41/80\n",
            "21/21 [==============================] - ETA: 0s - loss: 0.3453 - categorical_accuracy: 0.8567\n",
            "Epoch 41: val_loss did not improve from 0.56216\n",
            "21/21 [==============================] - 53s 3s/step - loss: 0.3453 - categorical_accuracy: 0.8567 - val_loss: 0.6877 - val_categorical_accuracy: 0.6900 - lr: 1.0000e-04\n",
            "Epoch 42/80\n",
            "21/21 [==============================] - ETA: 0s - loss: 0.3462 - categorical_accuracy: 0.8582\n",
            "Epoch 42: val_loss did not improve from 0.56216\n",
            "21/21 [==============================] - 52s 3s/step - loss: 0.3462 - categorical_accuracy: 0.8582 - val_loss: 0.7597 - val_categorical_accuracy: 0.6500 - lr: 1.0000e-04\n",
            "Epoch 43/80\n",
            "21/21 [==============================] - ETA: 0s - loss: 0.3732 - categorical_accuracy: 0.8492\n",
            "Epoch 43: val_loss did not improve from 0.56216\n",
            "21/21 [==============================] - 52s 3s/step - loss: 0.3732 - categorical_accuracy: 0.8492 - val_loss: 0.5828 - val_categorical_accuracy: 0.7500 - lr: 1.0000e-04\n",
            "Epoch 44/80\n",
            "21/21 [==============================] - ETA: 0s - loss: 0.3201 - categorical_accuracy: 0.8658\n",
            "Epoch 44: val_loss did not improve from 0.56216\n",
            "21/21 [==============================] - 51s 3s/step - loss: 0.3201 - categorical_accuracy: 0.8658 - val_loss: 0.7629 - val_categorical_accuracy: 0.6800 - lr: 1.0000e-04\n",
            "Epoch 45/80\n",
            "21/21 [==============================] - ETA: 0s - loss: 0.3113 - categorical_accuracy: 0.8763\n",
            "Epoch 45: val_loss did not improve from 0.56216\n",
            "21/21 [==============================] - 52s 3s/step - loss: 0.3113 - categorical_accuracy: 0.8763 - val_loss: 0.6806 - val_categorical_accuracy: 0.7100 - lr: 1.0000e-04\n",
            "Epoch 46/80\n",
            "21/21 [==============================] - ETA: 0s - loss: 0.3577 - categorical_accuracy: 0.8492\n",
            "Epoch 46: val_loss did not improve from 0.56216\n",
            "21/21 [==============================] - 52s 3s/step - loss: 0.3577 - categorical_accuracy: 0.8492 - val_loss: 0.6563 - val_categorical_accuracy: 0.6900 - lr: 1.0000e-04\n",
            "Epoch 47/80\n",
            "21/21 [==============================] - ETA: 0s - loss: 0.3176 - categorical_accuracy: 0.8733\n",
            "Epoch 47: val_loss did not improve from 0.56216\n",
            "21/21 [==============================] - 53s 3s/step - loss: 0.3176 - categorical_accuracy: 0.8733 - val_loss: 0.5902 - val_categorical_accuracy: 0.7800 - lr: 1.0000e-04\n",
            "Epoch 48/80\n",
            "21/21 [==============================] - ETA: 0s - loss: 0.2994 - categorical_accuracy: 0.8989\n",
            "Epoch 48: val_loss did not improve from 0.56216\n",
            "21/21 [==============================] - 50s 2s/step - loss: 0.2994 - categorical_accuracy: 0.8989 - val_loss: 0.7161 - val_categorical_accuracy: 0.7400 - lr: 1.0000e-04\n",
            "Epoch 49/80\n",
            "21/21 [==============================] - ETA: 0s - loss: 0.3074 - categorical_accuracy: 0.8733\n",
            "Epoch 49: val_loss did not improve from 0.56216\n",
            "21/21 [==============================] - 53s 3s/step - loss: 0.3074 - categorical_accuracy: 0.8733 - val_loss: 0.6540 - val_categorical_accuracy: 0.7400 - lr: 1.0000e-04\n",
            "Epoch 50/80\n",
            "21/21 [==============================] - ETA: 0s - loss: 0.3050 - categorical_accuracy: 0.8899\n",
            "Epoch 50: val_loss did not improve from 0.56216\n",
            "21/21 [==============================] - 52s 3s/step - loss: 0.3050 - categorical_accuracy: 0.8899 - val_loss: 0.6301 - val_categorical_accuracy: 0.7100 - lr: 1.0000e-04\n",
            "Epoch 51/80\n",
            "21/21 [==============================] - ETA: 0s - loss: 0.3103 - categorical_accuracy: 0.8854\n",
            "Epoch 51: val_loss did not improve from 0.56216\n",
            "21/21 [==============================] - 52s 3s/step - loss: 0.3103 - categorical_accuracy: 0.8854 - val_loss: 0.6990 - val_categorical_accuracy: 0.7400 - lr: 1.0000e-04\n",
            "Epoch 52/80\n",
            "21/21 [==============================] - ETA: 0s - loss: 0.2912 - categorical_accuracy: 0.8869\n",
            "Epoch 52: val_loss did not improve from 0.56216\n",
            "21/21 [==============================] - 51s 3s/step - loss: 0.2912 - categorical_accuracy: 0.8869 - val_loss: 0.6604 - val_categorical_accuracy: 0.7300 - lr: 1.0000e-04\n",
            "Epoch 53/80\n",
            "21/21 [==============================] - ETA: 0s - loss: 0.3278 - categorical_accuracy: 0.8793\n",
            "Epoch 53: val_loss did not improve from 0.56216\n",
            "21/21 [==============================] - 53s 3s/step - loss: 0.3278 - categorical_accuracy: 0.8793 - val_loss: 0.5895 - val_categorical_accuracy: 0.7800 - lr: 1.0000e-04\n",
            "Epoch 54/80\n",
            "21/21 [==============================] - ETA: 0s - loss: 0.2697 - categorical_accuracy: 0.8959\n",
            "Epoch 54: val_loss improved from 0.56216 to 0.39885, saving model to /content/drive/MyDrive/iiit-b assigments/gesture recognition/model_trained/model6_cnn_lstm_cnn_reduced\n"
          ]
        },
        {
          "name": "stderr",
          "output_type": "stream",
          "text": [
            "WARNING:absl:<keras.layers.recurrent.LSTM object at 0x7f018016a750> has the same name 'LSTM' as a built-in Keras object. Consider renaming <class 'keras.layers.recurrent.LSTM'> to avoid naming conflicts when loading with `tf.keras.models.load_model`. If renaming is not possible, pass the object in the `custom_objects` parameter of the load function.\n",
            "WARNING:absl:<keras.layers.recurrent.LSTMCell object at 0x7efcbfd6aa50> has the same name 'LSTMCell' as a built-in Keras object. Consider renaming <class 'keras.layers.recurrent.LSTMCell'> to avoid naming conflicts when loading with `tf.keras.models.load_model`. If renaming is not possible, pass the object in the `custom_objects` parameter of the load function.\n"
          ]
        },
        {
          "name": "stdout",
          "output_type": "stream",
          "text": [
            "\b\b\b\b\b\b\b\b\b\b\b\b\b\b\b\b\b\b\b\b\b\b\b\b\b\b\b\b\b\b\b\b\b\b\b\b\b\b\b\b\b\b\b\b\b\b\b\b\b\b\b\b\b\b\b\b\b\b\b\b\b\b\b\b\b\b\b\b\b\b\b\b\b\b\b\b\b\b\b\b\b\b\b\b\b\b\b\b\b\b\b\b\b\b\r21/21 [==============================] - 58s 3s/step - loss: 0.2697 - categorical_accuracy: 0.8959 - val_loss: 0.3989 - val_categorical_accuracy: 0.8000 - lr: 1.0000e-04\n",
            "Epoch 55/80\n",
            "21/21 [==============================] - ETA: 0s - loss: 0.3031 - categorical_accuracy: 0.8839\n",
            "Epoch 55: val_loss did not improve from 0.39885\n",
            "21/21 [==============================] - 52s 3s/step - loss: 0.3031 - categorical_accuracy: 0.8839 - val_loss: 0.7679 - val_categorical_accuracy: 0.6400 - lr: 1.0000e-04\n",
            "Epoch 56/80\n",
            "21/21 [==============================] - ETA: 0s - loss: 0.2847 - categorical_accuracy: 0.8869\n",
            "Epoch 56: val_loss did not improve from 0.39885\n",
            "21/21 [==============================] - 51s 3s/step - loss: 0.2847 - categorical_accuracy: 0.8869 - val_loss: 0.5765 - val_categorical_accuracy: 0.7200 - lr: 1.0000e-04\n",
            "Epoch 57/80\n",
            "21/21 [==============================] - ETA: 0s - loss: 0.3136 - categorical_accuracy: 0.8808\n",
            "Epoch 57: val_loss did not improve from 0.39885\n",
            "21/21 [==============================] - 52s 3s/step - loss: 0.3136 - categorical_accuracy: 0.8808 - val_loss: 0.6890 - val_categorical_accuracy: 0.7200 - lr: 1.0000e-04\n",
            "Epoch 58/80\n",
            "21/21 [==============================] - ETA: 0s - loss: 0.2655 - categorical_accuracy: 0.8974\n",
            "Epoch 58: val_loss did not improve from 0.39885\n",
            "21/21 [==============================] - 52s 3s/step - loss: 0.2655 - categorical_accuracy: 0.8974 - val_loss: 0.6641 - val_categorical_accuracy: 0.6700 - lr: 1.0000e-04\n",
            "Epoch 59/80\n",
            "21/21 [==============================] - ETA: 0s - loss: 0.2584 - categorical_accuracy: 0.9095\n",
            "Epoch 59: val_loss did not improve from 0.39885\n",
            "21/21 [==============================] - 53s 3s/step - loss: 0.2584 - categorical_accuracy: 0.9095 - val_loss: 0.5582 - val_categorical_accuracy: 0.7600 - lr: 1.0000e-04\n",
            "Epoch 60/80\n",
            "21/21 [==============================] - ETA: 0s - loss: 0.2713 - categorical_accuracy: 0.9065\n",
            "Epoch 60: val_loss did not improve from 0.39885\n",
            "21/21 [==============================] - 50s 3s/step - loss: 0.2713 - categorical_accuracy: 0.9065 - val_loss: 0.7129 - val_categorical_accuracy: 0.7300 - lr: 1.0000e-04\n",
            "Epoch 61/80\n",
            "21/21 [==============================] - ETA: 0s - loss: 0.2544 - categorical_accuracy: 0.9020\n",
            "Epoch 61: val_loss did not improve from 0.39885\n",
            "21/21 [==============================] - 52s 3s/step - loss: 0.2544 - categorical_accuracy: 0.9020 - val_loss: 0.7709 - val_categorical_accuracy: 0.7400 - lr: 1.0000e-04\n",
            "Epoch 62/80\n",
            "21/21 [==============================] - ETA: 0s - loss: 0.2378 - categorical_accuracy: 0.9170\n",
            "Epoch 62: val_loss did not improve from 0.39885\n",
            "21/21 [==============================] - 53s 3s/step - loss: 0.2378 - categorical_accuracy: 0.9170 - val_loss: 0.6525 - val_categorical_accuracy: 0.7400 - lr: 1.0000e-04\n",
            "Epoch 63/80\n",
            "21/21 [==============================] - ETA: 0s - loss: 0.2736 - categorical_accuracy: 0.9050\n",
            "Epoch 63: val_loss did not improve from 0.39885\n",
            "21/21 [==============================] - 52s 3s/step - loss: 0.2736 - categorical_accuracy: 0.9050 - val_loss: 0.6974 - val_categorical_accuracy: 0.7300 - lr: 1.0000e-04\n",
            "Epoch 64/80\n",
            "21/21 [==============================] - ETA: 0s - loss: 0.2378 - categorical_accuracy: 0.9065\n",
            "Epoch 64: val_loss did not improve from 0.39885\n",
            "21/21 [==============================] - 50s 3s/step - loss: 0.2378 - categorical_accuracy: 0.9065 - val_loss: 0.7479 - val_categorical_accuracy: 0.7200 - lr: 1.0000e-04\n",
            "Epoch 65/80\n",
            "21/21 [==============================] - ETA: 0s - loss: 0.2527 - categorical_accuracy: 0.9155\n",
            "Epoch 65: val_loss did not improve from 0.39885\n",
            "21/21 [==============================] - 52s 3s/step - loss: 0.2527 - categorical_accuracy: 0.9155 - val_loss: 0.7833 - val_categorical_accuracy: 0.7100 - lr: 1.0000e-04\n",
            "Epoch 66/80\n",
            "21/21 [==============================] - ETA: 0s - loss: 0.2593 - categorical_accuracy: 0.9080\n",
            "Epoch 66: val_loss did not improve from 0.39885\n",
            "21/21 [==============================] - 53s 3s/step - loss: 0.2593 - categorical_accuracy: 0.9080 - val_loss: 0.7100 - val_categorical_accuracy: 0.7200 - lr: 1.0000e-04\n",
            "Epoch 67/80\n",
            "21/21 [==============================] - ETA: 0s - loss: 0.2568 - categorical_accuracy: 0.9050\n",
            "Epoch 67: val_loss did not improve from 0.39885\n",
            "21/21 [==============================] - 52s 3s/step - loss: 0.2568 - categorical_accuracy: 0.9050 - val_loss: 0.7598 - val_categorical_accuracy: 0.6800 - lr: 1.0000e-04\n",
            "Epoch 68/80\n",
            "21/21 [==============================] - ETA: 0s - loss: 0.2182 - categorical_accuracy: 0.9261\n",
            "Epoch 68: val_loss did not improve from 0.39885\n",
            "21/21 [==============================] - 51s 3s/step - loss: 0.2182 - categorical_accuracy: 0.9261 - val_loss: 0.6824 - val_categorical_accuracy: 0.7300 - lr: 1.0000e-04\n",
            "Epoch 69/80\n",
            "21/21 [==============================] - ETA: 0s - loss: 0.2099 - categorical_accuracy: 0.9321\n",
            "Epoch 69: val_loss did not improve from 0.39885\n",
            "21/21 [==============================] - 52s 3s/step - loss: 0.2099 - categorical_accuracy: 0.9321 - val_loss: 0.7980 - val_categorical_accuracy: 0.7300 - lr: 1.0000e-04\n",
            "Epoch 70/80\n",
            "21/21 [==============================] - ETA: 0s - loss: 0.2396 - categorical_accuracy: 0.9155\n",
            "Epoch 70: val_loss did not improve from 0.39885\n",
            "21/21 [==============================] - 52s 3s/step - loss: 0.2396 - categorical_accuracy: 0.9155 - val_loss: 0.6323 - val_categorical_accuracy: 0.7400 - lr: 1.0000e-04\n",
            "Epoch 71/80\n",
            "21/21 [==============================] - ETA: 0s - loss: 0.2174 - categorical_accuracy: 0.9291\n",
            "Epoch 71: val_loss did not improve from 0.39885\n",
            "21/21 [==============================] - 52s 3s/step - loss: 0.2174 - categorical_accuracy: 0.9291 - val_loss: 0.7579 - val_categorical_accuracy: 0.7100 - lr: 1.0000e-04\n",
            "Epoch 72/80\n",
            "21/21 [==============================] - ETA: 0s - loss: 0.2268 - categorical_accuracy: 0.9186\n",
            "Epoch 72: val_loss did not improve from 0.39885\n",
            "21/21 [==============================] - 51s 3s/step - loss: 0.2268 - categorical_accuracy: 0.9186 - val_loss: 0.6320 - val_categorical_accuracy: 0.7600 - lr: 1.0000e-04\n",
            "Epoch 73/80\n",
            "21/21 [==============================] - ETA: 0s - loss: 0.2051 - categorical_accuracy: 0.9201\n",
            "Epoch 73: val_loss did not improve from 0.39885\n",
            "21/21 [==============================] - 52s 3s/step - loss: 0.2051 - categorical_accuracy: 0.9201 - val_loss: 0.7803 - val_categorical_accuracy: 0.7500 - lr: 1.0000e-04\n",
            "Epoch 74/80\n",
            "21/21 [==============================] - ETA: 0s - loss: 0.2270 - categorical_accuracy: 0.9170\n",
            "Epoch 74: val_loss did not improve from 0.39885\n",
            "21/21 [==============================] - 52s 3s/step - loss: 0.2270 - categorical_accuracy: 0.9170 - val_loss: 0.7502 - val_categorical_accuracy: 0.7100 - lr: 1.0000e-04\n",
            "Epoch 74: early stopping\n"
          ]
        }
      ],
      "source": [
        "\n",
        "history6 = model6.fit_generator(train_generator, steps_per_epoch=steps_per_epoch, epochs=num_epochs, verbose=1, \n",
        "                    callbacks=callback_list, validation_data=val_generator, \n",
        "                    validation_steps=validation_steps, class_weight=None, workers=1, initial_epoch=0)"
      ]
    },
    {
      "cell_type": "code",
      "execution_count": null,
      "metadata": {
        "colab": {
          "base_uri": "https://localhost:8080/",
          "height": 261
        },
        "id": "vPohZQFEGOp4",
        "outputId": "77014833-88a4-4448-cf5a-6a7b8b2f579f"
      },
      "outputs": [
        {
          "data": {
            "image/png": "[encoded data removed]",
            "text/plain": [
              "<Figure size 1080x288 with 2 Axes>"
            ]
          },
          "metadata": {
            "needs_background": "light"
          },
          "output_type": "display_data"
        }
      ],
      "source": [
        "plot_results(history6)"
      ]
    },
    {
      "cell_type": "markdown",
      "metadata": {
        "id": "Mr0Sge4SGdjD"
      },
      "source": [
        "#### Model 12: VGG16 + GRU\n"
      ]
    },
    {
      "cell_type": "code",
      "execution_count": null,
      "metadata": {
        "colab": {
          "base_uri": "https://localhost:8080/"
        },
        "id": "WcYN9JyhVuFz",
        "outputId": "fc24ef37-deea-45d6-de5a-e4b0343c02ea"
      },
      "outputs": [
        {
          "name": "stdout",
          "output_type": "stream",
          "text": [
            "Downloading data from https://storage.googleapis.com/tensorflow/keras-applications/vgg16/vgg16_weights_tf_dim_ordering_tf_kernels_notop.h5\n",
            "58892288/58889256 [==============================] - 1s 0us/step\n",
            "58900480/58889256 [==============================] - 1s 0us/step\n"
          ]
        }
      ],
      "source": [
        "pretrained_vgg = tf.keras.applications.VGG16(\n",
        "                                                include_top=False,\n",
        "                                                weights=\"imagenet\",\n",
        "                                              )\n",
        "model9 = Sequential()\n",
        "model9.add(TimeDistributed(pretrained_vgg, input_shape=(15,120,120,3)))\n",
        "  \n",
        "for layer in model9.layers:\n",
        "    layer.trainable = False\n",
        "\n",
        "model9.add(TimeDistributed(BatchNormalization()))\n",
        "# model9.add(TimeDistributed(MaxPooling2D((2, 2))))\n",
        "model9.add(TimeDistributed(GlobalAveragePooling2D()))\n",
        "model9.add(Dropout(0.2))\n",
        "\n",
        "model9.add(GRU(128))\n",
        "model9.add(Dense(64, activation='relu'))\n",
        "model9.add(Dense(32, activation='relu'))\n",
        "model9.add(Dropout(0.2))\n",
        "model9.add(Dense(5, activation='softmax'))\n",
        "\n",
        "\n",
        "\n",
        "\n"
      ]
    },
    {
      "cell_type": "code",
      "execution_count": null,
      "metadata": {
        "colab": {
          "base_uri": "https://localhost:8080/"
        },
        "id": "mmCEME22WT2G",
        "outputId": "c7caf46f-db7a-4fd9-9e97-f2384e5d5ac8"
      },
      "outputs": [
        {
          "name": "stdout",
          "output_type": "stream",
          "text": [
            "Model: \"sequential\"\n",
            "_________________________________________________________________\n",
            " Layer (type)                Output Shape              Param #   \n",
            "=================================================================\n",
            " time_distributed (TimeDistr  (None, 15, 3, 3, 512)    14714688  \n",
            " ibuted)                                                         \n",
            "                                                                 \n",
            " time_distributed_1 (TimeDis  (None, 15, 3, 3, 512)    2048      \n",
            " tributed)                                                       \n",
            "                                                                 \n",
            " time_distributed_2 (TimeDis  (None, 15, 512)          0         \n",
            " tributed)                                                       \n",
            "                                                                 \n",
            " dropout (Dropout)           (None, 15, 512)           0         \n",
            "                                                                 \n",
            " gru (GRU)                   (None, 128)               246528    \n",
            "                                                                 \n",
            " dense (Dense)               (None, 64)                8256      \n",
            "                                                                 \n",
            " dense_1 (Dense)             (None, 32)                2080      \n",
            "                                                                 \n",
            " dropout_1 (Dropout)         (None, 32)                0         \n",
            "                                                                 \n",
            " dense_2 (Dense)             (None, 5)                 165       \n",
            "                                                                 \n",
            "=================================================================\n",
            "Total params: 14,973,765\n",
            "Trainable params: 258,053\n",
            "Non-trainable params: 14,715,712\n",
            "_________________________________________________________________\n"
          ]
        }
      ],
      "source": [
        "model9.summary()"
      ]
    },
    {
      "cell_type": "code",
      "execution_count": null,
      "metadata": {
        "id": "aASqKnd0WYCE"
      },
      "outputs": [],
      "source": [
        "model9.compile(optimizer='adam', loss='categorical_crossentropy', metrics=['categorical_accuracy'])\n",
        "num_epochs = 80\n",
        "x_dims,y_dims = 120,120\n",
        "batch_size = 32\n",
        "callback_list = callback_defination('model9_cnn_gru_vgg16_120')\n",
        "##generator \n",
        "train_generator = generator(train_path,data_train, batch_size,x_dims,y_dims)\n",
        "val_generator = generator(val_path, data_test, batch_size,x_dims,y_dims)"
      ]
    },
    {
      "cell_type": "code",
      "execution_count": null,
      "metadata": {
        "id": "Q8mJW8V8VuJT"
      },
      "outputs": [],
      "source": [
        "if (num_train_sequences%batch_size) == 0:\n",
        "        steps_per_epoch = int(num_train_sequences/batch_size)\n",
        "else:\n",
        "    steps_per_epoch = (num_train_sequences//batch_size) + 1\n",
        "\n",
        "if (num_val_sequences%batch_size) == 0:\n",
        "    validation_steps = int(num_val_sequences/batch_size)\n",
        "else:\n",
        "    validation_steps = (num_val_sequences//batch_size) + 1"
      ]
    },
    {
      "cell_type": "code",
      "execution_count": null,
      "metadata": {
        "colab": {
          "base_uri": "https://localhost:8080/"
        },
        "id": "u1nhTHrjVuMk",
        "outputId": "30f8ba63-53bd-469f-bdb2-5834bf859b7e"
      },
      "outputs": [
        {
          "name": "stderr",
          "output_type": "stream",
          "text": [
            "/usr/local/lib/python3.7/dist-packages/ipykernel_launcher.py:3: UserWarning: `Model.fit_generator` is deprecated and will be removed in a future version. Please use `Model.fit`, which supports generators.\n",
            "  This is separate from the ipykernel package so we can avoid doing imports until\n"
          ]
        },
        {
          "name": "stdout",
          "output_type": "stream",
          "text": [
            "Source path =  /content/drive/MyDrive/iiit-b assigments/gesture recognition/Project_data/train ; batch size = 32\n",
            "Epoch 1/80\n",
            "21/21 [==============================] - ETA: 0s - loss: 1.4626 - categorical_accuracy: 0.3635  Source path =  /content/drive/MyDrive/iiit-b assigments/gesture recognition/Project_data/val ; batch size = 32\n",
            "\n",
            "Epoch 1: val_loss improved from inf to 1.53025, saving model to /content/drive/MyDrive/iiit-b assigments/gesture recognition/model_trained/model9_cnn_gru_vgg16_120\n"
          ]
        },
        {
          "name": "stderr",
          "output_type": "stream",
          "text": [
            "WARNING:absl:Found untraced functions such as gru_cell_layer_call_fn, gru_cell_layer_call_and_return_conditional_losses while saving (showing 2 of 2). These functions will not be directly callable after loading.\n",
            "WARNING:absl:<keras.layers.recurrent.GRUCell object at 0x7fa19e0db5d0> has the same name 'GRUCell' as a built-in Keras object. Consider renaming <class 'keras.layers.recurrent.GRUCell'> to avoid naming conflicts when loading with `tf.keras.models.load_model`. If renaming is not possible, pass the object in the `custom_objects` parameter of the load function.\n"
          ]
        },
        {
          "name": "stdout",
          "output_type": "stream",
          "text": [
            "\b\b\b\b\b\b\b\b\b\b\b\b\b\b\b\b\b\b\b\b\b\b\b\b\b\b\b\b\b\b\b\b\b\b\b\b\b\b\b\b\b\b\b\b\b\b\b\b\b\b\b\b\b\b\b\b\b\b\b\b\b\b\b\b\b\b\b\b\b\b\b\b\b\b\b\b\b\b\b\b\b\b\b\b\b\b\b\b\b\b\b\b\b\b\r21/21 [==============================] - 6974s 348s/step - loss: 1.4626 - categorical_accuracy: 0.3635 - val_loss: 1.5302 - val_categorical_accuracy: 0.3700 - lr: 0.0010\n",
            "Epoch 2/80\n",
            "21/21 [==============================] - ETA: 0s - loss: 1.0632 - categorical_accuracy: 0.5928\n",
            "Epoch 2: val_loss improved from 1.53025 to 1.24731, saving model to /content/drive/MyDrive/iiit-b assigments/gesture recognition/model_trained/model9_cnn_gru_vgg16_120\n"
          ]
        },
        {
          "name": "stderr",
          "output_type": "stream",
          "text": [
            "WARNING:absl:Found untraced functions such as gru_cell_layer_call_fn, gru_cell_layer_call_and_return_conditional_losses while saving (showing 2 of 2). These functions will not be directly callable after loading.\n",
            "WARNING:absl:<keras.layers.recurrent.GRUCell object at 0x7fa19e0db5d0> has the same name 'GRUCell' as a built-in Keras object. Consider renaming <class 'keras.layers.recurrent.GRUCell'> to avoid naming conflicts when loading with `tf.keras.models.load_model`. If renaming is not possible, pass the object in the `custom_objects` parameter of the load function.\n"
          ]
        },
        {
          "name": "stdout",
          "output_type": "stream",
          "text": [
            "\b\b\b\b\b\b\b\b\b\b\b\b\b\b\b\b\b\b\b\b\b\b\b\b\b\b\b\b\b\b\b\b\b\b\b\b\b\b\b\b\b\b\b\b\b\b\b\b\b\b\b\b\b\b\b\b\b\b\b\b\b\b\b\b\b\b\b\b\b\b\b\b\b\b\b\b\b\b\b\b\b\b\b\b\b\b\b\b\b\b\b\b\b\b\r21/21 [==============================] - 59s 3s/step - loss: 1.0632 - categorical_accuracy: 0.5928 - val_loss: 1.2473 - val_categorical_accuracy: 0.5400 - lr: 0.0010\n",
            "Epoch 3/80\n",
            "21/21 [==============================] - ETA: 0s - loss: 0.7360 - categorical_accuracy: 0.7119\n",
            "Epoch 3: val_loss improved from 1.24731 to 1.08935, saving model to /content/drive/MyDrive/iiit-b assigments/gesture recognition/model_trained/model9_cnn_gru_vgg16_120\n"
          ]
        },
        {
          "name": "stderr",
          "output_type": "stream",
          "text": [
            "WARNING:absl:Found untraced functions such as gru_cell_layer_call_fn, gru_cell_layer_call_and_return_conditional_losses while saving (showing 2 of 2). These functions will not be directly callable after loading.\n",
            "WARNING:absl:<keras.layers.recurrent.GRUCell object at 0x7fa19e0db5d0> has the same name 'GRUCell' as a built-in Keras object. Consider renaming <class 'keras.layers.recurrent.GRUCell'> to avoid naming conflicts when loading with `tf.keras.models.load_model`. If renaming is not possible, pass the object in the `custom_objects` parameter of the load function.\n"
          ]
        },
        {
          "name": "stdout",
          "output_type": "stream",
          "text": [
            "\b\b\b\b\b\b\b\b\b\b\b\b\b\b\b\b\b\b\b\b\b\b\b\b\b\b\b\b\b\b\b\b\b\b\b\b\b\b\b\b\b\b\b\b\b\b\b\b\b\b\b\b\b\b\b\b\b\b\b\b\b\b\b\b\b\b\b\b\b\b\b\b\b\b\b\b\b\b\b\b\b\b\b\b\b\b\b\b\b\b\b\b\b\b\r21/21 [==============================] - 57s 3s/step - loss: 0.7360 - categorical_accuracy: 0.7119 - val_loss: 1.0894 - val_categorical_accuracy: 0.6300 - lr: 0.0010\n",
            "Epoch 4/80\n",
            "21/21 [==============================] - ETA: 0s - loss: 0.5352 - categorical_accuracy: 0.8084\n",
            "Epoch 4: val_loss improved from 1.08935 to 1.08673, saving model to /content/drive/MyDrive/iiit-b assigments/gesture recognition/model_trained/model9_cnn_gru_vgg16_120\n"
          ]
        },
        {
          "name": "stderr",
          "output_type": "stream",
          "text": [
            "WARNING:absl:Found untraced functions such as gru_cell_layer_call_fn, gru_cell_layer_call_and_return_conditional_losses while saving (showing 2 of 2). These functions will not be directly callable after loading.\n",
            "WARNING:absl:<keras.layers.recurrent.GRUCell object at 0x7fa19e0db5d0> has the same name 'GRUCell' as a built-in Keras object. Consider renaming <class 'keras.layers.recurrent.GRUCell'> to avoid naming conflicts when loading with `tf.keras.models.load_model`. If renaming is not possible, pass the object in the `custom_objects` parameter of the load function.\n"
          ]
        },
        {
          "name": "stdout",
          "output_type": "stream",
          "text": [
            "\b\b\b\b\b\b\b\b\b\b\b\b\b\b\b\b\b\b\b\b\b\b\b\b\b\b\b\b\b\b\b\b\b\b\b\b\b\b\b\b\b\b\b\b\b\b\b\b\b\b\b\b\b\b\b\b\b\b\b\b\b\b\b\b\b\b\b\b\b\b\b\b\b\b\b\b\b\b\b\b\b\b\b\b\b\b\b\b\b\b\b\b\b\b\r21/21 [==============================] - 56s 3s/step - loss: 0.5352 - categorical_accuracy: 0.8084 - val_loss: 1.0867 - val_categorical_accuracy: 0.5200 - lr: 0.0010\n",
            "Epoch 5/80\n",
            "21/21 [==============================] - ETA: 0s - loss: 0.3431 - categorical_accuracy: 0.8854\n",
            "Epoch 5: val_loss improved from 1.08673 to 1.02578, saving model to /content/drive/MyDrive/iiit-b assigments/gesture recognition/model_trained/model9_cnn_gru_vgg16_120\n"
          ]
        },
        {
          "name": "stderr",
          "output_type": "stream",
          "text": [
            "WARNING:absl:Found untraced functions such as gru_cell_layer_call_fn, gru_cell_layer_call_and_return_conditional_losses while saving (showing 2 of 2). These functions will not be directly callable after loading.\n",
            "WARNING:absl:<keras.layers.recurrent.GRUCell object at 0x7fa19e0db5d0> has the same name 'GRUCell' as a built-in Keras object. Consider renaming <class 'keras.layers.recurrent.GRUCell'> to avoid naming conflicts when loading with `tf.keras.models.load_model`. If renaming is not possible, pass the object in the `custom_objects` parameter of the load function.\n"
          ]
        },
        {
          "name": "stdout",
          "output_type": "stream",
          "text": [
            "\b\b\b\b\b\b\b\b\b\b\b\b\b\b\b\b\b\b\b\b\b\b\b\b\b\b\b\b\b\b\b\b\b\b\b\b\b\b\b\b\b\b\b\b\b\b\b\b\b\b\b\b\b\b\b\b\b\b\b\b\b\b\b\b\b\b\b\b\b\b\b\b\b\b\b\b\b\b\b\b\b\b\b\b\b\b\b\b\b\b\b\b\b\b\r21/21 [==============================] - 59s 3s/step - loss: 0.3431 - categorical_accuracy: 0.8854 - val_loss: 1.0258 - val_categorical_accuracy: 0.5800 - lr: 0.0010\n",
            "Epoch 6/80\n",
            "21/21 [==============================] - ETA: 0s - loss: 0.2236 - categorical_accuracy: 0.9216\n",
            "Epoch 6: val_loss improved from 1.02578 to 0.93488, saving model to /content/drive/MyDrive/iiit-b assigments/gesture recognition/model_trained/model9_cnn_gru_vgg16_120\n"
          ]
        },
        {
          "name": "stderr",
          "output_type": "stream",
          "text": [
            "WARNING:absl:Found untraced functions such as gru_cell_layer_call_fn, gru_cell_layer_call_and_return_conditional_losses while saving (showing 2 of 2). These functions will not be directly callable after loading.\n",
            "WARNING:absl:<keras.layers.recurrent.GRUCell object at 0x7fa19e0db5d0> has the same name 'GRUCell' as a built-in Keras object. Consider renaming <class 'keras.layers.recurrent.GRUCell'> to avoid naming conflicts when loading with `tf.keras.models.load_model`. If renaming is not possible, pass the object in the `custom_objects` parameter of the load function.\n"
          ]
        },
        {
          "name": "stdout",
          "output_type": "stream",
          "text": [
            "\b\b\b\b\b\b\b\b\b\b\b\b\b\b\b\b\b\b\b\b\b\b\b\b\b\b\b\b\b\b\b\b\b\b\b\b\b\b\b\b\b\b\b\b\b\b\b\b\b\b\b\b\b\b\b\b\b\b\b\b\b\b\b\b\b\b\b\b\b\b\b\b\b\b\b\b\b\b\b\b\b\b\b\b\b\b\b\b\b\b\b\b\b\b\r21/21 [==============================] - 58s 3s/step - loss: 0.2236 - categorical_accuracy: 0.9216 - val_loss: 0.9349 - val_categorical_accuracy: 0.6400 - lr: 0.0010\n",
            "Epoch 7/80\n",
            "21/21 [==============================] - ETA: 0s - loss: 0.2125 - categorical_accuracy: 0.9427\n",
            "Epoch 7: val_loss did not improve from 0.93488\n",
            "21/21 [==============================] - 52s 3s/step - loss: 0.2125 - categorical_accuracy: 0.9427 - val_loss: 0.9957 - val_categorical_accuracy: 0.6600 - lr: 0.0010\n",
            "Epoch 8/80\n",
            "21/21 [==============================] - ETA: 0s - loss: 0.1145 - categorical_accuracy: 0.9789\n",
            "Epoch 8: val_loss improved from 0.93488 to 0.92627, saving model to /content/drive/MyDrive/iiit-b assigments/gesture recognition/model_trained/model9_cnn_gru_vgg16_120\n"
          ]
        },
        {
          "name": "stderr",
          "output_type": "stream",
          "text": [
            "WARNING:absl:Found untraced functions such as gru_cell_layer_call_fn, gru_cell_layer_call_and_return_conditional_losses while saving (showing 2 of 2). These functions will not be directly callable after loading.\n",
            "WARNING:absl:<keras.layers.recurrent.GRUCell object at 0x7fa19e0db5d0> has the same name 'GRUCell' as a built-in Keras object. Consider renaming <class 'keras.layers.recurrent.GRUCell'> to avoid naming conflicts when loading with `tf.keras.models.load_model`. If renaming is not possible, pass the object in the `custom_objects` parameter of the load function.\n"
          ]
        },
        {
          "name": "stdout",
          "output_type": "stream",
          "text": [
            "\b\b\b\b\b\b\b\b\b\b\b\b\b\b\b\b\b\b\b\b\b\b\b\b\b\b\b\b\b\b\b\b\b\b\b\b\b\b\b\b\b\b\b\b\b\b\b\b\b\b\b\b\b\b\b\b\b\b\b\b\b\b\b\b\b\b\b\b\b\b\b\b\b\b\b\b\b\b\b\b\b\b\b\b\b\b\b\b\b\b\b\b\b\b\r21/21 [==============================] - 56s 3s/step - loss: 0.1145 - categorical_accuracy: 0.9789 - val_loss: 0.9263 - val_categorical_accuracy: 0.6700 - lr: 0.0010\n",
            "Epoch 9/80\n",
            "21/21 [==============================] - ETA: 0s - loss: 0.0867 - categorical_accuracy: 0.9759\n",
            "Epoch 9: val_loss improved from 0.92627 to 0.82768, saving model to /content/drive/MyDrive/iiit-b assigments/gesture recognition/model_trained/model9_cnn_gru_vgg16_120\n"
          ]
        },
        {
          "name": "stderr",
          "output_type": "stream",
          "text": [
            "WARNING:absl:Found untraced functions such as gru_cell_layer_call_fn, gru_cell_layer_call_and_return_conditional_losses while saving (showing 2 of 2). These functions will not be directly callable after loading.\n",
            "WARNING:absl:<keras.layers.recurrent.GRUCell object at 0x7fa19e0db5d0> has the same name 'GRUCell' as a built-in Keras object. Consider renaming <class 'keras.layers.recurrent.GRUCell'> to avoid naming conflicts when loading with `tf.keras.models.load_model`. If renaming is not possible, pass the object in the `custom_objects` parameter of the load function.\n"
          ]
        },
        {
          "name": "stdout",
          "output_type": "stream",
          "text": [
            "\b\b\b\b\b\b\b\b\b\b\b\b\b\b\b\b\b\b\b\b\b\b\b\b\b\b\b\b\b\b\b\b\b\b\b\b\b\b\b\b\b\b\b\b\b\b\b\b\b\b\b\b\b\b\b\b\b\b\b\b\b\b\b\b\b\b\b\b\b\b\b\b\b\b\b\b\b\b\b\b\b\b\b\b\b\b\b\b\b\b\b\b\b\b\r21/21 [==============================] - 57s 3s/step - loss: 0.0867 - categorical_accuracy: 0.9759 - val_loss: 0.8277 - val_categorical_accuracy: 0.7300 - lr: 0.0010\n",
            "Epoch 10/80\n",
            "21/21 [==============================] - ETA: 0s - loss: 0.1028 - categorical_accuracy: 0.9653\n",
            "Epoch 10: val_loss did not improve from 0.82768\n",
            "21/21 [==============================] - 52s 3s/step - loss: 0.1028 - categorical_accuracy: 0.9653 - val_loss: 1.1235 - val_categorical_accuracy: 0.6700 - lr: 0.0010\n",
            "Epoch 11/80\n",
            "21/21 [==============================] - ETA: 0s - loss: 0.0818 - categorical_accuracy: 0.9774\n",
            "Epoch 11: val_loss improved from 0.82768 to 0.81501, saving model to /content/drive/MyDrive/iiit-b assigments/gesture recognition/model_trained/model9_cnn_gru_vgg16_120\n"
          ]
        },
        {
          "name": "stderr",
          "output_type": "stream",
          "text": [
            "WARNING:absl:Found untraced functions such as gru_cell_layer_call_fn, gru_cell_layer_call_and_return_conditional_losses while saving (showing 2 of 2). These functions will not be directly callable after loading.\n",
            "WARNING:absl:<keras.layers.recurrent.GRUCell object at 0x7fa19e0db5d0> has the same name 'GRUCell' as a built-in Keras object. Consider renaming <class 'keras.layers.recurrent.GRUCell'> to avoid naming conflicts when loading with `tf.keras.models.load_model`. If renaming is not possible, pass the object in the `custom_objects` parameter of the load function.\n"
          ]
        },
        {
          "name": "stdout",
          "output_type": "stream",
          "text": [
            "\b\b\b\b\b\b\b\b\b\b\b\b\b\b\b\b\b\b\b\b\b\b\b\b\b\b\b\b\b\b\b\b\b\b\b\b\b\b\b\b\b\b\b\b\b\b\b\b\b\b\b\b\b\b\b\b\b\b\b\b\b\b\b\b\b\b\b\b\b\b\b\b\b\b\b\b\b\b\b\b\b\b\b\b\b\b\b\b\b\b\b\b\b\b\r21/21 [==============================] - 58s 3s/step - loss: 0.0818 - categorical_accuracy: 0.9774 - val_loss: 0.8150 - val_categorical_accuracy: 0.7200 - lr: 0.0010\n",
            "Epoch 12/80\n",
            "21/21 [==============================] - ETA: 0s - loss: 0.0420 - categorical_accuracy: 0.9940\n",
            "Epoch 12: val_loss did not improve from 0.81501\n",
            "21/21 [==============================] - 50s 2s/step - loss: 0.0420 - categorical_accuracy: 0.9940 - val_loss: 0.8388 - val_categorical_accuracy: 0.7200 - lr: 0.0010\n",
            "Epoch 13/80\n",
            "21/21 [==============================] - ETA: 0s - loss: 0.0407 - categorical_accuracy: 0.9910\n",
            "Epoch 13: val_loss did not improve from 0.81501\n",
            "21/21 [==============================] - 52s 3s/step - loss: 0.0407 - categorical_accuracy: 0.9910 - val_loss: 0.8702 - val_categorical_accuracy: 0.7500 - lr: 0.0010\n",
            "Epoch 14/80\n",
            "21/21 [==============================] - ETA: 0s - loss: 0.0489 - categorical_accuracy: 0.9864\n",
            "Epoch 14: val_loss did not improve from 0.81501\n",
            "21/21 [==============================] - 52s 3s/step - loss: 0.0489 - categorical_accuracy: 0.9864 - val_loss: 1.1316 - val_categorical_accuracy: 0.7300 - lr: 0.0010\n",
            "Epoch 15/80\n",
            "21/21 [==============================] - ETA: 0s - loss: 0.0550 - categorical_accuracy: 0.9819\n",
            "Epoch 15: val_loss improved from 0.81501 to 0.67869, saving model to /content/drive/MyDrive/iiit-b assigments/gesture recognition/model_trained/model9_cnn_gru_vgg16_120\n"
          ]
        },
        {
          "name": "stderr",
          "output_type": "stream",
          "text": [
            "WARNING:absl:Found untraced functions such as gru_cell_layer_call_fn, gru_cell_layer_call_and_return_conditional_losses while saving (showing 2 of 2). These functions will not be directly callable after loading.\n",
            "WARNING:absl:<keras.layers.recurrent.GRUCell object at 0x7fa19e0db5d0> has the same name 'GRUCell' as a built-in Keras object. Consider renaming <class 'keras.layers.recurrent.GRUCell'> to avoid naming conflicts when loading with `tf.keras.models.load_model`. If renaming is not possible, pass the object in the `custom_objects` parameter of the load function.\n"
          ]
        },
        {
          "name": "stdout",
          "output_type": "stream",
          "text": [
            "\b\b\b\b\b\b\b\b\b\b\b\b\b\b\b\b\b\b\b\b\b\b\b\b\b\b\b\b\b\b\b\b\b\b\b\b\b\b\b\b\b\b\b\b\b\b\b\b\b\b\b\b\b\b\b\b\b\b\b\b\b\b\b\b\b\b\b\b\b\b\b\b\b\b\b\b\b\b\b\b\b\b\b\b\b\b\b\b\b\b\b\b\b\b\r21/21 [==============================] - 59s 3s/step - loss: 0.0550 - categorical_accuracy: 0.9819 - val_loss: 0.6787 - val_categorical_accuracy: 0.7900 - lr: 0.0010\n",
            "Epoch 16/80\n",
            "21/21 [==============================] - ETA: 0s - loss: 0.0317 - categorical_accuracy: 0.9894\n",
            "Epoch 16: val_loss did not improve from 0.67869\n",
            "21/21 [==============================] - 49s 2s/step - loss: 0.0317 - categorical_accuracy: 0.9894 - val_loss: 1.1631 - val_categorical_accuracy: 0.7500 - lr: 0.0010\n",
            "Epoch 17/80\n",
            "21/21 [==============================] - ETA: 0s - loss: 0.0429 - categorical_accuracy: 0.9819\n",
            "Epoch 17: val_loss did not improve from 0.67869\n",
            "21/21 [==============================] - 51s 3s/step - loss: 0.0429 - categorical_accuracy: 0.9819 - val_loss: 0.7844 - val_categorical_accuracy: 0.8000 - lr: 0.0010\n",
            "Epoch 18/80\n",
            "21/21 [==============================] - ETA: 0s - loss: 0.0419 - categorical_accuracy: 0.9910\n",
            "Epoch 18: val_loss did not improve from 0.67869\n",
            "21/21 [==============================] - 52s 3s/step - loss: 0.0419 - categorical_accuracy: 0.9910 - val_loss: 1.1439 - val_categorical_accuracy: 0.7300 - lr: 0.0010\n",
            "Epoch 19/80\n",
            "21/21 [==============================] - ETA: 0s - loss: 0.0400 - categorical_accuracy: 0.9894\n",
            "Epoch 19: val_loss did not improve from 0.67869\n",
            "21/21 [==============================] - 51s 3s/step - loss: 0.0400 - categorical_accuracy: 0.9894 - val_loss: 1.2279 - val_categorical_accuracy: 0.6700 - lr: 0.0010\n",
            "Epoch 20/80\n",
            "21/21 [==============================] - ETA: 0s - loss: 0.0406 - categorical_accuracy: 0.9864\n",
            "Epoch 20: val_loss did not improve from 0.67869\n",
            "21/21 [==============================] - 50s 2s/step - loss: 0.0406 - categorical_accuracy: 0.9864 - val_loss: 1.1120 - val_categorical_accuracy: 0.7100 - lr: 0.0010\n",
            "Epoch 21/80\n",
            "21/21 [==============================] - ETA: 0s - loss: 0.0427 - categorical_accuracy: 0.9864\n",
            "Epoch 21: val_loss did not improve from 0.67869\n",
            "21/21 [==============================] - 52s 3s/step - loss: 0.0427 - categorical_accuracy: 0.9864 - val_loss: 1.0317 - val_categorical_accuracy: 0.7700 - lr: 0.0010\n",
            "Epoch 22/80\n",
            "21/21 [==============================] - ETA: 0s - loss: 0.0288 - categorical_accuracy: 0.9894\n",
            "Epoch 22: val_loss did not improve from 0.67869\n",
            "21/21 [==============================] - 52s 3s/step - loss: 0.0288 - categorical_accuracy: 0.9894 - val_loss: 0.8600 - val_categorical_accuracy: 0.7600 - lr: 0.0010\n",
            "Epoch 23/80\n",
            "21/21 [==============================] - ETA: 0s - loss: 0.0262 - categorical_accuracy: 0.9894\n",
            "Epoch 23: val_loss did not improve from 0.67869\n",
            "\n",
            "Epoch 23: ReduceLROnPlateau reducing learning rate to 0.00010000000474974513.\n",
            "21/21 [==============================] - 51s 3s/step - loss: 0.0262 - categorical_accuracy: 0.9894 - val_loss: 1.0159 - val_categorical_accuracy: 0.7700 - lr: 0.0010\n",
            "Epoch 24/80\n",
            "21/21 [==============================] - ETA: 0s - loss: 0.0215 - categorical_accuracy: 0.9970\n",
            "Epoch 24: val_loss did not improve from 0.67869\n",
            "21/21 [==============================] - 50s 2s/step - loss: 0.0215 - categorical_accuracy: 0.9970 - val_loss: 0.9187 - val_categorical_accuracy: 0.7800 - lr: 1.0000e-04\n",
            "Epoch 25/80\n",
            "21/21 [==============================] - ETA: 0s - loss: 0.0303 - categorical_accuracy: 0.9834\n",
            "Epoch 25: val_loss did not improve from 0.67869\n",
            "21/21 [==============================] - 51s 3s/step - loss: 0.0303 - categorical_accuracy: 0.9834 - val_loss: 0.9634 - val_categorical_accuracy: 0.7700 - lr: 1.0000e-04\n",
            "Epoch 26/80\n",
            "21/21 [==============================] - ETA: 0s - loss: 0.0076 - categorical_accuracy: 1.0000\n",
            "Epoch 26: val_loss did not improve from 0.67869\n",
            "21/21 [==============================] - 51s 3s/step - loss: 0.0076 - categorical_accuracy: 1.0000 - val_loss: 1.0612 - val_categorical_accuracy: 0.7800 - lr: 1.0000e-04\n",
            "Epoch 27/80\n",
            "21/21 [==============================] - ETA: 0s - loss: 0.0099 - categorical_accuracy: 0.9970\n",
            "Epoch 27: val_loss did not improve from 0.67869\n",
            "21/21 [==============================] - 52s 3s/step - loss: 0.0099 - categorical_accuracy: 0.9970 - val_loss: 0.8028 - val_categorical_accuracy: 0.8300 - lr: 1.0000e-04\n",
            "Epoch 28/80\n",
            "21/21 [==============================] - ETA: 0s - loss: 0.0122 - categorical_accuracy: 0.9985\n",
            "Epoch 28: val_loss did not improve from 0.67869\n",
            "21/21 [==============================] - 49s 2s/step - loss: 0.0122 - categorical_accuracy: 0.9985 - val_loss: 1.0120 - val_categorical_accuracy: 0.7700 - lr: 1.0000e-04\n",
            "Epoch 29/80\n",
            "21/21 [==============================] - ETA: 0s - loss: 0.0079 - categorical_accuracy: 0.9985\n",
            "Epoch 29: val_loss did not improve from 0.67869\n",
            "21/21 [==============================] - 51s 3s/step - loss: 0.0079 - categorical_accuracy: 0.9985 - val_loss: 0.9495 - val_categorical_accuracy: 0.7700 - lr: 1.0000e-04\n",
            "Epoch 30/80\n",
            "21/21 [==============================] - ETA: 0s - loss: 0.0117 - categorical_accuracy: 0.9985\n",
            "Epoch 30: val_loss did not improve from 0.67869\n",
            "21/21 [==============================] - 52s 3s/step - loss: 0.0117 - categorical_accuracy: 0.9985 - val_loss: 0.9074 - val_categorical_accuracy: 0.7900 - lr: 1.0000e-04\n",
            "Epoch 31/80\n",
            "21/21 [==============================] - ETA: 0s - loss: 0.0061 - categorical_accuracy: 1.0000\n",
            "Epoch 31: val_loss did not improve from 0.67869\n",
            "\n",
            "Epoch 31: ReduceLROnPlateau reducing learning rate to 0.0001.\n",
            "21/21 [==============================] - 51s 3s/step - loss: 0.0061 - categorical_accuracy: 1.0000 - val_loss: 1.0978 - val_categorical_accuracy: 0.7400 - lr: 1.0000e-04\n",
            "Epoch 32/80\n",
            "21/21 [==============================] - ETA: 0s - loss: 0.0105 - categorical_accuracy: 0.9985\n",
            "Epoch 32: val_loss did not improve from 0.67869\n",
            "21/21 [==============================] - 50s 3s/step - loss: 0.0105 - categorical_accuracy: 0.9985 - val_loss: 0.9363 - val_categorical_accuracy: 0.7800 - lr: 1.0000e-04\n",
            "Epoch 33/80\n",
            "21/21 [==============================] - ETA: 0s - loss: 0.0138 - categorical_accuracy: 0.9985\n",
            "Epoch 33: val_loss did not improve from 0.67869\n",
            "21/21 [==============================] - 51s 3s/step - loss: 0.0138 - categorical_accuracy: 0.9985 - val_loss: 0.9460 - val_categorical_accuracy: 0.7900 - lr: 1.0000e-04\n",
            "Epoch 34/80\n",
            "21/21 [==============================] - ETA: 0s - loss: 0.0049 - categorical_accuracy: 1.0000\n",
            "Epoch 34: val_loss did not improve from 0.67869\n",
            "21/21 [==============================] - 51s 3s/step - loss: 0.0049 - categorical_accuracy: 1.0000 - val_loss: 0.9954 - val_categorical_accuracy: 0.8000 - lr: 1.0000e-04\n",
            "Epoch 35/80\n",
            "21/21 [==============================] - ETA: 0s - loss: 0.0091 - categorical_accuracy: 0.9970\n",
            "Epoch 35: val_loss did not improve from 0.67869\n",
            "21/21 [==============================] - 52s 3s/step - loss: 0.0091 - categorical_accuracy: 0.9970 - val_loss: 0.7952 - val_categorical_accuracy: 0.7800 - lr: 1.0000e-04\n",
            "Epoch 35: early stopping\n"
          ]
        }
      ],
      "source": [
        "\n",
        "history9 = model9.fit_generator(train_generator, steps_per_epoch=steps_per_epoch, epochs=num_epochs, verbose=1, \n",
        "                    callbacks=callback_list, validation_data=val_generator, \n",
        "                    validation_steps=validation_steps, class_weight=None, workers=1, initial_epoch=0)"
      ]
    },
    {
      "cell_type": "markdown",
      "metadata": {
        "id": "PSjgd5OCJvPR"
      },
      "source": [
        "## Conclusion\n",
        "After building and training all the models, we would like to select Model #5 which is CNN + GRU due to the following reasons:\n",
        "- Training Accuracy – 86% & Validation Accuracy – 84%\n",
        "- Number of parameters are 99,845 which is suitable for edge devices because the model will consume less memory.\n",
        "- The model seems to generalize well.\n"
      ]
    }
  ],
  "metadata": {
    "accelerator": "GPU",
    "colab": {
      "collapsed_sections": [],
      "machine_shape": "hm",
      "name": "New_Gesture_Recog (1).ipynb",
      "provenance": []
    },
    "gpuClass": "standard",
    "kernelspec": {
      "display_name": "Python 3",
      "name": "python3"
    },
    "language_info": {
      "name": "python"
    }
  },
  "nbformat": 4,
  "nbformat_minor": 0
}
